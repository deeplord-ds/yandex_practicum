{
 "cells": [
  {
   "cell_type": "markdown",
   "metadata": {
    "toc": true
   },
   "source": [
    "<h1>Содержание<span class=\"tocSkip\"></span></h1>\n",
    "<div class=\"toc\"><ul class=\"toc-item\"><li><span><a href=\"#Загрузка-библиотек\" data-toc-modified-id=\"Загрузка-библиотек-1\"><span class=\"toc-item-num\">1&nbsp;&nbsp;</span>Загрузка библиотек</a></span></li><li><span><a href=\"#Загрузка-данных\" data-toc-modified-id=\"Загрузка-данных-2\"><span class=\"toc-item-num\">2&nbsp;&nbsp;</span>Загрузка данных</a></span></li><li><span><a href=\"#Подготовка\" data-toc-modified-id=\"Подготовка-3\"><span class=\"toc-item-num\">3&nbsp;&nbsp;</span>Подготовка</a></span><ul class=\"toc-item\"><li><span><a href=\"#Предобработка\" data-toc-modified-id=\"Предобработка-3.1\"><span class=\"toc-item-num\">3.1&nbsp;&nbsp;</span>Предобработка</a></span></li><li><span><a href=\"#Приведение-к-нижнему-регистру\" data-toc-modified-id=\"Приведение-к-нижнему-регистру-3.2\"><span class=\"toc-item-num\">3.2&nbsp;&nbsp;</span>Приведение к нижнему регистру</a></span></li><li><span><a href=\"#Очистка-текста\" data-toc-modified-id=\"Очистка-текста-3.3\"><span class=\"toc-item-num\">3.3&nbsp;&nbsp;</span>Очистка текста</a></span></li><li><span><a href=\"#Лемматизация-текста\" data-toc-modified-id=\"Лемматизация-текста-3.4\"><span class=\"toc-item-num\">3.4&nbsp;&nbsp;</span>Лемматизация текста</a></span></li></ul></li><li><span><a href=\"#Разделение-на-выборки\" data-toc-modified-id=\"Разделение-на-выборки-4\"><span class=\"toc-item-num\">4&nbsp;&nbsp;</span>Разделение на выборки</a></span></li><li><span><a href=\"#Создание-выборок\" data-toc-modified-id=\"Создание-выборок-5\"><span class=\"toc-item-num\">5&nbsp;&nbsp;</span>Создание выборок</a></span></li><li><span><a href=\"#Обучение-моделей\" data-toc-modified-id=\"Обучение-моделей-6\"><span class=\"toc-item-num\">6&nbsp;&nbsp;</span>Обучение моделей</a></span><ul class=\"toc-item\"><li><span><a href=\"#Логистическая-регрессия\" data-toc-modified-id=\"Логистическая-регрессия-6.1\"><span class=\"toc-item-num\">6.1&nbsp;&nbsp;</span>Логистическая регрессия</a></span></li><li><span><a href=\"#Случайный-лес\" data-toc-modified-id=\"Случайный-лес-6.2\"><span class=\"toc-item-num\">6.2&nbsp;&nbsp;</span>Случайный лес</a></span></li><li><span><a href=\"#Метод-опорных-векторов\" data-toc-modified-id=\"Метод-опорных-векторов-6.3\"><span class=\"toc-item-num\">6.3&nbsp;&nbsp;</span>Метод опорных векторов</a></span></li><li><span><a href=\"#Проверка-на-вменяемость\" data-toc-modified-id=\"Проверка-на-вменяемость-6.4\"><span class=\"toc-item-num\">6.4&nbsp;&nbsp;</span>Проверка на вменяемость</a></span></li><li><span><a href=\"#Проверка-лучшей-модели-на-тестовой-выбоке\" data-toc-modified-id=\"Проверка-лучшей-модели-на-тестовой-выбоке-6.5\"><span class=\"toc-item-num\">6.5&nbsp;&nbsp;</span>Проверка лучшей модели на тестовой выбоке</a></span></li></ul></li><li><span><a href=\"#Выводы\" data-toc-modified-id=\"Выводы-7\"><span class=\"toc-item-num\">7&nbsp;&nbsp;</span>Выводы</a></span></li></ul></div>"
   ]
  },
  {
   "cell_type": "markdown",
   "metadata": {},
   "source": [
    "# Проект для интернет-магазина"
   ]
  },
  {
   "cell_type": "markdown",
   "metadata": {},
   "source": [
    "Интернет-магазин запускает новый сервис. Теперь пользователи могут редактировать и дополнять описания товаров, как в вики-сообществах. То есть клиенты предлагают свои правки и комментируют изменения других. Магазину необходим инструмент, который будет искать токсичные комментарии и отправлять их на модерацию. В нашем распоряжении набор данных с разметкой о токсичности правок.\n",
    "\n",
    "Цель: обучить две разные модели, классифицирующие комментарии на позитивные и негативные.\n",
    "\n",
    "Критерий успеха: значением метрики качества *F1* не меньше 0.75.\n",
    "\n",
    "**Инструкция по выполнению проекта**\n",
    "\n",
    "1. Загрузите и подготовьте данные.\n",
    "2. Обучите разные модели. \n",
    "3. Сделайте выводы.\n",
    "\n",
    "**Описание данных**\n",
    "\n",
    "Данные находятся в файле `toxic_comments.csv`. Столбец *text* в нём содержит текст комментария, а *toxic* — целевой признак."
   ]
  },
  {
   "cell_type": "markdown",
   "metadata": {},
   "source": [
    "## Загрузка библиотек"
   ]
  },
  {
   "cell_type": "code",
   "execution_count": 1,
   "metadata": {},
   "outputs": [],
   "source": [
    "import pandas as pd #Pandas\n",
    "import numpy as np #Numpy\n",
    "import random\n",
    "import nltk\n",
    "import re\n",
    "\n",
    "import matplotlib.pyplot as plt\n",
    "\n",
    "from sklearn.model_selection import GridSearchCV \n",
    "from sklearn.linear_model import LogisticRegression \n",
    "from sklearn.ensemble import RandomForestClassifier \n",
    "from sklearn.dummy import DummyClassifier\n",
    "from sklearn import svm \n",
    "from sklearn.model_selection import train_test_split \n",
    "from sklearn.metrics import f1_score, make_scorer\n",
    "from sklearn.model_selection import GridSearchCV\n",
    "from sklearn.metrics import classification_report\n",
    "from sklearn.feature_extraction.text import TfidfVectorizer\n",
    "from sklearn.model_selection import cross_val_score\n",
    "from sklearn.pipeline import Pipeline\n",
    "\n",
    "from nltk.stem import WordNetLemmatizer\n",
    "from nltk.corpus import wordnet\n",
    "from nltk.corpus import stopwords as nltk_stopwords\n",
    "from nltk.tag.perceptron import PerceptronTagger\n",
    "from nltk.probability import FreqDist\n",
    "\n",
    "from tqdm import tqdm"
   ]
  },
  {
   "cell_type": "markdown",
   "metadata": {},
   "source": [
    "## Загрузка данных"
   ]
  },
  {
   "cell_type": "code",
   "execution_count": 2,
   "metadata": {},
   "outputs": [],
   "source": [
    "try:\n",
    "    df = pd.read_csv('toxic_comments.csv',index_col = 0)\n",
    "except:\n",
    "    df = pd.read_csv('/datasets/toxic_comments.csv',index_col = 0)"
   ]
  },
  {
   "cell_type": "markdown",
   "metadata": {},
   "source": [
    "## Подготовка"
   ]
  },
  {
   "cell_type": "markdown",
   "metadata": {},
   "source": [
    "### Предобработка"
   ]
  },
  {
   "cell_type": "markdown",
   "metadata": {},
   "source": [
    "Смотрим информацию о данных и содержимое"
   ]
  },
  {
   "cell_type": "code",
   "execution_count": 3,
   "metadata": {},
   "outputs": [
    {
     "name": "stdout",
     "output_type": "stream",
     "text": [
      "<class 'pandas.core.frame.DataFrame'>\n",
      "Int64Index: 159292 entries, 0 to 159450\n",
      "Data columns (total 2 columns):\n",
      " #   Column  Non-Null Count   Dtype \n",
      "---  ------  --------------   ----- \n",
      " 0   text    159292 non-null  object\n",
      " 1   toxic   159292 non-null  int64 \n",
      "dtypes: int64(1), object(1)\n",
      "memory usage: 3.6+ MB\n"
     ]
    }
   ],
   "source": [
    "df.info()"
   ]
  },
  {
   "cell_type": "code",
   "execution_count": 4,
   "metadata": {
    "scrolled": true
   },
   "outputs": [
    {
     "data": {
      "text/html": [
       "<div>\n",
       "<style scoped>\n",
       "    .dataframe tbody tr th:only-of-type {\n",
       "        vertical-align: middle;\n",
       "    }\n",
       "\n",
       "    .dataframe tbody tr th {\n",
       "        vertical-align: top;\n",
       "    }\n",
       "\n",
       "    .dataframe thead th {\n",
       "        text-align: right;\n",
       "    }\n",
       "</style>\n",
       "<table border=\"1\" class=\"dataframe\">\n",
       "  <thead>\n",
       "    <tr style=\"text-align: right;\">\n",
       "      <th></th>\n",
       "      <th>text</th>\n",
       "      <th>toxic</th>\n",
       "    </tr>\n",
       "  </thead>\n",
       "  <tbody>\n",
       "    <tr>\n",
       "      <th>72325</th>\n",
       "      <td>ello \\n\\nwhats our name</td>\n",
       "      <td>0</td>\n",
       "    </tr>\n",
       "    <tr>\n",
       "      <th>149059</th>\n",
       "      <td>now i will verge on a personal attack by sayin...</td>\n",
       "      <td>0</td>\n",
       "    </tr>\n",
       "    <tr>\n",
       "      <th>153045</th>\n",
       "      <td>\", 1 April 2009 (UTC)\\nSome reviewers have obj...</td>\n",
       "      <td>0</td>\n",
       "    </tr>\n",
       "    <tr>\n",
       "      <th>102784</th>\n",
       "      <td>cie \\n\\ni am sorry about that  mistake, still ...</td>\n",
       "      <td>0</td>\n",
       "    </tr>\n",
       "    <tr>\n",
       "      <th>73149</th>\n",
       "      <td>That;s an effect of the Anthropocene (possibly...</td>\n",
       "      <td>0</td>\n",
       "    </tr>\n",
       "    <tr>\n",
       "      <th>9325</th>\n",
       "      <td>Replied on your talk page.  (chew)(do)</td>\n",
       "      <td>0</td>\n",
       "    </tr>\n",
       "    <tr>\n",
       "      <th>153023</th>\n",
       "      <td>\"\\n\\n Please do not vandalize pages, as you di...</td>\n",
       "      <td>0</td>\n",
       "    </tr>\n",
       "    <tr>\n",
       "      <th>79840</th>\n",
       "      <td>I was just pointing out what we all know to be...</td>\n",
       "      <td>0</td>\n",
       "    </tr>\n",
       "    <tr>\n",
       "      <th>109959</th>\n",
       "      <td>\"\\nThe problem is, the argument you have prese...</td>\n",
       "      <td>0</td>\n",
       "    </tr>\n",
       "    <tr>\n",
       "      <th>50427</th>\n",
       "      <td>Arcayne - I appreciate your reasoned involveme...</td>\n",
       "      <td>0</td>\n",
       "    </tr>\n",
       "    <tr>\n",
       "      <th>54150</th>\n",
       "      <td>Your band is not notable, that's the problem. ...</td>\n",
       "      <td>0</td>\n",
       "    </tr>\n",
       "    <tr>\n",
       "      <th>48814</th>\n",
       "      <td>I'd actually suggest WP:AN, I'd rather keep ou...</td>\n",
       "      <td>0</td>\n",
       "    </tr>\n",
       "    <tr>\n",
       "      <th>156719</th>\n",
       "      <td>===If the editors here cannot respond to even ...</td>\n",
       "      <td>1</td>\n",
       "    </tr>\n",
       "    <tr>\n",
       "      <th>16182</th>\n",
       "      <td>Prick \\n\\nHey Ryan, Fuck you faggot, how do yo...</td>\n",
       "      <td>1</td>\n",
       "    </tr>\n",
       "    <tr>\n",
       "      <th>137596</th>\n",
       "      <td>Hi again, I think that when it shows two cross...</td>\n",
       "      <td>0</td>\n",
       "    </tr>\n",
       "    <tr>\n",
       "      <th>147854</th>\n",
       "      <td>Image \\n Trying to get image in infobox. Serve...</td>\n",
       "      <td>0</td>\n",
       "    </tr>\n",
       "    <tr>\n",
       "      <th>13952</th>\n",
       "      <td>I am going to murder ZimZalaBim ST47 for being...</td>\n",
       "      <td>1</td>\n",
       "    </tr>\n",
       "    <tr>\n",
       "      <th>56513</th>\n",
       "      <td>\"\\n\\nUser atomic49er\\n\\nSince I own all copyri...</td>\n",
       "      <td>0</td>\n",
       "    </tr>\n",
       "    <tr>\n",
       "      <th>72338</th>\n",
       "      <td>Yep. You can take care of him from here on, CB...</td>\n",
       "      <td>0</td>\n",
       "    </tr>\n",
       "    <tr>\n",
       "      <th>86167</th>\n",
       "      <td>\"\\n\\nBossburg Tracks\\n\\nI see that the Bossbur...</td>\n",
       "      <td>0</td>\n",
       "    </tr>\n",
       "    <tr>\n",
       "      <th>30377</th>\n",
       "      <td>Ed Poor\\n\\nI shouldn't have to check his edit ...</td>\n",
       "      <td>0</td>\n",
       "    </tr>\n",
       "    <tr>\n",
       "      <th>89107</th>\n",
       "      <td>Thank you ==\\nyes thanks for not making that I...</td>\n",
       "      <td>0</td>\n",
       "    </tr>\n",
       "    <tr>\n",
       "      <th>1351</th>\n",
       "      <td>\"\\n\\n Crimea/Ukraine articles \\n\\nHi HJ. In th...</td>\n",
       "      <td>0</td>\n",
       "    </tr>\n",
       "    <tr>\n",
       "      <th>45269</th>\n",
       "      <td>How is it pronoced?? If i say it like DE Hole ...</td>\n",
       "      <td>0</td>\n",
       "    </tr>\n",
       "    <tr>\n",
       "      <th>144784</th>\n",
       "      <td>you fucking piece of shit</td>\n",
       "      <td>1</td>\n",
       "    </tr>\n",
       "  </tbody>\n",
       "</table>\n",
       "</div>"
      ],
      "text/plain": [
       "                                                     text  toxic\n",
       "72325                             ello \\n\\nwhats our name      0\n",
       "149059  now i will verge on a personal attack by sayin...      0\n",
       "153045  \", 1 April 2009 (UTC)\\nSome reviewers have obj...      0\n",
       "102784  cie \\n\\ni am sorry about that  mistake, still ...      0\n",
       "73149   That;s an effect of the Anthropocene (possibly...      0\n",
       "9325               Replied on your talk page.  (chew)(do)      0\n",
       "153023  \"\\n\\n Please do not vandalize pages, as you di...      0\n",
       "79840   I was just pointing out what we all know to be...      0\n",
       "109959  \"\\nThe problem is, the argument you have prese...      0\n",
       "50427   Arcayne - I appreciate your reasoned involveme...      0\n",
       "54150   Your band is not notable, that's the problem. ...      0\n",
       "48814   I'd actually suggest WP:AN, I'd rather keep ou...      0\n",
       "156719  ===If the editors here cannot respond to even ...      1\n",
       "16182   Prick \\n\\nHey Ryan, Fuck you faggot, how do yo...      1\n",
       "137596  Hi again, I think that when it shows two cross...      0\n",
       "147854  Image \\n Trying to get image in infobox. Serve...      0\n",
       "13952   I am going to murder ZimZalaBim ST47 for being...      1\n",
       "56513   \"\\n\\nUser atomic49er\\n\\nSince I own all copyri...      0\n",
       "72338   Yep. You can take care of him from here on, CB...      0\n",
       "86167   \"\\n\\nBossburg Tracks\\n\\nI see that the Bossbur...      0\n",
       "30377   Ed Poor\\n\\nI shouldn't have to check his edit ...      0\n",
       "89107   Thank you ==\\nyes thanks for not making that I...      0\n",
       "1351    \"\\n\\n Crimea/Ukraine articles \\n\\nHi HJ. In th...      0\n",
       "45269   How is it pronoced?? If i say it like DE Hole ...      0\n",
       "144784                          you fucking piece of shit      1"
      ]
     },
     "execution_count": 4,
     "metadata": {},
     "output_type": "execute_result"
    }
   ],
   "source": [
    "df.sample(25)"
   ]
  },
  {
   "cell_type": "code",
   "execution_count": 5,
   "metadata": {},
   "outputs": [
    {
     "data": {
      "text/plain": [
       "Int64Index([     0,      1,      2,      3,      4,      5,      6,      7,\n",
       "                 8,      9,\n",
       "            ...\n",
       "            159441, 159442, 159443, 159444, 159445, 159446, 159447, 159448,\n",
       "            159449, 159450],\n",
       "           dtype='int64', length=159292)"
      ]
     },
     "execution_count": 5,
     "metadata": {},
     "output_type": "execute_result"
    }
   ],
   "source": [
    "df.index"
   ]
  },
  {
   "cell_type": "markdown",
   "metadata": {},
   "source": [
    "Доля положительных (0) и отрицательных (1) оценок"
   ]
  },
  {
   "cell_type": "code",
   "execution_count": 6,
   "metadata": {},
   "outputs": [
    {
     "data": {
      "text/html": [
       "<div>\n",
       "<style scoped>\n",
       "    .dataframe tbody tr th:only-of-type {\n",
       "        vertical-align: middle;\n",
       "    }\n",
       "\n",
       "    .dataframe tbody tr th {\n",
       "        vertical-align: top;\n",
       "    }\n",
       "\n",
       "    .dataframe thead th {\n",
       "        text-align: right;\n",
       "    }\n",
       "</style>\n",
       "<table border=\"1\" class=\"dataframe\">\n",
       "  <thead>\n",
       "    <tr style=\"text-align: right;\">\n",
       "      <th></th>\n",
       "      <th>text</th>\n",
       "    </tr>\n",
       "    <tr>\n",
       "      <th>toxic</th>\n",
       "      <th></th>\n",
       "    </tr>\n",
       "  </thead>\n",
       "  <tbody>\n",
       "    <tr>\n",
       "      <th>0</th>\n",
       "      <td>89.838787</td>\n",
       "    </tr>\n",
       "    <tr>\n",
       "      <th>1</th>\n",
       "      <td>10.161213</td>\n",
       "    </tr>\n",
       "  </tbody>\n",
       "</table>\n",
       "</div>"
      ],
      "text/plain": [
       "            text\n",
       "toxic           \n",
       "0      89.838787\n",
       "1      10.161213"
      ]
     },
     "execution_count": 6,
     "metadata": {},
     "output_type": "execute_result"
    }
   ],
   "source": [
    "df.groupby('toxic').count().\\\n",
    "apply(lambda x: x*100/df.groupby('toxic').count()['text'].sum())"
   ]
  },
  {
   "cell_type": "markdown",
   "metadata": {},
   "source": [
    "**Промежуточный вывод**\n",
    "- Данные загружены без ошибок\n",
    "- Имеется явный дисбаланс классов (токсичных коментраиев всего около 10%), что ожидаемо.\n",
    "- Комментарии \"сырые\" - требуют очистки от неинформативных включений"
   ]
  },
  {
   "cell_type": "markdown",
   "metadata": {},
   "source": [
    "###  Приведение к нижнему регистру"
   ]
  },
  {
   "cell_type": "markdown",
   "metadata": {},
   "source": [
    "Приведем весь текст к нижнему регистру"
   ]
  },
  {
   "cell_type": "markdown",
   "metadata": {},
   "source": [
    "Создадим корпус тектов"
   ]
  },
  {
   "cell_type": "code",
   "execution_count": 7,
   "metadata": {},
   "outputs": [],
   "source": [
    "corpus = list(df['text'])"
   ]
  },
  {
   "cell_type": "code",
   "execution_count": 8,
   "metadata": {},
   "outputs": [],
   "source": [
    "corpus = list(map(lambda x: x.lower() , corpus))"
   ]
  },
  {
   "cell_type": "markdown",
   "metadata": {},
   "source": [
    "Проверяем результат"
   ]
  },
  {
   "cell_type": "code",
   "execution_count": 9,
   "metadata": {},
   "outputs": [
    {
     "data": {
      "text/plain": [
       "'\"\\n\\n snowflakes are not always symmetrical! \\n\\nunder geometry it is stated that \"\"a snowflake always has six symmetric arms.\"\" this assertion is simply not true! according to kenneth libbrecht, \"\"the rather unattractive irregular crystals are by far the most common variety.\"\" http://www.its.caltech.edu/~atomic/snowcrystals/myths/myths.htm#perfection someone really need to take a look at his site and get facts off of it because i still see a decent number of falsities on this page. (forgive me im new at this and dont want to edit anything)\"'"
      ]
     },
     "execution_count": 9,
     "metadata": {},
     "output_type": "execute_result"
    }
   ],
   "source": [
    "corpus[22]"
   ]
  },
  {
   "cell_type": "markdown",
   "metadata": {},
   "source": [
    "### Очистка текста"
   ]
  },
  {
   "cell_type": "markdown",
   "metadata": {},
   "source": [
    "Создадим функцию для очистки текста. \n",
    "- оставим только английские буквы, \n",
    "- уберем короткие слова длиной меньше 3 символов\n",
    "- уберем длинные слова длиной больше 11 символов\n",
    "- уберем из текста повторяющиеся слова\n",
    "- ограничим длину текста 600 символами"
   ]
  },
  {
   "cell_type": "code",
   "execution_count": 10,
   "metadata": {},
   "outputs": [],
   "source": [
    "def clear_text(text):\n",
    "    \n",
    "    clear_text = re.sub(r'[^a-zA-Z]', ' ', text) \n",
    "    clear_text = re.sub(r'\\b\\w{1,2}\\b', ' ', clear_text)\n",
    "    clear_text = re.sub(r'\\b\\w{12,}\\b', ' ', clear_text)\n",
    "    clear_text = clear_text.split()\n",
    "    clear_text = \" \".join(sorted(set(clear_text),key=clear_text.index))\n",
    "  # clear_text = \" \".join(clear_text)\n",
    "    clear_text = clear_text[0:601]\n",
    "    \n",
    "    return clear_text"
   ]
  },
  {
   "cell_type": "markdown",
   "metadata": {},
   "source": [
    "Проверяем работу функции clear_text"
   ]
  },
  {
   "cell_type": "code",
   "execution_count": 11,
   "metadata": {},
   "outputs": [
    {
     "name": "stdout",
     "output_type": "stream",
     "text": [
      "Исходный текст: paleontologists agree that organic remains must be buried quickly so they can be preserved long enough to be come fossilized.  however, the term fossilized is not a very precise term.  there are several factors and metamorphic mineral processes which occur to organic remains that result in what is typically called a fossil.  one major factor concerns what kind of organisms are to be fossilized  vertebrate, invertebrates, radiolarians, sponges, plants, pollen, foot prints, etc.  and multiple processes may include permineralization, recrystalization, carbonization, replacement, dissolving, diagenesis, etc.  talking about fossilization is a complex issue, however quick burial is not questioned.\n",
      "\n",
      "the major question is, how long does it take for these processes to work on organic reamins in the environment they are found in?  experimental taphonomy has resulted in an assortment of remains becoming fossilized by various processes in the lab, which of course implies that given the right conditions, vast ages are not an issue.  the metamorphic processes are ongoing until an equilibrium is met between the chemical enviroument of the burial site and the minerals of the organic remains.  flood catastrophic geologists do not expect that organic remains buried during the flood were completely fossilized within the one year period of the flood, but rather that there has been some 4000 years for the processes to have been working.  much more work needs to be done on the taphonomy of organic remains.  yet, how one interprets even those results will depend upon which world view you choose to believe with.\n",
      "\n",
      "Очищенный текст: agree that organic remains must buried quickly they can preserved long enough come fossilized however the term not very precise there are several factors and metamorphic mineral processes which occur result what typically called fossil one major factor concerns kind organisms vertebrate sponges plants pollen foot prints etc multiple may include replacement dissolving diagenesis talking about complex issue quick burial questioned question how does take for these work reamins environment found taphonomy has resulted assortment becoming various lab course implies given right conditions vast ages o\n"
     ]
    }
   ],
   "source": [
    "print(\"Исходный текст:\", corpus[114])\n",
    "print()\n",
    "print(\"Очищенный текст:\", clear_text(corpus[114]))"
   ]
  },
  {
   "cell_type": "markdown",
   "metadata": {},
   "source": [
    "Очищаем текст"
   ]
  },
  {
   "cell_type": "code",
   "execution_count": 12,
   "metadata": {},
   "outputs": [
    {
     "name": "stdout",
     "output_type": "stream",
     "text": [
      "CPU times: user 13.6 s, sys: 0 ns, total: 13.6 s\n",
      "Wall time: 14.5 s\n"
     ]
    }
   ],
   "source": [
    "%%time\n",
    "corpus = list(map(lambda x: clear_text(x) , corpus))"
   ]
  },
  {
   "cell_type": "markdown",
   "metadata": {},
   "source": [
    "Проверяем результат"
   ]
  },
  {
   "cell_type": "code",
   "execution_count": 13,
   "metadata": {},
   "outputs": [
    {
     "data": {
      "text/plain": [
       "['kumar born balarampur kalitola post rangadih dist purulia',\n",
       " 'the grammar has been updated took time update and rearrange some sentence structure one person point out general discussion web forum that definitely not official but did delete information like probably should have instead simply pointed midway highest ranking ceohas officially confirmed will publish unreal tournament for xbox although epic currently does acknowledge they are developing version prevent from publishing game could easily develop their own outsource development another developer let forget primary platform outsourced port because easy program games since similar however playstati',\n",
       " 'concept have added prod template the article suggesting that deleted according proposed deletion process all are appreciated but don believe satisfies wikipedia criteria for inclusion and explained why notice see also what not policy please either work improve topic worthy you disagree with discuss issues its talk page removing will prevent through may still sent articles where consensus delete reached matches any speedy',\n",
       " 'region land found your edit livonia via recent changes guess you have reason for calling historical the first line and then few lines down isn livonians more appropriate fully accordance with what write just curious but changed finnish finnic convention they weren yet were still balticum see drift apr utc',\n",
       " 'this your last warning you will blocked from editing the next time vandalize page did with edit geb parlez ici']"
      ]
     },
     "execution_count": 13,
     "metadata": {},
     "output_type": "execute_result"
    }
   ],
   "source": [
    "random.sample(corpus,5)"
   ]
  },
  {
   "cell_type": "markdown",
   "metadata": {},
   "source": [
    "### Лемматизация текста"
   ]
  },
  {
   "cell_type": "markdown",
   "metadata": {},
   "source": [
    "Создадим объект класса WordNetLemmatizer"
   ]
  },
  {
   "cell_type": "code",
   "execution_count": 14,
   "metadata": {},
   "outputs": [],
   "source": [
    "lemmatizer = WordNetLemmatizer()"
   ]
  },
  {
   "cell_type": "markdown",
   "metadata": {},
   "source": [
    "Создадим функцию для лемматизации текста"
   ]
  },
  {
   "cell_type": "code",
   "execution_count": 15,
   "metadata": {},
   "outputs": [
    {
     "name": "stderr",
     "output_type": "stream",
     "text": [
      "[nltk_data] Downloading package punkt to /home/jovyan/nltk_data...\n",
      "[nltk_data]   Package punkt is already up-to-date!\n",
      "[nltk_data] Downloading package wordnet to /home/jovyan/nltk_data...\n",
      "[nltk_data]   Package wordnet is already up-to-date!\n",
      "[nltk_data] Downloading package omw-1.4 to /home/jovyan/nltk_data...\n",
      "[nltk_data] Downloading package averaged_perceptron_tagger to\n",
      "[nltk_data]     /home/jovyan/nltk_data...\n",
      "[nltk_data]   Unzipping taggers/averaged_perceptron_tagger.zip.\n"
     ]
    }
   ],
   "source": [
    "nltk.download('punkt')\n",
    "nltk.download('wordnet')\n",
    "nltk.download('omw-1.4')\n",
    "nltk.download('averaged_perceptron_tagger')\n",
    "\n",
    "tagger = PerceptronTagger() \n",
    "\n",
    "#словарь для выбора части речи\n",
    "tag_dict = {\"J\": wordnet.ADJ,\n",
    "            \"N\": wordnet.NOUN,\n",
    "            \"V\": wordnet.VERB,\n",
    "            \"R\": wordnet.ADV}\n",
    "\n",
    "def lemmatize(text):\n",
    "    \n",
    "    word_list = nltk.word_tokenize(text)   \n",
    "    lemmatized_output = \\\n",
    "    ' '.join([lemmatizer.lemmatize\\\n",
    "              (w,tag_dict.get\\\n",
    "               (tagger.tag([w])[0][1][0].\\\n",
    "                upper(),wordnet.NOUN)) for w in word_list])\n",
    "    \n",
    "    return lemmatized_output"
   ]
  },
  {
   "cell_type": "markdown",
   "metadata": {},
   "source": [
    "Проверим работу функции"
   ]
  },
  {
   "cell_type": "code",
   "execution_count": 16,
   "metadata": {},
   "outputs": [
    {
     "name": "stdout",
     "output_type": "stream",
     "text": [
      "Исходный текст: agree that organic remains must buried quickly they can preserved long enough come fossilized however the term not very precise there are several factors and metamorphic mineral processes which occur result what typically called fossil one major factor concerns kind organisms vertebrate sponges plants pollen foot prints etc multiple may include replacement dissolving diagenesis talking about complex issue quick burial questioned question how does take for these work reamins environment found taphonomy has resulted assortment becoming various lab course implies given right conditions vast ages o\n",
      "\n",
      "Лемматизированный текст: agree that organic remains must bury quickly they can preserve long enough come fossilize however the term not very precise there be several factor and metamorphic mineral process which occur result what typically call fossil one major factor concern kind organism vertebrate sponge plant pollen foot print etc multiple may include replacement dissolve diagenesis talk about complex issue quick burial question question how do take for these work reamins environment found taphonomy have result assortment become various lab course implies give right condition vast age o\n",
      "CPU times: user 13.3 ms, sys: 0 ns, total: 13.3 ms\n",
      "Wall time: 16.5 ms\n"
     ]
    }
   ],
   "source": [
    "%%time\n",
    "print(\"Исходный текст:\", corpus[114])\n",
    "print()\n",
    "print(\"Лемматизированный текст:\", lemmatize(corpus[114]))"
   ]
  },
  {
   "cell_type": "markdown",
   "metadata": {},
   "source": [
    "Лемматизируем весь корпус"
   ]
  },
  {
   "cell_type": "code",
   "execution_count": 17,
   "metadata": {},
   "outputs": [
    {
     "name": "stdout",
     "output_type": "stream",
     "text": [
      "CPU times: user 4min 46s, sys: 921 ms, total: 4min 47s\n",
      "Wall time: 4min 47s\n"
     ]
    }
   ],
   "source": [
    "%%time\n",
    "\n",
    "corpus = list(map(lambda x: lemmatize(x) , corpus))"
   ]
  },
  {
   "cell_type": "markdown",
   "metadata": {},
   "source": [
    "Смотрим результат"
   ]
  },
  {
   "cell_type": "code",
   "execution_count": 18,
   "metadata": {},
   "outputs": [
    {
     "data": {
      "text/plain": [
       "['aww match this background colour seemingly stuck with thanks talk january utc',\n",
       " 'hey man really not try edit war just that this guy constantly remove relevant information and talk through edits instead talk page seem care more about the format than actual info',\n",
       " 'more can make any real suggestion improvement wonder the section statistic should later subsection type accident think reference may need tidy that they be all exact same format date etc one else do first you have preference for format style want yourself please let know there appear backlog article review guess delay until reviewer turn list relevant form wikipedia good article nomination transport',\n",
       " 'you sir be hero any chance remember what page that',\n",
       " 'from well use the tool talk',\n",
       " 'cocksucker before you piss around work',\n",
       " 'your vandalism the matt shirvington article have be revert please don again you will ban',\n",
       " 'sorry the word nonsense be offensive you anyway not intend write anything article wow they would jump for vandalism merely request that more one can use school reference have be selective breeding page but almost stub point animal which short messy give info there must someone around with expertise eugenics',\n",
       " 'alignment this subject and which be contrary those dulithgow']"
      ]
     },
     "execution_count": 18,
     "metadata": {},
     "output_type": "execute_result"
    }
   ],
   "source": [
    "corpus[1:10]"
   ]
  },
  {
   "cell_type": "markdown",
   "metadata": {},
   "source": [
    "**Частотный анализ**"
   ]
  },
  {
   "cell_type": "markdown",
   "metadata": {},
   "source": [
    "Создадим два дополнительных корпуса - для нормальных и токсичных комментариев"
   ]
  },
  {
   "cell_type": "code",
   "execution_count": 19,
   "metadata": {},
   "outputs": [],
   "source": [
    "temp_features = pd.Series(corpus,name='text')\n",
    "temp_df_2  = pd.concat([temp_features,df['toxic'].reset_index(drop=True)],axis=1)\n",
    "\n",
    "toxic_corpus = list(temp_df_2[temp_df_2.toxic==1]['text'])\n",
    "normal_corpus = list(temp_df_2[temp_df_2.toxic==0]['text'])"
   ]
  },
  {
   "cell_type": "markdown",
   "metadata": {},
   "source": [
    "Объединим корпуса в единый текст и токенизируем их"
   ]
  },
  {
   "cell_type": "code",
   "execution_count": 20,
   "metadata": {},
   "outputs": [],
   "source": [
    "#Токсичный корпус\n",
    "toxic_corpus_joined =\" \".join (toxic_corpus)\n",
    "toxic_corpus_joined = nltk.word_tokenize(toxic_corpus_joined)"
   ]
  },
  {
   "cell_type": "code",
   "execution_count": 21,
   "metadata": {},
   "outputs": [],
   "source": [
    "#Нормальный корпус\n",
    "normal_corpus_joined =\" \".join (normal_corpus)\n",
    "normal_corpus_joined = nltk.word_tokenize(normal_corpus_joined)"
   ]
  },
  {
   "cell_type": "markdown",
   "metadata": {},
   "source": [
    "Визуализируем частоту 40 самых популярных слов в токсичном и нормальном корпусах"
   ]
  },
  {
   "cell_type": "code",
   "execution_count": 22,
   "metadata": {},
   "outputs": [
    {
     "data": {
      "image/png": "[encoded data removed]",
      "text/plain": [
       "<Figure size 1080x360 with 1 Axes>"
      ]
     },
     "metadata": {
      "needs_background": "light"
     },
     "output_type": "display_data"
    }
   ],
   "source": [
    "plt.rcParams['figure.figsize'] = [15, 5]\n",
    "fdist = FreqDist(normal_corpus_joined)\n",
    "fdist.plot(40,cumulative=False,\\\n",
    "           title='40 самых популярных слов в нормальных комментариях');"
   ]
  },
  {
   "cell_type": "code",
   "execution_count": 23,
   "metadata": {},
   "outputs": [
    {
     "data": {
      "image/png": "[encoded data removed]",
      "text/plain": [
       "<Figure size 1080x360 with 1 Axes>"
      ]
     },
     "metadata": {
      "needs_background": "light"
     },
     "output_type": "display_data"
    }
   ],
   "source": [
    "fdist = FreqDist(toxic_corpus_joined)\n",
    "fdist.plot(40,cumulative=False,\\\n",
    "           title='40 самых популярных слов в токсичных комментариях');"
   ]
  },
  {
   "cell_type": "markdown",
   "metadata": {},
   "source": [
    "**Промежуточный вывод:**\n",
    "- Тексты очищены от мусора, лишних слов и неинформативных символов.\n",
    "- Проведена лемматизация текстов.\n",
    "- Проведен базовый частотный анализ. Видно, что в токсичных комментариях имеются специфичные слова с негативным оттенком (fuck, shit) "
   ]
  },
  {
   "cell_type": "markdown",
   "metadata": {},
   "source": [
    "## Разделение на выборки"
   ]
  },
  {
   "cell_type": "markdown",
   "metadata": {},
   "source": [
    "Выделяем признаки и целевой признак"
   ]
  },
  {
   "cell_type": "code",
   "execution_count": 24,
   "metadata": {},
   "outputs": [],
   "source": [
    "features = pd.Series(corpus,name='text')\n",
    "target = df['toxic']"
   ]
  },
  {
   "cell_type": "markdown",
   "metadata": {},
   "source": [
    "Выделяем тестовый набор features_test  и target_test (30%)"
   ]
  },
  {
   "cell_type": "code",
   "execution_count": 25,
   "metadata": {},
   "outputs": [],
   "source": [
    "features_train, features_test, target_train, target_test =\\\n",
    "train_test_split(features, target,test_size=0.3,\\\n",
    "                 random_state=1234,stratify=target)"
   ]
  },
  {
   "cell_type": "markdown",
   "metadata": {},
   "source": [
    "## Создание выборок"
   ]
  },
  {
   "cell_type": "markdown",
   "metadata": {},
   "source": [
    "Создание тренировочного и тестового корпусов"
   ]
  },
  {
   "cell_type": "code",
   "execution_count": 26,
   "metadata": {},
   "outputs": [],
   "source": [
    "corpus_train = features_train.values\n",
    "corpus_test = features_test.values"
   ]
  },
  {
   "cell_type": "markdown",
   "metadata": {},
   "source": [
    "Cоздадим словарь на основе величины TF-IDF для каждого слова. При этом избавимся от стоп-слов и очень редких слов."
   ]
  },
  {
   "cell_type": "code",
   "execution_count": 27,
   "metadata": {},
   "outputs": [
    {
     "name": "stderr",
     "output_type": "stream",
     "text": [
      "[nltk_data] Downloading package stopwords to /home/jovyan/nltk_data...\n",
      "[nltk_data]   Package stopwords is already up-to-date!\n"
     ]
    },
    {
     "name": "stdout",
     "output_type": "stream",
     "text": [
      "Размер словаря: 11832\n"
     ]
    }
   ],
   "source": [
    "#Загрузка английских стоп-слов\n",
    "\n",
    "nltk.download('stopwords')\n",
    "\n",
    "stopwords = set(nltk_stopwords.words('english'))\n",
    "\n",
    "#Создание объекта класса TfidfVectorizer\n",
    "\n",
    "count_tf_idf = TfidfVectorizer(stop_words=stopwords,min_df=10,ngram_range=(1,1)) \n",
    "\n",
    "#Обучене модели (создание словаря)\n",
    "\n",
    "tf_idf_fit = count_tf_idf.fit(corpus_train) \n",
    "\n",
    "print(\"Размер словаря:\", len(tf_idf_fit.vocabulary_))"
   ]
  },
  {
   "cell_type": "markdown",
   "metadata": {},
   "source": [
    "Сбросим индексацию в Сериях с целевыми признаками"
   ]
  },
  {
   "cell_type": "code",
   "execution_count": 28,
   "metadata": {},
   "outputs": [],
   "source": [
    "target_train = target_train.reset_index(drop=True)\n",
    "target_test = target_test.reset_index(drop=True)"
   ]
  },
  {
   "cell_type": "markdown",
   "metadata": {},
   "source": [
    "Создадим наборы признаков на основе словаря tf_idf_fi"
   ]
  },
  {
   "cell_type": "code",
   "execution_count": 29,
   "metadata": {},
   "outputs": [],
   "source": [
    "features_train =tf_idf_fit.transform(corpus_train) \n",
    "features_test =tf_idf_fit.transform(corpus_test)"
   ]
  },
  {
   "cell_type": "markdown",
   "metadata": {},
   "source": [
    "**Промежуточный вывод:**\n",
    "- Создан словарь на основе TF-IDF, содержащий 11832 слова.\n",
    "- Созданы тренировочные и тестовые выборки"
   ]
  },
  {
   "cell_type": "markdown",
   "metadata": {},
   "source": [
    "## Обучение моделей"
   ]
  },
  {
   "cell_type": "markdown",
   "metadata": {},
   "source": [
    "### Логистическая регрессия"
   ]
  },
  {
   "cell_type": "markdown",
   "metadata": {},
   "source": [
    "**Обучим и протестируем модель логистической регрессии с помощью gridsearch**"
   ]
  },
  {
   "cell_type": "markdown",
   "metadata": {},
   "source": [
    "Создадим словарь оценок\n",
    "(в нашем случае достаточно меры f1)"
   ]
  },
  {
   "cell_type": "code",
   "execution_count": 30,
   "metadata": {},
   "outputs": [],
   "source": [
    "scoring = make_scorer(f1_score)"
   ]
  },
  {
   "cell_type": "code",
   "execution_count": 31,
   "metadata": {},
   "outputs": [],
   "source": [
    "#датафрейм для параметров и точности моделей\n",
    "model_param = pd.DataFrame\\\n",
    "(columns=['model_name','best_param','best_F1'])"
   ]
  },
  {
   "cell_type": "markdown",
   "metadata": {},
   "source": [
    "Создадим модель на основе логистической регрессии с помощью gridsearchCV"
   ]
  },
  {
   "cell_type": "code",
   "execution_count": 32,
   "metadata": {},
   "outputs": [],
   "source": [
    "#создаем pipeline\n",
    "\n",
    "pipeline = Pipeline([\n",
    "    ('tfidf',count_tf_idf),\n",
    "    ('model',LogisticRegression(max_iter=600,random_state=12345))\n",
    "])\n",
    "\n",
    "#задаем словарь параметров\n",
    "\n",
    "param_grid = {\n",
    "    'model__C':range(1,102,20)}\n",
    "\n",
    "#создаем модель\n",
    "\n",
    "grid_lr = GridSearchCV(pipeline, cv=2, param_grid=param_grid,\\\n",
    "                    verbose=3,scoring=scoring)"
   ]
  },
  {
   "cell_type": "markdown",
   "metadata": {},
   "source": [
    "Обучаем модель"
   ]
  },
  {
   "cell_type": "code",
   "execution_count": 33,
   "metadata": {},
   "outputs": [
    {
     "name": "stdout",
     "output_type": "stream",
     "text": [
      "Fitting 2 folds for each of 6 candidates, totalling 12 fits\n",
      "[CV 1/2] END .....................................model__C=1; total time=   3.2s\n",
      "[CV 2/2] END .....................................model__C=1; total time=   3.2s\n",
      "[CV 1/2] END ....................................model__C=21; total time=   4.8s\n",
      "[CV 2/2] END ....................................model__C=21; total time=   4.1s\n",
      "[CV 1/2] END ....................................model__C=41; total time=   5.0s\n",
      "[CV 2/2] END ....................................model__C=41; total time=   4.6s\n",
      "[CV 1/2] END ....................................model__C=61; total time=   5.6s\n",
      "[CV 2/2] END ....................................model__C=61; total time=   5.2s\n",
      "[CV 1/2] END ....................................model__C=81; total time=   6.1s\n",
      "[CV 2/2] END ....................................model__C=81; total time=   7.0s\n",
      "[CV 1/2] END ...................................model__C=101; total time=   6.0s\n",
      "[CV 2/2] END ...................................model__C=101; total time=   6.4s\n",
      "CPU times: user 1min 38s, sys: 51.8 s, total: 2min 30s\n",
      "Wall time: 2min 30s\n"
     ]
    },
    {
     "data": {
      "text/plain": [
       "GridSearchCV(cv=2,\n",
       "             estimator=Pipeline(steps=[('tfidf',\n",
       "                                        TfidfVectorizer(min_df=10,\n",
       "                                                        stop_words={'a',\n",
       "                                                                    'about',\n",
       "                                                                    'above',\n",
       "                                                                    'after',\n",
       "                                                                    'again',\n",
       "                                                                    'against',\n",
       "                                                                    'ain',\n",
       "                                                                    'all', 'am',\n",
       "                                                                    'an', 'and',\n",
       "                                                                    'any',\n",
       "                                                                    'are',\n",
       "                                                                    'aren',\n",
       "                                                                    \"aren't\",\n",
       "                                                                    'as', 'at',\n",
       "                                                                    'be',\n",
       "                                                                    'because',\n",
       "                                                                    'been',\n",
       "                                                                    'before',\n",
       "                                                                    'being',\n",
       "                                                                    'below',\n",
       "                                                                    'between',\n",
       "                                                                    'both',\n",
       "                                                                    'but', 'by',\n",
       "                                                                    'can',\n",
       "                                                                    'couldn',\n",
       "                                                                    \"couldn't\", ...})),\n",
       "                                       ('model',\n",
       "                                        LogisticRegression(max_iter=600,\n",
       "                                                           random_state=12345))]),\n",
       "             param_grid={'model__C': range(1, 102, 20)},\n",
       "             scoring=make_scorer(f1_score), verbose=3)"
      ]
     },
     "execution_count": 33,
     "metadata": {},
     "output_type": "execute_result"
    }
   ],
   "source": [
    "%%time\n",
    "\n",
    "grid_lr.fit(corpus_train,target_train)"
   ]
  },
  {
   "cell_type": "markdown",
   "metadata": {},
   "source": [
    "Выводим лучшие параметры"
   ]
  },
  {
   "cell_type": "code",
   "execution_count": 34,
   "metadata": {},
   "outputs": [
    {
     "data": {
      "text/plain": [
       "{'model__C': 21}"
      ]
     },
     "execution_count": 34,
     "metadata": {},
     "output_type": "execute_result"
    }
   ],
   "source": [
    "grid_lr.best_params_"
   ]
  },
  {
   "cell_type": "markdown",
   "metadata": {},
   "source": [
    "Смотрим лучший результат модели"
   ]
  },
  {
   "cell_type": "code",
   "execution_count": 35,
   "metadata": {},
   "outputs": [
    {
     "name": "stdout",
     "output_type": "stream",
     "text": [
      "F1 мера на валидационной выборке: 0.75\n"
     ]
    }
   ],
   "source": [
    "best_score = grid_lr.best_score_\n",
    "print(\"F1 мера на валидационной выборке:\", round(best_score,2))"
   ]
  },
  {
   "cell_type": "markdown",
   "metadata": {},
   "source": [
    "Добавим параметры модели в датафрейм model_param "
   ]
  },
  {
   "cell_type": "code",
   "execution_count": 36,
   "metadata": {},
   "outputs": [],
   "source": [
    "new_row = {'best_param':grid_lr.best_params_,\n",
    "           'model_name':'logistic regression',\n",
    "           'best_F1':best_score}\n",
    "model_param = model_param.append(new_row,ignore_index=True)"
   ]
  },
  {
   "cell_type": "code",
   "execution_count": 37,
   "metadata": {},
   "outputs": [
    {
     "data": {
      "text/html": [
       "<div>\n",
       "<style scoped>\n",
       "    .dataframe tbody tr th:only-of-type {\n",
       "        vertical-align: middle;\n",
       "    }\n",
       "\n",
       "    .dataframe tbody tr th {\n",
       "        vertical-align: top;\n",
       "    }\n",
       "\n",
       "    .dataframe thead th {\n",
       "        text-align: right;\n",
       "    }\n",
       "</style>\n",
       "<table border=\"1\" class=\"dataframe\">\n",
       "  <thead>\n",
       "    <tr style=\"text-align: right;\">\n",
       "      <th></th>\n",
       "      <th>model_name</th>\n",
       "      <th>best_param</th>\n",
       "      <th>best_F1</th>\n",
       "    </tr>\n",
       "  </thead>\n",
       "  <tbody>\n",
       "    <tr>\n",
       "      <th>0</th>\n",
       "      <td>logistic regression</td>\n",
       "      <td>{'model__C': 21}</td>\n",
       "      <td>0.753655</td>\n",
       "    </tr>\n",
       "  </tbody>\n",
       "</table>\n",
       "</div>"
      ],
      "text/plain": [
       "            model_name        best_param   best_F1\n",
       "0  logistic regression  {'model__C': 21}  0.753655"
      ]
     },
     "execution_count": 37,
     "metadata": {},
     "output_type": "execute_result"
    }
   ],
   "source": [
    "model_param"
   ]
  },
  {
   "cell_type": "markdown",
   "metadata": {},
   "source": [
    "### Случайный лес"
   ]
  },
  {
   "cell_type": "markdown",
   "metadata": {},
   "source": [
    "Обучим и протестируем модель случайного леса с помощью gridsearch"
   ]
  },
  {
   "cell_type": "code",
   "execution_count": 38,
   "metadata": {},
   "outputs": [],
   "source": [
    "#создаем pipeline\n",
    "\n",
    "pipeline = Pipeline([\n",
    "    ('tfidf',count_tf_idf),\n",
    "    ('model',RandomForestClassifier(n_estimators=20,\\\n",
    "                                    verbose=2,random_state=12345))\n",
    "])\n",
    "\n",
    "#задаем словарь параметров\n",
    "\n",
    "param_grid = {\n",
    "    'model__max_depth':range(100,201,50)}\n",
    "\n",
    "#создаем модель\n",
    "\n",
    "grid_rf = GridSearchCV(pipeline, cv=2, param_grid=param_grid,\\\n",
    "                    verbose=3,scoring=scoring)"
   ]
  },
  {
   "cell_type": "markdown",
   "metadata": {},
   "source": [
    "Обучаем модель"
   ]
  },
  {
   "cell_type": "code",
   "execution_count": 39,
   "metadata": {},
   "outputs": [
    {
     "name": "stdout",
     "output_type": "stream",
     "text": [
      "Fitting 2 folds for each of 3 candidates, totalling 6 fits\n"
     ]
    },
    {
     "name": "stderr",
     "output_type": "stream",
     "text": [
      "[Parallel(n_jobs=1)]: Using backend SequentialBackend with 1 concurrent workers.\n"
     ]
    },
    {
     "name": "stdout",
     "output_type": "stream",
     "text": [
      "building tree 1 of 20\n"
     ]
    },
    {
     "name": "stderr",
     "output_type": "stream",
     "text": [
      "[Parallel(n_jobs=1)]: Done   1 out of   1 | elapsed:    0.3s remaining:    0.0s\n"
     ]
    },
    {
     "name": "stdout",
     "output_type": "stream",
     "text": [
      "building tree 2 of 20\n",
      "building tree 3 of 20\n",
      "building tree 4 of 20\n",
      "building tree 5 of 20\n",
      "building tree 6 of 20\n",
      "building tree 7 of 20\n",
      "building tree 8 of 20\n",
      "building tree 9 of 20\n",
      "building tree 10 of 20\n",
      "building tree 11 of 20\n",
      "building tree 12 of 20\n",
      "building tree 13 of 20\n",
      "building tree 14 of 20\n",
      "building tree 15 of 20\n",
      "building tree 16 of 20\n",
      "building tree 17 of 20\n",
      "building tree 18 of 20\n",
      "building tree 19 of 20\n",
      "building tree 20 of 20\n"
     ]
    },
    {
     "name": "stderr",
     "output_type": "stream",
     "text": [
      "[Parallel(n_jobs=1)]: Done  20 out of  20 | elapsed:    5.0s finished\n",
      "[Parallel(n_jobs=1)]: Using backend SequentialBackend with 1 concurrent workers.\n",
      "[Parallel(n_jobs=1)]: Done   1 out of   1 | elapsed:    0.0s remaining:    0.0s\n",
      "[Parallel(n_jobs=1)]: Done  20 out of  20 | elapsed:    0.4s finished\n"
     ]
    },
    {
     "name": "stdout",
     "output_type": "stream",
     "text": [
      "[CV 1/2] END ...........................model__max_depth=100; total time=   7.8s\n"
     ]
    },
    {
     "name": "stderr",
     "output_type": "stream",
     "text": [
      "[Parallel(n_jobs=1)]: Using backend SequentialBackend with 1 concurrent workers.\n",
      "[Parallel(n_jobs=1)]: Done   1 out of   1 | elapsed:    0.2s remaining:    0.0s\n"
     ]
    },
    {
     "name": "stdout",
     "output_type": "stream",
     "text": [
      "building tree 1 of 20\n",
      "building tree 2 of 20\n",
      "building tree 3 of 20\n",
      "building tree 4 of 20\n",
      "building tree 5 of 20\n",
      "building tree 6 of 20\n",
      "building tree 7 of 20\n",
      "building tree 8 of 20\n",
      "building tree 9 of 20\n",
      "building tree 10 of 20\n",
      "building tree 11 of 20\n",
      "building tree 12 of 20\n",
      "building tree 13 of 20\n",
      "building tree 14 of 20\n",
      "building tree 15 of 20\n",
      "building tree 16 of 20\n",
      "building tree 17 of 20\n",
      "building tree 18 of 20\n",
      "building tree 19 of 20\n",
      "building tree 20 of 20\n"
     ]
    },
    {
     "name": "stderr",
     "output_type": "stream",
     "text": [
      "[Parallel(n_jobs=1)]: Done  20 out of  20 | elapsed:    5.2s finished\n",
      "[Parallel(n_jobs=1)]: Using backend SequentialBackend with 1 concurrent workers.\n",
      "[Parallel(n_jobs=1)]: Done   1 out of   1 | elapsed:    0.0s remaining:    0.0s\n",
      "[Parallel(n_jobs=1)]: Done  20 out of  20 | elapsed:    0.4s finished\n"
     ]
    },
    {
     "name": "stdout",
     "output_type": "stream",
     "text": [
      "[CV 2/2] END ...........................model__max_depth=100; total time=   8.1s\n"
     ]
    },
    {
     "name": "stderr",
     "output_type": "stream",
     "text": [
      "[Parallel(n_jobs=1)]: Using backend SequentialBackend with 1 concurrent workers.\n"
     ]
    },
    {
     "name": "stdout",
     "output_type": "stream",
     "text": [
      "building tree 1 of 20\n"
     ]
    },
    {
     "name": "stderr",
     "output_type": "stream",
     "text": [
      "[Parallel(n_jobs=1)]: Done   1 out of   1 | elapsed:    0.4s remaining:    0.0s\n"
     ]
    },
    {
     "name": "stdout",
     "output_type": "stream",
     "text": [
      "building tree 2 of 20\n",
      "building tree 3 of 20\n",
      "building tree 4 of 20\n",
      "building tree 5 of 20\n",
      "building tree 6 of 20\n",
      "building tree 7 of 20\n",
      "building tree 8 of 20\n",
      "building tree 9 of 20\n",
      "building tree 10 of 20\n",
      "building tree 11 of 20\n",
      "building tree 12 of 20\n",
      "building tree 13 of 20\n",
      "building tree 14 of 20\n",
      "building tree 15 of 20\n",
      "building tree 16 of 20\n",
      "building tree 17 of 20\n",
      "building tree 18 of 20\n",
      "building tree 19 of 20\n",
      "building tree 20 of 20\n"
     ]
    },
    {
     "name": "stderr",
     "output_type": "stream",
     "text": [
      "[Parallel(n_jobs=1)]: Done  20 out of  20 | elapsed:    6.6s finished\n",
      "[Parallel(n_jobs=1)]: Using backend SequentialBackend with 1 concurrent workers.\n",
      "[Parallel(n_jobs=1)]: Done   1 out of   1 | elapsed:    0.0s remaining:    0.0s\n",
      "[Parallel(n_jobs=1)]: Done  20 out of  20 | elapsed:    0.5s finished\n"
     ]
    },
    {
     "name": "stdout",
     "output_type": "stream",
     "text": [
      "[CV 1/2] END ...........................model__max_depth=150; total time=   9.7s\n"
     ]
    },
    {
     "name": "stderr",
     "output_type": "stream",
     "text": [
      "[Parallel(n_jobs=1)]: Using backend SequentialBackend with 1 concurrent workers.\n"
     ]
    },
    {
     "name": "stdout",
     "output_type": "stream",
     "text": [
      "building tree 1 of 20\n"
     ]
    },
    {
     "name": "stderr",
     "output_type": "stream",
     "text": [
      "[Parallel(n_jobs=1)]: Done   1 out of   1 | elapsed:    0.3s remaining:    0.0s\n"
     ]
    },
    {
     "name": "stdout",
     "output_type": "stream",
     "text": [
      "building tree 2 of 20\n",
      "building tree 3 of 20\n",
      "building tree 4 of 20\n",
      "building tree 5 of 20\n",
      "building tree 6 of 20\n",
      "building tree 7 of 20\n",
      "building tree 8 of 20\n",
      "building tree 9 of 20\n",
      "building tree 10 of 20\n",
      "building tree 11 of 20\n",
      "building tree 12 of 20\n",
      "building tree 13 of 20\n",
      "building tree 14 of 20\n",
      "building tree 15 of 20\n",
      "building tree 16 of 20\n",
      "building tree 17 of 20\n",
      "building tree 18 of 20\n",
      "building tree 19 of 20\n",
      "building tree 20 of 20\n"
     ]
    },
    {
     "name": "stderr",
     "output_type": "stream",
     "text": [
      "[Parallel(n_jobs=1)]: Done  20 out of  20 | elapsed:    6.5s finished\n",
      "[Parallel(n_jobs=1)]: Using backend SequentialBackend with 1 concurrent workers.\n",
      "[Parallel(n_jobs=1)]: Done   1 out of   1 | elapsed:    0.0s remaining:    0.0s\n",
      "[Parallel(n_jobs=1)]: Done  20 out of  20 | elapsed:    0.5s finished\n"
     ]
    },
    {
     "name": "stdout",
     "output_type": "stream",
     "text": [
      "[CV 2/2] END ...........................model__max_depth=150; total time=   9.5s\n"
     ]
    },
    {
     "name": "stderr",
     "output_type": "stream",
     "text": [
      "[Parallel(n_jobs=1)]: Using backend SequentialBackend with 1 concurrent workers.\n"
     ]
    },
    {
     "name": "stdout",
     "output_type": "stream",
     "text": [
      "building tree 1 of 20\n"
     ]
    },
    {
     "name": "stderr",
     "output_type": "stream",
     "text": [
      "[Parallel(n_jobs=1)]: Done   1 out of   1 | elapsed:    0.4s remaining:    0.0s\n"
     ]
    },
    {
     "name": "stdout",
     "output_type": "stream",
     "text": [
      "building tree 2 of 20\n",
      "building tree 3 of 20\n",
      "building tree 4 of 20\n",
      "building tree 5 of 20\n",
      "building tree 6 of 20\n",
      "building tree 7 of 20\n",
      "building tree 8 of 20\n",
      "building tree 9 of 20\n",
      "building tree 10 of 20\n",
      "building tree 11 of 20\n",
      "building tree 12 of 20\n",
      "building tree 13 of 20\n",
      "building tree 14 of 20\n",
      "building tree 15 of 20\n",
      "building tree 16 of 20\n",
      "building tree 17 of 20\n",
      "building tree 18 of 20\n",
      "building tree 19 of 20\n",
      "building tree 20 of 20\n"
     ]
    },
    {
     "name": "stderr",
     "output_type": "stream",
     "text": [
      "[Parallel(n_jobs=1)]: Done  20 out of  20 | elapsed:    7.8s finished\n",
      "[Parallel(n_jobs=1)]: Using backend SequentialBackend with 1 concurrent workers.\n",
      "[Parallel(n_jobs=1)]: Done   1 out of   1 | elapsed:    0.0s remaining:    0.0s\n",
      "[Parallel(n_jobs=1)]: Done  20 out of  20 | elapsed:    0.5s finished\n"
     ]
    },
    {
     "name": "stdout",
     "output_type": "stream",
     "text": [
      "[CV 1/2] END ...........................model__max_depth=200; total time=  10.9s\n"
     ]
    },
    {
     "name": "stderr",
     "output_type": "stream",
     "text": [
      "[Parallel(n_jobs=1)]: Using backend SequentialBackend with 1 concurrent workers.\n"
     ]
    },
    {
     "name": "stdout",
     "output_type": "stream",
     "text": [
      "building tree 1 of 20\n"
     ]
    },
    {
     "name": "stderr",
     "output_type": "stream",
     "text": [
      "[Parallel(n_jobs=1)]: Done   1 out of   1 | elapsed:    0.3s remaining:    0.0s\n"
     ]
    },
    {
     "name": "stdout",
     "output_type": "stream",
     "text": [
      "building tree 2 of 20\n",
      "building tree 3 of 20\n",
      "building tree 4 of 20\n",
      "building tree 5 of 20\n",
      "building tree 6 of 20\n",
      "building tree 7 of 20\n",
      "building tree 8 of 20\n",
      "building tree 9 of 20\n",
      "building tree 10 of 20\n",
      "building tree 11 of 20\n",
      "building tree 12 of 20\n",
      "building tree 13 of 20\n",
      "building tree 14 of 20\n",
      "building tree 15 of 20\n",
      "building tree 16 of 20\n",
      "building tree 17 of 20\n",
      "building tree 18 of 20\n",
      "building tree 19 of 20\n",
      "building tree 20 of 20\n"
     ]
    },
    {
     "name": "stderr",
     "output_type": "stream",
     "text": [
      "[Parallel(n_jobs=1)]: Done  20 out of  20 | elapsed:    7.7s finished\n",
      "[Parallel(n_jobs=1)]: Using backend SequentialBackend with 1 concurrent workers.\n",
      "[Parallel(n_jobs=1)]: Done   1 out of   1 | elapsed:    0.0s remaining:    0.0s\n",
      "[Parallel(n_jobs=1)]: Done  20 out of  20 | elapsed:    0.5s finished\n"
     ]
    },
    {
     "name": "stdout",
     "output_type": "stream",
     "text": [
      "[CV 2/2] END ...........................model__max_depth=200; total time=  10.8s\n"
     ]
    },
    {
     "name": "stderr",
     "output_type": "stream",
     "text": [
      "[Parallel(n_jobs=1)]: Using backend SequentialBackend with 1 concurrent workers.\n"
     ]
    },
    {
     "name": "stdout",
     "output_type": "stream",
     "text": [
      "building tree 1 of 20\n"
     ]
    },
    {
     "name": "stderr",
     "output_type": "stream",
     "text": [
      "[Parallel(n_jobs=1)]: Done   1 out of   1 | elapsed:    1.4s remaining:    0.0s\n"
     ]
    },
    {
     "name": "stdout",
     "output_type": "stream",
     "text": [
      "building tree 2 of 20\n",
      "building tree 3 of 20\n",
      "building tree 4 of 20\n",
      "building tree 5 of 20\n",
      "building tree 6 of 20\n",
      "building tree 7 of 20\n",
      "building tree 8 of 20\n",
      "building tree 9 of 20\n",
      "building tree 10 of 20\n",
      "building tree 11 of 20\n",
      "building tree 12 of 20\n",
      "building tree 13 of 20\n",
      "building tree 14 of 20\n",
      "building tree 15 of 20\n",
      "building tree 16 of 20\n",
      "building tree 17 of 20\n",
      "building tree 18 of 20\n",
      "building tree 19 of 20\n",
      "building tree 20 of 20\n",
      "CPU times: user 1min 21s, sys: 332 ms, total: 1min 22s\n",
      "Wall time: 1min 22s\n"
     ]
    },
    {
     "name": "stderr",
     "output_type": "stream",
     "text": [
      "[Parallel(n_jobs=1)]: Done  20 out of  20 | elapsed:   23.3s finished\n"
     ]
    },
    {
     "data": {
      "text/plain": [
       "GridSearchCV(cv=2,\n",
       "             estimator=Pipeline(steps=[('tfidf',\n",
       "                                        TfidfVectorizer(min_df=10,\n",
       "                                                        stop_words={'a',\n",
       "                                                                    'about',\n",
       "                                                                    'above',\n",
       "                                                                    'after',\n",
       "                                                                    'again',\n",
       "                                                                    'against',\n",
       "                                                                    'ain',\n",
       "                                                                    'all', 'am',\n",
       "                                                                    'an', 'and',\n",
       "                                                                    'any',\n",
       "                                                                    'are',\n",
       "                                                                    'aren',\n",
       "                                                                    \"aren't\",\n",
       "                                                                    'as', 'at',\n",
       "                                                                    'be',\n",
       "                                                                    'because',\n",
       "                                                                    'been',\n",
       "                                                                    'before',\n",
       "                                                                    'being',\n",
       "                                                                    'below',\n",
       "                                                                    'between',\n",
       "                                                                    'both',\n",
       "                                                                    'but', 'by',\n",
       "                                                                    'can',\n",
       "                                                                    'couldn',\n",
       "                                                                    \"couldn't\", ...})),\n",
       "                                       ('model',\n",
       "                                        RandomForestClassifier(n_estimators=20,\n",
       "                                                               random_state=12345,\n",
       "                                                               verbose=2))]),\n",
       "             param_grid={'model__max_depth': range(100, 201, 50)},\n",
       "             scoring=make_scorer(f1_score), verbose=3)"
      ]
     },
     "execution_count": 39,
     "metadata": {},
     "output_type": "execute_result"
    }
   ],
   "source": [
    "%%time\n",
    "\n",
    "grid_rf.fit(corpus_train,target_train)"
   ]
  },
  {
   "cell_type": "markdown",
   "metadata": {},
   "source": [
    "Выводим лучшие параметры"
   ]
  },
  {
   "cell_type": "code",
   "execution_count": 40,
   "metadata": {},
   "outputs": [
    {
     "data": {
      "text/plain": [
       "{'model__max_depth': 200}"
      ]
     },
     "execution_count": 40,
     "metadata": {},
     "output_type": "execute_result"
    }
   ],
   "source": [
    "grid_rf.best_params_"
   ]
  },
  {
   "cell_type": "markdown",
   "metadata": {},
   "source": [
    "Смотрим лучший результат"
   ]
  },
  {
   "cell_type": "code",
   "execution_count": 41,
   "metadata": {},
   "outputs": [
    {
     "name": "stdout",
     "output_type": "stream",
     "text": [
      "F1 мера на валидационной выборке: 0.73\n"
     ]
    }
   ],
   "source": [
    "best_score = grid_rf.best_score_\n",
    "print(\"F1 мера на валидационной выборке:\", round(best_score,2))"
   ]
  },
  {
   "cell_type": "markdown",
   "metadata": {},
   "source": [
    "Добавим параметры модели в датафрейм model_param "
   ]
  },
  {
   "cell_type": "code",
   "execution_count": 42,
   "metadata": {},
   "outputs": [],
   "source": [
    "new_row = {'best_param':grid_rf.best_params_,\n",
    "           'model_name':'random forest',\n",
    "           'best_F1':best_score}\n",
    "model_param = model_param.append(new_row,ignore_index=True)"
   ]
  },
  {
   "cell_type": "code",
   "execution_count": 43,
   "metadata": {},
   "outputs": [
    {
     "data": {
      "text/html": [
       "<div>\n",
       "<style scoped>\n",
       "    .dataframe tbody tr th:only-of-type {\n",
       "        vertical-align: middle;\n",
       "    }\n",
       "\n",
       "    .dataframe tbody tr th {\n",
       "        vertical-align: top;\n",
       "    }\n",
       "\n",
       "    .dataframe thead th {\n",
       "        text-align: right;\n",
       "    }\n",
       "</style>\n",
       "<table border=\"1\" class=\"dataframe\">\n",
       "  <thead>\n",
       "    <tr style=\"text-align: right;\">\n",
       "      <th></th>\n",
       "      <th>model_name</th>\n",
       "      <th>best_param</th>\n",
       "      <th>best_F1</th>\n",
       "    </tr>\n",
       "  </thead>\n",
       "  <tbody>\n",
       "    <tr>\n",
       "      <th>0</th>\n",
       "      <td>logistic regression</td>\n",
       "      <td>{'model__C': 21}</td>\n",
       "      <td>0.753655</td>\n",
       "    </tr>\n",
       "    <tr>\n",
       "      <th>1</th>\n",
       "      <td>random forest</td>\n",
       "      <td>{'model__max_depth': 200}</td>\n",
       "      <td>0.729599</td>\n",
       "    </tr>\n",
       "  </tbody>\n",
       "</table>\n",
       "</div>"
      ],
      "text/plain": [
       "            model_name                 best_param   best_F1\n",
       "0  logistic regression           {'model__C': 21}  0.753655\n",
       "1        random forest  {'model__max_depth': 200}  0.729599"
      ]
     },
     "execution_count": 43,
     "metadata": {},
     "output_type": "execute_result"
    }
   ],
   "source": [
    "model_param"
   ]
  },
  {
   "cell_type": "markdown",
   "metadata": {},
   "source": [
    "### Метод опорных векторов"
   ]
  },
  {
   "cell_type": "markdown",
   "metadata": {},
   "source": [
    "Обучим и протестируем модель на основе метода случайных векторов с помощью gridsearch"
   ]
  },
  {
   "cell_type": "code",
   "execution_count": 44,
   "metadata": {},
   "outputs": [],
   "source": [
    "#создаем pipeline\n",
    "\n",
    "pipeline = Pipeline([\n",
    "    ('tfidf',count_tf_idf),\n",
    "    ('model',svm.SVC(kernel='linear',random_state=12345))\n",
    "])\n",
    "\n",
    "#задаем словарь параметров\n",
    "\n",
    "param_grid = {\n",
    "    'model__C':range(1,8,3)}\n",
    "\n",
    "#создаем модель\n",
    "\n",
    "grid_svm = GridSearchCV(pipeline, cv=2, param_grid=param_grid,\\\n",
    "                    verbose=3,scoring=scoring)"
   ]
  },
  {
   "cell_type": "markdown",
   "metadata": {},
   "source": [
    "Обучаем модель"
   ]
  },
  {
   "cell_type": "code",
   "execution_count": 45,
   "metadata": {},
   "outputs": [
    {
     "name": "stdout",
     "output_type": "stream",
     "text": [
      "Fitting 2 folds for each of 3 candidates, totalling 6 fits\n",
      "[CV 1/2] END .....................................model__C=1; total time= 4.6min\n",
      "[CV 2/2] END .....................................model__C=1; total time= 4.7min\n",
      "[CV 1/2] END .....................................model__C=4; total time= 6.5min\n",
      "[CV 2/2] END .....................................model__C=4; total time= 6.2min\n",
      "[CV 1/2] END .....................................model__C=7; total time= 6.9min\n",
      "[CV 2/2] END .....................................model__C=7; total time= 6.5min\n",
      "CPU times: user 56min 53s, sys: 8.37 s, total: 57min 1s\n",
      "Wall time: 57min 3s\n"
     ]
    },
    {
     "data": {
      "text/plain": [
       "GridSearchCV(cv=2,\n",
       "             estimator=Pipeline(steps=[('tfidf',\n",
       "                                        TfidfVectorizer(min_df=10,\n",
       "                                                        stop_words={'a',\n",
       "                                                                    'about',\n",
       "                                                                    'above',\n",
       "                                                                    'after',\n",
       "                                                                    'again',\n",
       "                                                                    'against',\n",
       "                                                                    'ain',\n",
       "                                                                    'all', 'am',\n",
       "                                                                    'an', 'and',\n",
       "                                                                    'any',\n",
       "                                                                    'are',\n",
       "                                                                    'aren',\n",
       "                                                                    \"aren't\",\n",
       "                                                                    'as', 'at',\n",
       "                                                                    'be',\n",
       "                                                                    'because',\n",
       "                                                                    'been',\n",
       "                                                                    'before',\n",
       "                                                                    'being',\n",
       "                                                                    'below',\n",
       "                                                                    'between',\n",
       "                                                                    'both',\n",
       "                                                                    'but', 'by',\n",
       "                                                                    'can',\n",
       "                                                                    'couldn',\n",
       "                                                                    \"couldn't\", ...})),\n",
       "                                       ('model',\n",
       "                                        SVC(kernel='linear',\n",
       "                                            random_state=12345))]),\n",
       "             param_grid={'model__C': range(1, 8, 3)},\n",
       "             scoring=make_scorer(f1_score), verbose=3)"
      ]
     },
     "execution_count": 45,
     "metadata": {},
     "output_type": "execute_result"
    }
   ],
   "source": [
    "%%time\n",
    "\n",
    "grid_svm.fit(corpus_train,target_train)"
   ]
  },
  {
   "cell_type": "markdown",
   "metadata": {},
   "source": [
    "Выводим лучшие параметры"
   ]
  },
  {
   "cell_type": "code",
   "execution_count": 46,
   "metadata": {},
   "outputs": [
    {
     "data": {
      "text/plain": [
       "{'model__C': 4}"
      ]
     },
     "execution_count": 46,
     "metadata": {},
     "output_type": "execute_result"
    }
   ],
   "source": [
    "grid_svm.best_params_"
   ]
  },
  {
   "cell_type": "markdown",
   "metadata": {},
   "source": [
    "Смотрим лучший результат"
   ]
  },
  {
   "cell_type": "code",
   "execution_count": 47,
   "metadata": {},
   "outputs": [
    {
     "name": "stdout",
     "output_type": "stream",
     "text": [
      "F1 мера на валидационной выборке: 0.76\n"
     ]
    }
   ],
   "source": [
    "best_score = grid_svm.best_score_\n",
    "print(\"F1 мера на валидационной выборке:\", round(best_score,2))"
   ]
  },
  {
   "cell_type": "markdown",
   "metadata": {},
   "source": [
    "Добавим параметры модели в датафрейм model_param"
   ]
  },
  {
   "cell_type": "code",
   "execution_count": 48,
   "metadata": {},
   "outputs": [],
   "source": [
    "new_row = {'best_param':grid_svm.best_params_,\n",
    "           'model_name':'svm',\n",
    "           'best_F1':best_score}\n",
    "model_param = model_param.append(new_row,ignore_index=True)"
   ]
  },
  {
   "cell_type": "code",
   "execution_count": 49,
   "metadata": {},
   "outputs": [
    {
     "data": {
      "text/html": [
       "<div>\n",
       "<style scoped>\n",
       "    .dataframe tbody tr th:only-of-type {\n",
       "        vertical-align: middle;\n",
       "    }\n",
       "\n",
       "    .dataframe tbody tr th {\n",
       "        vertical-align: top;\n",
       "    }\n",
       "\n",
       "    .dataframe thead th {\n",
       "        text-align: right;\n",
       "    }\n",
       "</style>\n",
       "<table border=\"1\" class=\"dataframe\">\n",
       "  <thead>\n",
       "    <tr style=\"text-align: right;\">\n",
       "      <th></th>\n",
       "      <th>model_name</th>\n",
       "      <th>best_param</th>\n",
       "      <th>best_F1</th>\n",
       "    </tr>\n",
       "  </thead>\n",
       "  <tbody>\n",
       "    <tr>\n",
       "      <th>0</th>\n",
       "      <td>logistic regression</td>\n",
       "      <td>{'model__C': 21}</td>\n",
       "      <td>0.753655</td>\n",
       "    </tr>\n",
       "    <tr>\n",
       "      <th>1</th>\n",
       "      <td>random forest</td>\n",
       "      <td>{'model__max_depth': 200}</td>\n",
       "      <td>0.729599</td>\n",
       "    </tr>\n",
       "    <tr>\n",
       "      <th>2</th>\n",
       "      <td>svm</td>\n",
       "      <td>{'model__C': 4}</td>\n",
       "      <td>0.760923</td>\n",
       "    </tr>\n",
       "  </tbody>\n",
       "</table>\n",
       "</div>"
      ],
      "text/plain": [
       "            model_name                 best_param   best_F1\n",
       "0  logistic regression           {'model__C': 21}  0.753655\n",
       "1        random forest  {'model__max_depth': 200}  0.729599\n",
       "2                  svm            {'model__C': 4}  0.760923"
      ]
     },
     "execution_count": 49,
     "metadata": {},
     "output_type": "execute_result"
    }
   ],
   "source": [
    "model_param"
   ]
  },
  {
   "cell_type": "markdown",
   "metadata": {},
   "source": [
    "### Проверка на вменяемость"
   ]
  },
  {
   "cell_type": "markdown",
   "metadata": {},
   "source": [
    "Оценим метрику f1 \"модели\" , предсказывающей отрицательную оценку комментария ('1')."
   ]
  },
  {
   "cell_type": "code",
   "execution_count": 50,
   "metadata": {},
   "outputs": [
    {
     "name": "stdout",
     "output_type": "stream",
     "text": [
      "F1 на тестовой выборке: 0.18\n"
     ]
    }
   ],
   "source": [
    "dummy_clf = DummyClassifier(strategy='constant',constant=1)\n",
    "dummy_clf.fit(features_train,target_train)\n",
    "predicted = dummy_clf.predict(features_test)\n",
    "result = round(f1_score(target_test,predicted),2)\n",
    "print(\"F1 на тестовой выборке:\", result)"
   ]
  },
  {
   "cell_type": "markdown",
   "metadata": {},
   "source": [
    "Тест на вменяемость пройден"
   ]
  },
  {
   "cell_type": "markdown",
   "metadata": {},
   "source": [
    "### Проверка лучшей модели на тестовой выбоке"
   ]
  },
  {
   "cell_type": "markdown",
   "metadata": {},
   "source": [
    "Наилучшие результаты на этапе тестирования моделей показала  модель, оснвоанная на методе опорных векторов (grid_svm). Протестируем данную модель на тестовой выборке."
   ]
  },
  {
   "cell_type": "markdown",
   "metadata": {},
   "source": [
    "Получим предсказания на тестовой выборке"
   ]
  },
  {
   "cell_type": "code",
   "execution_count": 53,
   "metadata": {},
   "outputs": [
    {
     "name": "stdout",
     "output_type": "stream",
     "text": [
      "CPU times: user 1min 46s, sys: 244 ms, total: 1min 46s\n",
      "Wall time: 1min 46s\n"
     ]
    }
   ],
   "source": [
    "%%time\n",
    "\n",
    "prediction = grid_svm.predict(corpus_test)"
   ]
  },
  {
   "cell_type": "code",
   "execution_count": 54,
   "metadata": {},
   "outputs": [
    {
     "name": "stdout",
     "output_type": "stream",
     "text": [
      "Показатели лучшей модели на тестовой выборке\n",
      "              precision    recall  f1-score   support\n",
      "\n",
      "     norm(0)       0.97      0.99      0.98     42932\n",
      "    toxic(1)       0.85      0.70      0.77      4856\n",
      "\n",
      "    accuracy                           0.96     47788\n",
      "   macro avg       0.91      0.84      0.87     47788\n",
      "weighted avg       0.96      0.96      0.96     47788\n",
      "\n"
     ]
    }
   ],
   "source": [
    "target_names = ['norm(0)', 'toxic(1)']\n",
    "rep=classification_report(target_test,prediction,target_names=target_names)\n",
    "print('Показатели лучшей модели на тестовой выборке')\n",
    "print(rep)"
   ]
  },
  {
   "cell_type": "code",
   "execution_count": 75,
   "metadata": {},
   "outputs": [
    {
     "name": "stdout",
     "output_type": "stream",
     "text": [
      "Метрика f1 для Токсичных комментариев: 0.77\n"
     ]
    }
   ],
   "source": [
    "print('Метрика f1 для Токсичных комментариев:'\\\n",
    "      ,round(f1_score(target_test,prediction),2))"
   ]
  },
  {
   "cell_type": "markdown",
   "metadata": {},
   "source": [
    "## Выводы"
   ]
  },
  {
   "cell_type": "markdown",
   "metadata": {},
   "source": [
    "По результатм работы можно сделать следующие выводы:\n",
    "- Комментарии содержали много неинформативной информации. Их тексты очищены от мусора, лишних слов и неинформативных символов.\n",
    "- Проведена лемматизация текстов с учетом чати речи.\n",
    "- Проведен базовый частотный анализ. Видно, что в токсичных комментариях имеются специфичные слова с негативным оттенком, а также отличия в наборе самых популярных слов от нормальных текстов.\n",
    "- Самое лучшее значение метрики f1=0,76 для положительного класса (негативные комментарии) показала модель на основе метода опорных векторов. Однако время обучения  CPU_time для данной модели составляет более 20 мин. Для сравнения, модель логистической регресси обучается за секунды, однако метрика f1 у неё хуже - 0,72.\n",
    "- В данной работе остро встал вопрос ограничений, связанных с вычислительными мощностями имеющегося оборудования.  Тренировочная выборка формировалась на основе словаря емкостью около 12000. Возможно, увеличив словарь и приенив n-граммы разного уровня, можно улучшить результат, но эти эксперименты кратно увеличивают требования к оперативной памяти и процессору.\n",
    "- Стоит обратить внимание на отношение параметров precision (0,9) recall (0,67)  для токсичных комментраиев у лучшей модели. Модель редко ошибается, давая комментарию метку 'toxic', однако  при этом часто пропускает токсичные комментраии. "
   ]
  },
  {
   "cell_type": "code",
   "execution_count": null,
   "metadata": {},
   "outputs": [],
   "source": []
  }
 ],
 "metadata": {
  "ExecuteTimeLog": [
   {
    "duration": 4,
    "start_time": "2023-01-30T07:49:26.117Z"
   },
   {
    "duration": 1734,
    "start_time": "2023-01-30T07:59:24.753Z"
   },
   {
    "duration": 2428,
    "start_time": "2023-01-30T08:05:04.037Z"
   },
   {
    "duration": 30,
    "start_time": "2023-01-30T08:05:30.029Z"
   },
   {
    "duration": 13,
    "start_time": "2023-01-30T08:07:56.247Z"
   },
   {
    "duration": 5,
    "start_time": "2023-01-30T09:01:46.887Z"
   },
   {
    "duration": 6,
    "start_time": "2023-01-30T09:02:14.757Z"
   },
   {
    "duration": 10,
    "start_time": "2023-01-30T09:03:15.625Z"
   },
   {
    "duration": 12,
    "start_time": "2023-01-30T09:03:26.585Z"
   },
   {
    "duration": 8,
    "start_time": "2023-01-30T09:03:34.605Z"
   },
   {
    "duration": 13,
    "start_time": "2023-01-30T11:42:48.422Z"
   },
   {
    "duration": 318,
    "start_time": "2023-01-30T12:15:04.068Z"
   },
   {
    "duration": 1678,
    "start_time": "2023-01-30T12:15:08.073Z"
   },
   {
    "duration": 80,
    "start_time": "2023-01-30T12:15:21.107Z"
   },
   {
    "duration": 5,
    "start_time": "2023-01-30T12:15:40.690Z"
   },
   {
    "duration": 77,
    "start_time": "2023-01-30T12:15:52.189Z"
   },
   {
    "duration": 5,
    "start_time": "2023-01-30T12:15:55.126Z"
   },
   {
    "duration": 23,
    "start_time": "2023-01-30T13:31:59.077Z"
   },
   {
    "duration": 75,
    "start_time": "2023-01-30T13:38:37.245Z"
   },
   {
    "duration": 12,
    "start_time": "2023-01-30T13:38:41.820Z"
   },
   {
    "duration": 28,
    "start_time": "2023-01-30T13:38:53.638Z"
   },
   {
    "duration": 58,
    "start_time": "2023-01-30T13:38:59.996Z"
   },
   {
    "duration": 45,
    "start_time": "2023-01-30T13:39:06.021Z"
   },
   {
    "duration": 47,
    "start_time": "2023-01-30T13:39:14.596Z"
   },
   {
    "duration": 33,
    "start_time": "2023-01-30T13:39:18.732Z"
   },
   {
    "duration": 33,
    "start_time": "2023-01-30T13:39:32.196Z"
   },
   {
    "duration": 39,
    "start_time": "2023-01-30T13:39:46.015Z"
   },
   {
    "duration": 33,
    "start_time": "2023-01-30T13:40:29.285Z"
   },
   {
    "duration": 34,
    "start_time": "2023-01-30T13:40:55.206Z"
   },
   {
    "duration": 2020,
    "start_time": "2023-01-30T13:44:25.617Z"
   },
   {
    "duration": 11,
    "start_time": "2023-01-30T13:44:58.338Z"
   },
   {
    "duration": 11,
    "start_time": "2023-01-30T13:45:14.084Z"
   },
   {
    "duration": 4,
    "start_time": "2023-01-30T13:45:37.296Z"
   },
   {
    "duration": 4,
    "start_time": "2023-01-30T13:45:54.513Z"
   },
   {
    "duration": 5,
    "start_time": "2023-01-30T13:46:03.770Z"
   },
   {
    "duration": 5,
    "start_time": "2023-01-30T13:46:10.833Z"
   },
   {
    "duration": 4,
    "start_time": "2023-01-30T13:48:08.179Z"
   },
   {
    "duration": 4,
    "start_time": "2023-01-30T13:48:11.193Z"
   },
   {
    "duration": 4,
    "start_time": "2023-01-30T13:48:33.738Z"
   },
   {
    "duration": 36,
    "start_time": "2023-01-30T13:48:36.689Z"
   },
   {
    "duration": 30,
    "start_time": "2023-01-30T13:48:49.945Z"
   },
   {
    "duration": 84,
    "start_time": "2023-01-30T13:49:07.066Z"
   },
   {
    "duration": 3,
    "start_time": "2023-01-30T13:49:11.738Z"
   },
   {
    "duration": 4,
    "start_time": "2023-01-30T13:49:22.386Z"
   },
   {
    "duration": 3,
    "start_time": "2023-01-30T13:49:28.835Z"
   },
   {
    "duration": 4,
    "start_time": "2023-01-30T13:49:29.962Z"
   },
   {
    "duration": 2,
    "start_time": "2023-01-30T13:49:53.403Z"
   },
   {
    "duration": 89,
    "start_time": "2023-01-30T14:13:14.374Z"
   },
   {
    "duration": 88,
    "start_time": "2023-01-30T14:15:31.238Z"
   },
   {
    "duration": 4,
    "start_time": "2023-01-30T14:15:58.783Z"
   },
   {
    "duration": 75,
    "start_time": "2023-01-30T14:17:58.416Z"
   },
   {
    "duration": 71,
    "start_time": "2023-01-30T14:18:10.024Z"
   },
   {
    "duration": 81,
    "start_time": "2023-01-30T14:18:15.034Z"
   },
   {
    "duration": 3889,
    "start_time": "2023-01-30T14:20:51.940Z"
   },
   {
    "duration": 4,
    "start_time": "2023-01-30T14:20:58.764Z"
   },
   {
    "duration": 21,
    "start_time": "2023-01-30T14:21:05.882Z"
   },
   {
    "duration": 79,
    "start_time": "2023-01-30T14:21:39.291Z"
   },
   {
    "duration": 82,
    "start_time": "2023-01-30T14:33:15.935Z"
   },
   {
    "duration": 5,
    "start_time": "2023-01-30T14:33:22.543Z"
   },
   {
    "duration": 869,
    "start_time": "2023-01-30T14:33:22.550Z"
   },
   {
    "duration": 34,
    "start_time": "2023-01-30T14:33:23.421Z"
   },
   {
    "duration": 29,
    "start_time": "2023-01-30T14:33:23.457Z"
   },
   {
    "duration": 20,
    "start_time": "2023-01-30T14:33:23.491Z"
   },
   {
    "duration": 17,
    "start_time": "2023-01-30T14:33:23.513Z"
   },
   {
    "duration": 27,
    "start_time": "2023-01-30T14:33:23.531Z"
   },
   {
    "duration": 15,
    "start_time": "2023-01-30T14:33:23.560Z"
   },
   {
    "duration": 39,
    "start_time": "2023-01-30T14:33:23.577Z"
   },
   {
    "duration": 14,
    "start_time": "2023-01-30T14:33:23.618Z"
   },
   {
    "duration": 15,
    "start_time": "2023-01-30T14:33:23.634Z"
   },
   {
    "duration": 20,
    "start_time": "2023-01-30T14:33:23.650Z"
   },
   {
    "duration": 4088,
    "start_time": "2023-01-30T14:33:23.672Z"
   },
   {
    "duration": 18,
    "start_time": "2023-01-30T14:33:27.762Z"
   },
   {
    "duration": 74,
    "start_time": "2023-01-30T14:33:27.782Z"
   },
   {
    "duration": 0,
    "start_time": "2023-01-30T14:33:27.858Z"
   },
   {
    "duration": 869,
    "start_time": "2023-01-30T14:33:34.277Z"
   },
   {
    "duration": 717,
    "start_time": "2023-01-30T14:33:55.036Z"
   },
   {
    "duration": 96,
    "start_time": "2023-01-30T14:38:53.434Z"
   },
   {
    "duration": 305,
    "start_time": "2023-01-30T14:39:07.225Z"
   },
   {
    "duration": 78,
    "start_time": "2023-01-30T14:39:29.801Z"
   },
   {
    "duration": 112,
    "start_time": "2023-01-30T14:39:34.495Z"
   },
   {
    "duration": 3,
    "start_time": "2023-01-30T14:42:31.148Z"
   },
   {
    "duration": 262,
    "start_time": "2023-01-30T14:42:34.308Z"
   },
   {
    "duration": 3,
    "start_time": "2023-01-30T14:42:35.234Z"
   },
   {
    "duration": 23,
    "start_time": "2023-01-30T14:42:36.226Z"
   },
   {
    "duration": 3,
    "start_time": "2023-01-30T14:42:53.498Z"
   },
   {
    "duration": 15,
    "start_time": "2023-01-30T14:42:54.700Z"
   },
   {
    "duration": 4,
    "start_time": "2023-01-30T14:43:25.222Z"
   },
   {
    "duration": 19,
    "start_time": "2023-01-30T14:43:26.030Z"
   },
   {
    "duration": 3,
    "start_time": "2023-01-30T14:43:44.300Z"
   },
   {
    "duration": 16,
    "start_time": "2023-01-30T14:43:46.027Z"
   },
   {
    "duration": 3,
    "start_time": "2023-01-30T14:45:44.444Z"
   },
   {
    "duration": 15,
    "start_time": "2023-01-30T14:45:45.480Z"
   },
   {
    "duration": 3,
    "start_time": "2023-01-30T14:47:14.492Z"
   },
   {
    "duration": 14,
    "start_time": "2023-01-30T14:47:15.246Z"
   },
   {
    "duration": 2,
    "start_time": "2023-01-30T14:47:44.045Z"
   },
   {
    "duration": 3,
    "start_time": "2023-01-30T14:47:54.301Z"
   },
   {
    "duration": 729,
    "start_time": "2023-01-30T14:47:56.343Z"
   },
   {
    "duration": 13,
    "start_time": "2023-01-30T14:55:20.053Z"
   },
   {
    "duration": 200,
    "start_time": "2023-01-30T14:55:57.268Z"
   },
   {
    "duration": 3,
    "start_time": "2023-01-30T14:56:12.350Z"
   },
   {
    "duration": 3,
    "start_time": "2023-01-30T14:56:46.844Z"
   },
   {
    "duration": 1308,
    "start_time": "2023-01-30T14:56:47.731Z"
   },
   {
    "duration": 1946,
    "start_time": "2023-01-30T16:41:48.306Z"
   },
   {
    "duration": 4,
    "start_time": "2023-01-30T16:44:38.710Z"
   },
   {
    "duration": 3,
    "start_time": "2023-01-30T16:45:15.876Z"
   },
   {
    "duration": 130,
    "start_time": "2023-01-30T16:45:18.715Z"
   },
   {
    "duration": 5,
    "start_time": "2023-01-30T16:45:26.592Z"
   },
   {
    "duration": 3659,
    "start_time": "2023-01-30T16:45:26.598Z"
   },
   {
    "duration": 103,
    "start_time": "2023-01-30T16:45:30.259Z"
   },
   {
    "duration": 11,
    "start_time": "2023-01-30T16:45:30.364Z"
   },
   {
    "duration": 34,
    "start_time": "2023-01-30T16:45:30.377Z"
   },
   {
    "duration": 35,
    "start_time": "2023-01-30T16:45:30.413Z"
   },
   {
    "duration": 38,
    "start_time": "2023-01-30T16:45:30.450Z"
   },
   {
    "duration": 35,
    "start_time": "2023-01-30T16:45:30.490Z"
   },
   {
    "duration": 56,
    "start_time": "2023-01-30T16:45:30.527Z"
   },
   {
    "duration": 52,
    "start_time": "2023-01-30T16:45:30.584Z"
   },
   {
    "duration": 26,
    "start_time": "2023-01-30T16:45:30.639Z"
   },
   {
    "duration": 31,
    "start_time": "2023-01-30T16:45:30.667Z"
   },
   {
    "duration": 4164,
    "start_time": "2023-01-30T16:45:30.700Z"
   },
   {
    "duration": 56,
    "start_time": "2023-01-30T16:45:34.865Z"
   },
   {
    "duration": 3,
    "start_time": "2023-01-30T16:45:34.923Z"
   },
   {
    "duration": 40,
    "start_time": "2023-01-30T16:45:34.928Z"
   },
   {
    "duration": 1237,
    "start_time": "2023-01-30T16:45:34.970Z"
   },
   {
    "duration": 16,
    "start_time": "2023-01-30T16:45:51.187Z"
   },
   {
    "duration": 3,
    "start_time": "2023-01-30T16:46:17.803Z"
   },
   {
    "duration": 3,
    "start_time": "2023-01-30T16:46:19.019Z"
   },
   {
    "duration": 3,
    "start_time": "2023-01-30T16:46:43.208Z"
   },
   {
    "duration": 14,
    "start_time": "2023-01-30T16:46:44.757Z"
   },
   {
    "duration": 4,
    "start_time": "2023-01-30T16:47:40.802Z"
   },
   {
    "duration": 5,
    "start_time": "2023-01-30T16:47:41.979Z"
   },
   {
    "duration": 4,
    "start_time": "2023-01-30T16:48:10.780Z"
   },
   {
    "duration": 4,
    "start_time": "2023-01-30T16:48:29.900Z"
   },
   {
    "duration": 5,
    "start_time": "2023-01-30T16:48:38.180Z"
   },
   {
    "duration": 4,
    "start_time": "2023-01-30T16:49:17.821Z"
   },
   {
    "duration": 13,
    "start_time": "2023-01-30T16:49:31.238Z"
   },
   {
    "duration": 4,
    "start_time": "2023-01-30T16:49:41.533Z"
   },
   {
    "duration": 4,
    "start_time": "2023-01-30T16:49:45.268Z"
   },
   {
    "duration": 33,
    "start_time": "2023-01-30T16:49:56.816Z"
   },
   {
    "duration": 8,
    "start_time": "2023-01-30T16:50:12.214Z"
   },
   {
    "duration": 5,
    "start_time": "2023-01-30T16:51:12.845Z"
   },
   {
    "duration": 4,
    "start_time": "2023-01-30T16:51:28.783Z"
   },
   {
    "duration": 4,
    "start_time": "2023-01-30T16:51:36.884Z"
   },
   {
    "duration": 5,
    "start_time": "2023-01-30T16:51:48.937Z"
   },
   {
    "duration": 4,
    "start_time": "2023-01-30T16:51:55.286Z"
   },
   {
    "duration": 4,
    "start_time": "2023-01-30T16:52:15.644Z"
   },
   {
    "duration": 3,
    "start_time": "2023-01-30T16:52:27.223Z"
   },
   {
    "duration": 4,
    "start_time": "2023-01-30T16:52:34.975Z"
   },
   {
    "duration": 3,
    "start_time": "2023-01-30T16:52:42.910Z"
   },
   {
    "duration": 6,
    "start_time": "2023-01-30T16:52:50.491Z"
   },
   {
    "duration": 4,
    "start_time": "2023-01-30T16:54:59.705Z"
   },
   {
    "duration": 3,
    "start_time": "2023-01-30T16:55:09.750Z"
   },
   {
    "duration": 3,
    "start_time": "2023-01-30T16:55:32.088Z"
   },
   {
    "duration": 4,
    "start_time": "2023-01-30T16:55:39.168Z"
   },
   {
    "duration": 4,
    "start_time": "2023-01-30T16:56:17.969Z"
   },
   {
    "duration": 4,
    "start_time": "2023-01-30T16:57:10.091Z"
   },
   {
    "duration": 4,
    "start_time": "2023-01-30T16:57:17.906Z"
   },
   {
    "duration": 3,
    "start_time": "2023-01-30T16:57:23.593Z"
   },
   {
    "duration": 3,
    "start_time": "2023-01-30T16:57:38.297Z"
   },
   {
    "duration": 4,
    "start_time": "2023-01-30T16:57:42.074Z"
   },
   {
    "duration": 3,
    "start_time": "2023-01-30T17:02:09.824Z"
   },
   {
    "duration": 46,
    "start_time": "2023-01-30T17:02:10.387Z"
   },
   {
    "duration": 2,
    "start_time": "2023-01-30T17:02:17.531Z"
   },
   {
    "duration": 3,
    "start_time": "2023-01-30T17:03:24.392Z"
   },
   {
    "duration": 42,
    "start_time": "2023-01-30T17:03:24.775Z"
   },
   {
    "duration": 3,
    "start_time": "2023-01-30T17:03:25.792Z"
   },
   {
    "duration": 2,
    "start_time": "2023-01-30T17:03:38.745Z"
   },
   {
    "duration": 5,
    "start_time": "2023-01-30T17:03:43.479Z"
   },
   {
    "duration": 4,
    "start_time": "2023-01-30T17:04:24.938Z"
   },
   {
    "duration": 3,
    "start_time": "2023-01-30T17:04:58.684Z"
   },
   {
    "duration": 13,
    "start_time": "2023-01-30T17:05:39.761Z"
   },
   {
    "duration": 10,
    "start_time": "2023-01-30T17:05:48.800Z"
   },
   {
    "duration": 3,
    "start_time": "2023-01-30T17:05:59.235Z"
   },
   {
    "duration": 3,
    "start_time": "2023-01-30T17:06:05.282Z"
   },
   {
    "duration": 3,
    "start_time": "2023-01-30T17:06:12.245Z"
   },
   {
    "duration": 3,
    "start_time": "2023-01-30T17:06:26.513Z"
   },
   {
    "duration": 3,
    "start_time": "2023-01-30T17:06:31.130Z"
   },
   {
    "duration": 4,
    "start_time": "2023-01-30T17:06:34.149Z"
   },
   {
    "duration": 16,
    "start_time": "2023-01-30T17:10:16.494Z"
   },
   {
    "duration": 3,
    "start_time": "2023-01-30T17:10:38.163Z"
   },
   {
    "duration": 8,
    "start_time": "2023-01-30T17:12:00.410Z"
   },
   {
    "duration": 860,
    "start_time": "2023-01-30T17:12:00.420Z"
   },
   {
    "duration": 35,
    "start_time": "2023-01-30T17:12:01.282Z"
   },
   {
    "duration": 10,
    "start_time": "2023-01-30T17:12:01.319Z"
   },
   {
    "duration": 15,
    "start_time": "2023-01-30T17:12:01.331Z"
   },
   {
    "duration": 12,
    "start_time": "2023-01-30T17:12:01.347Z"
   },
   {
    "duration": 19,
    "start_time": "2023-01-30T17:12:01.361Z"
   },
   {
    "duration": 21,
    "start_time": "2023-01-30T17:12:01.382Z"
   },
   {
    "duration": 40,
    "start_time": "2023-01-30T17:12:01.406Z"
   },
   {
    "duration": 6,
    "start_time": "2023-01-30T17:12:01.448Z"
   },
   {
    "duration": 6,
    "start_time": "2023-01-30T17:12:01.456Z"
   },
   {
    "duration": 7,
    "start_time": "2023-01-30T17:12:01.463Z"
   },
   {
    "duration": 42,
    "start_time": "2023-01-30T17:12:01.471Z"
   },
   {
    "duration": 4144,
    "start_time": "2023-01-30T17:12:01.515Z"
   },
   {
    "duration": 19,
    "start_time": "2023-01-30T17:12:05.661Z"
   },
   {
    "duration": 4,
    "start_time": "2023-01-30T17:14:15.869Z"
   },
   {
    "duration": 161,
    "start_time": "2023-01-30T17:14:24.118Z"
   },
   {
    "duration": 19,
    "start_time": "2023-01-30T17:14:58.496Z"
   },
   {
    "duration": 41,
    "start_time": "2023-01-30T17:15:04.578Z"
   },
   {
    "duration": 3,
    "start_time": "2023-01-30T17:15:04.914Z"
   },
   {
    "duration": 3,
    "start_time": "2023-01-30T17:15:10.425Z"
   },
   {
    "duration": 3,
    "start_time": "2023-01-30T17:15:12.010Z"
   },
   {
    "duration": 162,
    "start_time": "2023-01-30T17:15:13.909Z"
   },
   {
    "duration": 114,
    "start_time": "2023-01-30T17:15:51.264Z"
   },
   {
    "duration": 119,
    "start_time": "2023-01-30T17:15:56.910Z"
   },
   {
    "duration": 5,
    "start_time": "2023-01-30T17:16:22.069Z"
   },
   {
    "duration": 26,
    "start_time": "2023-01-30T17:16:23.101Z"
   },
   {
    "duration": 4,
    "start_time": "2023-01-30T17:16:52.165Z"
   },
   {
    "duration": 24,
    "start_time": "2023-01-30T17:16:53.297Z"
   },
   {
    "duration": 5,
    "start_time": "2023-01-30T17:16:57.255Z"
   },
   {
    "duration": 796,
    "start_time": "2023-01-30T17:16:57.262Z"
   },
   {
    "duration": 33,
    "start_time": "2023-01-30T17:16:58.060Z"
   },
   {
    "duration": 7,
    "start_time": "2023-01-30T17:16:58.095Z"
   },
   {
    "duration": 5,
    "start_time": "2023-01-30T17:16:58.105Z"
   },
   {
    "duration": 8,
    "start_time": "2023-01-30T17:16:58.112Z"
   },
   {
    "duration": 92,
    "start_time": "2023-01-30T17:16:58.122Z"
   },
   {
    "duration": 19,
    "start_time": "2023-01-30T17:16:58.216Z"
   },
   {
    "duration": 45,
    "start_time": "2023-01-30T17:16:58.237Z"
   },
   {
    "duration": 9,
    "start_time": "2023-01-30T17:16:58.285Z"
   },
   {
    "duration": 6,
    "start_time": "2023-01-30T17:16:58.298Z"
   },
   {
    "duration": 14,
    "start_time": "2023-01-30T17:16:58.306Z"
   },
   {
    "duration": 38,
    "start_time": "2023-01-30T17:16:58.321Z"
   },
   {
    "duration": 3858,
    "start_time": "2023-01-30T17:16:58.362Z"
   },
   {
    "duration": 20,
    "start_time": "2023-01-30T17:17:02.222Z"
   },
   {
    "duration": 28,
    "start_time": "2023-01-30T17:17:02.243Z"
   },
   {
    "duration": 25,
    "start_time": "2023-01-30T17:17:02.274Z"
   },
   {
    "duration": 4,
    "start_time": "2023-01-30T17:17:09.844Z"
   },
   {
    "duration": 3,
    "start_time": "2023-01-30T17:17:10.820Z"
   },
   {
    "duration": 32,
    "start_time": "2023-01-30T17:17:12.214Z"
   },
   {
    "duration": 3,
    "start_time": "2023-01-30T17:19:12.019Z"
   },
   {
    "duration": 23,
    "start_time": "2023-01-30T17:19:13.060Z"
   },
   {
    "duration": 3,
    "start_time": "2023-01-30T17:19:32.806Z"
   },
   {
    "duration": 5,
    "start_time": "2023-01-30T17:19:33.977Z"
   },
   {
    "duration": 3,
    "start_time": "2023-01-30T17:22:10.952Z"
   },
   {
    "duration": 50,
    "start_time": "2023-01-30T17:23:45.311Z"
   },
   {
    "duration": 4,
    "start_time": "2023-01-30T17:24:06.359Z"
   },
   {
    "duration": 94,
    "start_time": "2023-01-30T17:24:21.432Z"
   },
   {
    "duration": 3,
    "start_time": "2023-01-30T17:24:22.456Z"
   },
   {
    "duration": 3,
    "start_time": "2023-01-30T18:03:46.720Z"
   },
   {
    "duration": 4,
    "start_time": "2023-01-30T18:03:47.461Z"
   },
   {
    "duration": 4,
    "start_time": "2023-01-30T18:03:48.283Z"
   },
   {
    "duration": 24,
    "start_time": "2023-01-30T18:04:32.838Z"
   },
   {
    "duration": 10,
    "start_time": "2023-01-30T18:04:40.247Z"
   },
   {
    "duration": 14,
    "start_time": "2023-01-30T18:04:46.354Z"
   },
   {
    "duration": 5,
    "start_time": "2023-01-30T18:05:16.868Z"
   },
   {
    "duration": 13,
    "start_time": "2023-01-30T18:05:29.156Z"
   },
   {
    "duration": 4,
    "start_time": "2023-01-30T18:07:01.406Z"
   },
   {
    "duration": 4,
    "start_time": "2023-01-30T18:07:45.214Z"
   },
   {
    "duration": 13,
    "start_time": "2023-01-30T18:07:52.272Z"
   },
   {
    "duration": 12,
    "start_time": "2023-01-30T18:07:59.041Z"
   },
   {
    "duration": 4,
    "start_time": "2023-01-30T18:10:09.110Z"
   },
   {
    "duration": 3,
    "start_time": "2023-01-30T18:10:29.012Z"
   },
   {
    "duration": 5,
    "start_time": "2023-01-30T18:10:29.943Z"
   },
   {
    "duration": 75229,
    "start_time": "2023-01-30T18:15:22.952Z"
   },
   {
    "duration": 5,
    "start_time": "2023-01-30T18:16:38.184Z"
   },
   {
    "duration": 17,
    "start_time": "2023-01-30T18:18:49.473Z"
   },
   {
    "duration": 4,
    "start_time": "2023-01-30T18:20:21.673Z"
   },
   {
    "duration": 5,
    "start_time": "2023-01-30T18:26:39.620Z"
   },
   {
    "duration": 5,
    "start_time": "2023-01-30T18:38:00.846Z"
   },
   {
    "duration": 1892,
    "start_time": "2023-01-30T18:41:11.773Z"
   },
   {
    "duration": 5,
    "start_time": "2023-01-30T18:41:17.999Z"
   },
   {
    "duration": 4,
    "start_time": "2023-01-30T18:42:29.582Z"
   },
   {
    "duration": 4,
    "start_time": "2023-01-30T18:42:31.130Z"
   },
   {
    "duration": 4,
    "start_time": "2023-01-30T18:42:42.477Z"
   },
   {
    "duration": 6350,
    "start_time": "2023-01-30T18:42:57.994Z"
   },
   {
    "duration": 21,
    "start_time": "2023-01-30T18:43:15.831Z"
   },
   {
    "duration": 65,
    "start_time": "2023-01-30T18:43:46.891Z"
   },
   {
    "duration": 2025,
    "start_time": "2023-01-30T18:43:51.648Z"
   },
   {
    "duration": 3568,
    "start_time": "2023-01-30T18:43:53.675Z"
   },
   {
    "duration": 99,
    "start_time": "2023-01-30T18:43:57.245Z"
   },
   {
    "duration": 11,
    "start_time": "2023-01-30T18:43:57.347Z"
   },
   {
    "duration": 28,
    "start_time": "2023-01-30T18:43:57.359Z"
   },
   {
    "duration": 58,
    "start_time": "2023-01-30T18:43:57.389Z"
   },
   {
    "duration": 49,
    "start_time": "2023-01-30T18:43:57.448Z"
   },
   {
    "duration": 66,
    "start_time": "2023-01-30T18:43:57.498Z"
   },
   {
    "duration": 1969,
    "start_time": "2023-01-30T18:43:57.566Z"
   },
   {
    "duration": 10,
    "start_time": "2023-01-30T18:43:59.538Z"
   },
   {
    "duration": 13,
    "start_time": "2023-01-30T18:43:59.549Z"
   },
   {
    "duration": 8,
    "start_time": "2023-01-30T18:43:59.564Z"
   },
   {
    "duration": 6270,
    "start_time": "2023-01-30T18:43:59.573Z"
   },
   {
    "duration": 49,
    "start_time": "2023-01-30T18:44:05.844Z"
   },
   {
    "duration": 122,
    "start_time": "2023-01-30T18:44:17.290Z"
   },
   {
    "duration": 4,
    "start_time": "2023-01-30T18:44:20.294Z"
   },
   {
    "duration": 3,
    "start_time": "2023-01-30T18:44:23.903Z"
   },
   {
    "duration": 3,
    "start_time": "2023-01-30T18:44:24.664Z"
   },
   {
    "duration": 1415,
    "start_time": "2023-01-30T18:44:25.987Z"
   },
   {
    "duration": 44,
    "start_time": "2023-01-30T18:44:27.404Z"
   },
   {
    "duration": 0,
    "start_time": "2023-01-30T18:44:27.450Z"
   },
   {
    "duration": 78465,
    "start_time": "2023-01-30T18:44:33.303Z"
   },
   {
    "duration": 48,
    "start_time": "2023-01-30T18:46:45.263Z"
   },
   {
    "duration": 20,
    "start_time": "2023-01-30T18:46:54.391Z"
   },
   {
    "duration": 2,
    "start_time": "2023-01-30T19:14:17.383Z"
   },
   {
    "duration": 3,
    "start_time": "2023-01-30T19:14:43.675Z"
   },
   {
    "duration": 104,
    "start_time": "2023-01-30T19:16:51.481Z"
   },
   {
    "duration": 12,
    "start_time": "2023-01-30T19:17:01.479Z"
   },
   {
    "duration": 23,
    "start_time": "2023-01-30T19:20:28.528Z"
   },
   {
    "duration": 33,
    "start_time": "2023-01-30T19:20:42.528Z"
   },
   {
    "duration": 28,
    "start_time": "2023-01-30T19:21:58.203Z"
   },
   {
    "duration": 7,
    "start_time": "2023-01-30T19:22:07.413Z"
   },
   {
    "duration": 16,
    "start_time": "2023-01-30T19:22:10.425Z"
   },
   {
    "duration": 22,
    "start_time": "2023-01-30T19:22:36.534Z"
   },
   {
    "duration": 19,
    "start_time": "2023-01-30T19:22:46.401Z"
   },
   {
    "duration": 19,
    "start_time": "2023-01-30T19:22:50.529Z"
   },
   {
    "duration": 18,
    "start_time": "2023-01-30T19:23:26.422Z"
   },
   {
    "duration": 39,
    "start_time": "2023-01-30T19:24:14.835Z"
   },
   {
    "duration": 13,
    "start_time": "2023-01-30T19:26:00.043Z"
   },
   {
    "duration": 10,
    "start_time": "2023-01-30T19:28:29.943Z"
   },
   {
    "duration": 61,
    "start_time": "2023-01-30T19:31:24.259Z"
   },
   {
    "duration": 3,
    "start_time": "2023-01-30T19:32:40.271Z"
   },
   {
    "duration": 61,
    "start_time": "2023-01-30T19:33:06.950Z"
   },
   {
    "duration": 49,
    "start_time": "2023-01-30T19:42:21.087Z"
   },
   {
    "duration": 7,
    "start_time": "2023-01-30T19:42:29.922Z"
   },
   {
    "duration": 2279,
    "start_time": "2023-01-30T19:44:41.041Z"
   },
   {
    "duration": 5,
    "start_time": "2023-01-30T19:44:55.636Z"
   },
   {
    "duration": 104,
    "start_time": "2023-01-30T19:45:03.879Z"
   },
   {
    "duration": 12,
    "start_time": "2023-01-30T19:45:14.200Z"
   },
   {
    "duration": 10,
    "start_time": "2023-01-30T19:45:17.337Z"
   },
   {
    "duration": 10,
    "start_time": "2023-01-30T19:45:22.064Z"
   },
   {
    "duration": 10,
    "start_time": "2023-01-30T19:45:30.040Z"
   },
   {
    "duration": 5,
    "start_time": "2023-01-30T19:45:37.402Z"
   },
   {
    "duration": 3449,
    "start_time": "2023-01-30T19:45:37.410Z"
   },
   {
    "duration": 94,
    "start_time": "2023-01-30T19:45:40.860Z"
   },
   {
    "duration": 9,
    "start_time": "2023-01-30T19:45:40.956Z"
   },
   {
    "duration": 39,
    "start_time": "2023-01-30T19:45:40.967Z"
   },
   {
    "duration": 18,
    "start_time": "2023-01-30T19:45:41.007Z"
   },
   {
    "duration": 12,
    "start_time": "2023-01-30T19:45:41.027Z"
   },
   {
    "duration": 7,
    "start_time": "2023-01-30T19:45:41.041Z"
   },
   {
    "duration": 1878,
    "start_time": "2023-01-30T19:45:41.049Z"
   },
   {
    "duration": 9,
    "start_time": "2023-01-30T19:45:42.929Z"
   },
   {
    "duration": 5,
    "start_time": "2023-01-30T19:45:42.941Z"
   },
   {
    "duration": 9,
    "start_time": "2023-01-30T19:45:42.948Z"
   },
   {
    "duration": 6117,
    "start_time": "2023-01-30T19:45:42.959Z"
   },
   {
    "duration": 63,
    "start_time": "2023-01-30T19:45:49.078Z"
   },
   {
    "duration": 96,
    "start_time": "2023-01-30T19:45:49.143Z"
   },
   {
    "duration": 3,
    "start_time": "2023-01-30T19:45:49.241Z"
   },
   {
    "duration": 19,
    "start_time": "2023-01-30T19:45:49.246Z"
   },
   {
    "duration": 18,
    "start_time": "2023-01-30T19:45:49.267Z"
   },
   {
    "duration": 1236,
    "start_time": "2023-01-30T19:45:49.287Z"
   },
   {
    "duration": 74854,
    "start_time": "2023-01-30T19:45:50.525Z"
   },
   {
    "duration": 21,
    "start_time": "2023-01-30T19:47:05.381Z"
   },
   {
    "duration": 48,
    "start_time": "2023-01-30T19:47:05.405Z"
   },
   {
    "duration": 89,
    "start_time": "2023-01-30T19:47:05.454Z"
   },
   {
    "duration": 0,
    "start_time": "2023-01-30T19:47:05.545Z"
   },
   {
    "duration": 0,
    "start_time": "2023-01-30T19:47:05.546Z"
   },
   {
    "duration": 1,
    "start_time": "2023-01-30T19:47:05.546Z"
   },
   {
    "duration": 0,
    "start_time": "2023-01-30T19:47:05.547Z"
   },
   {
    "duration": 0,
    "start_time": "2023-01-30T19:47:05.548Z"
   },
   {
    "duration": 0,
    "start_time": "2023-01-30T19:47:05.549Z"
   },
   {
    "duration": 14,
    "start_time": "2023-01-30T19:47:17.416Z"
   },
   {
    "duration": 48,
    "start_time": "2023-01-30T19:47:21.090Z"
   },
   {
    "duration": 11,
    "start_time": "2023-01-30T19:47:21.528Z"
   },
   {
    "duration": 13,
    "start_time": "2023-01-30T19:47:26.128Z"
   },
   {
    "duration": 50,
    "start_time": "2023-01-30T19:47:26.827Z"
   },
   {
    "duration": 2339,
    "start_time": "2023-01-30T19:47:42.914Z"
   },
   {
    "duration": 3338,
    "start_time": "2023-01-30T19:47:45.255Z"
   },
   {
    "duration": 105,
    "start_time": "2023-01-30T19:47:48.595Z"
   },
   {
    "duration": 11,
    "start_time": "2023-01-30T19:47:48.701Z"
   },
   {
    "duration": 6,
    "start_time": "2023-01-30T19:47:48.714Z"
   },
   {
    "duration": 9,
    "start_time": "2023-01-30T19:47:48.722Z"
   },
   {
    "duration": 13,
    "start_time": "2023-01-30T19:47:48.733Z"
   },
   {
    "duration": 7,
    "start_time": "2023-01-30T19:47:48.747Z"
   },
   {
    "duration": 1925,
    "start_time": "2023-01-30T19:47:48.755Z"
   },
   {
    "duration": 9,
    "start_time": "2023-01-30T19:47:50.682Z"
   },
   {
    "duration": 7,
    "start_time": "2023-01-30T19:47:50.692Z"
   },
   {
    "duration": 9,
    "start_time": "2023-01-30T19:47:50.701Z"
   },
   {
    "duration": 6016,
    "start_time": "2023-01-30T19:47:50.711Z"
   },
   {
    "duration": 35,
    "start_time": "2023-01-30T19:47:56.730Z"
   },
   {
    "duration": 1474,
    "start_time": "2023-01-30T19:48:09.740Z"
   },
   {
    "duration": 820,
    "start_time": "2023-01-30T19:48:11.216Z"
   },
   {
    "duration": 117,
    "start_time": "2023-01-30T19:48:12.038Z"
   },
   {
    "duration": 9,
    "start_time": "2023-01-30T19:48:12.157Z"
   },
   {
    "duration": 8,
    "start_time": "2023-01-30T19:48:12.167Z"
   },
   {
    "duration": 18,
    "start_time": "2023-01-30T19:48:12.176Z"
   },
   {
    "duration": 16,
    "start_time": "2023-01-30T19:48:12.196Z"
   },
   {
    "duration": 10,
    "start_time": "2023-01-30T19:48:12.214Z"
   },
   {
    "duration": 1907,
    "start_time": "2023-01-30T19:48:12.226Z"
   },
   {
    "duration": 12,
    "start_time": "2023-01-30T19:48:14.137Z"
   },
   {
    "duration": 19,
    "start_time": "2023-01-30T19:48:14.151Z"
   },
   {
    "duration": 21,
    "start_time": "2023-01-30T19:48:14.174Z"
   },
   {
    "duration": 5911,
    "start_time": "2023-01-30T19:48:14.197Z"
   },
   {
    "duration": 35,
    "start_time": "2023-01-30T19:48:20.110Z"
   },
   {
    "duration": 112,
    "start_time": "2023-01-30T19:48:20.146Z"
   },
   {
    "duration": 4,
    "start_time": "2023-01-30T19:48:20.261Z"
   },
   {
    "duration": 8,
    "start_time": "2023-01-30T19:48:20.267Z"
   },
   {
    "duration": 5,
    "start_time": "2023-01-30T19:48:20.277Z"
   },
   {
    "duration": 1218,
    "start_time": "2023-01-30T19:48:20.294Z"
   },
   {
    "duration": 75128,
    "start_time": "2023-01-30T19:48:21.514Z"
   },
   {
    "duration": 18,
    "start_time": "2023-01-30T19:49:36.644Z"
   },
   {
    "duration": 1175,
    "start_time": "2023-01-30T19:49:36.664Z"
   },
   {
    "duration": 176,
    "start_time": "2023-01-30T19:49:37.841Z"
   },
   {
    "duration": 15,
    "start_time": "2023-01-30T19:49:38.019Z"
   },
   {
    "duration": 76,
    "start_time": "2023-01-30T19:49:38.038Z"
   },
   {
    "duration": 2259,
    "start_time": "2023-01-30T19:53:01.472Z"
   },
   {
    "duration": 3344,
    "start_time": "2023-01-30T19:53:03.733Z"
   },
   {
    "duration": 99,
    "start_time": "2023-01-30T19:53:07.078Z"
   },
   {
    "duration": 16,
    "start_time": "2023-01-30T19:53:07.178Z"
   },
   {
    "duration": 4,
    "start_time": "2023-01-30T19:53:07.195Z"
   },
   {
    "duration": 10,
    "start_time": "2023-01-30T19:53:07.201Z"
   },
   {
    "duration": 15,
    "start_time": "2023-01-30T19:53:07.213Z"
   },
   {
    "duration": 9,
    "start_time": "2023-01-30T19:53:07.230Z"
   },
   {
    "duration": 1889,
    "start_time": "2023-01-30T19:53:07.240Z"
   },
   {
    "duration": 15,
    "start_time": "2023-01-30T19:53:09.132Z"
   },
   {
    "duration": 6,
    "start_time": "2023-01-30T19:53:09.148Z"
   },
   {
    "duration": 6,
    "start_time": "2023-01-30T19:53:09.155Z"
   },
   {
    "duration": 5940,
    "start_time": "2023-01-30T19:53:09.163Z"
   },
   {
    "duration": 60,
    "start_time": "2023-01-30T19:53:15.105Z"
   },
   {
    "duration": 104,
    "start_time": "2023-01-30T19:53:15.167Z"
   },
   {
    "duration": 4,
    "start_time": "2023-01-30T19:53:15.273Z"
   },
   {
    "duration": 14,
    "start_time": "2023-01-30T19:53:15.279Z"
   },
   {
    "duration": 3,
    "start_time": "2023-01-30T19:53:15.296Z"
   },
   {
    "duration": 1252,
    "start_time": "2023-01-30T19:53:15.301Z"
   },
   {
    "duration": 73991,
    "start_time": "2023-01-30T19:53:16.554Z"
   },
   {
    "duration": 17,
    "start_time": "2023-01-30T19:54:30.546Z"
   },
   {
    "duration": 55,
    "start_time": "2023-01-30T19:54:30.564Z"
   },
   {
    "duration": 40,
    "start_time": "2023-01-30T19:54:30.621Z"
   },
   {
    "duration": 31,
    "start_time": "2023-01-30T19:54:30.663Z"
   },
   {
    "duration": 99,
    "start_time": "2023-01-30T19:54:30.696Z"
   },
   {
    "duration": 45,
    "start_time": "2023-01-30T19:54:53.444Z"
   },
   {
    "duration": 5,
    "start_time": "2023-01-30T19:55:22.941Z"
   },
   {
    "duration": 1956,
    "start_time": "2023-02-05T19:29:25.998Z"
   },
   {
    "duration": 51,
    "start_time": "2023-02-05T19:35:01.772Z"
   },
   {
    "duration": 53,
    "start_time": "2023-02-05T19:36:19.168Z"
   },
   {
    "duration": 159,
    "start_time": "2023-02-05T19:36:28.579Z"
   },
   {
    "duration": 5,
    "start_time": "2023-02-05T19:36:48.390Z"
   },
   {
    "duration": 47,
    "start_time": "2023-02-05T19:36:52.455Z"
   },
   {
    "duration": 3342,
    "start_time": "2023-02-05T19:37:04.106Z"
   },
   {
    "duration": 883,
    "start_time": "2023-02-05T19:37:12.410Z"
   },
   {
    "duration": 32,
    "start_time": "2023-02-05T19:37:27.263Z"
   },
   {
    "duration": 22,
    "start_time": "2023-02-05T19:37:32.087Z"
   },
   {
    "duration": 5,
    "start_time": "2023-02-05T19:37:34.277Z"
   },
   {
    "duration": 694,
    "start_time": "2023-02-05T19:37:38.417Z"
   },
   {
    "duration": 89,
    "start_time": "2023-02-05T19:38:00.610Z"
   },
   {
    "duration": 12,
    "start_time": "2023-02-05T19:39:18.869Z"
   },
   {
    "duration": 12,
    "start_time": "2023-02-05T19:39:25.330Z"
   },
   {
    "duration": 30,
    "start_time": "2023-02-05T19:45:34.270Z"
   },
   {
    "duration": 183,
    "start_time": "2023-02-05T19:45:34.726Z"
   },
   {
    "duration": 3,
    "start_time": "2023-02-05T19:45:35.815Z"
   },
   {
    "duration": 4,
    "start_time": "2023-02-05T19:45:38.848Z"
   },
   {
    "duration": 4,
    "start_time": "2023-02-05T19:45:39.622Z"
   },
   {
    "duration": 15399,
    "start_time": "2023-02-05T19:45:40.844Z"
   },
   {
    "duration": 4,
    "start_time": "2023-02-05T19:45:56.246Z"
   },
   {
    "duration": 5,
    "start_time": "2023-02-05T19:45:56.252Z"
   },
   {
    "duration": 3369,
    "start_time": "2023-02-05T19:45:56.259Z"
   },
   {
    "duration": 33,
    "start_time": "2023-02-05T19:45:59.630Z"
   },
   {
    "duration": 302440,
    "start_time": "2023-02-05T19:45:59.665Z"
   },
   {
    "duration": 5,
    "start_time": "2023-02-05T19:51:02.107Z"
   },
   {
    "duration": 50,
    "start_time": "2023-02-05T19:51:39.968Z"
   },
   {
    "duration": 52,
    "start_time": "2023-02-05T19:51:47.432Z"
   },
   {
    "duration": 46,
    "start_time": "2023-02-05T19:51:56.113Z"
   },
   {
    "duration": 5520,
    "start_time": "2023-02-05T19:52:35.058Z"
   },
   {
    "duration": 47,
    "start_time": "2023-02-05T19:58:52.015Z"
   },
   {
    "duration": 13,
    "start_time": "2023-02-05T20:26:20.490Z"
   },
   {
    "duration": 7,
    "start_time": "2023-02-05T20:26:31.572Z"
   },
   {
    "duration": 926,
    "start_time": "2023-02-05T20:26:31.582Z"
   },
   {
    "duration": 33,
    "start_time": "2023-02-05T20:26:32.510Z"
   },
   {
    "duration": 13,
    "start_time": "2023-02-05T20:26:32.545Z"
   },
   {
    "duration": 6,
    "start_time": "2023-02-05T20:26:32.584Z"
   },
   {
    "duration": 101,
    "start_time": "2023-02-05T20:26:32.591Z"
   },
   {
    "duration": 43,
    "start_time": "2023-02-05T20:26:32.694Z"
   },
   {
    "duration": 207,
    "start_time": "2023-02-05T20:26:32.739Z"
   },
   {
    "duration": 4,
    "start_time": "2023-02-05T20:26:32.949Z"
   },
   {
    "duration": 6,
    "start_time": "2023-02-05T20:26:32.955Z"
   },
   {
    "duration": 23,
    "start_time": "2023-02-05T20:26:32.964Z"
   },
   {
    "duration": 15266,
    "start_time": "2023-02-05T20:26:32.990Z"
   },
   {
    "duration": 5,
    "start_time": "2023-02-05T20:26:48.258Z"
   },
   {
    "duration": 19,
    "start_time": "2023-02-05T20:26:48.265Z"
   },
   {
    "duration": 67,
    "start_time": "2023-02-05T20:26:48.286Z"
   },
   {
    "duration": 11,
    "start_time": "2023-02-05T20:26:48.355Z"
   },
   {
    "duration": 12,
    "start_time": "2023-02-05T20:27:11.030Z"
   },
   {
    "duration": 36,
    "start_time": "2023-02-05T20:27:53.818Z"
   },
   {
    "duration": 5,
    "start_time": "2023-02-05T20:28:09.691Z"
   },
   {
    "duration": 609,
    "start_time": "2023-02-05T20:28:32.818Z"
   },
   {
    "duration": 1662,
    "start_time": "2023-02-05T20:36:34.264Z"
   },
   {
    "duration": 23,
    "start_time": "2023-02-05T20:38:38.539Z"
   },
   {
    "duration": 25,
    "start_time": "2023-02-05T20:39:04.830Z"
   },
   {
    "duration": 20567,
    "start_time": "2023-02-05T20:41:19.051Z"
   },
   {
    "duration": 3749,
    "start_time": "2023-02-05T20:42:01.992Z"
   },
   {
    "duration": 3626,
    "start_time": "2023-02-05T20:44:54.546Z"
   },
   {
    "duration": 2978,
    "start_time": "2023-02-05T20:45:05.697Z"
   },
   {
    "duration": 3,
    "start_time": "2023-02-05T21:11:12.750Z"
   },
   {
    "duration": 4,
    "start_time": "2023-02-05T21:11:17.750Z"
   },
   {
    "duration": 17,
    "start_time": "2023-02-05T21:11:26.239Z"
   },
   {
    "duration": 45,
    "start_time": "2023-02-05T21:12:01.137Z"
   },
   {
    "duration": 123,
    "start_time": "2023-02-05T21:12:14.822Z"
   },
   {
    "duration": 36,
    "start_time": "2023-02-05T21:12:37.313Z"
   },
   {
    "duration": 0,
    "start_time": "2023-02-05T21:25:06.539Z"
   },
   {
    "duration": 1833,
    "start_time": "2023-02-05T21:27:16.247Z"
   },
   {
    "duration": 3476,
    "start_time": "2023-02-05T21:27:18.082Z"
   },
   {
    "duration": 35,
    "start_time": "2023-02-05T21:27:21.561Z"
   },
   {
    "duration": 22,
    "start_time": "2023-02-05T21:27:21.598Z"
   },
   {
    "duration": 6,
    "start_time": "2023-02-05T21:27:21.621Z"
   },
   {
    "duration": 101,
    "start_time": "2023-02-05T21:27:21.629Z"
   },
   {
    "duration": 31,
    "start_time": "2023-02-05T21:27:21.732Z"
   },
   {
    "duration": 214,
    "start_time": "2023-02-05T21:27:21.765Z"
   },
   {
    "duration": 4,
    "start_time": "2023-02-05T21:27:21.983Z"
   },
   {
    "duration": 9,
    "start_time": "2023-02-05T21:27:21.990Z"
   },
   {
    "duration": 13,
    "start_time": "2023-02-05T21:27:22.001Z"
   },
   {
    "duration": 15159,
    "start_time": "2023-02-05T21:27:22.016Z"
   },
   {
    "duration": 8,
    "start_time": "2023-02-05T21:27:37.177Z"
   },
   {
    "duration": 19422,
    "start_time": "2023-02-05T21:27:52.615Z"
   },
   {
    "duration": 3687,
    "start_time": "2023-02-05T21:28:14.815Z"
   },
   {
    "duration": 19700,
    "start_time": "2023-02-05T21:29:55.016Z"
   },
   {
    "duration": 20291,
    "start_time": "2023-02-05T21:30:36.216Z"
   },
   {
    "duration": 452,
    "start_time": "2023-02-05T21:33:31.597Z"
   },
   {
    "duration": 48,
    "start_time": "2023-02-05T21:35:49.457Z"
   },
   {
    "duration": 7,
    "start_time": "2023-02-05T21:36:14.207Z"
   },
   {
    "duration": 3488,
    "start_time": "2023-02-05T21:36:25.965Z"
   },
   {
    "duration": 3208,
    "start_time": "2023-02-05T21:37:09.024Z"
   },
   {
    "duration": 3649,
    "start_time": "2023-02-05T21:37:29.408Z"
   },
   {
    "duration": 3421,
    "start_time": "2023-02-05T21:37:59.214Z"
   },
   {
    "duration": 2901,
    "start_time": "2023-02-05T21:39:02.795Z"
   },
   {
    "duration": 2883,
    "start_time": "2023-02-05T21:39:11.455Z"
   },
   {
    "duration": 3058,
    "start_time": "2023-02-05T21:40:49.941Z"
   },
   {
    "duration": 3134,
    "start_time": "2023-02-05T21:41:08.334Z"
   },
   {
    "duration": 3020,
    "start_time": "2023-02-05T21:41:20.789Z"
   },
   {
    "duration": 3209,
    "start_time": "2023-02-05T21:41:27.358Z"
   },
   {
    "duration": 3334,
    "start_time": "2023-02-05T21:43:00.569Z"
   },
   {
    "duration": 3085,
    "start_time": "2023-02-05T21:43:14.816Z"
   },
   {
    "duration": 3165,
    "start_time": "2023-02-05T21:46:14.762Z"
   },
   {
    "duration": 3023,
    "start_time": "2023-02-05T21:46:21.863Z"
   },
   {
    "duration": 3054,
    "start_time": "2023-02-05T21:46:31.335Z"
   },
   {
    "duration": 3068,
    "start_time": "2023-02-05T21:46:44.474Z"
   },
   {
    "duration": 3050,
    "start_time": "2023-02-05T21:46:50.950Z"
   },
   {
    "duration": 3119,
    "start_time": "2023-02-05T21:47:04.889Z"
   },
   {
    "duration": 3132,
    "start_time": "2023-02-05T21:47:17.140Z"
   },
   {
    "duration": 3209,
    "start_time": "2023-02-05T21:47:23.443Z"
   },
   {
    "duration": 10404,
    "start_time": "2023-02-05T21:47:35.525Z"
   },
   {
    "duration": 3325,
    "start_time": "2023-02-05T21:47:54.805Z"
   },
   {
    "duration": 3463,
    "start_time": "2023-02-05T21:49:56.888Z"
   },
   {
    "duration": 48,
    "start_time": "2023-02-05T21:51:37.755Z"
   },
   {
    "duration": 15,
    "start_time": "2023-02-05T21:55:57.459Z"
   },
   {
    "duration": 195,
    "start_time": "2023-02-05T21:56:20.199Z"
   },
   {
    "duration": 167,
    "start_time": "2023-02-05T21:56:26.980Z"
   },
   {
    "duration": 176,
    "start_time": "2023-02-05T21:56:31.325Z"
   },
   {
    "duration": 18,
    "start_time": "2023-02-05T21:57:02.136Z"
   },
   {
    "duration": 209,
    "start_time": "2023-02-05T21:58:10.850Z"
   },
   {
    "duration": 145,
    "start_time": "2023-02-05T21:58:23.719Z"
   },
   {
    "duration": 411,
    "start_time": "2023-02-05T21:58:32.835Z"
   },
   {
    "duration": 137,
    "start_time": "2023-02-05T21:58:51.593Z"
   },
   {
    "duration": 61,
    "start_time": "2023-02-05T21:59:06.883Z"
   },
   {
    "duration": 57,
    "start_time": "2023-02-05T21:59:25.148Z"
   },
   {
    "duration": 86,
    "start_time": "2023-02-05T21:59:30.969Z"
   },
   {
    "duration": 80,
    "start_time": "2023-02-05T21:59:44.723Z"
   },
   {
    "duration": 84,
    "start_time": "2023-02-05T21:59:54.599Z"
   },
   {
    "duration": 56,
    "start_time": "2023-02-05T22:00:29.146Z"
   },
   {
    "duration": 50,
    "start_time": "2023-02-05T22:02:06.723Z"
   },
   {
    "duration": 56,
    "start_time": "2023-02-05T22:02:25.461Z"
   },
   {
    "duration": 88,
    "start_time": "2023-02-05T22:03:57.222Z"
   },
   {
    "duration": 80,
    "start_time": "2023-02-05T22:04:18.265Z"
   },
   {
    "duration": 90,
    "start_time": "2023-02-05T22:04:43.368Z"
   },
   {
    "duration": 6,
    "start_time": "2023-02-05T22:05:12.959Z"
   },
   {
    "duration": 7,
    "start_time": "2023-02-05T22:05:23.237Z"
   },
   {
    "duration": 7,
    "start_time": "2023-02-05T22:05:36.542Z"
   },
   {
    "duration": 909,
    "start_time": "2023-02-05T22:05:36.551Z"
   },
   {
    "duration": 48,
    "start_time": "2023-02-05T22:05:37.462Z"
   },
   {
    "duration": 23,
    "start_time": "2023-02-05T22:05:37.511Z"
   },
   {
    "duration": 31,
    "start_time": "2023-02-05T22:05:37.536Z"
   },
   {
    "duration": 104,
    "start_time": "2023-02-05T22:05:37.570Z"
   },
   {
    "duration": 36,
    "start_time": "2023-02-05T22:05:37.676Z"
   },
   {
    "duration": 221,
    "start_time": "2023-02-05T22:05:37.714Z"
   },
   {
    "duration": 4,
    "start_time": "2023-02-05T22:05:37.937Z"
   },
   {
    "duration": 10,
    "start_time": "2023-02-05T22:05:37.943Z"
   },
   {
    "duration": 14,
    "start_time": "2023-02-05T22:05:37.956Z"
   },
   {
    "duration": 17655,
    "start_time": "2023-02-05T22:05:37.971Z"
   },
   {
    "duration": 5,
    "start_time": "2023-02-05T22:05:55.628Z"
   },
   {
    "duration": 8,
    "start_time": "2023-02-05T22:05:55.636Z"
   },
   {
    "duration": 2888,
    "start_time": "2023-02-05T22:05:55.645Z"
   },
   {
    "duration": 11,
    "start_time": "2023-02-05T22:05:58.535Z"
   },
   {
    "duration": 14049,
    "start_time": "2023-02-05T22:05:58.548Z"
   },
   {
    "duration": 4,
    "start_time": "2023-02-05T22:06:12.599Z"
   },
   {
    "duration": 82,
    "start_time": "2023-02-05T22:06:18.878Z"
   },
   {
    "duration": 5,
    "start_time": "2023-02-05T22:07:39.920Z"
   },
   {
    "duration": 4,
    "start_time": "2023-02-05T22:07:56.822Z"
   },
   {
    "duration": 1379,
    "start_time": "2023-02-05T22:08:36.743Z"
   },
   {
    "duration": 929,
    "start_time": "2023-02-05T22:08:38.124Z"
   },
   {
    "duration": 37,
    "start_time": "2023-02-05T22:08:39.055Z"
   },
   {
    "duration": 18,
    "start_time": "2023-02-05T22:08:39.095Z"
   },
   {
    "duration": 4,
    "start_time": "2023-02-05T22:08:39.115Z"
   },
   {
    "duration": 109,
    "start_time": "2023-02-05T22:08:39.121Z"
   },
   {
    "duration": 32,
    "start_time": "2023-02-05T22:08:39.231Z"
   },
   {
    "duration": 227,
    "start_time": "2023-02-05T22:08:39.265Z"
   },
   {
    "duration": 4,
    "start_time": "2023-02-05T22:08:52.510Z"
   },
   {
    "duration": 4,
    "start_time": "2023-02-05T22:09:36.309Z"
   },
   {
    "duration": 5,
    "start_time": "2023-02-05T22:10:17.647Z"
   },
   {
    "duration": 1014,
    "start_time": "2023-02-05T22:10:17.656Z"
   },
   {
    "duration": 39,
    "start_time": "2023-02-05T22:10:18.672Z"
   },
   {
    "duration": 12,
    "start_time": "2023-02-05T22:10:18.713Z"
   },
   {
    "duration": 5,
    "start_time": "2023-02-05T22:10:18.727Z"
   },
   {
    "duration": 110,
    "start_time": "2023-02-05T22:10:18.733Z"
   },
   {
    "duration": 63,
    "start_time": "2023-02-05T22:10:18.846Z"
   },
   {
    "duration": 202,
    "start_time": "2023-02-05T22:10:18.911Z"
   },
   {
    "duration": 4,
    "start_time": "2023-02-05T22:10:19.115Z"
   },
   {
    "duration": 5,
    "start_time": "2023-02-05T22:10:19.120Z"
   },
   {
    "duration": 13,
    "start_time": "2023-02-05T22:10:19.128Z"
   },
   {
    "duration": 17068,
    "start_time": "2023-02-05T22:10:19.142Z"
   },
   {
    "duration": 5,
    "start_time": "2023-02-05T22:10:36.212Z"
   },
   {
    "duration": 3,
    "start_time": "2023-02-05T22:10:46.800Z"
   },
   {
    "duration": 4,
    "start_time": "2023-02-05T22:10:56.963Z"
   },
   {
    "duration": 79,
    "start_time": "2023-02-05T22:11:01.164Z"
   },
   {
    "duration": 5,
    "start_time": "2023-02-05T22:11:18.449Z"
   },
   {
    "duration": 6,
    "start_time": "2023-02-05T22:11:24.939Z"
   },
   {
    "duration": 5,
    "start_time": "2023-02-05T22:11:54.077Z"
   },
   {
    "duration": 56,
    "start_time": "2023-02-05T22:13:43.486Z"
   },
   {
    "duration": 50,
    "start_time": "2023-02-05T22:15:55.340Z"
   },
   {
    "duration": 56,
    "start_time": "2023-02-05T22:16:02.314Z"
   },
   {
    "duration": 61,
    "start_time": "2023-02-05T22:16:45.876Z"
   },
   {
    "duration": 57,
    "start_time": "2023-02-05T22:17:03.971Z"
   },
   {
    "duration": 61,
    "start_time": "2023-02-05T22:17:13.055Z"
   },
   {
    "duration": 79,
    "start_time": "2023-02-05T22:17:36.909Z"
   },
   {
    "duration": 78,
    "start_time": "2023-02-05T22:17:40.793Z"
   },
   {
    "duration": 95,
    "start_time": "2023-02-05T22:18:04.838Z"
   },
   {
    "duration": 138,
    "start_time": "2023-02-05T22:18:12.376Z"
   },
   {
    "duration": 96,
    "start_time": "2023-02-05T22:18:35.340Z"
   },
   {
    "duration": 1345,
    "start_time": "2023-02-05T22:19:41.189Z"
   },
   {
    "duration": 17915,
    "start_time": "2023-02-05T22:19:43.543Z"
   },
   {
    "duration": 116,
    "start_time": "2023-02-05T22:20:38.378Z"
   },
   {
    "duration": 399,
    "start_time": "2023-02-05T22:21:26.890Z"
   },
   {
    "duration": 3386,
    "start_time": "2023-02-05T22:21:40.370Z"
   },
   {
    "duration": 717,
    "start_time": "2023-02-05T22:21:47.447Z"
   },
   {
    "duration": 1361,
    "start_time": "2023-02-05T22:23:56.161Z"
   },
   {
    "duration": 1307,
    "start_time": "2023-02-05T22:24:23.000Z"
   },
   {
    "duration": 18334,
    "start_time": "2023-02-05T22:24:24.785Z"
   },
   {
    "duration": 3144,
    "start_time": "2023-02-05T22:25:52.526Z"
   },
   {
    "duration": 3034,
    "start_time": "2023-02-05T22:27:14.527Z"
   },
   {
    "duration": 536,
    "start_time": "2023-02-05T22:27:21.341Z"
   },
   {
    "duration": 256,
    "start_time": "2023-02-05T22:48:15.881Z"
   },
   {
    "duration": 55,
    "start_time": "2023-02-05T22:52:32.191Z"
   },
   {
    "duration": 66,
    "start_time": "2023-02-05T23:24:40.228Z"
   },
   {
    "duration": 1547,
    "start_time": "2023-02-05T23:48:55.448Z"
   },
   {
    "duration": 954,
    "start_time": "2023-02-05T23:48:56.998Z"
   },
   {
    "duration": 39,
    "start_time": "2023-02-05T23:48:57.954Z"
   },
   {
    "duration": 15,
    "start_time": "2023-02-05T23:48:57.995Z"
   },
   {
    "duration": 4,
    "start_time": "2023-02-05T23:48:58.012Z"
   },
   {
    "duration": 106,
    "start_time": "2023-02-05T23:48:58.017Z"
   },
   {
    "duration": 31,
    "start_time": "2023-02-05T23:48:58.125Z"
   },
   {
    "duration": 217,
    "start_time": "2023-02-05T23:48:58.158Z"
   },
   {
    "duration": 8,
    "start_time": "2023-02-05T23:48:58.377Z"
   },
   {
    "duration": 6,
    "start_time": "2023-02-05T23:48:58.387Z"
   },
   {
    "duration": 17,
    "start_time": "2023-02-05T23:48:58.395Z"
   },
   {
    "duration": 14688,
    "start_time": "2023-02-05T23:48:58.414Z"
   },
   {
    "duration": 5,
    "start_time": "2023-02-05T23:49:13.104Z"
   },
   {
    "duration": 38,
    "start_time": "2023-02-05T23:49:32.828Z"
   },
   {
    "duration": 63,
    "start_time": "2023-02-05T23:49:34.691Z"
   },
   {
    "duration": 2,
    "start_time": "2023-02-05T23:49:55.021Z"
   },
   {
    "duration": 3013,
    "start_time": "2023-02-05T23:50:08.995Z"
   },
   {
    "duration": 4,
    "start_time": "2023-02-05T23:50:24.831Z"
   },
   {
    "duration": 3729,
    "start_time": "2023-02-05T23:50:31.477Z"
   },
   {
    "duration": 51,
    "start_time": "2023-02-05T23:50:53.737Z"
   },
   {
    "duration": 45,
    "start_time": "2023-02-05T23:51:22.295Z"
   },
   {
    "duration": 178,
    "start_time": "2023-02-05T23:51:30.241Z"
   },
   {
    "duration": 41,
    "start_time": "2023-02-05T23:52:23.231Z"
   },
   {
    "duration": 40,
    "start_time": "2023-02-05T23:53:18.348Z"
   },
   {
    "duration": 39,
    "start_time": "2023-02-05T23:53:36.142Z"
   },
   {
    "duration": 39,
    "start_time": "2023-02-05T23:53:44.289Z"
   },
   {
    "duration": 36515,
    "start_time": "2023-02-05T23:55:22.074Z"
   },
   {
    "duration": 37316,
    "start_time": "2023-02-05T23:56:04.575Z"
   },
   {
    "duration": 36433,
    "start_time": "2023-02-05T23:56:43.756Z"
   },
   {
    "duration": 32531,
    "start_time": "2023-02-06T00:01:06.761Z"
   },
   {
    "duration": 4,
    "start_time": "2023-02-06T00:02:59.157Z"
   },
   {
    "duration": 1113,
    "start_time": "2023-02-06T00:03:46.916Z"
   },
   {
    "duration": 1166,
    "start_time": "2023-02-06T00:05:09.265Z"
   },
   {
    "duration": 11,
    "start_time": "2023-02-06T00:10:37.002Z"
   },
   {
    "duration": 6,
    "start_time": "2023-02-06T00:11:13.970Z"
   },
   {
    "duration": 1874,
    "start_time": "2023-02-06T12:34:45.463Z"
   },
   {
    "duration": 4,
    "start_time": "2023-02-06T12:44:57.126Z"
   },
   {
    "duration": 45,
    "start_time": "2023-02-06T12:52:57.431Z"
   },
   {
    "duration": 120,
    "start_time": "2023-02-06T12:54:57.559Z"
   },
   {
    "duration": 47,
    "start_time": "2023-02-06T12:59:44.231Z"
   },
   {
    "duration": 50,
    "start_time": "2023-02-06T13:01:43.792Z"
   },
   {
    "duration": 1657,
    "start_time": "2023-02-06T13:10:01.060Z"
   },
   {
    "duration": 4038,
    "start_time": "2023-02-06T13:10:02.719Z"
   },
   {
    "duration": 32,
    "start_time": "2023-02-06T13:10:06.758Z"
   },
   {
    "duration": 16,
    "start_time": "2023-02-06T13:10:06.793Z"
   },
   {
    "duration": 5,
    "start_time": "2023-02-06T13:10:06.811Z"
   },
   {
    "duration": 90,
    "start_time": "2023-02-06T13:10:06.818Z"
   },
   {
    "duration": 30,
    "start_time": "2023-02-06T13:10:06.910Z"
   },
   {
    "duration": 215,
    "start_time": "2023-02-06T13:10:06.941Z"
   },
   {
    "duration": 4,
    "start_time": "2023-02-06T13:10:07.159Z"
   },
   {
    "duration": 23,
    "start_time": "2023-02-06T13:10:07.167Z"
   },
   {
    "duration": 21,
    "start_time": "2023-02-06T13:10:07.192Z"
   },
   {
    "duration": 8034,
    "start_time": "2023-02-06T13:10:07.216Z"
   },
   {
    "duration": 4,
    "start_time": "2023-02-06T13:10:15.252Z"
   },
   {
    "duration": 18,
    "start_time": "2023-02-06T13:10:15.258Z"
   },
   {
    "duration": 3277,
    "start_time": "2023-02-06T13:10:15.278Z"
   },
   {
    "duration": 22,
    "start_time": "2023-02-06T13:10:18.557Z"
   },
   {
    "duration": 59,
    "start_time": "2023-02-06T13:12:13.932Z"
   },
   {
    "duration": 1511,
    "start_time": "2023-02-06T13:12:27.200Z"
   },
   {
    "duration": 757,
    "start_time": "2023-02-06T13:12:28.713Z"
   },
   {
    "duration": 32,
    "start_time": "2023-02-06T13:12:29.472Z"
   },
   {
    "duration": 16,
    "start_time": "2023-02-06T13:12:29.506Z"
   },
   {
    "duration": 12,
    "start_time": "2023-02-06T13:12:29.523Z"
   },
   {
    "duration": 88,
    "start_time": "2023-02-06T13:12:29.536Z"
   },
   {
    "duration": 28,
    "start_time": "2023-02-06T13:12:29.625Z"
   },
   {
    "duration": 192,
    "start_time": "2023-02-06T13:12:29.655Z"
   },
   {
    "duration": 3,
    "start_time": "2023-02-06T13:12:29.849Z"
   },
   {
    "duration": 8,
    "start_time": "2023-02-06T13:12:29.855Z"
   },
   {
    "duration": 10,
    "start_time": "2023-02-06T13:12:29.865Z"
   },
   {
    "duration": 12991,
    "start_time": "2023-02-06T13:12:29.877Z"
   },
   {
    "duration": 11,
    "start_time": "2023-02-06T13:12:42.870Z"
   },
   {
    "duration": 16,
    "start_time": "2023-02-06T13:12:42.883Z"
   },
   {
    "duration": 1766,
    "start_time": "2023-02-06T13:12:42.900Z"
   },
   {
    "duration": 16,
    "start_time": "2023-02-06T13:12:44.668Z"
   },
   {
    "duration": 298473,
    "start_time": "2023-02-06T13:12:44.686Z"
   },
   {
    "duration": 4,
    "start_time": "2023-02-06T13:17:43.161Z"
   },
   {
    "duration": 101,
    "start_time": "2023-02-06T13:17:43.166Z"
   },
   {
    "duration": 1185,
    "start_time": "2023-02-06T13:17:43.269Z"
   },
   {
    "duration": 14993,
    "start_time": "2023-02-06T13:17:44.456Z"
   },
   {
    "duration": 2910,
    "start_time": "2023-02-06T13:17:59.451Z"
   },
   {
    "duration": 504,
    "start_time": "2023-02-06T13:18:02.362Z"
   },
   {
    "duration": 46,
    "start_time": "2023-02-06T13:18:02.867Z"
   },
   {
    "duration": 60,
    "start_time": "2023-02-06T13:18:02.915Z"
   },
   {
    "duration": 2,
    "start_time": "2023-02-06T13:18:02.977Z"
   },
   {
    "duration": 2713,
    "start_time": "2023-02-06T13:18:02.981Z"
   },
   {
    "duration": 3,
    "start_time": "2023-02-06T13:18:05.700Z"
   },
   {
    "duration": 3730,
    "start_time": "2023-02-06T13:18:05.705Z"
   },
   {
    "duration": 2,
    "start_time": "2023-02-06T13:18:09.437Z"
   },
   {
    "duration": 16,
    "start_time": "2023-02-06T13:18:09.441Z"
   },
   {
    "duration": 90,
    "start_time": "2023-02-06T13:18:09.459Z"
   },
   {
    "duration": 0,
    "start_time": "2023-02-06T13:18:09.551Z"
   },
   {
    "duration": 0,
    "start_time": "2023-02-06T13:18:09.552Z"
   },
   {
    "duration": 0,
    "start_time": "2023-02-06T13:18:09.553Z"
   },
   {
    "duration": 0,
    "start_time": "2023-02-06T13:18:09.554Z"
   },
   {
    "duration": 0,
    "start_time": "2023-02-06T13:18:09.555Z"
   },
   {
    "duration": 4,
    "start_time": "2023-02-06T13:20:58.015Z"
   },
   {
    "duration": 54,
    "start_time": "2023-02-06T13:21:12.907Z"
   },
   {
    "duration": 3,
    "start_time": "2023-02-06T13:21:56.667Z"
   },
   {
    "duration": 57,
    "start_time": "2023-02-06T13:21:59.118Z"
   },
   {
    "duration": 4,
    "start_time": "2023-02-06T13:22:32.419Z"
   },
   {
    "duration": 54,
    "start_time": "2023-02-06T13:22:33.475Z"
   },
   {
    "duration": 3,
    "start_time": "2023-02-06T13:25:46.496Z"
   },
   {
    "duration": 3,
    "start_time": "2023-02-06T13:25:49.766Z"
   },
   {
    "duration": 65,
    "start_time": "2023-02-06T13:25:51.312Z"
   },
   {
    "duration": 11,
    "start_time": "2023-02-06T13:29:31.097Z"
   },
   {
    "duration": 2,
    "start_time": "2023-02-06T13:29:36.076Z"
   },
   {
    "duration": 3,
    "start_time": "2023-02-06T13:29:40.586Z"
   },
   {
    "duration": 54197,
    "start_time": "2023-02-06T13:29:43.706Z"
   },
   {
    "duration": 4,
    "start_time": "2023-02-06T13:33:03.053Z"
   },
   {
    "duration": 13477,
    "start_time": "2023-02-06T13:33:06.159Z"
   },
   {
    "duration": 108078,
    "start_time": "2023-02-06T13:33:29.932Z"
   },
   {
    "duration": 4,
    "start_time": "2023-02-06T13:35:52.273Z"
   },
   {
    "duration": 9945,
    "start_time": "2023-02-06T13:35:55.896Z"
   },
   {
    "duration": 3,
    "start_time": "2023-02-06T13:36:25.984Z"
   },
   {
    "duration": 74242,
    "start_time": "2023-02-06T13:36:27.258Z"
   },
   {
    "duration": 3,
    "start_time": "2023-02-06T13:37:57.240Z"
   },
   {
    "duration": 4,
    "start_time": "2023-02-06T13:38:12.017Z"
   },
   {
    "duration": 61,
    "start_time": "2023-02-06T13:38:12.849Z"
   },
   {
    "duration": 3,
    "start_time": "2023-02-06T13:38:33.983Z"
   },
   {
    "duration": 4,
    "start_time": "2023-02-06T13:38:37.419Z"
   },
   {
    "duration": 130839,
    "start_time": "2023-02-06T13:38:38.269Z"
   },
   {
    "duration": 5,
    "start_time": "2023-02-06T13:40:49.110Z"
   },
   {
    "duration": 3,
    "start_time": "2023-02-06T13:40:59.827Z"
   },
   {
    "duration": 57,
    "start_time": "2023-02-06T13:41:03.484Z"
   },
   {
    "duration": 6,
    "start_time": "2023-02-06T13:41:10.005Z"
   },
   {
    "duration": 4,
    "start_time": "2023-02-06T13:41:36.139Z"
   },
   {
    "duration": 130977,
    "start_time": "2023-02-06T13:41:38.927Z"
   },
   {
    "duration": 4,
    "start_time": "2023-02-06T13:44:15.239Z"
   },
   {
    "duration": 3,
    "start_time": "2023-02-06T13:44:16.818Z"
   },
   {
    "duration": 6,
    "start_time": "2023-02-06T13:44:45.590Z"
   },
   {
    "duration": 9,
    "start_time": "2023-02-06T13:45:38.317Z"
   },
   {
    "duration": 9,
    "start_time": "2023-02-06T13:45:57.873Z"
   },
   {
    "duration": 10,
    "start_time": "2023-02-06T13:46:19.040Z"
   },
   {
    "duration": 4,
    "start_time": "2023-02-06T13:46:32.507Z"
   },
   {
    "duration": 5,
    "start_time": "2023-02-06T13:46:56.122Z"
   },
   {
    "duration": 6,
    "start_time": "2023-02-06T13:48:42.265Z"
   },
   {
    "duration": 7,
    "start_time": "2023-02-06T13:49:07.102Z"
   },
   {
    "duration": 28,
    "start_time": "2023-02-06T13:49:45.035Z"
   },
   {
    "duration": 13,
    "start_time": "2023-02-06T13:50:07.744Z"
   },
   {
    "duration": 12,
    "start_time": "2023-02-06T13:50:32.880Z"
   },
   {
    "duration": 13,
    "start_time": "2023-02-06T13:50:54.622Z"
   },
   {
    "duration": 4,
    "start_time": "2023-02-06T13:51:47.354Z"
   },
   {
    "duration": 6,
    "start_time": "2023-02-06T13:52:00.108Z"
   },
   {
    "duration": 13,
    "start_time": "2023-02-06T13:52:00.822Z"
   },
   {
    "duration": 26,
    "start_time": "2023-02-06T13:52:16.192Z"
   },
   {
    "duration": 4,
    "start_time": "2023-02-06T13:52:58.093Z"
   },
   {
    "duration": 7,
    "start_time": "2023-02-06T13:53:01.031Z"
   },
   {
    "duration": 5,
    "start_time": "2023-02-06T13:53:10.287Z"
   },
   {
    "duration": 4,
    "start_time": "2023-02-06T13:53:14.093Z"
   },
   {
    "duration": 3,
    "start_time": "2023-02-06T13:53:15.260Z"
   },
   {
    "duration": 9,
    "start_time": "2023-02-06T13:53:17.963Z"
   },
   {
    "duration": 9,
    "start_time": "2023-02-06T13:53:18.576Z"
   },
   {
    "duration": 5,
    "start_time": "2023-02-06T13:53:38.812Z"
   },
   {
    "duration": 7,
    "start_time": "2023-02-06T13:53:42.710Z"
   },
   {
    "duration": 8,
    "start_time": "2023-02-06T13:53:44.540Z"
   },
   {
    "duration": 4,
    "start_time": "2023-02-06T13:54:12.805Z"
   },
   {
    "duration": 7,
    "start_time": "2023-02-06T13:54:15.821Z"
   },
   {
    "duration": 11,
    "start_time": "2023-02-06T13:54:16.331Z"
   },
   {
    "duration": 5,
    "start_time": "2023-02-06T14:04:11.919Z"
   },
   {
    "duration": 1791,
    "start_time": "2023-02-06T20:42:38.860Z"
   },
   {
    "duration": 3712,
    "start_time": "2023-02-06T20:42:40.653Z"
   },
   {
    "duration": 33,
    "start_time": "2023-02-06T20:42:44.367Z"
   },
   {
    "duration": 17,
    "start_time": "2023-02-06T20:42:44.403Z"
   },
   {
    "duration": 24,
    "start_time": "2023-02-06T20:42:44.422Z"
   },
   {
    "duration": 80,
    "start_time": "2023-02-06T20:42:44.448Z"
   },
   {
    "duration": 35,
    "start_time": "2023-02-06T20:42:44.530Z"
   },
   {
    "duration": 226,
    "start_time": "2023-02-06T20:42:44.567Z"
   },
   {
    "duration": 5,
    "start_time": "2023-02-06T20:42:44.795Z"
   },
   {
    "duration": 11,
    "start_time": "2023-02-06T20:42:44.802Z"
   },
   {
    "duration": 25,
    "start_time": "2023-02-06T20:42:44.815Z"
   },
   {
    "duration": 16218,
    "start_time": "2023-02-06T20:42:44.842Z"
   },
   {
    "duration": 4,
    "start_time": "2023-02-06T20:43:01.062Z"
   },
   {
    "duration": 21,
    "start_time": "2023-02-06T20:43:01.067Z"
   },
   {
    "duration": 3474,
    "start_time": "2023-02-06T20:43:01.090Z"
   },
   {
    "duration": 17,
    "start_time": "2023-02-06T20:43:04.566Z"
   },
   {
    "duration": 316675,
    "start_time": "2023-02-06T20:43:04.585Z"
   },
   {
    "duration": 4,
    "start_time": "2023-02-06T20:48:21.262Z"
   },
   {
    "duration": 101,
    "start_time": "2023-02-06T20:48:21.267Z"
   },
   {
    "duration": 1320,
    "start_time": "2023-02-06T20:48:21.370Z"
   },
   {
    "duration": 17463,
    "start_time": "2023-02-06T20:48:22.692Z"
   },
   {
    "duration": 3085,
    "start_time": "2023-02-06T20:48:40.157Z"
   },
   {
    "duration": 533,
    "start_time": "2023-02-06T20:48:43.244Z"
   },
   {
    "duration": 39,
    "start_time": "2023-02-06T20:48:43.779Z"
   },
   {
    "duration": 84,
    "start_time": "2023-02-06T20:48:43.821Z"
   },
   {
    "duration": 3,
    "start_time": "2023-02-06T20:48:43.906Z"
   },
   {
    "duration": 2806,
    "start_time": "2023-02-06T20:48:43.911Z"
   },
   {
    "duration": 4,
    "start_time": "2023-02-06T20:48:46.720Z"
   },
   {
    "duration": 3944,
    "start_time": "2023-02-06T20:48:46.726Z"
   },
   {
    "duration": 3,
    "start_time": "2023-02-06T20:48:50.672Z"
   },
   {
    "duration": 10,
    "start_time": "2023-02-06T20:48:50.677Z"
   },
   {
    "duration": 24,
    "start_time": "2023-02-06T20:48:50.689Z"
   },
   {
    "duration": 166232,
    "start_time": "2023-02-06T20:48:50.715Z"
   },
   {
    "duration": 4,
    "start_time": "2023-02-06T20:51:36.948Z"
   },
   {
    "duration": 6,
    "start_time": "2023-02-06T20:51:36.954Z"
   },
   {
    "duration": 7,
    "start_time": "2023-02-06T20:51:36.962Z"
   },
   {
    "duration": 10,
    "start_time": "2023-02-06T20:51:36.970Z"
   },
   {
    "duration": 5,
    "start_time": "2023-02-06T20:51:36.981Z"
   },
   {
    "duration": 139532,
    "start_time": "2023-02-06T20:51:36.987Z"
   },
   {
    "duration": 5,
    "start_time": "2023-02-06T20:53:56.521Z"
   },
   {
    "duration": 5,
    "start_time": "2023-02-06T20:53:56.540Z"
   },
   {
    "duration": 27,
    "start_time": "2023-02-06T20:53:56.551Z"
   },
   {
    "duration": 16,
    "start_time": "2023-02-06T20:53:56.581Z"
   },
   {
    "duration": 5,
    "start_time": "2023-02-06T22:12:55.579Z"
   },
   {
    "duration": 45,
    "start_time": "2023-02-06T22:12:57.028Z"
   },
   {
    "duration": 1605,
    "start_time": "2023-02-06T22:16:29.530Z"
   },
   {
    "duration": 992,
    "start_time": "2023-02-06T22:16:31.140Z"
   },
   {
    "duration": 35,
    "start_time": "2023-02-06T22:16:32.134Z"
   },
   {
    "duration": 24,
    "start_time": "2023-02-06T22:16:32.171Z"
   },
   {
    "duration": 6,
    "start_time": "2023-02-06T22:16:32.197Z"
   },
   {
    "duration": 112,
    "start_time": "2023-02-06T22:16:32.204Z"
   },
   {
    "duration": 37,
    "start_time": "2023-02-06T22:16:32.318Z"
   },
   {
    "duration": 227,
    "start_time": "2023-02-06T22:16:32.357Z"
   },
   {
    "duration": 4,
    "start_time": "2023-02-06T22:16:32.586Z"
   },
   {
    "duration": 19,
    "start_time": "2023-02-06T22:16:32.594Z"
   },
   {
    "duration": 8,
    "start_time": "2023-02-06T22:16:32.615Z"
   },
   {
    "duration": 15304,
    "start_time": "2023-02-06T22:16:32.625Z"
   },
   {
    "duration": 16,
    "start_time": "2023-02-06T22:16:47.931Z"
   },
   {
    "duration": 4,
    "start_time": "2023-02-06T22:16:47.949Z"
   },
   {
    "duration": 1973,
    "start_time": "2023-02-06T22:16:47.955Z"
   },
   {
    "duration": 34,
    "start_time": "2023-02-06T22:16:49.930Z"
   },
   {
    "duration": 313573,
    "start_time": "2023-02-06T22:16:49.967Z"
   },
   {
    "duration": 5,
    "start_time": "2023-02-06T22:22:03.542Z"
   },
   {
    "duration": 101,
    "start_time": "2023-02-06T22:22:03.549Z"
   },
   {
    "duration": 1304,
    "start_time": "2023-02-06T22:22:03.652Z"
   },
   {
    "duration": 17711,
    "start_time": "2023-02-06T22:22:04.958Z"
   },
   {
    "duration": 3215,
    "start_time": "2023-02-06T22:22:22.671Z"
   },
   {
    "duration": 544,
    "start_time": "2023-02-06T22:22:25.888Z"
   },
   {
    "duration": 47,
    "start_time": "2023-02-06T22:22:26.434Z"
   },
   {
    "duration": 88,
    "start_time": "2023-02-06T22:22:26.483Z"
   },
   {
    "duration": 4,
    "start_time": "2023-02-06T22:22:26.573Z"
   },
   {
    "duration": 2941,
    "start_time": "2023-02-06T22:22:26.578Z"
   },
   {
    "duration": 4,
    "start_time": "2023-02-06T22:22:29.524Z"
   },
   {
    "duration": 3858,
    "start_time": "2023-02-06T22:22:29.530Z"
   },
   {
    "duration": 3,
    "start_time": "2023-02-06T22:22:33.390Z"
   },
   {
    "duration": 16,
    "start_time": "2023-02-06T22:22:33.394Z"
   },
   {
    "duration": 5,
    "start_time": "2023-02-06T22:22:33.412Z"
   },
   {
    "duration": 168524,
    "start_time": "2023-02-06T22:22:33.419Z"
   },
   {
    "duration": 8,
    "start_time": "2023-02-06T22:25:21.946Z"
   },
   {
    "duration": 86,
    "start_time": "2023-02-06T22:25:21.956Z"
   },
   {
    "duration": 10,
    "start_time": "2023-02-06T22:25:22.045Z"
   },
   {
    "duration": 11,
    "start_time": "2023-02-06T22:25:22.057Z"
   },
   {
    "duration": 8,
    "start_time": "2023-02-06T22:25:22.070Z"
   },
   {
    "duration": 123982,
    "start_time": "2023-02-06T22:25:22.081Z"
   },
   {
    "duration": 5,
    "start_time": "2023-02-06T22:27:26.065Z"
   },
   {
    "duration": 10,
    "start_time": "2023-02-06T22:27:26.072Z"
   },
   {
    "duration": 9,
    "start_time": "2023-02-06T22:27:26.084Z"
   },
   {
    "duration": 10,
    "start_time": "2023-02-06T22:27:26.095Z"
   },
   {
    "duration": 4,
    "start_time": "2023-02-06T22:27:26.107Z"
   },
   {
    "duration": 1617,
    "start_time": "2023-02-06T23:34:31.416Z"
   },
   {
    "duration": 1022,
    "start_time": "2023-02-06T23:34:33.036Z"
   },
   {
    "duration": 41,
    "start_time": "2023-02-06T23:34:34.065Z"
   },
   {
    "duration": 19,
    "start_time": "2023-02-06T23:34:34.109Z"
   },
   {
    "duration": 14,
    "start_time": "2023-02-06T23:34:34.141Z"
   },
   {
    "duration": 99,
    "start_time": "2023-02-06T23:34:34.157Z"
   },
   {
    "duration": 32,
    "start_time": "2023-02-06T23:34:34.257Z"
   },
   {
    "duration": 220,
    "start_time": "2023-02-06T23:34:34.291Z"
   },
   {
    "duration": 3,
    "start_time": "2023-02-06T23:34:34.513Z"
   },
   {
    "duration": 3,
    "start_time": "2023-02-06T23:34:34.519Z"
   },
   {
    "duration": 22,
    "start_time": "2023-02-06T23:34:34.524Z"
   },
   {
    "duration": 16375,
    "start_time": "2023-02-06T23:34:34.554Z"
   },
   {
    "duration": 26,
    "start_time": "2023-02-06T23:34:50.931Z"
   },
   {
    "duration": 5,
    "start_time": "2023-02-06T23:34:50.961Z"
   },
   {
    "duration": 1948,
    "start_time": "2023-02-06T23:34:50.968Z"
   },
   {
    "duration": 37,
    "start_time": "2023-02-06T23:34:52.919Z"
   },
   {
    "duration": 1899,
    "start_time": "2023-02-07T11:22:38.867Z"
   },
   {
    "duration": 2672,
    "start_time": "2023-02-07T11:22:40.768Z"
   },
   {
    "duration": 26,
    "start_time": "2023-02-07T11:22:43.441Z"
   },
   {
    "duration": 13,
    "start_time": "2023-02-07T11:22:43.469Z"
   },
   {
    "duration": 4,
    "start_time": "2023-02-07T11:22:43.483Z"
   },
   {
    "duration": 65,
    "start_time": "2023-02-07T11:22:43.489Z"
   },
   {
    "duration": 29,
    "start_time": "2023-02-07T11:22:43.555Z"
   },
   {
    "duration": 183,
    "start_time": "2023-02-07T11:22:43.585Z"
   },
   {
    "duration": 3,
    "start_time": "2023-02-07T11:22:43.770Z"
   },
   {
    "duration": 9,
    "start_time": "2023-02-07T11:22:43.776Z"
   },
   {
    "duration": 6,
    "start_time": "2023-02-07T11:22:43.786Z"
   },
   {
    "duration": 14459,
    "start_time": "2023-02-07T11:22:43.793Z"
   },
   {
    "duration": 5,
    "start_time": "2023-02-07T11:22:58.257Z"
   },
   {
    "duration": 7,
    "start_time": "2023-02-07T11:22:58.264Z"
   },
   {
    "duration": 3535,
    "start_time": "2023-02-07T11:22:58.272Z"
   },
   {
    "duration": 20,
    "start_time": "2023-02-07T11:23:01.809Z"
   },
   {
    "duration": 287906,
    "start_time": "2023-02-07T11:23:01.830Z"
   },
   {
    "duration": 13,
    "start_time": "2023-02-07T11:27:49.738Z"
   },
   {
    "duration": 114,
    "start_time": "2023-02-07T11:27:49.753Z"
   },
   {
    "duration": 1322,
    "start_time": "2023-02-07T11:27:49.868Z"
   },
   {
    "duration": 16748,
    "start_time": "2023-02-07T11:27:51.191Z"
   },
   {
    "duration": 2885,
    "start_time": "2023-02-07T11:28:07.940Z"
   },
   {
    "duration": 554,
    "start_time": "2023-02-07T11:28:10.828Z"
   },
   {
    "duration": 39,
    "start_time": "2023-02-07T11:28:11.384Z"
   },
   {
    "duration": 115,
    "start_time": "2023-02-07T11:28:11.425Z"
   },
   {
    "duration": 7,
    "start_time": "2023-02-07T11:28:11.542Z"
   },
   {
    "duration": 2686,
    "start_time": "2023-02-07T11:28:11.551Z"
   },
   {
    "duration": 3,
    "start_time": "2023-02-07T11:28:14.248Z"
   },
   {
    "duration": 3657,
    "start_time": "2023-02-07T11:28:14.253Z"
   },
   {
    "duration": 4,
    "start_time": "2023-02-07T11:28:17.911Z"
   },
   {
    "duration": 16,
    "start_time": "2023-02-07T11:28:17.916Z"
   },
   {
    "duration": 6,
    "start_time": "2023-02-07T11:28:17.934Z"
   },
   {
    "duration": 150502,
    "start_time": "2023-02-07T11:28:17.951Z"
   },
   {
    "duration": 5,
    "start_time": "2023-02-07T11:30:48.455Z"
   },
   {
    "duration": 93,
    "start_time": "2023-02-07T11:30:48.462Z"
   },
   {
    "duration": 9,
    "start_time": "2023-02-07T11:30:48.557Z"
   },
   {
    "duration": 9,
    "start_time": "2023-02-07T11:30:48.568Z"
   },
   {
    "duration": 6,
    "start_time": "2023-02-07T11:30:48.579Z"
   },
   {
    "duration": 82753,
    "start_time": "2023-02-07T11:30:48.587Z"
   },
   {
    "duration": 7,
    "start_time": "2023-02-07T11:32:11.343Z"
   },
   {
    "duration": 8,
    "start_time": "2023-02-07T11:32:11.351Z"
   },
   {
    "duration": 9,
    "start_time": "2023-02-07T11:32:11.360Z"
   },
   {
    "duration": 12,
    "start_time": "2023-02-07T11:32:11.371Z"
   },
   {
    "duration": 5,
    "start_time": "2023-02-07T11:32:11.385Z"
   },
   {
    "duration": 3423924,
    "start_time": "2023-02-07T11:32:11.392Z"
   },
   {
    "duration": 3,
    "start_time": "2023-02-07T12:29:15.318Z"
   },
   {
    "duration": 5,
    "start_time": "2023-02-07T12:29:15.323Z"
   },
   {
    "duration": 23,
    "start_time": "2023-02-07T12:29:15.329Z"
   },
   {
    "duration": 12,
    "start_time": "2023-02-07T12:29:15.353Z"
   },
   {
    "duration": 22,
    "start_time": "2023-02-07T12:29:15.367Z"
   },
   {
    "duration": 173,
    "start_time": "2023-02-07T12:29:15.390Z"
   },
   {
    "duration": 12,
    "start_time": "2023-02-07T12:29:15.567Z"
   },
   {
    "duration": 106858,
    "start_time": "2023-02-07T12:42:20.603Z"
   },
   {
    "duration": 51,
    "start_time": "2023-02-07T12:46:37.886Z"
   },
   {
    "duration": 9,
    "start_time": "2023-02-07T12:50:04.593Z"
   },
   {
    "duration": 9,
    "start_time": "2023-02-07T12:50:21.522Z"
   },
   {
    "duration": 3,
    "start_time": "2023-02-07T12:50:28.954Z"
   },
   {
    "duration": 9,
    "start_time": "2023-02-07T12:50:41.704Z"
   },
   {
    "duration": 10,
    "start_time": "2023-02-07T12:50:55.370Z"
   },
   {
    "duration": 8,
    "start_time": "2023-02-07T12:51:17.185Z"
   },
   {
    "duration": 3,
    "start_time": "2023-02-07T12:51:22.379Z"
   },
   {
    "duration": 9,
    "start_time": "2023-02-07T12:51:44.060Z"
   },
   {
    "duration": 3,
    "start_time": "2023-02-07T12:51:50.154Z"
   },
   {
    "duration": 10,
    "start_time": "2023-02-07T12:52:11.936Z"
   },
   {
    "duration": 3,
    "start_time": "2023-02-07T12:52:44.027Z"
   },
   {
    "duration": 3,
    "start_time": "2023-02-07T12:53:02.611Z"
   },
   {
    "duration": 11,
    "start_time": "2023-02-07T12:53:08.366Z"
   },
   {
    "duration": 9,
    "start_time": "2023-02-07T12:53:38.110Z"
   },
   {
    "duration": 11,
    "start_time": "2023-02-07T12:53:43.091Z"
   },
   {
    "duration": 4,
    "start_time": "2023-02-07T12:53:49.068Z"
   },
   {
    "duration": 4,
    "start_time": "2023-02-07T12:54:09.381Z"
   },
   {
    "duration": 14,
    "start_time": "2023-02-07T12:55:15.273Z"
   },
   {
    "duration": 4,
    "start_time": "2023-02-07T12:55:35.440Z"
   },
   {
    "duration": 3,
    "start_time": "2023-02-07T12:55:47.707Z"
   },
   {
    "duration": 15,
    "start_time": "2023-02-07T12:56:10.366Z"
   }
  ],
  "kernelspec": {
   "display_name": "Python 3 (ipykernel)",
   "language": "python",
   "name": "python3"
  },
  "language_info": {
   "codemirror_mode": {
    "name": "ipython",
    "version": 3
   },
   "file_extension": ".py",
   "mimetype": "text/x-python",
   "name": "python",
   "nbconvert_exporter": "python",
   "pygments_lexer": "ipython3",
   "version": "3.10.9"
  },
  "toc": {
   "base_numbering": 1,
   "nav_menu": {
    "height": "192px",
    "width": "262px"
   },
   "number_sections": true,
   "sideBar": true,
   "skip_h1_title": true,
   "title_cell": "Содержание",
   "title_sidebar": "Contents",
   "toc_cell": true,
   "toc_position": {
    "height": "calc(100% - 180px)",
    "left": "10px",
    "top": "150px",
    "width": "302.391px"
   },
   "toc_section_display": true,
   "toc_window_display": false
  }
 },
 "nbformat": 4,
 "nbformat_minor": 2
}
