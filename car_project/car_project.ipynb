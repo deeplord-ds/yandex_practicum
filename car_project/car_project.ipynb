{
 "cells": [
  {
   "cell_type": "markdown",
   "id": "c6ea0123",
   "metadata": {
    "toc": true
   },
   "source": [
    "<h1>Содержание<span class=\"tocSkip\"></span></h1>\n",
    "<div class=\"toc\"><ul class=\"toc-item\"><li><span><a href=\"#Подготовка-данных\" data-toc-modified-id=\"Подготовка-данных-1\"><span class=\"toc-item-num\">1&nbsp;&nbsp;</span>Подготовка данных</a></span><ul class=\"toc-item\"><li><span><a href=\"#Загрузка-библиотек\" data-toc-modified-id=\"Загрузка-библиотек-1.1\"><span class=\"toc-item-num\">1.1&nbsp;&nbsp;</span>Загрузка библиотек</a></span></li><li><span><a href=\"#Загрузка-данных\" data-toc-modified-id=\"Загрузка-данных-1.2\"><span class=\"toc-item-num\">1.2&nbsp;&nbsp;</span>Загрузка данных</a></span></li><li><span><a href=\"#Общая-информация-о-данных-датафрейма\" data-toc-modified-id=\"Общая-информация-о-данных-датафрейма-1.3\"><span class=\"toc-item-num\">1.3&nbsp;&nbsp;</span>Общая информация о данных датафрейма</a></span></li><li><span><a href=\"#Предобработка-данных\" data-toc-modified-id=\"Предобработка-данных-1.4\"><span class=\"toc-item-num\">1.4&nbsp;&nbsp;</span>Предобработка данных</a></span><ul class=\"toc-item\"><li><span><a href=\"#Удаление-дубликатов\" data-toc-modified-id=\"Удаление-дубликатов-1.4.1\"><span class=\"toc-item-num\">1.4.1&nbsp;&nbsp;</span>Удаление дубликатов</a></span></li><li><span><a href=\"#Удаление-неинформативных-признаков\" data-toc-modified-id=\"Удаление-неинформативных-признаков-1.4.2\"><span class=\"toc-item-num\">1.4.2&nbsp;&nbsp;</span>Удаление неинформативных признаков</a></span></li><li><span><a href=\"#Приведение-названий-столбцов-к-змеиному-регистру\" data-toc-modified-id=\"Приведение-названий-столбцов-к-змеиному-регистру-1.4.3\"><span class=\"toc-item-num\">1.4.3&nbsp;&nbsp;</span>Приведение названий столбцов к змеиному регистру</a></span></li><li><span><a href=\"#Заполнение-пропусков\" data-toc-modified-id=\"Заполнение-пропусков-1.4.4\"><span class=\"toc-item-num\">1.4.4&nbsp;&nbsp;</span>Заполнение пропусков</a></span></li><li><span><a href=\"#Удаление-выбросов\" data-toc-modified-id=\"Удаление-выбросов-1.4.5\"><span class=\"toc-item-num\">1.4.5&nbsp;&nbsp;</span>Удаление выбросов</a></span></li></ul></li></ul></li><li><span><a href=\"#Построение-моделей\" data-toc-modified-id=\"Построение-моделей-2\"><span class=\"toc-item-num\">2&nbsp;&nbsp;</span>Построение моделей</a></span><ul class=\"toc-item\"><li><span><a href=\"#Порядок-действий\" data-toc-modified-id=\"Порядок-действий-2.1\"><span class=\"toc-item-num\">2.1&nbsp;&nbsp;</span>Порядок действий</a></span></li><li><span><a href=\"#Выделение-ключевых-признаков-и-создание-выборок\" data-toc-modified-id=\"Выделение-ключевых-признаков-и-создание-выборок-2.2\"><span class=\"toc-item-num\">2.2&nbsp;&nbsp;</span>Выделение ключевых признаков и создание выборок</a></span></li><li><span><a href=\"#Преобразование-категориальных-признаков\" data-toc-modified-id=\"Преобразование-категориальных-признаков-2.3\"><span class=\"toc-item-num\">2.3&nbsp;&nbsp;</span>Преобразование категориальных признаков</a></span></li><li><span><a href=\"#Функция-для-обучения-и-сохранения-модели-случайного-леса\" data-toc-modified-id=\"Функция-для-обучения-и-сохранения-модели-случайного-леса-2.4\"><span class=\"toc-item-num\">2.4&nbsp;&nbsp;</span>Функция для обучения и сохранения модели случайного леса</a></span></li><li><span><a href=\"#Модель-случайного-леса\" data-toc-modified-id=\"Модель-случайного-леса-2.5\"><span class=\"toc-item-num\">2.5&nbsp;&nbsp;</span>Модель случайного леса</a></span></li><li><span><a href=\"#Модель-LightGBM\" data-toc-modified-id=\"Модель-LightGBM-2.6\"><span class=\"toc-item-num\">2.6&nbsp;&nbsp;</span>Модель LightGBM</a></span></li><li><span><a href=\"#Сравнение-моделей\" data-toc-modified-id=\"Сравнение-моделей-2.7\"><span class=\"toc-item-num\">2.7&nbsp;&nbsp;</span>Сравнение моделей</a></span></li><li><span><a href=\"#Проверка-на-вменяемость\" data-toc-modified-id=\"Проверка-на-вменяемость-2.8\"><span class=\"toc-item-num\">2.8&nbsp;&nbsp;</span>Проверка на вменяемость</a></span></li><li><span><a href=\"#Проверка-лучшей-модели-на-тестовой-выборке\" data-toc-modified-id=\"Проверка-лучшей-модели-на-тестовой-выборке-2.9\"><span class=\"toc-item-num\">2.9&nbsp;&nbsp;</span>Проверка лучшей модели на тестовой выборке</a></span></li></ul></li><li><span><a href=\"#Итоговый-вывод\" data-toc-modified-id=\"Итоговый-вывод-3\"><span class=\"toc-item-num\">3&nbsp;&nbsp;</span>Итоговый вывод</a></span></li></ul></div>"
   ]
  },
  {
   "cell_type": "markdown",
   "id": "b5e8e0f5",
   "metadata": {},
   "source": [
    "<font size=\"5\"><b>Определение стоимости автомобилей</b></font>"
   ]
  },
  {
   "cell_type": "markdown",
   "id": "8d4de162",
   "metadata": {},
   "source": [
    "Сервис по продаже автомобилей с пробегом  разрабатывает приложение для привлечения новых клиентов. В нём можно быстро узнать рыночную стоимость своего автомобиля. В вашем распоряжении исторические данные: технические характеристики, комплектации и цены автомобилей. Необходимо построить модель для определения стоимости.\n",
    "\n",
    "Важно учитывать:\n",
    "\n",
    "- качество предсказания;\n",
    "- время обучения модели;\n",
    "- время предсказания модели.\n",
    "\n",
    "Основные шаги:\n",
    " - Загрузить данные (путь к файлу: /datasets/autos.csv)\n",
    " - Изучить данные. Заполнить пропущенные значения и обработать аномалии в столбцах. Если среди признаков имеются неинформативные, удалить их.\n",
    " - Подготовить выборки для обучения моделей.\n",
    " - Обучить разные модели, одна из которых — LightGBM, другая — не бустинг. Для каждой модели попробовать разные гиперпараметры.\n",
    " - Проанализировать время обучения, время предсказания и качество моделей.\n",
    " - Опираясь на критерии заказчика, выбрать лучшую модель, проверить её качество на тестовой выборке.\n",
    "\n",
    "Примечания:\n",
    " - Для оценки качества моделей применять метрику RMSE.\n",
    " - Значение метрики RMSE должно быть меньше 2500.\n",
    " \n",
    "Описание данных <br>\n",
    "\n",
    "Признаки<br>\n",
    "- DateCrawled — дата скачивания анкеты из базы\n",
    "- VehicleType — тип автомобильного кузова\n",
    "- RegistrationYear — год регистрации автомобиля\n",
    "- Gearbox — тип коробки передач\n",
    "- Power — мощность (л. с.)\n",
    "- Model — модель автомобиля\n",
    "- Kilometer — пробег (км)\n",
    "- RegistrationMonth — месяц регистрации автомобиля\n",
    "- FuelType — тип топлива\n",
    "- Brand — марка автомобиля\n",
    "- Repaired — была машина в ремонте или нет\n",
    "- DateCreated — дата создания анкеты\n",
    "- NumberOfPictures — количество фотографий автомобиля\n",
    "- PostalCode — почтовый индекс владельца анкеты (пользователя)\n",
    "- LastSeen — дата последней активности пользователя\n",
    "\n",
    "Целевой признак<br>\n",
    "- Price — цена (евро)"
   ]
  },
  {
   "cell_type": "markdown",
   "id": "010676d5",
   "metadata": {},
   "source": [
    "# Подготовка данных"
   ]
  },
  {
   "cell_type": "markdown",
   "id": "d7b3b69b",
   "metadata": {},
   "source": [
    "## Загрузка библиотек "
   ]
  },
  {
   "cell_type": "code",
   "execution_count": 1,
   "id": "35e0d279",
   "metadata": {},
   "outputs": [],
   "source": [
    "import pandas as pd #Pandas\n",
    "\n",
    "import numpy as np #Numpy\n",
    "\n",
    "import seaborn as sns #Seaborn\n",
    "\n",
    "import matplotlib.pyplot as plt #Pyplot\n",
    "\n",
    "from math import sqrt\n",
    "\n",
    "from sklearn.preprocessing import StandardScaler  #для масштабирования\n",
    "from sklearn.metrics import make_scorer #Создание оценочных метрик\n",
    "from sklearn.dummy import DummyRegressor #упрощенный регрессор\n",
    "from sklearn.ensemble import RandomForestRegressor #ф-ция для создания случайного леса.\n",
    "from sklearn.linear_model import LinearRegression #ф-ция для создания логистической регрессии.\n",
    "from sklearn.model_selection import GridSearchCV #Поиск наилучшей комбинации параметров\n",
    "from sklearn.metrics import mean_squared_error\n",
    "from sklearn.model_selection import train_test_split #ф-ция деления выборки\n",
    "from sklearn.preprocessing import OrdinalEncoder\n",
    "\n",
    "from tqdm import tqdm #индикатор выполнения процесса\n",
    "\n",
    "from sklearn.ensemble import GradientBoostingRegressor"
   ]
  },
  {
   "cell_type": "code",
   "execution_count": 2,
   "id": "2949f666",
   "metadata": {},
   "outputs": [],
   "source": [
    "#дополнительные настройки pandas\n",
    "pd.options.display.max_rows = 100\n",
    "pd.set_option('display.max_columns', 100)"
   ]
  },
  {
   "cell_type": "markdown",
   "id": "d2e4ca42",
   "metadata": {},
   "source": [
    "## Загрузка данных"
   ]
  },
  {
   "cell_type": "code",
   "execution_count": 3,
   "id": "0d93148b",
   "metadata": {},
   "outputs": [],
   "source": [
    "#создаем датафрейм из исходных данных\n",
    "\n",
    "try:\n",
    "    df = pd.read_csv('autos.csv')\n",
    "\n",
    "except:\n",
    "    df = pd.read_csv('/datasets/autos.csv')"
   ]
  },
  {
   "cell_type": "markdown",
   "id": "0988b4f0",
   "metadata": {},
   "source": [
    "## Общая информация о данных датафрейма"
   ]
  },
  {
   "cell_type": "code",
   "execution_count": 4,
   "id": "397f4cdc",
   "metadata": {},
   "outputs": [
    {
     "name": "stdout",
     "output_type": "stream",
     "text": [
      "<class 'pandas.core.frame.DataFrame'>\n",
      "RangeIndex: 354369 entries, 0 to 354368\n",
      "Data columns (total 16 columns):\n",
      " #   Column             Non-Null Count   Dtype \n",
      "---  ------             --------------   ----- \n",
      " 0   DateCrawled        354369 non-null  object\n",
      " 1   Price              354369 non-null  int64 \n",
      " 2   VehicleType        316879 non-null  object\n",
      " 3   RegistrationYear   354369 non-null  int64 \n",
      " 4   Gearbox            334536 non-null  object\n",
      " 5   Power              354369 non-null  int64 \n",
      " 6   Model              334664 non-null  object\n",
      " 7   Kilometer          354369 non-null  int64 \n",
      " 8   RegistrationMonth  354369 non-null  int64 \n",
      " 9   FuelType           321474 non-null  object\n",
      " 10  Brand              354369 non-null  object\n",
      " 11  Repaired           283215 non-null  object\n",
      " 12  DateCreated        354369 non-null  object\n",
      " 13  NumberOfPictures   354369 non-null  int64 \n",
      " 14  PostalCode         354369 non-null  int64 \n",
      " 15  LastSeen           354369 non-null  object\n",
      "dtypes: int64(7), object(9)\n",
      "memory usage: 43.3+ MB\n"
     ]
    }
   ],
   "source": [
    "#посмотрим общую информацию о датафрейме\n",
    "df.info()"
   ]
  },
  {
   "cell_type": "code",
   "execution_count": 5,
   "id": "2f549d3d",
   "metadata": {},
   "outputs": [
    {
     "data": {
      "text/html": [
       "<div>\n",
       "<style scoped>\n",
       "    .dataframe tbody tr th:only-of-type {\n",
       "        vertical-align: middle;\n",
       "    }\n",
       "\n",
       "    .dataframe tbody tr th {\n",
       "        vertical-align: top;\n",
       "    }\n",
       "\n",
       "    .dataframe thead th {\n",
       "        text-align: right;\n",
       "    }\n",
       "</style>\n",
       "<table border=\"1\" class=\"dataframe\">\n",
       "  <thead>\n",
       "    <tr style=\"text-align: right;\">\n",
       "      <th></th>\n",
       "      <th>DateCrawled</th>\n",
       "      <th>Price</th>\n",
       "      <th>VehicleType</th>\n",
       "      <th>RegistrationYear</th>\n",
       "      <th>Gearbox</th>\n",
       "      <th>Power</th>\n",
       "      <th>Model</th>\n",
       "      <th>Kilometer</th>\n",
       "      <th>RegistrationMonth</th>\n",
       "      <th>FuelType</th>\n",
       "      <th>Brand</th>\n",
       "      <th>Repaired</th>\n",
       "      <th>DateCreated</th>\n",
       "      <th>NumberOfPictures</th>\n",
       "      <th>PostalCode</th>\n",
       "      <th>LastSeen</th>\n",
       "    </tr>\n",
       "  </thead>\n",
       "  <tbody>\n",
       "    <tr>\n",
       "      <th>0</th>\n",
       "      <td>2016-03-24 11:52:17</td>\n",
       "      <td>480</td>\n",
       "      <td>NaN</td>\n",
       "      <td>1993</td>\n",
       "      <td>manual</td>\n",
       "      <td>0</td>\n",
       "      <td>golf</td>\n",
       "      <td>150000</td>\n",
       "      <td>0</td>\n",
       "      <td>petrol</td>\n",
       "      <td>volkswagen</td>\n",
       "      <td>NaN</td>\n",
       "      <td>2016-03-24 00:00:00</td>\n",
       "      <td>0</td>\n",
       "      <td>70435</td>\n",
       "      <td>2016-04-07 03:16:57</td>\n",
       "    </tr>\n",
       "    <tr>\n",
       "      <th>1</th>\n",
       "      <td>2016-03-24 10:58:45</td>\n",
       "      <td>18300</td>\n",
       "      <td>coupe</td>\n",
       "      <td>2011</td>\n",
       "      <td>manual</td>\n",
       "      <td>190</td>\n",
       "      <td>NaN</td>\n",
       "      <td>125000</td>\n",
       "      <td>5</td>\n",
       "      <td>gasoline</td>\n",
       "      <td>audi</td>\n",
       "      <td>yes</td>\n",
       "      <td>2016-03-24 00:00:00</td>\n",
       "      <td>0</td>\n",
       "      <td>66954</td>\n",
       "      <td>2016-04-07 01:46:50</td>\n",
       "    </tr>\n",
       "    <tr>\n",
       "      <th>2</th>\n",
       "      <td>2016-03-14 12:52:21</td>\n",
       "      <td>9800</td>\n",
       "      <td>suv</td>\n",
       "      <td>2004</td>\n",
       "      <td>auto</td>\n",
       "      <td>163</td>\n",
       "      <td>grand</td>\n",
       "      <td>125000</td>\n",
       "      <td>8</td>\n",
       "      <td>gasoline</td>\n",
       "      <td>jeep</td>\n",
       "      <td>NaN</td>\n",
       "      <td>2016-03-14 00:00:00</td>\n",
       "      <td>0</td>\n",
       "      <td>90480</td>\n",
       "      <td>2016-04-05 12:47:46</td>\n",
       "    </tr>\n",
       "    <tr>\n",
       "      <th>3</th>\n",
       "      <td>2016-03-17 16:54:04</td>\n",
       "      <td>1500</td>\n",
       "      <td>small</td>\n",
       "      <td>2001</td>\n",
       "      <td>manual</td>\n",
       "      <td>75</td>\n",
       "      <td>golf</td>\n",
       "      <td>150000</td>\n",
       "      <td>6</td>\n",
       "      <td>petrol</td>\n",
       "      <td>volkswagen</td>\n",
       "      <td>no</td>\n",
       "      <td>2016-03-17 00:00:00</td>\n",
       "      <td>0</td>\n",
       "      <td>91074</td>\n",
       "      <td>2016-03-17 17:40:17</td>\n",
       "    </tr>\n",
       "    <tr>\n",
       "      <th>4</th>\n",
       "      <td>2016-03-31 17:25:20</td>\n",
       "      <td>3600</td>\n",
       "      <td>small</td>\n",
       "      <td>2008</td>\n",
       "      <td>manual</td>\n",
       "      <td>69</td>\n",
       "      <td>fabia</td>\n",
       "      <td>90000</td>\n",
       "      <td>7</td>\n",
       "      <td>gasoline</td>\n",
       "      <td>skoda</td>\n",
       "      <td>no</td>\n",
       "      <td>2016-03-31 00:00:00</td>\n",
       "      <td>0</td>\n",
       "      <td>60437</td>\n",
       "      <td>2016-04-06 10:17:21</td>\n",
       "    </tr>\n",
       "  </tbody>\n",
       "</table>\n",
       "</div>"
      ],
      "text/plain": [
       "           DateCrawled  Price VehicleType  RegistrationYear Gearbox  Power  \\\n",
       "0  2016-03-24 11:52:17    480         NaN              1993  manual      0   \n",
       "1  2016-03-24 10:58:45  18300       coupe              2011  manual    190   \n",
       "2  2016-03-14 12:52:21   9800         suv              2004    auto    163   \n",
       "3  2016-03-17 16:54:04   1500       small              2001  manual     75   \n",
       "4  2016-03-31 17:25:20   3600       small              2008  manual     69   \n",
       "\n",
       "   Model  Kilometer  RegistrationMonth  FuelType       Brand Repaired  \\\n",
       "0   golf     150000                  0    petrol  volkswagen      NaN   \n",
       "1    NaN     125000                  5  gasoline        audi      yes   \n",
       "2  grand     125000                  8  gasoline        jeep      NaN   \n",
       "3   golf     150000                  6    petrol  volkswagen       no   \n",
       "4  fabia      90000                  7  gasoline       skoda       no   \n",
       "\n",
       "           DateCreated  NumberOfPictures  PostalCode             LastSeen  \n",
       "0  2016-03-24 00:00:00                 0       70435  2016-04-07 03:16:57  \n",
       "1  2016-03-24 00:00:00                 0       66954  2016-04-07 01:46:50  \n",
       "2  2016-03-14 00:00:00                 0       90480  2016-04-05 12:47:46  \n",
       "3  2016-03-17 00:00:00                 0       91074  2016-03-17 17:40:17  \n",
       "4  2016-03-31 00:00:00                 0       60437  2016-04-06 10:17:21  "
      ]
     },
     "execution_count": 5,
     "metadata": {},
     "output_type": "execute_result"
    }
   ],
   "source": [
    "#Посмотрим 10 произвольных строк\n",
    "df.head(5)"
   ]
  },
  {
   "cell_type": "code",
   "execution_count": 6,
   "id": "2fbe6192",
   "metadata": {},
   "outputs": [
    {
     "name": "stdout",
     "output_type": "stream",
     "text": [
      "4\n"
     ]
    }
   ],
   "source": [
    "#Проверим датафреймы на наличие дубликатов\n",
    "\n",
    "print(df.duplicated().sum())\n"
   ]
  },
  {
   "cell_type": "code",
   "execution_count": 7,
   "id": "db7f2547",
   "metadata": {},
   "outputs": [
    {
     "data": {
      "text/plain": [
       "0         2016-03-24 00:00:00\n",
       "1         2016-03-24 00:00:00\n",
       "2         2016-03-14 00:00:00\n",
       "3         2016-03-17 00:00:00\n",
       "4         2016-03-31 00:00:00\n",
       "                 ...         \n",
       "354364    2016-03-21 00:00:00\n",
       "354365    2016-03-14 00:00:00\n",
       "354366    2016-03-05 00:00:00\n",
       "354367    2016-03-19 00:00:00\n",
       "354368    2016-03-20 00:00:00\n",
       "Name: DateCreated, Length: 354369, dtype: object"
      ]
     },
     "execution_count": 7,
     "metadata": {},
     "output_type": "execute_result"
    }
   ],
   "source": [
    "df.DateCreated"
   ]
  },
  {
   "cell_type": "code",
   "execution_count": 8,
   "id": "36bb879b",
   "metadata": {},
   "outputs": [
    {
     "data": {
      "text/html": [
       "<style  type=\"text/css\" >\n",
       "#T_7780b_row0_col0{\n",
       "            background-color:  #aec9fc;\n",
       "            color:  #000000;\n",
       "        }#T_7780b_row1_col0,#T_7780b_row2_col0{\n",
       "            background-color:  #3b4cc0;\n",
       "            color:  #f1f1f1;\n",
       "        }#T_7780b_row3_col0{\n",
       "            background-color:  #8fb1fe;\n",
       "            color:  #000000;\n",
       "        }#T_7780b_row4_col0{\n",
       "            background-color:  #b40426;\n",
       "            color:  #f1f1f1;\n",
       "        }</style><table id=\"T_7780b_\" ><thead>    <tr>        <th class=\"blank level0\" ></th>        <th class=\"col_heading level0 col0\" >0</th>    </tr></thead><tbody>\n",
       "                <tr>\n",
       "                        <th id=\"T_7780b_level0_row0\" class=\"row_heading level0 row0\" >VehicleType</th>\n",
       "                        <td id=\"T_7780b_row0_col0\" class=\"data row0 col0\" >10.600000</td>\n",
       "            </tr>\n",
       "            <tr>\n",
       "                        <th id=\"T_7780b_level0_row1\" class=\"row_heading level0 row1\" >Gearbox</th>\n",
       "                        <td id=\"T_7780b_row1_col0\" class=\"data row1 col0\" >5.600000</td>\n",
       "            </tr>\n",
       "            <tr>\n",
       "                        <th id=\"T_7780b_level0_row2\" class=\"row_heading level0 row2\" >Model</th>\n",
       "                        <td id=\"T_7780b_row2_col0\" class=\"data row2 col0\" >5.600000</td>\n",
       "            </tr>\n",
       "            <tr>\n",
       "                        <th id=\"T_7780b_level0_row3\" class=\"row_heading level0 row3\" >FuelType</th>\n",
       "                        <td id=\"T_7780b_row3_col0\" class=\"data row3 col0\" >9.300000</td>\n",
       "            </tr>\n",
       "            <tr>\n",
       "                        <th id=\"T_7780b_level0_row4\" class=\"row_heading level0 row4\" >Repaired</th>\n",
       "                        <td id=\"T_7780b_row4_col0\" class=\"data row4 col0\" >20.100000</td>\n",
       "            </tr>\n",
       "    </tbody></table>"
      ],
      "text/plain": [
       "<pandas.io.formats.style.Styler at 0x202359aaa00>"
      ]
     },
     "execution_count": 8,
     "metadata": {},
     "output_type": "execute_result"
    }
   ],
   "source": [
    "#Проверим колличество пропусков (существенное) в % для df\n",
    "pd.DataFrame(round(df.isna().mean()*100,1)).\\\n",
    "where(lambda x : x>0).dropna().style.background_gradient('coolwarm')"
   ]
  },
  {
   "cell_type": "code",
   "execution_count": 9,
   "id": "00d346d4",
   "metadata": {},
   "outputs": [
    {
     "data": {
      "image/png": "[encoded data removed]",
      "text/plain": [
       "<Figure size 720x720 with 20 Axes>"
      ]
     },
     "metadata": {
      "needs_background": "light"
     },
     "output_type": "display_data"
    }
   ],
   "source": [
    "#Построим парные зависимости df  некоторых характеристиик на основании\n",
    "#100 случайных строк из датасета\n",
    "\n",
    "sns.pairplot(data=df[['Power','Kilometer','RegistrationYear','Price']].sample(500))\n",
    "plt.suptitle('df',y=1.05)\n",
    "plt.show()"
   ]
  },
  {
   "cell_type": "code",
   "execution_count": 10,
   "id": "102172a5",
   "metadata": {},
   "outputs": [
    {
     "name": "stdout",
     "output_type": "stream",
     "text": [
      "Для df:\n",
      "Корреляция Price-Power\n",
      "0.159\n",
      "\n",
      "Корреляция Price-Kilometer\n",
      "-0.333\n",
      "\n",
      "Корреляция Price-RegistrationYear\n",
      "0.027\n",
      "\n"
     ]
    }
   ],
   "source": [
    "#Вычисляем Коэффициент Пирсона для свежих машин\n",
    "df.name = 'df'\n",
    "print(f\"Для {df.name}:\")\n",
    "for param in ['Power','Kilometer','RegistrationYear']:\n",
    "    print(f\"Корреляция Price-{param}\")\n",
    "    print(round(df['Price'].corr(df[param]),3))\n",
    "    print()"
   ]
  },
  {
   "cell_type": "code",
   "execution_count": 11,
   "id": "a2127950",
   "metadata": {},
   "outputs": [
    {
     "data": {
      "image/png": "[encoded data removed]",
      "text/plain": [
       "<Figure size 432x288 with 1 Axes>"
      ]
     },
     "metadata": {
      "needs_background": "light"
     },
     "output_type": "display_data"
    }
   ],
   "source": [
    "# посмотрим зависимость средней цены от модели \n",
    "\n",
    "pd.pivot_table(df[['Model','Price']],\n",
    "               index=['Model'],values=['Price'], aggfunc=['median']).\\\n",
    "sort_values(by=[('median','Price')]).\\\n",
    "droplevel(0, axis=1).reset_index().\\\n",
    "plot(title='Средняя цена на условную модель (отсортировано)');\n",
    "plt.grid(True);"
   ]
  },
  {
   "cell_type": "code",
   "execution_count": 12,
   "id": "30f8be18",
   "metadata": {},
   "outputs": [
    {
     "data": {
      "image/png": "[encoded data removed]",
      "text/plain": [
       "<Figure size 1080x360 with 1 Axes>"
      ]
     },
     "metadata": {
      "needs_background": "light"
     },
     "output_type": "display_data"
    }
   ],
   "source": [
    "# посмотрим зависимость средней цены от бренда\n",
    "\n",
    "pd.pivot_table(df[['Brand','Price']],\n",
    "               index=['Brand'],values=['Price'], aggfunc=['median']).\\\n",
    "sort_values(by=[('median','Price')]).\\\n",
    "droplevel(0, axis=1).\\\n",
    "plot.bar(title='Средняя цена на бренд (отсортировано)',figsize=(15,5),grid=True);\n",
    "plt.xticks(rotation=90);"
   ]
  },
  {
   "cell_type": "code",
   "execution_count": 13,
   "id": "4fd1636d",
   "metadata": {},
   "outputs": [
    {
     "name": "stdout",
     "output_type": "stream",
     "text": [
      "2014-03-10 00:00:00\n",
      "2016-04-07 00:00:00\n"
     ]
    }
   ],
   "source": [
    "# Посмотрим диапазон дат объявлений\n",
    "\n",
    "print(df.DateCreated.min())\n",
    "print(df.DateCreated.max())"
   ]
  },
  {
   "cell_type": "markdown",
   "id": "05321097",
   "metadata": {},
   "source": [
    "**Промежуточные выводы:**\n",
    " - Необходимо заполнить пропуски.\n",
    " - Скорее всего, некоторые столбы можно будет исключить из исследования, так как они не являются значимыми при моделировании.\n",
    " - Много столбцов с категориальными признаками. Потребуется их преобразование.\n",
    " - В целом данные выглядят пригодными для составления обучающей выборки, по крайней мере имеются корреляции между ценой и   некоторыми численными признаками, а также зависимость средней цены от бренда/модели."
   ]
  },
  {
   "cell_type": "markdown",
   "id": "1ea635b5",
   "metadata": {},
   "source": [
    "## Предобработка данных"
   ]
  },
  {
   "cell_type": "markdown",
   "id": "ddaae117",
   "metadata": {},
   "source": [
    "### Удаление дубликатов"
   ]
  },
  {
   "cell_type": "code",
   "execution_count": 14,
   "id": "7d5245ca",
   "metadata": {},
   "outputs": [
    {
     "name": "stdout",
     "output_type": "stream",
     "text": [
      "0\n"
     ]
    }
   ],
   "source": [
    "# Удалим дубликаты\n",
    "df = df.drop_duplicates()\n",
    "print(df.duplicated().sum())"
   ]
  },
  {
   "cell_type": "markdown",
   "id": "590bfb2a",
   "metadata": {},
   "source": [
    "### Удаление неинформативных признаков"
   ]
  },
  {
   "cell_type": "markdown",
   "id": "d687aeee",
   "metadata": {},
   "source": [
    "Предлагается исключить из списка признаков следующие:<br>\n",
    "- DateCrawled — дата скачивания анкеты из базы - не является информацией от нового клиента\n",
    "- RegistrationMonth — месяц регистрации автомобиля - исключен, поскольку есть более существенный признак -год регистрации автомобиля.Теоретически можно добавить дробную часть к году, но в рамках целей данной работы этоне будет оправдано(лишнее усложнение).\n",
    "- NumberOfPictures — количество фотографий автомобиля- - не является характеристикой автомобиля\n",
    "- LastSeen — дата последней активности пользователя - не является информацией от нового клиента\n",
    "- DateCreated — дата создания анкеты - все анкеты в базе созданы в период 2014-2016. Можно считать их актуальными, столбец не несет полезной информации.*\n",
    "\n",
    "*Если только не произошел скачкообразный рост цен или сильная инфляция в этом периоде. В рамках данной работы принимает, что этого не случилось."
   ]
  },
  {
   "cell_type": "code",
   "execution_count": 15,
   "id": "7701f888",
   "metadata": {},
   "outputs": [],
   "source": [
    "# Удаляем неинформативные признаки\n",
    "df = df.drop(['DateCrawled','RegistrationMonth','NumberOfPictures','LastSeen','DateCreated'],axis=1)"
   ]
  },
  {
   "cell_type": "code",
   "execution_count": 16,
   "id": "a7cb3fe0",
   "metadata": {},
   "outputs": [
    {
     "name": "stdout",
     "output_type": "stream",
     "text": [
      "<class 'pandas.core.frame.DataFrame'>\n",
      "Int64Index: 354365 entries, 0 to 354368\n",
      "Data columns (total 11 columns):\n",
      " #   Column            Non-Null Count   Dtype \n",
      "---  ------            --------------   ----- \n",
      " 0   Price             354365 non-null  int64 \n",
      " 1   VehicleType       316875 non-null  object\n",
      " 2   RegistrationYear  354365 non-null  int64 \n",
      " 3   Gearbox           334532 non-null  object\n",
      " 4   Power             354365 non-null  int64 \n",
      " 5   Model             334660 non-null  object\n",
      " 6   Kilometer         354365 non-null  int64 \n",
      " 7   FuelType          321470 non-null  object\n",
      " 8   Brand             354365 non-null  object\n",
      " 9   Repaired          283211 non-null  object\n",
      " 10  PostalCode        354365 non-null  int64 \n",
      "dtypes: int64(5), object(6)\n",
      "memory usage: 32.4+ MB\n"
     ]
    }
   ],
   "source": [
    "df.info()"
   ]
  },
  {
   "cell_type": "markdown",
   "id": "1d3f0bdf",
   "metadata": {},
   "source": [
    "### Приведение названий столбцов к змеиному регистру"
   ]
  },
  {
   "cell_type": "code",
   "execution_count": 17,
   "id": "f65e0f60",
   "metadata": {},
   "outputs": [],
   "source": [
    "#Уберем заглавные буквы\n",
    "\n",
    "df.columns = df.columns.str.lower()"
   ]
  },
  {
   "cell_type": "code",
   "execution_count": 18,
   "id": "b63867e6",
   "metadata": {},
   "outputs": [
    {
     "name": "stdout",
     "output_type": "stream",
     "text": [
      "<class 'pandas.core.frame.DataFrame'>\n",
      "Int64Index: 354365 entries, 0 to 354368\n",
      "Data columns (total 11 columns):\n",
      " #   Column             Non-Null Count   Dtype \n",
      "---  ------             --------------   ----- \n",
      " 0   price              354365 non-null  int64 \n",
      " 1   vehicle_type       316875 non-null  object\n",
      " 2   registration_year  354365 non-null  int64 \n",
      " 3   gearbox            334532 non-null  object\n",
      " 4   power              354365 non-null  int64 \n",
      " 5   model              334660 non-null  object\n",
      " 6   kilometer          354365 non-null  int64 \n",
      " 7   fuel_type          321470 non-null  object\n",
      " 8   brand              354365 non-null  object\n",
      " 9   repaired           283211 non-null  object\n",
      " 10  postalcode         354365 non-null  int64 \n",
      "dtypes: int64(5), object(6)\n",
      "memory usage: 32.4+ MB\n"
     ]
    }
   ],
   "source": [
    "df = df.rename(columns={'vehicletype': 'vehicle_type', \\\n",
    "                        'registrationyear': 'registration_year',\\\n",
    "                        'fueltype': 'fuel_type'})\n",
    "df.info()"
   ]
  },
  {
   "cell_type": "markdown",
   "id": "9b46b362",
   "metadata": {},
   "source": [
    "### Заполнение пропусков"
   ]
  },
  {
   "cell_type": "markdown",
   "id": "5cf031a1",
   "metadata": {},
   "source": [
    "Функция 'nan_func' на входе принимает:\n",
    "- df- датафрейм\n",
    "- column_1 - названия столбца, в котором необходимо исключить пропуски\n",
    "- column_2 - название столбца, на основании которого будут заполнятся пропуски. Если заполнить пропуск невозможно, то он заменяется на значяение, указанное в параметре 'default_value'\n",
    "- default_value - значение, которе используется в столбце column_1 для обозначения характеристики вне списка (обычно 'other')\n",
    "\n",
    "Функция 'nan_func' возвращает:\n",
    "- df - датафрейм с заполненными пропусками в столбце column_1"
   ]
  },
  {
   "cell_type": "markdown",
   "id": "0a04a5fd",
   "metadata": {},
   "source": [
    "**Столбец vehicle_type**"
   ]
  },
  {
   "cell_type": "code",
   "execution_count": 19,
   "id": "00958eed",
   "metadata": {},
   "outputs": [
    {
     "name": "stdout",
     "output_type": "stream",
     "text": [
      "[nan 'coupe' 'suv' 'small' 'sedan' 'convertible' 'bus' 'wagon' 'other']\n"
     ]
    }
   ],
   "source": [
    "#Посмотрим  уникальные значения столбца 'vehicle_type'\n",
    "\n",
    "print(df['vehicle_type'].unique())"
   ]
  },
  {
   "cell_type": "markdown",
   "id": "50d116ac",
   "metadata": {},
   "source": [
    "Восстановим тип кузова по столбцу model там, где это возможно. В остальных случаях присвоим значение 'other'"
   ]
  },
  {
   "cell_type": "code",
   "execution_count": 20,
   "id": "654b93ee",
   "metadata": {},
   "outputs": [],
   "source": [
    "#создание дополнительного \n",
    "#датафрейма без пропусков и 'other'\n",
    "    \n",
    "df_clean = df.loc[(df['vehicle_type']!='other') | \\\n",
    "                  (df['model']!='other')].dropna()\n"
   ]
  },
  {
   "cell_type": "code",
   "execution_count": 21,
   "id": "9e173f27",
   "metadata": {},
   "outputs": [],
   "source": [
    "#создание словаря column_1 - column_2\n",
    "    \n",
    "main_dict = pd.Series(df_clean['vehicle_type'].values,\\\n",
    "                      index=df_clean['model']).to_dict()"
   ]
  },
  {
   "cell_type": "code",
   "execution_count": 22,
   "id": "f4bb12aa",
   "metadata": {},
   "outputs": [],
   "source": [
    "#заполнение пропусков\n",
    "    \n",
    "for n in df.index: \n",
    "    if pd.isna(df.at[n,'vehicle_type']):\n",
    "        try:\n",
    "            df.at[n,'vehicle_type'] = main_dict[df.at[n,'model']]\n",
    "        except:\n",
    "            df.at[n,'vehicle_type'] = 'other'"
   ]
  },
  {
   "cell_type": "code",
   "execution_count": 23,
   "id": "a793ad37",
   "metadata": {},
   "outputs": [
    {
     "data": {
      "text/plain": [
       "0"
      ]
     },
     "execution_count": 23,
     "metadata": {},
     "output_type": "execute_result"
    }
   ],
   "source": [
    "#Кол-во пропусков после замены\n",
    "\n",
    "df['vehicle_type'].isna().sum()"
   ]
  },
  {
   "cell_type": "markdown",
   "id": "8361cf87",
   "metadata": {},
   "source": [
    "**Столбец fuel_type**"
   ]
  },
  {
   "cell_type": "code",
   "execution_count": 24,
   "id": "b23e7f55",
   "metadata": {},
   "outputs": [
    {
     "data": {
      "text/plain": [
       "array(['cng', 'electric', 'gasoline', 'hybrid', 'lpg', 'other', 'petrol',\n",
       "       nan], dtype=object)"
      ]
     },
     "execution_count": 24,
     "metadata": {},
     "output_type": "execute_result"
    }
   ],
   "source": [
    "#Посмотрим  уникальные значения столбца 'fuel_type'\n",
    "\n",
    "df['fuel_type'].sort_values().unique()"
   ]
  },
  {
   "cell_type": "markdown",
   "id": "cd3e4bf6",
   "metadata": {},
   "source": [
    "Восстановим тип топлива по объявлениям, в которых model аналогична. В остальных случаях присвоим значение 'other'"
   ]
  },
  {
   "cell_type": "code",
   "execution_count": 25,
   "id": "4982e6c7",
   "metadata": {},
   "outputs": [],
   "source": [
    "#создание дополнительного \n",
    "#датафрейма без пропусков и 'other'\n",
    "    \n",
    "df_clean = df.loc[(df['fuel_type']!='other') | \\\n",
    "                  (df['model']!='other')].dropna()"
   ]
  },
  {
   "cell_type": "code",
   "execution_count": 26,
   "id": "5625128d",
   "metadata": {},
   "outputs": [],
   "source": [
    "#создание словаря column_1 - column_2\n",
    "    \n",
    "main_dict = pd.Series(df_clean['fuel_type'].values,\\\n",
    "                      index=df_clean['model']).to_dict()"
   ]
  },
  {
   "cell_type": "code",
   "execution_count": 27,
   "id": "97f6a7c8",
   "metadata": {},
   "outputs": [],
   "source": [
    "#заполнение пропусков\n",
    "    \n",
    "for n in df.index: \n",
    "    if pd.isna(df.at[n,'fuel_type']):\n",
    "        try:\n",
    "            df.at[n,'fuel_type'] = main_dict[df.at[n,'model']]\n",
    "        except:\n",
    "            df.at[n,'fuel_type'] = 'other'"
   ]
  },
  {
   "cell_type": "code",
   "execution_count": 28,
   "id": "fb64e44e",
   "metadata": {},
   "outputs": [
    {
     "data": {
      "text/plain": [
       "0"
      ]
     },
     "execution_count": 28,
     "metadata": {},
     "output_type": "execute_result"
    }
   ],
   "source": [
    "#Кол-во пропусков после замены\n",
    "\n",
    "df['fuel_type'].isna().sum()"
   ]
  },
  {
   "cell_type": "markdown",
   "id": "53f16526",
   "metadata": {},
   "source": [
    "**Столбцы model, gearbox, repaired**"
   ]
  },
  {
   "cell_type": "code",
   "execution_count": 29,
   "id": "ac760496",
   "metadata": {},
   "outputs": [
    {
     "data": {
      "text/plain": [
       "array(['100', '145', '147', '156', '159', '1_reihe', '1er', '200',\n",
       "       '2_reihe', '300c', '3_reihe', '3er', '4_reihe', '500', '5_reihe',\n",
       "       '5er', '601', '6_reihe', '6er', '7er', '80', '850', '90', '900',\n",
       "       '9000', '911', 'a1', 'a2', 'a3', 'a4', 'a5', 'a6', 'a8',\n",
       "       'a_klasse', 'accord', 'agila', 'alhambra', 'almera', 'altea',\n",
       "       'amarok', 'antara', 'arosa', 'astra', 'auris', 'avensis', 'aveo',\n",
       "       'aygo', 'b_klasse', 'b_max', 'beetle', 'berlingo', 'bora',\n",
       "       'boxster', 'bravo', 'c1', 'c2', 'c3', 'c4', 'c5', 'c_klasse',\n",
       "       'c_max', 'c_reihe', 'caddy', 'calibra', 'captiva', 'carisma',\n",
       "       'carnival', 'cayenne', 'cc', 'ceed', 'charade', 'cherokee',\n",
       "       'citigo', 'civic', 'cl', 'clio', 'clk', 'clubman', 'colt', 'combo',\n",
       "       'cooper', 'cordoba', 'corolla', 'corsa', 'cr_reihe', 'croma',\n",
       "       'crossfire', 'cuore', 'cx_reihe', 'defender', 'delta', 'discovery',\n",
       "       'doblo', 'ducato', 'duster', 'e_klasse', 'elefantino', 'eos',\n",
       "       'escort', 'espace', 'exeo', 'fabia', 'fiesta', 'focus', 'forester',\n",
       "       'forfour', 'fortwo', 'fox', 'freelander', 'fusion', 'g_klasse',\n",
       "       'galant', 'galaxy', 'getz', 'gl', 'glk', 'golf', 'grand', 'i3',\n",
       "       'i_reihe', 'ibiza', 'impreza', 'insignia', 'jazz', 'jetta',\n",
       "       'jimny', 'juke', 'justy', 'ka', 'kadett', 'kaefer', 'kalina',\n",
       "       'kalos', 'kangoo', 'kappa', 'kuga', 'laguna', 'lancer', 'lanos',\n",
       "       'legacy', 'leon', 'lodgy', 'logan', 'lupo', 'lybra', 'm_klasse',\n",
       "       'm_reihe', 'materia', 'matiz', 'megane', 'meriva', 'micra', 'mii',\n",
       "       'modus', 'mondeo', 'move', 'musa', 'mustang', 'mx_reihe', 'navara',\n",
       "       'niva', 'note', 'nubira', 'octavia', 'omega', 'one', 'other',\n",
       "       'outlander', 'pajero', 'panda', 'passat', 'phaeton', 'picanto',\n",
       "       'polo', 'primera', 'ptcruiser', 'punto', 'q3', 'q5', 'q7',\n",
       "       'qashqai', 'r19', 'range_rover', 'range_rover_evoque',\n",
       "       'range_rover_sport', 'rangerover', 'rav', 'rio', 'roadster',\n",
       "       'roomster', 'rx_reihe', 's60', 's_klasse', 's_max', 's_type',\n",
       "       'samara', 'sandero', 'santa', 'scenic', 'scirocco', 'seicento',\n",
       "       'serie_1', 'serie_2', 'serie_3', 'sharan', 'signum', 'sirion',\n",
       "       'sl', 'slk', 'sorento', 'spark', 'spider', 'sportage', 'sprinter',\n",
       "       'stilo', 'superb', 'swift', 'terios', 'tigra', 'tiguan', 'toledo',\n",
       "       'touareg', 'touran', 'transit', 'transporter', 'tt', 'tucson',\n",
       "       'twingo', 'up', 'v40', 'v50', 'v60', 'v70', 'v_klasse', 'vectra',\n",
       "       'verso', 'viano', 'vito', 'vivaro', 'voyager', 'wrangler',\n",
       "       'x_reihe', 'x_trail', 'x_type', 'xc_reihe', 'yaris', 'yeti',\n",
       "       'ypsilon', 'z_reihe', 'zafira', nan], dtype=object)"
      ]
     },
     "execution_count": 29,
     "metadata": {},
     "output_type": "execute_result"
    }
   ],
   "source": [
    "#Посмотрим  уникальные значения столбца 'model'\n",
    "df['model'].sort_values().unique()"
   ]
  },
  {
   "cell_type": "code",
   "execution_count": 30,
   "id": "6efcb071",
   "metadata": {},
   "outputs": [
    {
     "data": {
      "text/plain": [
       "array(['auto', 'manual', nan], dtype=object)"
      ]
     },
     "execution_count": 30,
     "metadata": {},
     "output_type": "execute_result"
    }
   ],
   "source": [
    "#Посмотрим  уникальные значения столбца 'gearbox'\n",
    "df['gearbox'].sort_values().unique()"
   ]
  },
  {
   "cell_type": "code",
   "execution_count": 31,
   "id": "6a91c912",
   "metadata": {},
   "outputs": [
    {
     "data": {
      "text/plain": [
       "array(['no', 'yes', nan], dtype=object)"
      ]
     },
     "execution_count": 31,
     "metadata": {},
     "output_type": "execute_result"
    }
   ],
   "source": [
    "#Посмотрим  уникальные значения столбца 'repaired'\n",
    "df['repaired'].sort_values().unique()"
   ]
  },
  {
   "cell_type": "markdown",
   "id": "8b9da55e",
   "metadata": {},
   "source": [
    "Восстановить достоверно значения столбцов model, gearbox, repaired  проблематично на основе имеющихся данных. Заменим пропущенные значения на 'other'."
   ]
  },
  {
   "cell_type": "code",
   "execution_count": 32,
   "id": "58901c63",
   "metadata": {},
   "outputs": [
    {
     "name": "stdout",
     "output_type": "stream",
     "text": [
      "<class 'pandas.core.frame.DataFrame'>\n",
      "Int64Index: 354365 entries, 0 to 354368\n",
      "Data columns (total 11 columns):\n",
      " #   Column             Non-Null Count   Dtype \n",
      "---  ------             --------------   ----- \n",
      " 0   price              354365 non-null  int64 \n",
      " 1   vehicle_type       354365 non-null  object\n",
      " 2   registration_year  354365 non-null  int64 \n",
      " 3   gearbox            334532 non-null  object\n",
      " 4   power              354365 non-null  int64 \n",
      " 5   model              334660 non-null  object\n",
      " 6   kilometer          354365 non-null  int64 \n",
      " 7   fuel_type          354365 non-null  object\n",
      " 8   brand              354365 non-null  object\n",
      " 9   repaired           283211 non-null  object\n",
      " 10  postalcode         354365 non-null  int64 \n",
      "dtypes: int64(5), object(6)\n",
      "memory usage: 40.5+ MB\n"
     ]
    }
   ],
   "source": [
    "df.info()"
   ]
  },
  {
   "cell_type": "code",
   "execution_count": 33,
   "id": "98a362aa",
   "metadata": {},
   "outputs": [],
   "source": [
    "columns = ['model','repaired','gearbox']\n",
    "\n",
    "for column in columns:\n",
    "    df[column] = df[column].fillna('other')"
   ]
  },
  {
   "cell_type": "code",
   "execution_count": 34,
   "id": "cfacc52a",
   "metadata": {},
   "outputs": [
    {
     "name": "stdout",
     "output_type": "stream",
     "text": [
      "<class 'pandas.core.frame.DataFrame'>\n",
      "Int64Index: 354365 entries, 0 to 354368\n",
      "Data columns (total 11 columns):\n",
      " #   Column             Non-Null Count   Dtype \n",
      "---  ------             --------------   ----- \n",
      " 0   price              354365 non-null  int64 \n",
      " 1   vehicle_type       354365 non-null  object\n",
      " 2   registration_year  354365 non-null  int64 \n",
      " 3   gearbox            354365 non-null  object\n",
      " 4   power              354365 non-null  int64 \n",
      " 5   model              354365 non-null  object\n",
      " 6   kilometer          354365 non-null  int64 \n",
      " 7   fuel_type          354365 non-null  object\n",
      " 8   brand              354365 non-null  object\n",
      " 9   repaired           354365 non-null  object\n",
      " 10  postalcode         354365 non-null  int64 \n",
      "dtypes: int64(5), object(6)\n",
      "memory usage: 40.5+ MB\n"
     ]
    }
   ],
   "source": [
    "df.info()"
   ]
  },
  {
   "cell_type": "markdown",
   "id": "0b846c5a",
   "metadata": {},
   "source": [
    "**Промежуточные выводы  и итоги:**\n",
    "  - Удалены неинформативные столбцы из датафрейма\n",
    "  - Заполнены пропущенные значения (для столбцов vehicle_type и fuel_type по возможности использовалась зависимость данных характеристик от столбца 'model')"
   ]
  },
  {
   "cell_type": "markdown",
   "id": "734e181a",
   "metadata": {},
   "source": [
    "### Удаление выбросов"
   ]
  },
  {
   "cell_type": "markdown",
   "id": "62c5034f",
   "metadata": {},
   "source": [
    "**Общая статистика**"
   ]
  },
  {
   "cell_type": "code",
   "execution_count": 35,
   "id": "d52f8fc6",
   "metadata": {},
   "outputs": [
    {
     "data": {
      "text/html": [
       "<div>\n",
       "<style scoped>\n",
       "    .dataframe tbody tr th:only-of-type {\n",
       "        vertical-align: middle;\n",
       "    }\n",
       "\n",
       "    .dataframe tbody tr th {\n",
       "        vertical-align: top;\n",
       "    }\n",
       "\n",
       "    .dataframe thead th {\n",
       "        text-align: right;\n",
       "    }\n",
       "</style>\n",
       "<table border=\"1\" class=\"dataframe\">\n",
       "  <thead>\n",
       "    <tr style=\"text-align: right;\">\n",
       "      <th></th>\n",
       "      <th>price</th>\n",
       "      <th>registration_year</th>\n",
       "      <th>power</th>\n",
       "      <th>kilometer</th>\n",
       "      <th>postalcode</th>\n",
       "    </tr>\n",
       "  </thead>\n",
       "  <tbody>\n",
       "    <tr>\n",
       "      <th>count</th>\n",
       "      <td>354365.000000</td>\n",
       "      <td>354365.000000</td>\n",
       "      <td>354365.000000</td>\n",
       "      <td>354365.000000</td>\n",
       "      <td>354365.000000</td>\n",
       "    </tr>\n",
       "    <tr>\n",
       "      <th>mean</th>\n",
       "      <td>4416.679830</td>\n",
       "      <td>2004.234481</td>\n",
       "      <td>110.093816</td>\n",
       "      <td>128211.363989</td>\n",
       "      <td>50508.503800</td>\n",
       "    </tr>\n",
       "    <tr>\n",
       "      <th>std</th>\n",
       "      <td>4514.176349</td>\n",
       "      <td>90.228466</td>\n",
       "      <td>189.851330</td>\n",
       "      <td>37905.083858</td>\n",
       "      <td>25783.100078</td>\n",
       "    </tr>\n",
       "    <tr>\n",
       "      <th>min</th>\n",
       "      <td>0.000000</td>\n",
       "      <td>1000.000000</td>\n",
       "      <td>0.000000</td>\n",
       "      <td>5000.000000</td>\n",
       "      <td>1067.000000</td>\n",
       "    </tr>\n",
       "    <tr>\n",
       "      <th>25%</th>\n",
       "      <td>1050.000000</td>\n",
       "      <td>1999.000000</td>\n",
       "      <td>69.000000</td>\n",
       "      <td>125000.000000</td>\n",
       "      <td>30165.000000</td>\n",
       "    </tr>\n",
       "    <tr>\n",
       "      <th>50%</th>\n",
       "      <td>2700.000000</td>\n",
       "      <td>2003.000000</td>\n",
       "      <td>105.000000</td>\n",
       "      <td>150000.000000</td>\n",
       "      <td>49413.000000</td>\n",
       "    </tr>\n",
       "    <tr>\n",
       "      <th>75%</th>\n",
       "      <td>6400.000000</td>\n",
       "      <td>2008.000000</td>\n",
       "      <td>143.000000</td>\n",
       "      <td>150000.000000</td>\n",
       "      <td>71083.000000</td>\n",
       "    </tr>\n",
       "    <tr>\n",
       "      <th>max</th>\n",
       "      <td>20000.000000</td>\n",
       "      <td>9999.000000</td>\n",
       "      <td>20000.000000</td>\n",
       "      <td>150000.000000</td>\n",
       "      <td>99998.000000</td>\n",
       "    </tr>\n",
       "  </tbody>\n",
       "</table>\n",
       "</div>"
      ],
      "text/plain": [
       "               price  registration_year          power      kilometer  \\\n",
       "count  354365.000000      354365.000000  354365.000000  354365.000000   \n",
       "mean     4416.679830        2004.234481     110.093816  128211.363989   \n",
       "std      4514.176349          90.228466     189.851330   37905.083858   \n",
       "min         0.000000        1000.000000       0.000000    5000.000000   \n",
       "25%      1050.000000        1999.000000      69.000000  125000.000000   \n",
       "50%      2700.000000        2003.000000     105.000000  150000.000000   \n",
       "75%      6400.000000        2008.000000     143.000000  150000.000000   \n",
       "max     20000.000000        9999.000000   20000.000000  150000.000000   \n",
       "\n",
       "          postalcode  \n",
       "count  354365.000000  \n",
       "mean    50508.503800  \n",
       "std     25783.100078  \n",
       "min      1067.000000  \n",
       "25%     30165.000000  \n",
       "50%     49413.000000  \n",
       "75%     71083.000000  \n",
       "max     99998.000000  "
      ]
     },
     "execution_count": 35,
     "metadata": {},
     "output_type": "execute_result"
    }
   ],
   "source": [
    "df.describe()"
   ]
  },
  {
   "cell_type": "markdown",
   "id": "06d3c441",
   "metadata": {},
   "source": [
    "При рассмотретии статистики столбцов видно следующее:\n",
    "- имеются объявления с ценой 'price' =  '0' - данные объекты не могут быть использованы для моделирования, их необходимо удалить. Объявления с ценами ниже 200 долларов можно также исключить из обучения - нет смысла предлагать клиенту продать машину за бесценок.\n",
    "- имеются машины с мощностью 'power'= '0' и аномально большой мощностью - необходимо заменить нулевые мощности  и аномально большие на средние по моделям, а если это невозможно, то удалить строки. Также стоит заменить значения мощности менее 50 л.с. на средние по моделям.\n",
    "- имеются аномальные значения года регистрации 'registration_year' - необходимо заменить на среднее значение по моделям, а если это невозможно, то удалить строки. \n",
    "- Значения в столбце 'kilometer' выглядят правдоподобно - оставим без изменений\n",
    "- Значения в столбце 'postalcode' выглядят правдоподобно - оставим без изменений"
   ]
  },
  {
   "cell_type": "markdown",
   "id": "57021c5e",
   "metadata": {},
   "source": [
    "**Столбец price**"
   ]
  },
  {
   "cell_type": "code",
   "execution_count": 36,
   "id": "9f8996dc",
   "metadata": {},
   "outputs": [
    {
     "data": {
      "image/png": "[encoded data removed]",
      "text/plain": [
       "<Figure size 432x288 with 1 Axes>"
      ]
     },
     "metadata": {
      "needs_background": "light"
     },
     "output_type": "display_data"
    }
   ],
   "source": [
    "#Диаграмма размаха\n",
    "\n",
    "df.boxplot(['price']);"
   ]
  },
  {
   "cell_type": "code",
   "execution_count": 37,
   "id": "94dacc47",
   "metadata": {},
   "outputs": [
    {
     "data": {
      "image/png": "[encoded data removed]",
      "text/plain": [
       "<Figure size 432x288 with 1 Axes>"
      ]
     },
     "metadata": {
      "needs_background": "light"
     },
     "output_type": "display_data"
    }
   ],
   "source": [
    "#Построим распределения плотности цены\n",
    "\n",
    "sns.kdeplot(df['price'],shade=True,alpha=0.07,label='Плотность распределения цены');\n",
    "plt.ylabel('Плотность') \n",
    "plt.xlabel('Цена')\n",
    "plt.xlim(0,20000)\n",
    "plt.legend()\n",
    "#plt.title('Плотность распределения цены')\n",
    "plt.show()"
   ]
  },
  {
   "cell_type": "code",
   "execution_count": 38,
   "id": "90fc281a",
   "metadata": {},
   "outputs": [
    {
     "data": {
      "text/plain": [
       "17462"
      ]
     },
     "execution_count": 38,
     "metadata": {},
     "output_type": "execute_result"
    }
   ],
   "source": [
    "#Смотрим кол-во строк с ценой меньше 200$\n",
    "\n",
    "df.loc[df['price'] < 200].shape[0]"
   ]
  },
  {
   "cell_type": "code",
   "execution_count": 39,
   "id": "40499dc7",
   "metadata": {},
   "outputs": [
    {
     "data": {
      "text/plain": [
       "0"
      ]
     },
     "execution_count": 39,
     "metadata": {},
     "output_type": "execute_result"
    }
   ],
   "source": [
    "# Удалим объявления с ценой меньше 200$\n",
    "\n",
    "df = df.drop(df[df.price < 200].index)\n",
    "\n",
    "df.loc[df['price'] < 0].shape[0]"
   ]
  },
  {
   "cell_type": "markdown",
   "id": "19d85139",
   "metadata": {},
   "source": [
    "**Столбец power**"
   ]
  },
  {
   "cell_type": "code",
   "execution_count": 40,
   "id": "11c8ca8f",
   "metadata": {},
   "outputs": [
    {
     "data": {
      "text/plain": [
       "(0.0, 1000.0)"
      ]
     },
     "execution_count": 40,
     "metadata": {},
     "output_type": "execute_result"
    },
    {
     "data": {
      "image/png": "[encoded data removed]",
      "text/plain": [
       "<Figure size 432x288 with 1 Axes>"
      ]
     },
     "metadata": {
      "needs_background": "light"
     },
     "output_type": "display_data"
    }
   ],
   "source": [
    "#Диаграмма размаха\n",
    "\n",
    "df.boxplot(['power']);\n",
    "plt.ylim(0,1000)"
   ]
  },
  {
   "cell_type": "code",
   "execution_count": 41,
   "id": "5537315a",
   "metadata": {},
   "outputs": [
    {
     "data": {
      "image/png": "[encoded data removed]",
      "text/plain": [
       "<Figure size 720x432 with 1 Axes>"
      ]
     },
     "metadata": {
      "needs_background": "light"
     },
     "output_type": "display_data"
    }
   ],
   "source": [
    "#Построим гистограмму для столбца 'power'\n",
    "\n",
    "df[['power']].plot(kind=\"hist\", histtype='step',\\\n",
    "                              linewidth=3, grid=True,bins=50, figsize=(10,6));"
   ]
  },
  {
   "cell_type": "markdown",
   "id": "c2c78b22",
   "metadata": {},
   "source": [
    "Определим аномалии сверху с помощью квантиля"
   ]
  },
  {
   "cell_type": "code",
   "execution_count": 42,
   "id": "b80abb30",
   "metadata": {},
   "outputs": [
    {
     "name": "stdout",
     "output_type": "stream",
     "text": [
      "251.0\n"
     ]
    }
   ],
   "source": [
    "q1 = df['power'].quantile(0.25)\n",
    "q3 = df['power'].quantile(0.75)\n",
    "iqr = q3-q1 # Межквартильный интервал\n",
    "fence_high = q3+1.5*iqr\n",
    "print(fence_high)"
   ]
  },
  {
   "cell_type": "markdown",
   "id": "9748cfa9",
   "metadata": {},
   "source": [
    "Машин с мощностью выше 248 мало , но они встречаются в жизни. ПРедлагается сдвинуть границу до 600, чтобы не потерять некоторые мощные модели, встречающиеся в жизни. Снизу ограничимся мощностью 50 л.с."
   ]
  },
  {
   "cell_type": "code",
   "execution_count": 43,
   "id": "83ce8317",
   "metadata": {},
   "outputs": [],
   "source": [
    "fence_low  = 50\n",
    "fence_high = 600\n",
    "df = df.loc[(df['power'] > fence_low) & \\\n",
    "            (df['power'] < fence_high)]"
   ]
  },
  {
   "cell_type": "markdown",
   "id": "06347b3c",
   "metadata": {},
   "source": [
    "Заменим аномалии на средние по моделям, а если это невозможно - удалим аномалии."
   ]
  },
  {
   "cell_type": "code",
   "execution_count": 44,
   "id": "d88d72dc",
   "metadata": {},
   "outputs": [],
   "source": [
    "for model in df['model'].unique():\n",
    "    median = df.loc[df['model'] == model,'power'].median()\n",
    "    df.loc[(df['power']<50) & (df['model'] == model) ,'model'] = median\n",
    "    df.loc[(df['power']>600) & (df['model'] == model) ,'model'] = median"
   ]
  },
  {
   "cell_type": "code",
   "execution_count": 45,
   "id": "7592e8d2",
   "metadata": {},
   "outputs": [],
   "source": [
    "#удалим оставшиеся объявления с аномалиями в столбце power\n",
    "\n",
    "df = df.loc[(df['power']<=600) & (df['power']>=50)]"
   ]
  },
  {
   "cell_type": "code",
   "execution_count": 46,
   "id": "75ce661e",
   "metadata": {},
   "outputs": [
    {
     "data": {
      "image/png": "[encoded data removed]",
      "text/plain": [
       "<Figure size 720x432 with 1 Axes>"
      ]
     },
     "metadata": {
      "needs_background": "light"
     },
     "output_type": "display_data"
    }
   ],
   "source": [
    "#Построим гистограмму для столбца 'power'\n",
    "\n",
    "df[['power']].plot(kind=\"hist\", histtype='step',\\\n",
    "                              linewidth=3, grid=True,bins=50, figsize=(10,6));"
   ]
  },
  {
   "cell_type": "code",
   "execution_count": 47,
   "id": "94d872e8",
   "metadata": {},
   "outputs": [
    {
     "data": {
      "text/html": [
       "<div>\n",
       "<style scoped>\n",
       "    .dataframe tbody tr th:only-of-type {\n",
       "        vertical-align: middle;\n",
       "    }\n",
       "\n",
       "    .dataframe tbody tr th {\n",
       "        vertical-align: top;\n",
       "    }\n",
       "\n",
       "    .dataframe thead th {\n",
       "        text-align: right;\n",
       "    }\n",
       "</style>\n",
       "<table border=\"1\" class=\"dataframe\">\n",
       "  <thead>\n",
       "    <tr style=\"text-align: right;\">\n",
       "      <th></th>\n",
       "      <th>price</th>\n",
       "      <th>registration_year</th>\n",
       "      <th>power</th>\n",
       "      <th>kilometer</th>\n",
       "      <th>postalcode</th>\n",
       "    </tr>\n",
       "  </thead>\n",
       "  <tbody>\n",
       "    <tr>\n",
       "      <th>count</th>\n",
       "      <td>293362.000000</td>\n",
       "      <td>293362.000000</td>\n",
       "      <td>293362.000000</td>\n",
       "      <td>293362.000000</td>\n",
       "      <td>293362.000000</td>\n",
       "    </tr>\n",
       "    <tr>\n",
       "      <th>mean</th>\n",
       "      <td>4973.317430</td>\n",
       "      <td>2003.757320</td>\n",
       "      <td>123.168430</td>\n",
       "      <td>128527.041675</td>\n",
       "      <td>51322.879667</td>\n",
       "    </tr>\n",
       "    <tr>\n",
       "      <th>std</th>\n",
       "      <td>4602.400967</td>\n",
       "      <td>30.034727</td>\n",
       "      <td>52.692179</td>\n",
       "      <td>36532.706158</td>\n",
       "      <td>25748.867067</td>\n",
       "    </tr>\n",
       "    <tr>\n",
       "      <th>min</th>\n",
       "      <td>200.000000</td>\n",
       "      <td>1000.000000</td>\n",
       "      <td>51.000000</td>\n",
       "      <td>5000.000000</td>\n",
       "      <td>1067.000000</td>\n",
       "    </tr>\n",
       "    <tr>\n",
       "      <th>25%</th>\n",
       "      <td>1450.000000</td>\n",
       "      <td>1999.000000</td>\n",
       "      <td>82.000000</td>\n",
       "      <td>125000.000000</td>\n",
       "      <td>31029.000000</td>\n",
       "    </tr>\n",
       "    <tr>\n",
       "      <th>50%</th>\n",
       "      <td>3331.500000</td>\n",
       "      <td>2004.000000</td>\n",
       "      <td>115.000000</td>\n",
       "      <td>150000.000000</td>\n",
       "      <td>50354.000000</td>\n",
       "    </tr>\n",
       "    <tr>\n",
       "      <th>75%</th>\n",
       "      <td>7000.000000</td>\n",
       "      <td>2008.000000</td>\n",
       "      <td>150.000000</td>\n",
       "      <td>150000.000000</td>\n",
       "      <td>72119.000000</td>\n",
       "    </tr>\n",
       "    <tr>\n",
       "      <th>max</th>\n",
       "      <td>20000.000000</td>\n",
       "      <td>9999.000000</td>\n",
       "      <td>599.000000</td>\n",
       "      <td>150000.000000</td>\n",
       "      <td>99998.000000</td>\n",
       "    </tr>\n",
       "  </tbody>\n",
       "</table>\n",
       "</div>"
      ],
      "text/plain": [
       "               price  registration_year          power      kilometer  \\\n",
       "count  293362.000000      293362.000000  293362.000000  293362.000000   \n",
       "mean     4973.317430        2003.757320     123.168430  128527.041675   \n",
       "std      4602.400967          30.034727      52.692179   36532.706158   \n",
       "min       200.000000        1000.000000      51.000000    5000.000000   \n",
       "25%      1450.000000        1999.000000      82.000000  125000.000000   \n",
       "50%      3331.500000        2004.000000     115.000000  150000.000000   \n",
       "75%      7000.000000        2008.000000     150.000000  150000.000000   \n",
       "max     20000.000000        9999.000000     599.000000  150000.000000   \n",
       "\n",
       "          postalcode  \n",
       "count  293362.000000  \n",
       "mean    51322.879667  \n",
       "std     25748.867067  \n",
       "min      1067.000000  \n",
       "25%     31029.000000  \n",
       "50%     50354.000000  \n",
       "75%     72119.000000  \n",
       "max     99998.000000  "
      ]
     },
     "execution_count": 47,
     "metadata": {},
     "output_type": "execute_result"
    }
   ],
   "source": [
    "df.describe()"
   ]
  },
  {
   "cell_type": "markdown",
   "id": "aaa3848b",
   "metadata": {},
   "source": [
    "**Столбец registration_year**"
   ]
  },
  {
   "cell_type": "code",
   "execution_count": 48,
   "id": "6984f122",
   "metadata": {},
   "outputs": [
    {
     "data": {
      "text/plain": [
       "(1900.0, 2050.0)"
      ]
     },
     "execution_count": 48,
     "metadata": {},
     "output_type": "execute_result"
    },
    {
     "data": {
      "image/png": "[encoded data removed]",
      "text/plain": [
       "<Figure size 432x288 with 1 Axes>"
      ]
     },
     "metadata": {
      "needs_background": "light"
     },
     "output_type": "display_data"
    }
   ],
   "source": [
    "#Диаграмма размаха\n",
    "\n",
    "df.boxplot(['registration_year']);\n",
    "plt.ylim(1900,2050)"
   ]
  },
  {
   "cell_type": "code",
   "execution_count": 49,
   "id": "8a945592",
   "metadata": {},
   "outputs": [
    {
     "name": "stdout",
     "output_type": "stream",
     "text": [
      "1994.5\n"
     ]
    }
   ],
   "source": [
    "#Смотрим порог лоя выбровос снизу\n",
    "\n",
    "q1 = df['registration_year'].quantile(0.25)\n",
    "q3 = df['registration_year'].quantile(0.75)\n",
    "iqr = q3-q1 # Межквартильный интервал\n",
    "fence_low = q3-1.5*iqr\n",
    "print(fence_low)"
   ]
  },
  {
   "cell_type": "markdown",
   "id": "ea4b78ea",
   "metadata": {},
   "source": [
    "Заменим аномалии c регистрацией ранее 1950 г. и позже 2016 на средние по моделям"
   ]
  },
  {
   "cell_type": "code",
   "execution_count": 50,
   "id": "c9c4925a",
   "metadata": {},
   "outputs": [],
   "source": [
    "for model in df['model'].unique():\n",
    "    median = df.loc[df['model'] == model,'registration_year'].median()\n",
    "    df.loc[(df['registration_year']<1950) & (df['model'] == model) ,'model'] = median\n",
    "    df.loc[(df['registration_year']>2016) & (df['model'] == model) ,'model'] = median"
   ]
  },
  {
   "cell_type": "code",
   "execution_count": 51,
   "id": "ed2ee254",
   "metadata": {},
   "outputs": [],
   "source": [
    "#удалим оставшиеся объявления с аномалиями в столбце registration_year.\n",
    "\n",
    "df = df.loc[(df['registration_year']<=2016) & (df['registration_year']>=1950)]"
   ]
  },
  {
   "cell_type": "code",
   "execution_count": 52,
   "id": "ed9fad5f",
   "metadata": {},
   "outputs": [
    {
     "data": {
      "image/png": "[encoded data removed]",
      "text/plain": [
       "<Figure size 720x432 with 1 Axes>"
      ]
     },
     "metadata": {
      "needs_background": "light"
     },
     "output_type": "display_data"
    }
   ],
   "source": [
    "#Построим гистограмму для столбца 'registration_year'\n",
    "\n",
    "df[['registration_year']].plot(kind=\"hist\", histtype='step',\\\n",
    "                              linewidth=3, grid=True,bins=50, figsize=(10,6));"
   ]
  },
  {
   "cell_type": "code",
   "execution_count": 53,
   "id": "468a1f5b",
   "metadata": {},
   "outputs": [
    {
     "data": {
      "text/html": [
       "<div>\n",
       "<style scoped>\n",
       "    .dataframe tbody tr th:only-of-type {\n",
       "        vertical-align: middle;\n",
       "    }\n",
       "\n",
       "    .dataframe tbody tr th {\n",
       "        vertical-align: top;\n",
       "    }\n",
       "\n",
       "    .dataframe thead th {\n",
       "        text-align: right;\n",
       "    }\n",
       "</style>\n",
       "<table border=\"1\" class=\"dataframe\">\n",
       "  <thead>\n",
       "    <tr style=\"text-align: right;\">\n",
       "      <th></th>\n",
       "      <th>price</th>\n",
       "      <th>registration_year</th>\n",
       "      <th>power</th>\n",
       "      <th>kilometer</th>\n",
       "      <th>postalcode</th>\n",
       "    </tr>\n",
       "  </thead>\n",
       "  <tbody>\n",
       "    <tr>\n",
       "      <th>count</th>\n",
       "      <td>283518.000000</td>\n",
       "      <td>283518.000000</td>\n",
       "      <td>283518.000000</td>\n",
       "      <td>283518.000000</td>\n",
       "      <td>283518.000000</td>\n",
       "    </tr>\n",
       "    <tr>\n",
       "      <th>mean</th>\n",
       "      <td>5017.647483</td>\n",
       "      <td>2003.087395</td>\n",
       "      <td>123.553923</td>\n",
       "      <td>128376.152484</td>\n",
       "      <td>51406.067805</td>\n",
       "    </tr>\n",
       "    <tr>\n",
       "      <th>std</th>\n",
       "      <td>4626.390951</td>\n",
       "      <td>6.246450</td>\n",
       "      <td>52.774575</td>\n",
       "      <td>36584.390314</td>\n",
       "      <td>25761.230394</td>\n",
       "    </tr>\n",
       "    <tr>\n",
       "      <th>min</th>\n",
       "      <td>200.000000</td>\n",
       "      <td>1950.000000</td>\n",
       "      <td>51.000000</td>\n",
       "      <td>5000.000000</td>\n",
       "      <td>1067.000000</td>\n",
       "    </tr>\n",
       "    <tr>\n",
       "      <th>25%</th>\n",
       "      <td>1490.000000</td>\n",
       "      <td>1999.000000</td>\n",
       "      <td>84.000000</td>\n",
       "      <td>125000.000000</td>\n",
       "      <td>31134.000000</td>\n",
       "    </tr>\n",
       "    <tr>\n",
       "      <th>50%</th>\n",
       "      <td>3400.000000</td>\n",
       "      <td>2003.000000</td>\n",
       "      <td>116.000000</td>\n",
       "      <td>150000.000000</td>\n",
       "      <td>50668.000000</td>\n",
       "    </tr>\n",
       "    <tr>\n",
       "      <th>75%</th>\n",
       "      <td>7200.000000</td>\n",
       "      <td>2007.000000</td>\n",
       "      <td>150.000000</td>\n",
       "      <td>150000.000000</td>\n",
       "      <td>72186.000000</td>\n",
       "    </tr>\n",
       "    <tr>\n",
       "      <th>max</th>\n",
       "      <td>20000.000000</td>\n",
       "      <td>2016.000000</td>\n",
       "      <td>585.000000</td>\n",
       "      <td>150000.000000</td>\n",
       "      <td>99998.000000</td>\n",
       "    </tr>\n",
       "  </tbody>\n",
       "</table>\n",
       "</div>"
      ],
      "text/plain": [
       "               price  registration_year          power      kilometer  \\\n",
       "count  283518.000000      283518.000000  283518.000000  283518.000000   \n",
       "mean     5017.647483        2003.087395     123.553923  128376.152484   \n",
       "std      4626.390951           6.246450      52.774575   36584.390314   \n",
       "min       200.000000        1950.000000      51.000000    5000.000000   \n",
       "25%      1490.000000        1999.000000      84.000000  125000.000000   \n",
       "50%      3400.000000        2003.000000     116.000000  150000.000000   \n",
       "75%      7200.000000        2007.000000     150.000000  150000.000000   \n",
       "max     20000.000000        2016.000000     585.000000  150000.000000   \n",
       "\n",
       "          postalcode  \n",
       "count  283518.000000  \n",
       "mean    51406.067805  \n",
       "std     25761.230394  \n",
       "min      1067.000000  \n",
       "25%     31134.000000  \n",
       "50%     50668.000000  \n",
       "75%     72186.000000  \n",
       "max     99998.000000  "
      ]
     },
     "execution_count": 53,
     "metadata": {},
     "output_type": "execute_result"
    }
   ],
   "source": [
    "#Смотрим результат\n",
    "\n",
    "df.describe()"
   ]
  },
  {
   "cell_type": "markdown",
   "id": "9f3d3fb8",
   "metadata": {},
   "source": [
    "**Промежуточный вывод: датафрейм очищен от выбросов.**"
   ]
  },
  {
   "cell_type": "markdown",
   "id": "84ddf128",
   "metadata": {},
   "source": [
    "# Построение моделей"
   ]
  },
  {
   "cell_type": "markdown",
   "id": "dc856a9c",
   "metadata": {},
   "source": [
    "## Порядок действий"
   ]
  },
  {
   "cell_type": "markdown",
   "id": "bfaa7ff3",
   "metadata": {},
   "source": [
    "Порядок действий:\n",
    "- выделим признаки и целевой признак \n",
    "- преобразуем категориальные признаки в численные\n",
    "- построим модель случайного леса для определения цены автомобиля с помощью модуля GridSearchCV. Оценим  RMSE, время обучения и время предсказания модели.\n",
    "- построим модель  LightGBM для определения цены автомобиля с помощью модуля GridSearchCV. Оценим Оценим  RMSE, время обучения и время предсказания модели.\n",
    "- проверим модели на вменяемость\n",
    "- проверим лучшую модель на тестовой выборке."
   ]
  },
  {
   "cell_type": "markdown",
   "id": "e099ab57",
   "metadata": {},
   "source": [
    "## Выделение ключевых признаков и создание выборок"
   ]
  },
  {
   "cell_type": "code",
   "execution_count": 54,
   "id": "937f05c1",
   "metadata": {},
   "outputs": [],
   "source": [
    "#выделяем признаки и целевой признак\n",
    "    \n",
    "features = df.drop(['price'],axis=1)\n",
    "target = df['price']\n",
    "    \n",
    "#выделяем тестовые наборы features_test  и target_test (25%)\n",
    "    \n",
    "features_train, features_test, target_train, target_test =\\\n",
    "train_test_split(features, target,test_size=0.25,\\\n",
    "                     random_state=12345)"
   ]
  },
  {
   "cell_type": "code",
   "execution_count": 55,
   "id": "86fd4dd2",
   "metadata": {},
   "outputs": [],
   "source": [
    "#выделяем валидационную выборку из features_train\n",
    "#(разбиение будет использоваться только для модели LightGBM)\n",
    "\n",
    "features_train_v2, features_valid, target_train_v2, target_valid =\\\n",
    "train_test_split(features_train, target_train,test_size=0.25,\\\n",
    "                     random_state=12345)"
   ]
  },
  {
   "cell_type": "markdown",
   "id": "98dab3b9",
   "metadata": {},
   "source": [
    "## Преобразование категориальных признаков"
   ]
  },
  {
   "cell_type": "markdown",
   "id": "8b2dc383",
   "metadata": {},
   "source": [
    "Выполним преобразование категориальных признаков с помощью порядкового кодирования для всех выборок"
   ]
  },
  {
   "cell_type": "code",
   "execution_count": 56,
   "id": "f71f1ffc",
   "metadata": {},
   "outputs": [],
   "source": [
    "pd.options.mode.chained_assignment = None\n",
    "\n",
    "enc = OrdinalEncoder()\n",
    "categorical_columns =[\"vehicle_type\",\"gearbox\", \"model\",\"fuel_type\",\"brand\",\"repaired\"]\n",
    "\n",
    "features_train[categorical_columns] = features_train[categorical_columns].astype(str)\n",
    "features_train[categorical_columns] = enc.fit_transform(features_train[categorical_columns])\n",
    "features_train[categorical_columns] = features_train[categorical_columns].astype(int)\n",
    "\n",
    "features_test[categorical_columns] = features_test[categorical_columns].astype(str)\n",
    "features_test[categorical_columns] = enc.fit_transform(features_test[categorical_columns])\n",
    "features_test[categorical_columns] = features_test[categorical_columns].astype(int)\n",
    "\n",
    "features_train_v2[categorical_columns] = features_train_v2[categorical_columns].astype(str)\n",
    "features_train_v2[categorical_columns] = enc.fit_transform(features_train_v2[categorical_columns])\n",
    "features_train_v2[categorical_columns] = features_train_v2[categorical_columns].astype(int)\n",
    "\n",
    "features_valid[categorical_columns] = features_valid[categorical_columns].astype(str)\n",
    "features_valid[categorical_columns] = enc.fit_transform(features_valid[categorical_columns])\n",
    "features_valid[categorical_columns] = features_valid[categorical_columns].astype(int)"
   ]
  },
  {
   "cell_type": "code",
   "execution_count": 57,
   "id": "a2a0a2aa",
   "metadata": {},
   "outputs": [
    {
     "name": "stdout",
     "output_type": "stream",
     "text": [
      "<class 'pandas.core.frame.DataFrame'>\n",
      "Int64Index: 70880 entries, 104613 to 218603\n",
      "Data columns (total 10 columns):\n",
      " #   Column             Non-Null Count  Dtype\n",
      "---  ------             --------------  -----\n",
      " 0   vehicle_type       70880 non-null  int32\n",
      " 1   registration_year  70880 non-null  int64\n",
      " 2   gearbox            70880 non-null  int32\n",
      " 3   power              70880 non-null  int64\n",
      " 4   model              70880 non-null  int32\n",
      " 5   kilometer          70880 non-null  int64\n",
      " 6   fuel_type          70880 non-null  int32\n",
      " 7   brand              70880 non-null  int32\n",
      " 8   repaired           70880 non-null  int32\n",
      " 9   postalcode         70880 non-null  int64\n",
      "dtypes: int32(6), int64(4)\n",
      "memory usage: 4.3 MB\n"
     ]
    }
   ],
   "source": [
    "features_test.info()"
   ]
  },
  {
   "cell_type": "markdown",
   "id": "22b5bc40",
   "metadata": {},
   "source": [
    "## Функция для обучения и сохранения модели случайного леса"
   ]
  },
  {
   "cell_type": "markdown",
   "id": "48e2210a",
   "metadata": {},
   "source": [
    "Cоздадим функцию, которая: \n",
    " - на входе получает выборки \n",
    " - создает и обучает модель с помощью модуля GridSearchCV\n",
    " - получает предсказания \n",
    " - сохраняет в  датафрейм model_result:\n",
    "    - название модедли\n",
    "    - лучшую метрику rmse\n",
    "    - лучшие параметры модели\n",
    "    - время обучения модели\n",
    "    - время предсказания результатов\n",
    " - возвращает:\n",
    "    - модель для проверки на тестовой выборке\n",
    "\n",
    "Парамметры создаваемой функции model(ft,tt,name,type):\n",
    " - ft- тренировочная выборка с параметрами\n",
    " - tt- тренировочная выборка с целевым параметром\n",
    " - name - название модели\n",
    " - type- выбранная модель:\n",
    "    -  rf - случайный лес с помощью модуля GridSearchCV"
   ]
  },
  {
   "cell_type": "code",
   "execution_count": 58,
   "id": "7a9ba926",
   "metadata": {},
   "outputs": [],
   "source": [
    "#датафрейм для параметров и точности моделей\n",
    "\n",
    "rf_model_result = \\\n",
    "pd.DataFrame(columns=\\\n",
    "             ['model_name','rmse','best_param',\\\n",
    "              'max_learn_time','max_predict_time'])"
   ]
  },
  {
   "cell_type": "code",
   "execution_count": 59,
   "id": "db1e5128",
   "metadata": {},
   "outputs": [],
   "source": [
    "def RMSE(actual,predicted) -> float:\n",
    "    \n",
    "    # Конвертируем actual и predicted в \n",
    "    # массив numpy, если необходимо\n",
    "    \n",
    "    if not all([isinstance(actual, np.ndarray),\n",
    "                isinstance(predicted, np.ndarray)]):\n",
    "        actual = np.array(actual)\n",
    "        predicted  = np.array(predicted)\n",
    "    rmse = sqrt(mean_squared_error(actual, predicted))\n",
    "    return rmse"
   ]
  },
  {
   "cell_type": "code",
   "execution_count": 60,
   "id": "52f7a2cd",
   "metadata": {},
   "outputs": [],
   "source": [
    "def model(ft, tt, name, type):\n",
    "    \n",
    "    global rf_model_result\n",
    "    global RMSE\n",
    " \n",
    "    rmse = make_scorer(RMSE,greater_is_better=False)\n",
    "\n",
    "    if type == 'rf':\n",
    "        \n",
    "        #создадим модель регрессии и словарь параметров\n",
    "        \n",
    "        model = RandomForestRegressor(n_estimators=50,\n",
    "                                      random_state=12345)\n",
    "\n",
    "        parametrs = [{'max_depth': range (10,15,2),\\\n",
    "                     'n_estimators': range (2,50,20)}]\n",
    "    \n",
    "    \n",
    "        #передаем параметры и обучаем модель\n",
    "        #выбираем лцчшую по мере RMSE! \n",
    "    \n",
    "        model_grid = GridSearchCV(model, parametrs,\\\n",
    "                                  cv=2,verbose=3,scoring=rmse)\n",
    "        model_grid.fit(ft,tt) \n",
    "        \n",
    "        # сохраняем параметры модели в переменных\n",
    "        \n",
    "        score = model_grid.best_score_\n",
    "        param = model_grid.best_params_\n",
    "        learn_time = round(model_grid.cv_results_['mean_fit_time'].max(),2)\n",
    "        predict_time = round(model_grid.cv_results_['mean_score_time'].max(),2)   \n",
    "    \n",
    "    #сохраняем параметры модели в датафрейм\n",
    "    \n",
    "    new_row = pd.DataFrame({\\\n",
    "                            'model_name':[name],\\\n",
    "                            'rmse':[score],\\\n",
    "                            'best_param':[param],\\\n",
    "                            'max_learn_time':[learn_time],\\\n",
    "                            'max_predict_time':[predict_time],\\\n",
    "                           })\n",
    "    rf_model_result = pd.concat([rf_model_result, new_row], \\\n",
    "                             ignore_index = True)\n",
    "    \n",
    "    #возвращаем модель\n",
    "\n",
    "    return model_grid"
   ]
  },
  {
   "cell_type": "markdown",
   "id": "31615d14",
   "metadata": {},
   "source": [
    "## Модель случайного леса"
   ]
  },
  {
   "cell_type": "markdown",
   "id": "a2461cd5",
   "metadata": {},
   "source": [
    "Обучим модель случайного леса"
   ]
  },
  {
   "cell_type": "code",
   "execution_count": 61,
   "id": "b96fcc74",
   "metadata": {},
   "outputs": [
    {
     "name": "stdout",
     "output_type": "stream",
     "text": [
      "Fitting 2 folds for each of 9 candidates, totalling 18 fits\n",
      "[CV 1/2] END ..max_depth=10, n_estimators=2;, score=-1958.168 total time=   1.1s\n",
      "[CV 2/2] END ..max_depth=10, n_estimators=2;, score=-1947.116 total time=   1.2s\n",
      "[CV 1/2] END .max_depth=10, n_estimators=22;, score=-1874.077 total time=  18.0s\n",
      "[CV 2/2] END .max_depth=10, n_estimators=22;, score=-1861.353 total time=  17.3s\n",
      "[CV 1/2] END .max_depth=10, n_estimators=42;, score=-1868.445 total time=  33.0s\n",
      "[CV 2/2] END .max_depth=10, n_estimators=42;, score=-1857.644 total time=  27.1s\n",
      "[CV 1/2] END ..max_depth=12, n_estimators=2;, score=-1900.560 total time=   1.5s\n",
      "[CV 2/2] END ..max_depth=12, n_estimators=2;, score=-1896.915 total time=   1.5s\n",
      "[CV 1/2] END .max_depth=12, n_estimators=22;, score=-1769.445 total time=  18.4s\n",
      "[CV 2/2] END .max_depth=12, n_estimators=22;, score=-1756.315 total time=  17.3s\n",
      "[CV 1/2] END .max_depth=12, n_estimators=42;, score=-1762.843 total time=  33.9s\n",
      "[CV 2/2] END .max_depth=12, n_estimators=42;, score=-1749.326 total time=  32.2s\n",
      "[CV 1/2] END ..max_depth=14, n_estimators=2;, score=-1893.521 total time=   1.9s\n",
      "[CV 2/2] END ..max_depth=14, n_estimators=2;, score=-1899.953 total time=   2.1s\n",
      "[CV 1/2] END .max_depth=14, n_estimators=22;, score=-1709.242 total time=  17.9s\n",
      "[CV 2/2] END .max_depth=14, n_estimators=22;, score=-1693.041 total time=  20.1s\n",
      "[CV 1/2] END .max_depth=14, n_estimators=42;, score=-1698.817 total time=  38.9s\n",
      "[CV 2/2] END .max_depth=14, n_estimators=42;, score=-1683.423 total time=  50.4s\n",
      "CPU times: total: 5min 8s\n",
      "Wall time: 7min 2s\n"
     ]
    }
   ],
   "source": [
    "%%time\n",
    "best_rf_model = model(features_train,target_train,'rf_model','rf')"
   ]
  },
  {
   "cell_type": "code",
   "execution_count": 62,
   "id": "4fd3bd9d",
   "metadata": {},
   "outputs": [
    {
     "data": {
      "text/html": [
       "<div>\n",
       "<style scoped>\n",
       "    .dataframe tbody tr th:only-of-type {\n",
       "        vertical-align: middle;\n",
       "    }\n",
       "\n",
       "    .dataframe tbody tr th {\n",
       "        vertical-align: top;\n",
       "    }\n",
       "\n",
       "    .dataframe thead th {\n",
       "        text-align: right;\n",
       "    }\n",
       "</style>\n",
       "<table border=\"1\" class=\"dataframe\">\n",
       "  <thead>\n",
       "    <tr style=\"text-align: right;\">\n",
       "      <th></th>\n",
       "      <th>model_name</th>\n",
       "      <th>rmse</th>\n",
       "      <th>best_param</th>\n",
       "      <th>max_learn_time</th>\n",
       "      <th>max_predict_time</th>\n",
       "    </tr>\n",
       "  </thead>\n",
       "  <tbody>\n",
       "    <tr>\n",
       "      <th>0</th>\n",
       "      <td>rf_model</td>\n",
       "      <td>-1691.119637</td>\n",
       "      <td>{'max_depth': 14, 'n_estimators': 42}</td>\n",
       "      <td>43.17</td>\n",
       "      <td>1.58</td>\n",
       "    </tr>\n",
       "  </tbody>\n",
       "</table>\n",
       "</div>"
      ],
      "text/plain": [
       "  model_name         rmse                             best_param  \\\n",
       "0   rf_model -1691.119637  {'max_depth': 14, 'n_estimators': 42}   \n",
       "\n",
       "   max_learn_time  max_predict_time  \n",
       "0           43.17              1.58  "
      ]
     },
     "execution_count": 62,
     "metadata": {},
     "output_type": "execute_result"
    }
   ],
   "source": [
    "#посмотрим параметры\n",
    "rf_model_result"
   ]
  },
  {
   "cell_type": "markdown",
   "id": "0c9ea6da",
   "metadata": {},
   "source": [
    "## Модель LightGBM"
   ]
  },
  {
   "cell_type": "markdown",
   "id": "9c902d7c",
   "metadata": {},
   "source": [
    "Выделим из тренировочной выборки валидационную выборку"
   ]
  },
  {
   "cell_type": "code",
   "execution_count": 63,
   "id": "a7aae458",
   "metadata": {},
   "outputs": [],
   "source": [
    "features_train_v2, features_valid, target_train_v2, target_valid =\\\n",
    "train_test_split(features_train, target_train,test_size=0.25,\\\n",
    "                     random_state=12345)"
   ]
  },
  {
   "cell_type": "markdown",
   "id": "ab646af7",
   "metadata": {},
   "source": [
    "Обучим несколько моделей с разными параметрами и выберем среди них лучшую по валидационной выборке. Изменяемые параметры:\n",
    "\n",
    "Максимальная глубина дерева max_depth;\n",
    "Минимальное число образцов для разделения узла min_samples_split\n",
    "Минимальное число образцов в конечном узле min_samples_leaf"
   ]
  },
  {
   "cell_type": "code",
   "execution_count": 64,
   "id": "1f2b27d6",
   "metadata": {},
   "outputs": [],
   "source": [
    "# Создадим объект с данными для модели\n",
    "\n",
    "lgb_train = lgb.Dataset(features_train_v2, \\\n",
    "                        target_train_v2,feature_name=list(features_train_v2), \\\n",
    "                        categorical_feature=categorical_columns)"
   ]
  },
  {
   "cell_type": "code",
   "execution_count": 65,
   "id": "7eb0a4bf",
   "metadata": {},
   "outputs": [
    {
     "name": "stderr",
     "output_type": "stream",
     "text": [
      "  0%|          | 0/6 [00:00<?, ?it/s]C:\\Users\\User\\anaconda3\\envs\\ds_practicum_env\\lib\\site-packages\\lightgbm\\engine.py:148: UserWarning: Found `num_iterations` in params. Will use it instead of argument\n",
      "  _log_warning(\"Found `{}` in params. Will use it instead of argument\".format(alias))\n",
      "C:\\Users\\User\\anaconda3\\envs\\ds_practicum_env\\lib\\site-packages\\lightgbm\\engine.py:153: UserWarning: Found `early_stopping_rounds` in params. Will use it instead of argument\n",
      "  _log_warning(\"Found `{}` in params. Will use it instead of argument\".format(alias))\n"
     ]
    },
    {
     "name": "stdout",
     "output_type": "stream",
     "text": [
      "[LightGBM] [Warning] Auto-choosing row-wise multi-threading, the overhead of testing was 0.016225 seconds.\n",
      "You can set `force_row_wise=true` to remove the overhead.\n",
      "And if memory is not enough, you can set `force_col_wise=true`.\n",
      "[LightGBM] [Info] Total Bins 865\n",
      "[LightGBM] [Info] Number of data points in the train set: 159478, number of used features: 10\n",
      "[LightGBM] [Info] Start training from score 5014.451717\n",
      "[1]\ttraining's rmse: 4385.2\n",
      "Training until validation scores don't improve for 10 rounds\n",
      "[2]\ttraining's rmse: 4186.15\n",
      "[3]\ttraining's rmse: 4004.47\n",
      "[4]\ttraining's rmse: 3848.99\n",
      "[5]\ttraining's rmse: 3709.09\n",
      "[6]\ttraining's rmse: 3589.76\n",
      "[7]\ttraining's rmse: 3466.58\n",
      "[8]\ttraining's rmse: 3362.72\n",
      "[9]\ttraining's rmse: 3273.96\n",
      "[10]\ttraining's rmse: 3179.64\n",
      "Did not meet early stopping. Best iteration is:\n",
      "[10]\ttraining's rmse: 3179.64\n"
     ]
    },
    {
     "name": "stderr",
     "output_type": "stream",
     "text": [
      "C:\\Users\\User\\anaconda3\\envs\\ds_practicum_env\\lib\\site-packages\\lightgbm\\engine.py:148: UserWarning: Found `num_iterations` in params. Will use it instead of argument\n",
      "  _log_warning(\"Found `{}` in params. Will use it instead of argument\".format(alias))\n",
      "C:\\Users\\User\\anaconda3\\envs\\ds_practicum_env\\lib\\site-packages\\lightgbm\\engine.py:153: UserWarning: Found `early_stopping_rounds` in params. Will use it instead of argument\n",
      "  _log_warning(\"Found `{}` in params. Will use it instead of argument\".format(alias))\n"
     ]
    },
    {
     "name": "stdout",
     "output_type": "stream",
     "text": [
      "[LightGBM] [Warning] Auto-choosing row-wise multi-threading, the overhead of testing was 0.010955 seconds.\n",
      "You can set `force_row_wise=true` to remove the overhead.\n",
      "And if memory is not enough, you can set `force_col_wise=true`.\n",
      "[LightGBM] [Info] Total Bins 865\n",
      "[LightGBM] [Info] Number of data points in the train set: 159478, number of used features: 10\n",
      "[LightGBM] [Info] Start training from score 5014.451717\n",
      "[1]\ttraining's rmse: 4308.46\n",
      "Training until validation scores don't improve for 10 rounds\n",
      "[2]\ttraining's rmse: 4038.5\n",
      "[3]\ttraining's rmse: 3800.3\n",
      "[4]\ttraining's rmse: 3586.83\n",
      "[5]\ttraining's rmse: 3398.83\n",
      "[6]\ttraining's rmse: 3230.94\n",
      "[7]\ttraining's rmse: 3079.81\n",
      "[8]\ttraining's rmse: 2951.81\n",
      "[9]\ttraining's rmse: 2834.35\n",
      "[10]\ttraining's rmse: 2727.94\n",
      "Did not meet early stopping. Best iteration is:\n",
      "[10]\ttraining's rmse: 2727.94\n"
     ]
    },
    {
     "name": "stderr",
     "output_type": "stream",
     "text": [
      "C:\\Users\\User\\anaconda3\\envs\\ds_practicum_env\\lib\\site-packages\\lightgbm\\engine.py:148: UserWarning: Found `num_iterations` in params. Will use it instead of argument\n",
      "  _log_warning(\"Found `{}` in params. Will use it instead of argument\".format(alias))\n",
      "C:\\Users\\User\\anaconda3\\envs\\ds_practicum_env\\lib\\site-packages\\lightgbm\\engine.py:153: UserWarning: Found `early_stopping_rounds` in params. Will use it instead of argument\n",
      "  _log_warning(\"Found `{}` in params. Will use it instead of argument\".format(alias))\n"
     ]
    },
    {
     "name": "stdout",
     "output_type": "stream",
     "text": [
      "[LightGBM] [Warning] Accuracy may be bad since you didn't explicitly set num_leaves OR 2^max_depth > num_leaves. (num_leaves=31).\n",
      "[LightGBM] [Warning] Accuracy may be bad since you didn't explicitly set num_leaves OR 2^max_depth > num_leaves. (num_leaves=31).\n",
      "[LightGBM] [Warning] Auto-choosing row-wise multi-threading, the overhead of testing was 0.010258 seconds.\n",
      "You can set `force_row_wise=true` to remove the overhead.\n",
      "And if memory is not enough, you can set `force_col_wise=true`.\n",
      "[LightGBM] [Info] Total Bins 865\n",
      "[LightGBM] [Info] Number of data points in the train set: 159478, number of used features: 10\n",
      "[LightGBM] [Info] Start training from score 5014.451717\n",
      "[1]\ttraining's rmse: 4279.39\n",
      "Training until validation scores don't improve for 10 rounds\n",
      "[2]\ttraining's rmse: 3977.97\n",
      "[3]\ttraining's rmse: 3714.26\n",
      "[4]\ttraining's rmse: 3480.91\n",
      "[5]\ttraining's rmse: 3271.99\n",
      "[6]\ttraining's rmse: 3089.3\n",
      "[7]\ttraining's rmse: 2924.18\n",
      "[8]\ttraining's rmse: 2779.71\n",
      "[9]\ttraining's rmse: 2648.3\n",
      "[10]\ttraining's rmse: 2537.86\n",
      "Did not meet early stopping. Best iteration is:\n",
      "[10]\ttraining's rmse: 2537.86\n",
      "[LightGBM] [Warning] Accuracy may be bad since you didn't explicitly set num_leaves OR 2^max_depth > num_leaves. (num_leaves=31).\n",
      "[LightGBM] [Warning] Accuracy may be bad since you didn't explicitly set num_leaves OR 2^max_depth > num_leaves. (num_leaves=31).\n",
      "[LightGBM] [Warning] Auto-choosing row-wise multi-threading, the overhead of testing was 0.013167 seconds.\n",
      "You can set `force_row_wise=true` to remove the overhead.\n",
      "And if memory is not enough, you can set `force_col_wise=true`.\n",
      "[LightGBM] [Info] Total Bins 865\n",
      "[LightGBM] [Info] Number of data points in the train set: 159478, number of used features: 10\n",
      "[LightGBM] [Info] Start training from score 5014.451717\n",
      "[1]\ttraining's rmse: 4279.37\n",
      "Training until validation scores don't improve for 10 rounds\n",
      "[2]\ttraining's rmse: 3977.91\n",
      "[3]\ttraining's rmse: 3714.51\n",
      "[4]\ttraining's rmse: 3481.05\n",
      "[5]\ttraining's rmse: 3270.37\n",
      "[6]\ttraining's rmse: 3087.12\n",
      "[7]\ttraining's rmse: 2923.04\n",
      "[8]\ttraining's rmse: 2779.37\n",
      "[9]\ttraining's rmse: 2645.79\n",
      "[10]\ttraining's rmse: 2533.86\n",
      "Did not meet early stopping. Best iteration is:\n",
      "[10]\ttraining's rmse: 2533.86\n"
     ]
    },
    {
     "name": "stderr",
     "output_type": "stream",
     "text": [
      "C:\\Users\\User\\anaconda3\\envs\\ds_practicum_env\\lib\\site-packages\\lightgbm\\engine.py:148: UserWarning: Found `num_iterations` in params. Will use it instead of argument\n",
      "  _log_warning(\"Found `{}` in params. Will use it instead of argument\".format(alias))\n",
      "C:\\Users\\User\\anaconda3\\envs\\ds_practicum_env\\lib\\site-packages\\lightgbm\\engine.py:153: UserWarning: Found `early_stopping_rounds` in params. Will use it instead of argument\n",
      "  _log_warning(\"Found `{}` in params. Will use it instead of argument\".format(alias))\n",
      "C:\\Users\\User\\anaconda3\\envs\\ds_practicum_env\\lib\\site-packages\\lightgbm\\engine.py:148: UserWarning: Found `num_iterations` in params. Will use it instead of argument\n",
      "  _log_warning(\"Found `{}` in params. Will use it instead of argument\".format(alias))\n",
      "C:\\Users\\User\\anaconda3\\envs\\ds_practicum_env\\lib\\site-packages\\lightgbm\\engine.py:153: UserWarning: Found `early_stopping_rounds` in params. Will use it instead of argument\n",
      "  _log_warning(\"Found `{}` in params. Will use it instead of argument\".format(alias))\n"
     ]
    },
    {
     "name": "stdout",
     "output_type": "stream",
     "text": [
      "[LightGBM] [Warning] Accuracy may be bad since you didn't explicitly set num_leaves OR 2^max_depth > num_leaves. (num_leaves=31).\n",
      "[LightGBM] [Warning] Accuracy may be bad since you didn't explicitly set num_leaves OR 2^max_depth > num_leaves. (num_leaves=31).\n",
      "[LightGBM] [Warning] Auto-choosing row-wise multi-threading, the overhead of testing was 0.009690 seconds.\n",
      "You can set `force_row_wise=true` to remove the overhead.\n",
      "And if memory is not enough, you can set `force_col_wise=true`.\n",
      "[LightGBM] [Info] Total Bins 865\n",
      "[LightGBM] [Info] Number of data points in the train set: 159478, number of used features: 10\n",
      "[LightGBM] [Info] Start training from score 5014.451717\n",
      "[1]\ttraining's rmse: 4279.37\n",
      "Training until validation scores don't improve for 10 rounds\n",
      "[2]\ttraining's rmse: 3977.91\n",
      "[3]\ttraining's rmse: 3714.51\n",
      "[4]\ttraining's rmse: 3481.05\n",
      "[5]\ttraining's rmse: 3270.37\n",
      "[6]\ttraining's rmse: 3087.12\n",
      "[7]\ttraining's rmse: 2923.04\n",
      "[8]\ttraining's rmse: 2779.37\n",
      "[9]\ttraining's rmse: 2645.79\n",
      "[10]\ttraining's rmse: 2533.86\n",
      "Did not meet early stopping. Best iteration is:\n",
      "[10]\ttraining's rmse: 2533.86\n"
     ]
    },
    {
     "name": "stderr",
     "output_type": "stream",
     "text": [
      "C:\\Users\\User\\anaconda3\\envs\\ds_practicum_env\\lib\\site-packages\\lightgbm\\engine.py:148: UserWarning: Found `num_iterations` in params. Will use it instead of argument\n",
      "  _log_warning(\"Found `{}` in params. Will use it instead of argument\".format(alias))\n",
      "C:\\Users\\User\\anaconda3\\envs\\ds_practicum_env\\lib\\site-packages\\lightgbm\\engine.py:153: UserWarning: Found `early_stopping_rounds` in params. Will use it instead of argument\n",
      "  _log_warning(\"Found `{}` in params. Will use it instead of argument\".format(alias))\n"
     ]
    },
    {
     "name": "stdout",
     "output_type": "stream",
     "text": [
      "[LightGBM] [Warning] Accuracy may be bad since you didn't explicitly set num_leaves OR 2^max_depth > num_leaves. (num_leaves=31).\n",
      "[LightGBM] [Warning] Accuracy may be bad since you didn't explicitly set num_leaves OR 2^max_depth > num_leaves. (num_leaves=31).\n",
      "[LightGBM] [Warning] Auto-choosing col-wise multi-threading, the overhead of testing was 0.011534 seconds.\n",
      "You can set `force_col_wise=true` to remove the overhead.\n",
      "[LightGBM] [Info] Total Bins 865\n",
      "[LightGBM] [Info] Number of data points in the train set: 159478, number of used features: 10\n",
      "[LightGBM] [Info] Start training from score 5014.451717\n",
      "[1]\ttraining's rmse: 4279.37\n",
      "Training until validation scores don't improve for 10 rounds\n",
      "[2]\ttraining's rmse: 3977.91\n",
      "[3]\ttraining's rmse: 3714.51\n",
      "[4]\ttraining's rmse: 3481.05\n",
      "[5]\ttraining's rmse: 3270.37\n",
      "[6]\ttraining's rmse: 3087.12\n",
      "[7]\ttraining's rmse: 2923.04\n",
      "[8]\ttraining's rmse: 2779.37\n",
      "[9]\ttraining's rmse: 2645.79\n",
      "[10]\ttraining's rmse: 2533.86\n",
      "Did not meet early stopping. Best iteration is:\n",
      "[10]\ttraining's rmse: 2533.86\n"
     ]
    },
    {
     "name": "stderr",
     "output_type": "stream",
     "text": [
      "C:\\Users\\User\\anaconda3\\envs\\ds_practicum_env\\lib\\site-packages\\lightgbm\\engine.py:148: UserWarning: Found `num_iterations` in params. Will use it instead of argument\n",
      "  _log_warning(\"Found `{}` in params. Will use it instead of argument\".format(alias))\n",
      "C:\\Users\\User\\anaconda3\\envs\\ds_practicum_env\\lib\\site-packages\\lightgbm\\engine.py:153: UserWarning: Found `early_stopping_rounds` in params. Will use it instead of argument\n",
      "  _log_warning(\"Found `{}` in params. Will use it instead of argument\".format(alias))\n"
     ]
    },
    {
     "name": "stdout",
     "output_type": "stream",
     "text": [
      "[LightGBM] [Warning] Accuracy may be bad since you didn't explicitly set num_leaves OR 2^max_depth > num_leaves. (num_leaves=31).\n",
      "[LightGBM] [Warning] Accuracy may be bad since you didn't explicitly set num_leaves OR 2^max_depth > num_leaves. (num_leaves=31).\n",
      "[LightGBM] [Warning] Auto-choosing col-wise multi-threading, the overhead of testing was 0.016105 seconds.\n",
      "You can set `force_col_wise=true` to remove the overhead.\n",
      "[LightGBM] [Info] Total Bins 865\n",
      "[LightGBM] [Info] Number of data points in the train set: 159478, number of used features: 10\n",
      "[LightGBM] [Info] Start training from score 5014.451717\n",
      "[1]\ttraining's rmse: 4279.37\n",
      "Training until validation scores don't improve for 10 rounds\n",
      "[2]\ttraining's rmse: 3977.91\n",
      "[3]\ttraining's rmse: 3714.51\n",
      "[4]\ttraining's rmse: 3481.05\n",
      "[5]\ttraining's rmse: 3270.37\n",
      "[6]\ttraining's rmse: 3087.12\n",
      "[7]\ttraining's rmse: 2923.04\n",
      "[8]\ttraining's rmse: 2779.37\n",
      "[9]\ttraining's rmse: 2645.79\n",
      "[10]\ttraining's rmse: 2533.86\n",
      "Did not meet early stopping. Best iteration is:\n",
      "[10]\ttraining's rmse: 2533.86\n"
     ]
    },
    {
     "name": "stderr",
     "output_type": "stream",
     "text": [
      " 17%|█▋        | 1/6 [00:03<00:17,  3.50s/it]C:\\Users\\User\\anaconda3\\envs\\ds_practicum_env\\lib\\site-packages\\lightgbm\\engine.py:148: UserWarning: Found `num_iterations` in params. Will use it instead of argument\n",
      "  _log_warning(\"Found `{}` in params. Will use it instead of argument\".format(alias))\n",
      "C:\\Users\\User\\anaconda3\\envs\\ds_practicum_env\\lib\\site-packages\\lightgbm\\engine.py:153: UserWarning: Found `early_stopping_rounds` in params. Will use it instead of argument\n",
      "  _log_warning(\"Found `{}` in params. Will use it instead of argument\".format(alias))\n"
     ]
    },
    {
     "name": "stdout",
     "output_type": "stream",
     "text": [
      "[LightGBM] [Warning] Auto-choosing row-wise multi-threading, the overhead of testing was 0.012111 seconds.\n",
      "You can set `force_row_wise=true` to remove the overhead.\n",
      "And if memory is not enough, you can set `force_col_wise=true`.\n",
      "[LightGBM] [Info] Total Bins 865\n",
      "[LightGBM] [Info] Number of data points in the train set: 159478, number of used features: 10\n",
      "[LightGBM] [Info] Start training from score 5014.451717\n",
      "[1]\ttraining's rmse: 4385.2\n",
      "Training until validation scores don't improve for 10 rounds\n",
      "[2]\ttraining's rmse: 4186.15\n",
      "[3]\ttraining's rmse: 4004.47\n",
      "[4]\ttraining's rmse: 3848.99\n",
      "[5]\ttraining's rmse: 3709.09\n",
      "[6]\ttraining's rmse: 3589.76\n",
      "[7]\ttraining's rmse: 3466.58\n",
      "[8]\ttraining's rmse: 3362.72\n",
      "[9]\ttraining's rmse: 3273.96\n",
      "[10]\ttraining's rmse: 3179.64\n",
      "[11]\ttraining's rmse: 3108.52\n",
      "[12]\ttraining's rmse: 3022.55\n",
      "[13]\ttraining's rmse: 2950.31\n",
      "[14]\ttraining's rmse: 2893.85\n",
      "[15]\ttraining's rmse: 2825.35\n",
      "[16]\ttraining's rmse: 2765.53\n",
      "[17]\ttraining's rmse: 2721.57\n",
      "[18]\ttraining's rmse: 2668.1\n",
      "[19]\ttraining's rmse: 2622.48\n",
      "[20]\ttraining's rmse: 2581.64\n",
      "[21]\ttraining's rmse: 2552.59\n",
      "[22]\ttraining's rmse: 2524.38\n",
      "[23]\ttraining's rmse: 2488.68\n",
      "[24]\ttraining's rmse: 2457.7\n",
      "[25]\ttraining's rmse: 2431.96\n",
      "[26]\ttraining's rmse: 2407.97\n",
      "[27]\ttraining's rmse: 2386.53\n",
      "[28]\ttraining's rmse: 2364.7\n",
      "[29]\ttraining's rmse: 2343.27\n",
      "[30]\ttraining's rmse: 2325.97\n",
      "Did not meet early stopping. Best iteration is:\n",
      "[30]\ttraining's rmse: 2325.97\n"
     ]
    },
    {
     "name": "stderr",
     "output_type": "stream",
     "text": [
      "C:\\Users\\User\\anaconda3\\envs\\ds_practicum_env\\lib\\site-packages\\lightgbm\\engine.py:148: UserWarning: Found `num_iterations` in params. Will use it instead of argument\n",
      "  _log_warning(\"Found `{}` in params. Will use it instead of argument\".format(alias))\n",
      "C:\\Users\\User\\anaconda3\\envs\\ds_practicum_env\\lib\\site-packages\\lightgbm\\engine.py:153: UserWarning: Found `early_stopping_rounds` in params. Will use it instead of argument\n",
      "  _log_warning(\"Found `{}` in params. Will use it instead of argument\".format(alias))\n"
     ]
    },
    {
     "name": "stdout",
     "output_type": "stream",
     "text": [
      "[LightGBM] [Warning] Auto-choosing row-wise multi-threading, the overhead of testing was 0.012148 seconds.\n",
      "You can set `force_row_wise=true` to remove the overhead.\n",
      "And if memory is not enough, you can set `force_col_wise=true`.\n",
      "[LightGBM] [Info] Total Bins 865\n",
      "[LightGBM] [Info] Number of data points in the train set: 159478, number of used features: 10\n",
      "[LightGBM] [Info] Start training from score 5014.451717\n",
      "[1]\ttraining's rmse: 4308.46\n",
      "Training until validation scores don't improve for 10 rounds\n",
      "[2]\ttraining's rmse: 4038.5\n",
      "[3]\ttraining's rmse: 3800.3\n",
      "[4]\ttraining's rmse: 3586.83\n",
      "[5]\ttraining's rmse: 3398.83\n",
      "[6]\ttraining's rmse: 3230.94\n",
      "[7]\ttraining's rmse: 3079.81\n",
      "[8]\ttraining's rmse: 2951.81\n",
      "[9]\ttraining's rmse: 2834.35\n",
      "[10]\ttraining's rmse: 2727.94\n",
      "[11]\ttraining's rmse: 2635.06\n",
      "[12]\ttraining's rmse: 2549.68\n",
      "[13]\ttraining's rmse: 2474.6\n",
      "[14]\ttraining's rmse: 2405.7\n",
      "[15]\ttraining's rmse: 2344.96\n",
      "[16]\ttraining's rmse: 2289.15\n",
      "[17]\ttraining's rmse: 2242.17\n",
      "[18]\ttraining's rmse: 2197.97\n",
      "[19]\ttraining's rmse: 2160.18\n",
      "[20]\ttraining's rmse: 2120.94\n",
      "[21]\ttraining's rmse: 2087.12\n",
      "[22]\ttraining's rmse: 2054.38\n",
      "[23]\ttraining's rmse: 2027.63\n",
      "[24]\ttraining's rmse: 2001.92\n",
      "[25]\ttraining's rmse: 1978.83\n",
      "[26]\ttraining's rmse: 1957.92\n",
      "[27]\ttraining's rmse: 1938.82\n",
      "[28]\ttraining's rmse: 1921.04\n",
      "[29]\ttraining's rmse: 1904.83\n",
      "[30]\ttraining's rmse: 1890.37\n",
      "Did not meet early stopping. Best iteration is:\n",
      "[30]\ttraining's rmse: 1890.37\n"
     ]
    },
    {
     "name": "stderr",
     "output_type": "stream",
     "text": [
      "C:\\Users\\User\\anaconda3\\envs\\ds_practicum_env\\lib\\site-packages\\lightgbm\\engine.py:148: UserWarning: Found `num_iterations` in params. Will use it instead of argument\n",
      "  _log_warning(\"Found `{}` in params. Will use it instead of argument\".format(alias))\n",
      "C:\\Users\\User\\anaconda3\\envs\\ds_practicum_env\\lib\\site-packages\\lightgbm\\engine.py:153: UserWarning: Found `early_stopping_rounds` in params. Will use it instead of argument\n",
      "  _log_warning(\"Found `{}` in params. Will use it instead of argument\".format(alias))\n"
     ]
    },
    {
     "name": "stdout",
     "output_type": "stream",
     "text": [
      "[LightGBM] [Warning] Accuracy may be bad since you didn't explicitly set num_leaves OR 2^max_depth > num_leaves. (num_leaves=31).\n",
      "[LightGBM] [Warning] Accuracy may be bad since you didn't explicitly set num_leaves OR 2^max_depth > num_leaves. (num_leaves=31).\n",
      "[LightGBM] [Warning] Auto-choosing row-wise multi-threading, the overhead of testing was 0.011550 seconds.\n",
      "You can set `force_row_wise=true` to remove the overhead.\n",
      "And if memory is not enough, you can set `force_col_wise=true`.\n",
      "[LightGBM] [Info] Total Bins 865\n",
      "[LightGBM] [Info] Number of data points in the train set: 159478, number of used features: 10\n",
      "[LightGBM] [Info] Start training from score 5014.451717\n",
      "[1]\ttraining's rmse: 4279.39\n",
      "Training until validation scores don't improve for 10 rounds\n",
      "[2]\ttraining's rmse: 3977.97\n",
      "[3]\ttraining's rmse: 3714.26\n",
      "[4]\ttraining's rmse: 3480.91\n",
      "[5]\ttraining's rmse: 3271.99\n",
      "[6]\ttraining's rmse: 3089.3\n",
      "[7]\ttraining's rmse: 2924.18\n",
      "[8]\ttraining's rmse: 2779.71\n",
      "[9]\ttraining's rmse: 2648.3\n",
      "[10]\ttraining's rmse: 2537.86\n",
      "[11]\ttraining's rmse: 2437.05\n",
      "[12]\ttraining's rmse: 2346.57\n",
      "[13]\ttraining's rmse: 2266.43\n",
      "[14]\ttraining's rmse: 2197.46\n",
      "[15]\ttraining's rmse: 2136.48\n",
      "[16]\ttraining's rmse: 2083.22\n",
      "[17]\ttraining's rmse: 2036.6\n",
      "[18]\ttraining's rmse: 1995.56\n",
      "[19]\ttraining's rmse: 1957.89\n",
      "[20]\ttraining's rmse: 1925.13\n",
      "[21]\ttraining's rmse: 1896.72\n",
      "[22]\ttraining's rmse: 1871.52\n",
      "[23]\ttraining's rmse: 1848.73\n",
      "[24]\ttraining's rmse: 1828.55\n",
      "[25]\ttraining's rmse: 1810.27\n",
      "[26]\ttraining's rmse: 1793.22\n",
      "[27]\ttraining's rmse: 1777.71\n",
      "[28]\ttraining's rmse: 1764.49\n",
      "[29]\ttraining's rmse: 1750.16\n",
      "[30]\ttraining's rmse: 1739.07\n",
      "Did not meet early stopping. Best iteration is:\n",
      "[30]\ttraining's rmse: 1739.07\n"
     ]
    },
    {
     "name": "stderr",
     "output_type": "stream",
     "text": [
      "C:\\Users\\User\\anaconda3\\envs\\ds_practicum_env\\lib\\site-packages\\lightgbm\\engine.py:148: UserWarning: Found `num_iterations` in params. Will use it instead of argument\n",
      "  _log_warning(\"Found `{}` in params. Will use it instead of argument\".format(alias))\n",
      "C:\\Users\\User\\anaconda3\\envs\\ds_practicum_env\\lib\\site-packages\\lightgbm\\engine.py:153: UserWarning: Found `early_stopping_rounds` in params. Will use it instead of argument\n",
      "  _log_warning(\"Found `{}` in params. Will use it instead of argument\".format(alias))\n"
     ]
    },
    {
     "name": "stdout",
     "output_type": "stream",
     "text": [
      "[LightGBM] [Warning] Accuracy may be bad since you didn't explicitly set num_leaves OR 2^max_depth > num_leaves. (num_leaves=31).\n",
      "[LightGBM] [Warning] Accuracy may be bad since you didn't explicitly set num_leaves OR 2^max_depth > num_leaves. (num_leaves=31).\n",
      "[LightGBM] [Warning] Auto-choosing row-wise multi-threading, the overhead of testing was 0.014078 seconds.\n",
      "You can set `force_row_wise=true` to remove the overhead.\n",
      "And if memory is not enough, you can set `force_col_wise=true`.\n",
      "[LightGBM] [Info] Total Bins 865\n",
      "[LightGBM] [Info] Number of data points in the train set: 159478, number of used features: 10\n",
      "[LightGBM] [Info] Start training from score 5014.451717\n",
      "[1]\ttraining's rmse: 4279.37\n",
      "Training until validation scores don't improve for 10 rounds\n",
      "[2]\ttraining's rmse: 3977.91\n",
      "[3]\ttraining's rmse: 3714.51\n",
      "[4]\ttraining's rmse: 3481.05\n",
      "[5]\ttraining's rmse: 3270.37\n",
      "[6]\ttraining's rmse: 3087.12\n",
      "[7]\ttraining's rmse: 2923.04\n",
      "[8]\ttraining's rmse: 2779.37\n",
      "[9]\ttraining's rmse: 2645.79\n",
      "[10]\ttraining's rmse: 2533.86\n",
      "[11]\ttraining's rmse: 2432.45\n",
      "[12]\ttraining's rmse: 2345.44\n",
      "[13]\ttraining's rmse: 2265.26\n",
      "[14]\ttraining's rmse: 2193.39\n",
      "[15]\ttraining's rmse: 2132.04\n",
      "[16]\ttraining's rmse: 2078.13\n",
      "[17]\ttraining's rmse: 2031.1\n",
      "[18]\ttraining's rmse: 1989.02\n",
      "[19]\ttraining's rmse: 1951.2\n",
      "[20]\ttraining's rmse: 1919.42\n",
      "[21]\ttraining's rmse: 1889.27\n",
      "[22]\ttraining's rmse: 1863.95\n",
      "[23]\ttraining's rmse: 1841.49\n",
      "[24]\ttraining's rmse: 1819.88\n",
      "[25]\ttraining's rmse: 1800.71\n",
      "[26]\ttraining's rmse: 1783.04\n",
      "[27]\ttraining's rmse: 1767.14\n",
      "[28]\ttraining's rmse: 1753.18\n",
      "[29]\ttraining's rmse: 1740.01\n",
      "[30]\ttraining's rmse: 1728.08\n",
      "Did not meet early stopping. Best iteration is:\n",
      "[30]\ttraining's rmse: 1728.08\n"
     ]
    },
    {
     "name": "stderr",
     "output_type": "stream",
     "text": [
      "C:\\Users\\User\\anaconda3\\envs\\ds_practicum_env\\lib\\site-packages\\lightgbm\\engine.py:148: UserWarning: Found `num_iterations` in params. Will use it instead of argument\n",
      "  _log_warning(\"Found `{}` in params. Will use it instead of argument\".format(alias))\n",
      "C:\\Users\\User\\anaconda3\\envs\\ds_practicum_env\\lib\\site-packages\\lightgbm\\engine.py:153: UserWarning: Found `early_stopping_rounds` in params. Will use it instead of argument\n",
      "  _log_warning(\"Found `{}` in params. Will use it instead of argument\".format(alias))\n"
     ]
    },
    {
     "name": "stdout",
     "output_type": "stream",
     "text": [
      "[LightGBM] [Warning] Accuracy may be bad since you didn't explicitly set num_leaves OR 2^max_depth > num_leaves. (num_leaves=31).\n",
      "[LightGBM] [Warning] Accuracy may be bad since you didn't explicitly set num_leaves OR 2^max_depth > num_leaves. (num_leaves=31).\n",
      "[LightGBM] [Warning] Auto-choosing row-wise multi-threading, the overhead of testing was 0.030415 seconds.\n",
      "You can set `force_row_wise=true` to remove the overhead.\n",
      "And if memory is not enough, you can set `force_col_wise=true`.\n",
      "[LightGBM] [Info] Total Bins 865\n",
      "[LightGBM] [Info] Number of data points in the train set: 159478, number of used features: 10\n",
      "[LightGBM] [Info] Start training from score 5014.451717\n",
      "[1]\ttraining's rmse: 4279.37\n",
      "Training until validation scores don't improve for 10 rounds\n",
      "[2]\ttraining's rmse: 3977.91\n",
      "[3]\ttraining's rmse: 3714.51\n",
      "[4]\ttraining's rmse: 3481.05\n",
      "[5]\ttraining's rmse: 3270.37\n",
      "[6]\ttraining's rmse: 3087.12\n",
      "[7]\ttraining's rmse: 2923.04\n",
      "[8]\ttraining's rmse: 2779.37\n",
      "[9]\ttraining's rmse: 2645.79\n",
      "[10]\ttraining's rmse: 2533.86\n",
      "[11]\ttraining's rmse: 2432.16\n",
      "[12]\ttraining's rmse: 2344.57\n",
      "[13]\ttraining's rmse: 2267.31\n",
      "[14]\ttraining's rmse: 2195.14\n",
      "[15]\ttraining's rmse: 2134.25\n",
      "[16]\ttraining's rmse: 2079.04\n",
      "[17]\ttraining's rmse: 2031.73\n",
      "[18]\ttraining's rmse: 1989.47\n",
      "[19]\ttraining's rmse: 1954.31\n",
      "[20]\ttraining's rmse: 1919.94\n",
      "[21]\ttraining's rmse: 1892.41\n",
      "[22]\ttraining's rmse: 1865.89\n",
      "[23]\ttraining's rmse: 1841.85\n",
      "[24]\ttraining's rmse: 1820.05\n",
      "[25]\ttraining's rmse: 1802.09\n",
      "[26]\ttraining's rmse: 1783.88\n",
      "[27]\ttraining's rmse: 1768.68\n",
      "[28]\ttraining's rmse: 1755.2\n",
      "[29]\ttraining's rmse: 1741.62\n",
      "[30]\ttraining's rmse: 1730.19\n",
      "Did not meet early stopping. Best iteration is:\n",
      "[30]\ttraining's rmse: 1730.19\n"
     ]
    },
    {
     "name": "stderr",
     "output_type": "stream",
     "text": [
      "C:\\Users\\User\\anaconda3\\envs\\ds_practicum_env\\lib\\site-packages\\lightgbm\\engine.py:148: UserWarning: Found `num_iterations` in params. Will use it instead of argument\n",
      "  _log_warning(\"Found `{}` in params. Will use it instead of argument\".format(alias))\n",
      "C:\\Users\\User\\anaconda3\\envs\\ds_practicum_env\\lib\\site-packages\\lightgbm\\engine.py:153: UserWarning: Found `early_stopping_rounds` in params. Will use it instead of argument\n",
      "  _log_warning(\"Found `{}` in params. Will use it instead of argument\".format(alias))\n"
     ]
    },
    {
     "name": "stdout",
     "output_type": "stream",
     "text": [
      "[LightGBM] [Warning] Accuracy may be bad since you didn't explicitly set num_leaves OR 2^max_depth > num_leaves. (num_leaves=31).\n",
      "[LightGBM] [Warning] Accuracy may be bad since you didn't explicitly set num_leaves OR 2^max_depth > num_leaves. (num_leaves=31).\n",
      "[LightGBM] [Warning] Auto-choosing col-wise multi-threading, the overhead of testing was 0.025723 seconds.\n",
      "You can set `force_col_wise=true` to remove the overhead.\n",
      "[LightGBM] [Info] Total Bins 865\n",
      "[LightGBM] [Info] Number of data points in the train set: 159478, number of used features: 10\n",
      "[LightGBM] [Info] Start training from score 5014.451717\n",
      "[1]\ttraining's rmse: 4279.37\n",
      "Training until validation scores don't improve for 10 rounds\n",
      "[2]\ttraining's rmse: 3977.91\n",
      "[3]\ttraining's rmse: 3714.51\n",
      "[4]\ttraining's rmse: 3481.05\n",
      "[5]\ttraining's rmse: 3270.37\n",
      "[6]\ttraining's rmse: 3087.12\n",
      "[7]\ttraining's rmse: 2923.04\n",
      "[8]\ttraining's rmse: 2779.37\n",
      "[9]\ttraining's rmse: 2645.79\n",
      "[10]\ttraining's rmse: 2533.86\n",
      "[11]\ttraining's rmse: 2432.16\n",
      "[12]\ttraining's rmse: 2344.57\n",
      "[13]\ttraining's rmse: 2267.31\n",
      "[14]\ttraining's rmse: 2195.14\n",
      "[15]\ttraining's rmse: 2134.25\n",
      "[16]\ttraining's rmse: 2079.04\n",
      "[17]\ttraining's rmse: 2031.73\n",
      "[18]\ttraining's rmse: 1989.47\n",
      "[19]\ttraining's rmse: 1954.31\n",
      "[20]\ttraining's rmse: 1919.94\n",
      "[21]\ttraining's rmse: 1892.41\n",
      "[22]\ttraining's rmse: 1865.86\n",
      "[23]\ttraining's rmse: 1841.83\n",
      "[24]\ttraining's rmse: 1820.05\n",
      "[25]\ttraining's rmse: 1801.61\n",
      "[26]\ttraining's rmse: 1785.84\n",
      "[27]\ttraining's rmse: 1769.78\n",
      "[28]\ttraining's rmse: 1755.96\n",
      "[29]\ttraining's rmse: 1741.63\n",
      "[30]\ttraining's rmse: 1729.37\n",
      "Did not meet early stopping. Best iteration is:\n",
      "[30]\ttraining's rmse: 1729.37\n"
     ]
    },
    {
     "name": "stderr",
     "output_type": "stream",
     "text": [
      "C:\\Users\\User\\anaconda3\\envs\\ds_practicum_env\\lib\\site-packages\\lightgbm\\engine.py:148: UserWarning: Found `num_iterations` in params. Will use it instead of argument\n",
      "  _log_warning(\"Found `{}` in params. Will use it instead of argument\".format(alias))\n",
      "C:\\Users\\User\\anaconda3\\envs\\ds_practicum_env\\lib\\site-packages\\lightgbm\\engine.py:153: UserWarning: Found `early_stopping_rounds` in params. Will use it instead of argument\n",
      "  _log_warning(\"Found `{}` in params. Will use it instead of argument\".format(alias))\n"
     ]
    },
    {
     "name": "stdout",
     "output_type": "stream",
     "text": [
      "[LightGBM] [Warning] Accuracy may be bad since you didn't explicitly set num_leaves OR 2^max_depth > num_leaves. (num_leaves=31).\n",
      "[LightGBM] [Warning] Accuracy may be bad since you didn't explicitly set num_leaves OR 2^max_depth > num_leaves. (num_leaves=31).\n",
      "[LightGBM] [Warning] Auto-choosing row-wise multi-threading, the overhead of testing was 0.012846 seconds.\n",
      "You can set `force_row_wise=true` to remove the overhead.\n",
      "And if memory is not enough, you can set `force_col_wise=true`.\n",
      "[LightGBM] [Info] Total Bins 865\n",
      "[LightGBM] [Info] Number of data points in the train set: 159478, number of used features: 10\n",
      "[LightGBM] [Info] Start training from score 5014.451717\n",
      "[1]\ttraining's rmse: 4279.37\n",
      "Training until validation scores don't improve for 10 rounds\n",
      "[2]\ttraining's rmse: 3977.91\n",
      "[3]\ttraining's rmse: 3714.51\n",
      "[4]\ttraining's rmse: 3481.05\n",
      "[5]\ttraining's rmse: 3270.37\n",
      "[6]\ttraining's rmse: 3087.12\n",
      "[7]\ttraining's rmse: 2923.04\n",
      "[8]\ttraining's rmse: 2779.37\n",
      "[9]\ttraining's rmse: 2645.79\n",
      "[10]\ttraining's rmse: 2533.86\n",
      "[11]\ttraining's rmse: 2432.16\n",
      "[12]\ttraining's rmse: 2344.57\n",
      "[13]\ttraining's rmse: 2267.31\n",
      "[14]\ttraining's rmse: 2195.14\n",
      "[15]\ttraining's rmse: 2134.25\n",
      "[16]\ttraining's rmse: 2079.04\n",
      "[17]\ttraining's rmse: 2031.73\n",
      "[18]\ttraining's rmse: 1989.47\n",
      "[19]\ttraining's rmse: 1954.31\n",
      "[20]\ttraining's rmse: 1919.94\n",
      "[21]\ttraining's rmse: 1892.41\n",
      "[22]\ttraining's rmse: 1865.86\n",
      "[23]\ttraining's rmse: 1841.83\n",
      "[24]\ttraining's rmse: 1820.05\n",
      "[25]\ttraining's rmse: 1801.61\n",
      "[26]\ttraining's rmse: 1785.84\n",
      "[27]\ttraining's rmse: 1769.78\n",
      "[28]\ttraining's rmse: 1755.96\n",
      "[29]\ttraining's rmse: 1741.63\n",
      "[30]\ttraining's rmse: 1729.37\n",
      "Did not meet early stopping. Best iteration is:\n",
      "[30]\ttraining's rmse: 1729.37\n"
     ]
    },
    {
     "name": "stderr",
     "output_type": "stream",
     "text": [
      " 33%|███▎      | 2/6 [00:14<00:32,  8.07s/it]C:\\Users\\User\\anaconda3\\envs\\ds_practicum_env\\lib\\site-packages\\lightgbm\\engine.py:148: UserWarning: Found `num_iterations` in params. Will use it instead of argument\n",
      "  _log_warning(\"Found `{}` in params. Will use it instead of argument\".format(alias))\n",
      "C:\\Users\\User\\anaconda3\\envs\\ds_practicum_env\\lib\\site-packages\\lightgbm\\engine.py:153: UserWarning: Found `early_stopping_rounds` in params. Will use it instead of argument\n",
      "  _log_warning(\"Found `{}` in params. Will use it instead of argument\".format(alias))\n"
     ]
    },
    {
     "name": "stdout",
     "output_type": "stream",
     "text": [
      "[LightGBM] [Warning] Auto-choosing row-wise multi-threading, the overhead of testing was 0.016031 seconds.\n",
      "You can set `force_row_wise=true` to remove the overhead.\n",
      "And if memory is not enough, you can set `force_col_wise=true`.\n",
      "[LightGBM] [Info] Total Bins 865\n",
      "[LightGBM] [Info] Number of data points in the train set: 159478, number of used features: 10\n",
      "[LightGBM] [Info] Start training from score 5014.451717\n",
      "[1]\ttraining's rmse: 4385.2\n",
      "Training until validation scores don't improve for 10 rounds\n",
      "[2]\ttraining's rmse: 4186.15\n",
      "[3]\ttraining's rmse: 4004.47\n",
      "[4]\ttraining's rmse: 3848.99\n",
      "[5]\ttraining's rmse: 3709.09\n",
      "[6]\ttraining's rmse: 3589.76\n",
      "[7]\ttraining's rmse: 3466.58\n",
      "[8]\ttraining's rmse: 3362.72\n",
      "[9]\ttraining's rmse: 3273.96\n",
      "[10]\ttraining's rmse: 3179.64\n",
      "[11]\ttraining's rmse: 3108.52\n",
      "[12]\ttraining's rmse: 3022.55\n",
      "[13]\ttraining's rmse: 2950.31\n",
      "[14]\ttraining's rmse: 2893.85\n",
      "[15]\ttraining's rmse: 2825.35\n",
      "[16]\ttraining's rmse: 2765.53\n",
      "[17]\ttraining's rmse: 2721.57\n",
      "[18]\ttraining's rmse: 2668.1\n",
      "[19]\ttraining's rmse: 2622.48\n",
      "[20]\ttraining's rmse: 2581.64\n",
      "[21]\ttraining's rmse: 2552.59\n",
      "[22]\ttraining's rmse: 2524.38\n",
      "[23]\ttraining's rmse: 2488.68\n",
      "[24]\ttraining's rmse: 2457.7\n",
      "[25]\ttraining's rmse: 2431.96\n",
      "[26]\ttraining's rmse: 2407.97\n",
      "[27]\ttraining's rmse: 2386.53\n",
      "[28]\ttraining's rmse: 2364.7\n",
      "[29]\ttraining's rmse: 2343.27\n",
      "[30]\ttraining's rmse: 2325.97\n",
      "[31]\ttraining's rmse: 2308.12\n",
      "[32]\ttraining's rmse: 2290.41\n",
      "[33]\ttraining's rmse: 2268.98\n",
      "[34]\ttraining's rmse: 2254.73\n",
      "[35]\ttraining's rmse: 2240.88\n",
      "[36]\ttraining's rmse: 2225.19\n",
      "[37]\ttraining's rmse: 2212.03\n",
      "[38]\ttraining's rmse: 2199.92\n",
      "[39]\ttraining's rmse: 2189.04\n",
      "[40]\ttraining's rmse: 2172.48\n",
      "[41]\ttraining's rmse: 2160.1\n",
      "[42]\ttraining's rmse: 2150.16\n",
      "[43]\ttraining's rmse: 2140.54\n",
      "[44]\ttraining's rmse: 2130.15\n",
      "[45]\ttraining's rmse: 2122.06\n",
      "[46]\ttraining's rmse: 2114.46\n",
      "[47]\ttraining's rmse: 2106.37\n",
      "[48]\ttraining's rmse: 2092.53\n",
      "[49]\ttraining's rmse: 2081.95\n",
      "[50]\ttraining's rmse: 2075.66\n",
      "Did not meet early stopping. Best iteration is:\n",
      "[50]\ttraining's rmse: 2075.66\n"
     ]
    },
    {
     "name": "stderr",
     "output_type": "stream",
     "text": [
      "C:\\Users\\User\\anaconda3\\envs\\ds_practicum_env\\lib\\site-packages\\lightgbm\\engine.py:148: UserWarning: Found `num_iterations` in params. Will use it instead of argument\n",
      "  _log_warning(\"Found `{}` in params. Will use it instead of argument\".format(alias))\n",
      "C:\\Users\\User\\anaconda3\\envs\\ds_practicum_env\\lib\\site-packages\\lightgbm\\engine.py:153: UserWarning: Found `early_stopping_rounds` in params. Will use it instead of argument\n",
      "  _log_warning(\"Found `{}` in params. Will use it instead of argument\".format(alias))\n"
     ]
    },
    {
     "name": "stdout",
     "output_type": "stream",
     "text": [
      "[LightGBM] [Warning] Auto-choosing col-wise multi-threading, the overhead of testing was 0.029148 seconds.\n",
      "You can set `force_col_wise=true` to remove the overhead.\n",
      "[LightGBM] [Info] Total Bins 865\n",
      "[LightGBM] [Info] Number of data points in the train set: 159478, number of used features: 10\n",
      "[LightGBM] [Info] Start training from score 5014.451717\n",
      "[1]\ttraining's rmse: 4308.46\n",
      "Training until validation scores don't improve for 10 rounds\n",
      "[2]\ttraining's rmse: 4038.5\n",
      "[3]\ttraining's rmse: 3800.3\n",
      "[4]\ttraining's rmse: 3586.83\n",
      "[5]\ttraining's rmse: 3398.83\n",
      "[6]\ttraining's rmse: 3230.94\n",
      "[7]\ttraining's rmse: 3079.81\n",
      "[8]\ttraining's rmse: 2951.81\n",
      "[9]\ttraining's rmse: 2834.35\n",
      "[10]\ttraining's rmse: 2727.94\n",
      "[11]\ttraining's rmse: 2635.06\n",
      "[12]\ttraining's rmse: 2549.68\n",
      "[13]\ttraining's rmse: 2474.6\n",
      "[14]\ttraining's rmse: 2405.7\n",
      "[15]\ttraining's rmse: 2344.96\n",
      "[16]\ttraining's rmse: 2289.15\n",
      "[17]\ttraining's rmse: 2242.17\n",
      "[18]\ttraining's rmse: 2197.97\n",
      "[19]\ttraining's rmse: 2160.18\n",
      "[20]\ttraining's rmse: 2120.94\n",
      "[21]\ttraining's rmse: 2087.12\n",
      "[22]\ttraining's rmse: 2054.38\n",
      "[23]\ttraining's rmse: 2027.63\n",
      "[24]\ttraining's rmse: 2001.92\n",
      "[25]\ttraining's rmse: 1978.83\n",
      "[26]\ttraining's rmse: 1957.92\n",
      "[27]\ttraining's rmse: 1938.82\n",
      "[28]\ttraining's rmse: 1921.04\n",
      "[29]\ttraining's rmse: 1904.83\n",
      "[30]\ttraining's rmse: 1890.37\n",
      "[31]\ttraining's rmse: 1876.39\n",
      "[32]\ttraining's rmse: 1864.4\n",
      "[33]\ttraining's rmse: 1854.5\n",
      "[34]\ttraining's rmse: 1844.12\n",
      "[35]\ttraining's rmse: 1834.52\n",
      "[36]\ttraining's rmse: 1825.3\n",
      "[37]\ttraining's rmse: 1815.42\n",
      "[38]\ttraining's rmse: 1806.49\n",
      "[39]\ttraining's rmse: 1799.78\n",
      "[40]\ttraining's rmse: 1793.56\n",
      "[41]\ttraining's rmse: 1787.36\n",
      "[42]\ttraining's rmse: 1782\n",
      "[LightGBM] [Warning] No further splits with positive gain, best gain: -inf\n",
      "[43]\ttraining's rmse: 1775.03\n",
      "[44]\ttraining's rmse: 1769.1\n",
      "[45]\ttraining's rmse: 1764.42\n",
      "[46]\ttraining's rmse: 1760.41\n",
      "[47]\ttraining's rmse: 1756.03\n",
      "[LightGBM] [Warning] No further splits with positive gain, best gain: -inf\n",
      "[48]\ttraining's rmse: 1752\n",
      "[49]\ttraining's rmse: 1748.69\n",
      "[LightGBM] [Warning] No further splits with positive gain, best gain: -inf\n",
      "[50]\ttraining's rmse: 1745.25\n",
      "Did not meet early stopping. Best iteration is:\n",
      "[50]\ttraining's rmse: 1745.25\n"
     ]
    },
    {
     "name": "stderr",
     "output_type": "stream",
     "text": [
      "C:\\Users\\User\\anaconda3\\envs\\ds_practicum_env\\lib\\site-packages\\lightgbm\\engine.py:148: UserWarning: Found `num_iterations` in params. Will use it instead of argument\n",
      "  _log_warning(\"Found `{}` in params. Will use it instead of argument\".format(alias))\n",
      "C:\\Users\\User\\anaconda3\\envs\\ds_practicum_env\\lib\\site-packages\\lightgbm\\engine.py:153: UserWarning: Found `early_stopping_rounds` in params. Will use it instead of argument\n",
      "  _log_warning(\"Found `{}` in params. Will use it instead of argument\".format(alias))\n"
     ]
    },
    {
     "name": "stdout",
     "output_type": "stream",
     "text": [
      "[LightGBM] [Warning] Accuracy may be bad since you didn't explicitly set num_leaves OR 2^max_depth > num_leaves. (num_leaves=31).\n",
      "[LightGBM] [Warning] Accuracy may be bad since you didn't explicitly set num_leaves OR 2^max_depth > num_leaves. (num_leaves=31).\n",
      "[LightGBM] [Warning] Auto-choosing row-wise multi-threading, the overhead of testing was 0.014664 seconds.\n",
      "You can set `force_row_wise=true` to remove the overhead.\n",
      "And if memory is not enough, you can set `force_col_wise=true`.\n",
      "[LightGBM] [Info] Total Bins 865\n",
      "[LightGBM] [Info] Number of data points in the train set: 159478, number of used features: 10\n",
      "[LightGBM] [Info] Start training from score 5014.451717\n",
      "[1]\ttraining's rmse: 4279.39\n",
      "Training until validation scores don't improve for 10 rounds\n",
      "[2]\ttraining's rmse: 3977.97\n",
      "[3]\ttraining's rmse: 3714.26\n",
      "[4]\ttraining's rmse: 3480.91\n",
      "[5]\ttraining's rmse: 3271.99\n",
      "[6]\ttraining's rmse: 3089.3\n",
      "[7]\ttraining's rmse: 2924.18\n",
      "[8]\ttraining's rmse: 2779.71\n",
      "[9]\ttraining's rmse: 2648.3\n",
      "[10]\ttraining's rmse: 2537.86\n",
      "[11]\ttraining's rmse: 2437.05\n",
      "[12]\ttraining's rmse: 2346.57\n",
      "[13]\ttraining's rmse: 2266.43\n",
      "[14]\ttraining's rmse: 2197.46\n",
      "[15]\ttraining's rmse: 2136.48\n",
      "[16]\ttraining's rmse: 2083.22\n",
      "[17]\ttraining's rmse: 2036.6\n",
      "[18]\ttraining's rmse: 1995.56\n",
      "[19]\ttraining's rmse: 1957.89\n",
      "[20]\ttraining's rmse: 1925.13\n",
      "[21]\ttraining's rmse: 1896.72\n",
      "[22]\ttraining's rmse: 1871.52\n",
      "[23]\ttraining's rmse: 1848.73\n",
      "[24]\ttraining's rmse: 1828.55\n",
      "[25]\ttraining's rmse: 1810.27\n",
      "[26]\ttraining's rmse: 1793.22\n",
      "[27]\ttraining's rmse: 1777.71\n",
      "[28]\ttraining's rmse: 1764.49\n",
      "[29]\ttraining's rmse: 1750.16\n",
      "[30]\ttraining's rmse: 1739.07\n",
      "[31]\ttraining's rmse: 1727.4\n",
      "[32]\ttraining's rmse: 1717.04\n",
      "[33]\ttraining's rmse: 1708.71\n",
      "[34]\ttraining's rmse: 1700.9\n",
      "[35]\ttraining's rmse: 1694.25\n",
      "[36]\ttraining's rmse: 1687.18\n",
      "[37]\ttraining's rmse: 1681.41\n",
      "[38]\ttraining's rmse: 1675.62\n",
      "[39]\ttraining's rmse: 1670.5\n",
      "[40]\ttraining's rmse: 1665.91\n",
      "[41]\ttraining's rmse: 1659.88\n",
      "[42]\ttraining's rmse: 1655.4\n",
      "[43]\ttraining's rmse: 1651.33\n",
      "[44]\ttraining's rmse: 1648.14\n",
      "[45]\ttraining's rmse: 1644.98\n",
      "[46]\ttraining's rmse: 1641.87\n",
      "[47]\ttraining's rmse: 1639.13\n",
      "[48]\ttraining's rmse: 1635.46\n",
      "[49]\ttraining's rmse: 1632.75\n",
      "[50]\ttraining's rmse: 1629.49\n",
      "Did not meet early stopping. Best iteration is:\n",
      "[50]\ttraining's rmse: 1629.49\n"
     ]
    },
    {
     "name": "stderr",
     "output_type": "stream",
     "text": [
      "C:\\Users\\User\\anaconda3\\envs\\ds_practicum_env\\lib\\site-packages\\lightgbm\\engine.py:148: UserWarning: Found `num_iterations` in params. Will use it instead of argument\n",
      "  _log_warning(\"Found `{}` in params. Will use it instead of argument\".format(alias))\n",
      "C:\\Users\\User\\anaconda3\\envs\\ds_practicum_env\\lib\\site-packages\\lightgbm\\engine.py:153: UserWarning: Found `early_stopping_rounds` in params. Will use it instead of argument\n",
      "  _log_warning(\"Found `{}` in params. Will use it instead of argument\".format(alias))\n"
     ]
    },
    {
     "name": "stdout",
     "output_type": "stream",
     "text": [
      "[LightGBM] [Warning] Accuracy may be bad since you didn't explicitly set num_leaves OR 2^max_depth > num_leaves. (num_leaves=31).\n",
      "[LightGBM] [Warning] Accuracy may be bad since you didn't explicitly set num_leaves OR 2^max_depth > num_leaves. (num_leaves=31).\n",
      "[LightGBM] [Warning] Auto-choosing col-wise multi-threading, the overhead of testing was 0.019358 seconds.\n",
      "You can set `force_col_wise=true` to remove the overhead.\n",
      "[LightGBM] [Info] Total Bins 865\n",
      "[LightGBM] [Info] Number of data points in the train set: 159478, number of used features: 10\n",
      "[LightGBM] [Info] Start training from score 5014.451717\n",
      "[1]\ttraining's rmse: 4279.37\n",
      "Training until validation scores don't improve for 10 rounds\n",
      "[2]\ttraining's rmse: 3977.91\n",
      "[3]\ttraining's rmse: 3714.51\n",
      "[4]\ttraining's rmse: 3481.05\n",
      "[5]\ttraining's rmse: 3270.37\n",
      "[6]\ttraining's rmse: 3087.12\n",
      "[7]\ttraining's rmse: 2923.04\n",
      "[8]\ttraining's rmse: 2779.37\n",
      "[9]\ttraining's rmse: 2645.79\n",
      "[10]\ttraining's rmse: 2533.86\n",
      "[11]\ttraining's rmse: 2432.45\n",
      "[12]\ttraining's rmse: 2345.44\n",
      "[13]\ttraining's rmse: 2265.26\n",
      "[14]\ttraining's rmse: 2193.39\n",
      "[15]\ttraining's rmse: 2132.04\n",
      "[16]\ttraining's rmse: 2078.13\n",
      "[17]\ttraining's rmse: 2031.1\n",
      "[18]\ttraining's rmse: 1989.02\n",
      "[19]\ttraining's rmse: 1951.2\n",
      "[20]\ttraining's rmse: 1919.42\n",
      "[21]\ttraining's rmse: 1889.27\n",
      "[22]\ttraining's rmse: 1863.95\n",
      "[23]\ttraining's rmse: 1841.49\n",
      "[24]\ttraining's rmse: 1819.88\n",
      "[25]\ttraining's rmse: 1800.71\n",
      "[26]\ttraining's rmse: 1783.04\n",
      "[27]\ttraining's rmse: 1767.14\n",
      "[28]\ttraining's rmse: 1753.18\n",
      "[29]\ttraining's rmse: 1740.01\n",
      "[30]\ttraining's rmse: 1728.08\n",
      "[31]\ttraining's rmse: 1717.1\n",
      "[32]\ttraining's rmse: 1708.24\n",
      "[33]\ttraining's rmse: 1699.68\n",
      "[34]\ttraining's rmse: 1691.88\n",
      "[35]\ttraining's rmse: 1684.11\n",
      "[36]\ttraining's rmse: 1677.21\n",
      "[37]\ttraining's rmse: 1670.96\n",
      "[38]\ttraining's rmse: 1665.39\n",
      "[39]\ttraining's rmse: 1660.5\n",
      "[40]\ttraining's rmse: 1654.89\n",
      "[41]\ttraining's rmse: 1649.97\n",
      "[42]\ttraining's rmse: 1645.73\n",
      "[43]\ttraining's rmse: 1641.88\n",
      "[44]\ttraining's rmse: 1637.5\n",
      "[45]\ttraining's rmse: 1633.53\n",
      "[46]\ttraining's rmse: 1630.34\n",
      "[47]\ttraining's rmse: 1626.45\n",
      "[48]\ttraining's rmse: 1623.34\n",
      "[49]\ttraining's rmse: 1620.73\n",
      "[50]\ttraining's rmse: 1617.75\n",
      "Did not meet early stopping. Best iteration is:\n",
      "[50]\ttraining's rmse: 1617.75\n"
     ]
    },
    {
     "name": "stderr",
     "output_type": "stream",
     "text": [
      "C:\\Users\\User\\anaconda3\\envs\\ds_practicum_env\\lib\\site-packages\\lightgbm\\engine.py:148: UserWarning: Found `num_iterations` in params. Will use it instead of argument\n",
      "  _log_warning(\"Found `{}` in params. Will use it instead of argument\".format(alias))\n",
      "C:\\Users\\User\\anaconda3\\envs\\ds_practicum_env\\lib\\site-packages\\lightgbm\\engine.py:153: UserWarning: Found `early_stopping_rounds` in params. Will use it instead of argument\n",
      "  _log_warning(\"Found `{}` in params. Will use it instead of argument\".format(alias))\n"
     ]
    },
    {
     "name": "stdout",
     "output_type": "stream",
     "text": [
      "[LightGBM] [Warning] Accuracy may be bad since you didn't explicitly set num_leaves OR 2^max_depth > num_leaves. (num_leaves=31).\n",
      "[LightGBM] [Warning] Accuracy may be bad since you didn't explicitly set num_leaves OR 2^max_depth > num_leaves. (num_leaves=31).\n",
      "[LightGBM] [Warning] Auto-choosing col-wise multi-threading, the overhead of testing was 0.017620 seconds.\n",
      "You can set `force_col_wise=true` to remove the overhead.\n",
      "[LightGBM] [Info] Total Bins 865\n",
      "[LightGBM] [Info] Number of data points in the train set: 159478, number of used features: 10\n",
      "[LightGBM] [Info] Start training from score 5014.451717\n",
      "[1]\ttraining's rmse: 4279.37\n",
      "Training until validation scores don't improve for 10 rounds\n",
      "[2]\ttraining's rmse: 3977.91\n",
      "[3]\ttraining's rmse: 3714.51\n",
      "[4]\ttraining's rmse: 3481.05\n",
      "[5]\ttraining's rmse: 3270.37\n",
      "[6]\ttraining's rmse: 3087.12\n",
      "[7]\ttraining's rmse: 2923.04\n",
      "[8]\ttraining's rmse: 2779.37\n",
      "[9]\ttraining's rmse: 2645.79\n",
      "[10]\ttraining's rmse: 2533.86\n",
      "[11]\ttraining's rmse: 2432.16\n",
      "[12]\ttraining's rmse: 2344.57\n",
      "[13]\ttraining's rmse: 2267.31\n",
      "[14]\ttraining's rmse: 2195.14\n",
      "[15]\ttraining's rmse: 2134.25\n",
      "[16]\ttraining's rmse: 2079.04\n",
      "[17]\ttraining's rmse: 2031.73\n",
      "[18]\ttraining's rmse: 1989.47\n",
      "[19]\ttraining's rmse: 1954.31\n",
      "[20]\ttraining's rmse: 1919.94\n",
      "[21]\ttraining's rmse: 1892.41\n",
      "[22]\ttraining's rmse: 1865.89\n",
      "[23]\ttraining's rmse: 1841.85\n",
      "[24]\ttraining's rmse: 1820.05\n",
      "[25]\ttraining's rmse: 1802.09\n",
      "[26]\ttraining's rmse: 1783.88\n",
      "[27]\ttraining's rmse: 1768.68\n",
      "[28]\ttraining's rmse: 1755.2\n",
      "[29]\ttraining's rmse: 1741.62\n",
      "[30]\ttraining's rmse: 1730.19\n",
      "[31]\ttraining's rmse: 1718.79\n",
      "[32]\ttraining's rmse: 1710.13\n",
      "[33]\ttraining's rmse: 1701.62\n",
      "[34]\ttraining's rmse: 1693.44\n",
      "[35]\ttraining's rmse: 1686.13\n",
      "[36]\ttraining's rmse: 1678.97\n",
      "[37]\ttraining's rmse: 1672.69\n",
      "[38]\ttraining's rmse: 1666.6\n",
      "[39]\ttraining's rmse: 1661.62\n",
      "[40]\ttraining's rmse: 1656.65\n",
      "[41]\ttraining's rmse: 1651.65\n",
      "[42]\ttraining's rmse: 1647.16\n",
      "[43]\ttraining's rmse: 1642.92\n",
      "[44]\ttraining's rmse: 1638\n",
      "[45]\ttraining's rmse: 1634.11\n",
      "[46]\ttraining's rmse: 1630.12\n",
      "[47]\ttraining's rmse: 1626.21\n",
      "[48]\ttraining's rmse: 1623.35\n",
      "[49]\ttraining's rmse: 1620.31\n",
      "[50]\ttraining's rmse: 1617.17\n",
      "Did not meet early stopping. Best iteration is:\n",
      "[50]\ttraining's rmse: 1617.17\n"
     ]
    },
    {
     "name": "stderr",
     "output_type": "stream",
     "text": [
      "C:\\Users\\User\\anaconda3\\envs\\ds_practicum_env\\lib\\site-packages\\lightgbm\\engine.py:148: UserWarning: Found `num_iterations` in params. Will use it instead of argument\n",
      "  _log_warning(\"Found `{}` in params. Will use it instead of argument\".format(alias))\n",
      "C:\\Users\\User\\anaconda3\\envs\\ds_practicum_env\\lib\\site-packages\\lightgbm\\engine.py:153: UserWarning: Found `early_stopping_rounds` in params. Will use it instead of argument\n",
      "  _log_warning(\"Found `{}` in params. Will use it instead of argument\".format(alias))\n"
     ]
    },
    {
     "name": "stdout",
     "output_type": "stream",
     "text": [
      "[LightGBM] [Warning] Accuracy may be bad since you didn't explicitly set num_leaves OR 2^max_depth > num_leaves. (num_leaves=31).\n",
      "[LightGBM] [Warning] Accuracy may be bad since you didn't explicitly set num_leaves OR 2^max_depth > num_leaves. (num_leaves=31).\n",
      "[LightGBM] [Warning] Auto-choosing col-wise multi-threading, the overhead of testing was 0.038711 seconds.\n",
      "You can set `force_col_wise=true` to remove the overhead.\n",
      "[LightGBM] [Info] Total Bins 865\n",
      "[LightGBM] [Info] Number of data points in the train set: 159478, number of used features: 10\n",
      "[LightGBM] [Info] Start training from score 5014.451717\n",
      "[1]\ttraining's rmse: 4279.37\n",
      "Training until validation scores don't improve for 10 rounds\n",
      "[2]\ttraining's rmse: 3977.91\n",
      "[3]\ttraining's rmse: 3714.51\n",
      "[4]\ttraining's rmse: 3481.05\n",
      "[5]\ttraining's rmse: 3270.37\n",
      "[6]\ttraining's rmse: 3087.12\n",
      "[7]\ttraining's rmse: 2923.04\n",
      "[8]\ttraining's rmse: 2779.37\n",
      "[9]\ttraining's rmse: 2645.79\n",
      "[10]\ttraining's rmse: 2533.86\n",
      "[11]\ttraining's rmse: 2432.16\n",
      "[12]\ttraining's rmse: 2344.57\n",
      "[13]\ttraining's rmse: 2267.31\n",
      "[14]\ttraining's rmse: 2195.14\n",
      "[15]\ttraining's rmse: 2134.25\n",
      "[16]\ttraining's rmse: 2079.04\n",
      "[17]\ttraining's rmse: 2031.73\n",
      "[18]\ttraining's rmse: 1989.47\n",
      "[19]\ttraining's rmse: 1954.31\n",
      "[20]\ttraining's rmse: 1919.94\n",
      "[21]\ttraining's rmse: 1892.41\n",
      "[22]\ttraining's rmse: 1865.86\n",
      "[23]\ttraining's rmse: 1841.83\n",
      "[24]\ttraining's rmse: 1820.05\n",
      "[25]\ttraining's rmse: 1801.61\n",
      "[26]\ttraining's rmse: 1785.84\n",
      "[27]\ttraining's rmse: 1769.78\n",
      "[28]\ttraining's rmse: 1755.96\n",
      "[29]\ttraining's rmse: 1741.63\n",
      "[30]\ttraining's rmse: 1729.37\n",
      "[31]\ttraining's rmse: 1718.74\n",
      "[32]\ttraining's rmse: 1708.88\n",
      "[33]\ttraining's rmse: 1699.57\n",
      "[34]\ttraining's rmse: 1692.2\n",
      "[35]\ttraining's rmse: 1684.9\n",
      "[36]\ttraining's rmse: 1678.19\n",
      "[37]\ttraining's rmse: 1671.67\n",
      "[38]\ttraining's rmse: 1665.96\n",
      "[39]\ttraining's rmse: 1660.55\n",
      "[40]\ttraining's rmse: 1655.71\n",
      "[41]\ttraining's rmse: 1650.69\n",
      "[42]\ttraining's rmse: 1646.41\n",
      "[43]\ttraining's rmse: 1642.6\n",
      "[44]\ttraining's rmse: 1637.96\n",
      "[45]\ttraining's rmse: 1633.5\n",
      "[46]\ttraining's rmse: 1629.24\n",
      "[47]\ttraining's rmse: 1625.63\n",
      "[48]\ttraining's rmse: 1621.93\n",
      "[49]\ttraining's rmse: 1619.15\n",
      "[50]\ttraining's rmse: 1616.75\n",
      "Did not meet early stopping. Best iteration is:\n",
      "[50]\ttraining's rmse: 1616.75\n"
     ]
    },
    {
     "name": "stderr",
     "output_type": "stream",
     "text": [
      "C:\\Users\\User\\anaconda3\\envs\\ds_practicum_env\\lib\\site-packages\\lightgbm\\engine.py:148: UserWarning: Found `num_iterations` in params. Will use it instead of argument\n",
      "  _log_warning(\"Found `{}` in params. Will use it instead of argument\".format(alias))\n",
      "C:\\Users\\User\\anaconda3\\envs\\ds_practicum_env\\lib\\site-packages\\lightgbm\\engine.py:153: UserWarning: Found `early_stopping_rounds` in params. Will use it instead of argument\n",
      "  _log_warning(\"Found `{}` in params. Will use it instead of argument\".format(alias))\n"
     ]
    },
    {
     "name": "stdout",
     "output_type": "stream",
     "text": [
      "[LightGBM] [Warning] Accuracy may be bad since you didn't explicitly set num_leaves OR 2^max_depth > num_leaves. (num_leaves=31).\n",
      "[LightGBM] [Warning] Accuracy may be bad since you didn't explicitly set num_leaves OR 2^max_depth > num_leaves. (num_leaves=31).\n",
      "[LightGBM] [Warning] Auto-choosing row-wise multi-threading, the overhead of testing was 0.013217 seconds.\n",
      "You can set `force_row_wise=true` to remove the overhead.\n",
      "And if memory is not enough, you can set `force_col_wise=true`.\n",
      "[LightGBM] [Info] Total Bins 865\n",
      "[LightGBM] [Info] Number of data points in the train set: 159478, number of used features: 10\n",
      "[LightGBM] [Info] Start training from score 5014.451717\n",
      "[1]\ttraining's rmse: 4279.37\n",
      "Training until validation scores don't improve for 10 rounds\n",
      "[2]\ttraining's rmse: 3977.91\n",
      "[3]\ttraining's rmse: 3714.51\n",
      "[4]\ttraining's rmse: 3481.05\n",
      "[5]\ttraining's rmse: 3270.37\n",
      "[6]\ttraining's rmse: 3087.12\n",
      "[7]\ttraining's rmse: 2923.04\n",
      "[8]\ttraining's rmse: 2779.37\n",
      "[9]\ttraining's rmse: 2645.79\n",
      "[10]\ttraining's rmse: 2533.86\n",
      "[11]\ttraining's rmse: 2432.16\n",
      "[12]\ttraining's rmse: 2344.57\n",
      "[13]\ttraining's rmse: 2267.31\n",
      "[14]\ttraining's rmse: 2195.14\n",
      "[15]\ttraining's rmse: 2134.25\n",
      "[16]\ttraining's rmse: 2079.04\n",
      "[17]\ttraining's rmse: 2031.73\n",
      "[18]\ttraining's rmse: 1989.47\n",
      "[19]\ttraining's rmse: 1954.31\n",
      "[20]\ttraining's rmse: 1919.94\n",
      "[21]\ttraining's rmse: 1892.41\n",
      "[22]\ttraining's rmse: 1865.86\n",
      "[23]\ttraining's rmse: 1841.83\n",
      "[24]\ttraining's rmse: 1820.05\n",
      "[25]\ttraining's rmse: 1801.61\n",
      "[26]\ttraining's rmse: 1785.84\n",
      "[27]\ttraining's rmse: 1769.78\n",
      "[28]\ttraining's rmse: 1755.96\n",
      "[29]\ttraining's rmse: 1741.63\n",
      "[30]\ttraining's rmse: 1729.37\n",
      "[31]\ttraining's rmse: 1718.74\n",
      "[32]\ttraining's rmse: 1708.88\n",
      "[33]\ttraining's rmse: 1699.57\n",
      "[34]\ttraining's rmse: 1692.2\n",
      "[35]\ttraining's rmse: 1684.9\n",
      "[36]\ttraining's rmse: 1678.19\n",
      "[37]\ttraining's rmse: 1671.67\n",
      "[38]\ttraining's rmse: 1665.96\n",
      "[39]\ttraining's rmse: 1660.55\n",
      "[40]\ttraining's rmse: 1655.71\n",
      "[41]\ttraining's rmse: 1650.69\n",
      "[42]\ttraining's rmse: 1646.41\n",
      "[43]\ttraining's rmse: 1642.6\n",
      "[44]\ttraining's rmse: 1637.96\n",
      "[45]\ttraining's rmse: 1633.49\n",
      "[46]\ttraining's rmse: 1629.56\n",
      "[47]\ttraining's rmse: 1625.97\n",
      "[48]\ttraining's rmse: 1622.87\n",
      "[49]\ttraining's rmse: 1619.59\n",
      "[50]\ttraining's rmse: 1616.1\n",
      "Did not meet early stopping. Best iteration is:\n",
      "[50]\ttraining's rmse: 1616.1\n"
     ]
    },
    {
     "name": "stderr",
     "output_type": "stream",
     "text": [
      " 50%|█████     | 3/6 [00:29<00:33, 11.06s/it]C:\\Users\\User\\anaconda3\\envs\\ds_practicum_env\\lib\\site-packages\\lightgbm\\engine.py:148: UserWarning: Found `num_iterations` in params. Will use it instead of argument\n",
      "  _log_warning(\"Found `{}` in params. Will use it instead of argument\".format(alias))\n",
      "C:\\Users\\User\\anaconda3\\envs\\ds_practicum_env\\lib\\site-packages\\lightgbm\\engine.py:153: UserWarning: Found `early_stopping_rounds` in params. Will use it instead of argument\n",
      "  _log_warning(\"Found `{}` in params. Will use it instead of argument\".format(alias))\n"
     ]
    },
    {
     "name": "stdout",
     "output_type": "stream",
     "text": [
      "[LightGBM] [Warning] Auto-choosing row-wise multi-threading, the overhead of testing was 0.011333 seconds.\n",
      "You can set `force_row_wise=true` to remove the overhead.\n",
      "And if memory is not enough, you can set `force_col_wise=true`.\n",
      "[LightGBM] [Info] Total Bins 865\n",
      "[LightGBM] [Info] Number of data points in the train set: 159478, number of used features: 10\n",
      "[LightGBM] [Info] Start training from score 5014.451717\n",
      "[1]\ttraining's rmse: 4385.2\n",
      "Training until validation scores don't improve for 10 rounds\n",
      "[2]\ttraining's rmse: 4186.15\n",
      "[3]\ttraining's rmse: 4004.47\n",
      "[4]\ttraining's rmse: 3848.99\n",
      "[5]\ttraining's rmse: 3709.09\n",
      "[6]\ttraining's rmse: 3589.76\n",
      "[7]\ttraining's rmse: 3466.58\n",
      "[8]\ttraining's rmse: 3362.72\n",
      "[9]\ttraining's rmse: 3273.96\n",
      "[10]\ttraining's rmse: 3179.64\n",
      "[11]\ttraining's rmse: 3108.52\n",
      "[12]\ttraining's rmse: 3022.55\n",
      "[13]\ttraining's rmse: 2950.31\n",
      "[14]\ttraining's rmse: 2893.85\n",
      "[15]\ttraining's rmse: 2825.35\n",
      "[16]\ttraining's rmse: 2765.53\n",
      "[17]\ttraining's rmse: 2721.57\n",
      "[18]\ttraining's rmse: 2668.1\n",
      "[19]\ttraining's rmse: 2622.48\n",
      "[20]\ttraining's rmse: 2581.64\n",
      "[21]\ttraining's rmse: 2552.59\n",
      "[22]\ttraining's rmse: 2524.38\n",
      "[23]\ttraining's rmse: 2488.68\n",
      "[24]\ttraining's rmse: 2457.7\n",
      "[25]\ttraining's rmse: 2431.96\n",
      "[26]\ttraining's rmse: 2407.97\n",
      "[27]\ttraining's rmse: 2386.53\n",
      "[28]\ttraining's rmse: 2364.7\n",
      "[29]\ttraining's rmse: 2343.27\n",
      "[30]\ttraining's rmse: 2325.97\n",
      "[31]\ttraining's rmse: 2308.12\n",
      "[32]\ttraining's rmse: 2290.41\n",
      "[33]\ttraining's rmse: 2268.98\n",
      "[34]\ttraining's rmse: 2254.73\n",
      "[35]\ttraining's rmse: 2240.88\n",
      "[36]\ttraining's rmse: 2225.19\n",
      "[37]\ttraining's rmse: 2212.03\n",
      "[38]\ttraining's rmse: 2199.92\n",
      "[39]\ttraining's rmse: 2189.04\n",
      "[40]\ttraining's rmse: 2172.48\n",
      "[41]\ttraining's rmse: 2160.1\n",
      "[42]\ttraining's rmse: 2150.16\n",
      "[43]\ttraining's rmse: 2140.54\n",
      "[44]\ttraining's rmse: 2130.15\n",
      "[45]\ttraining's rmse: 2122.06\n",
      "[46]\ttraining's rmse: 2114.46\n",
      "[47]\ttraining's rmse: 2106.37\n",
      "[48]\ttraining's rmse: 2092.53\n",
      "[49]\ttraining's rmse: 2081.95\n",
      "[50]\ttraining's rmse: 2075.66\n",
      "[51]\ttraining's rmse: 2069.6\n",
      "[52]\ttraining's rmse: 2061.96\n",
      "[53]\ttraining's rmse: 2055.61\n",
      "[54]\ttraining's rmse: 2049.72\n",
      "[55]\ttraining's rmse: 2044.83\n",
      "[56]\ttraining's rmse: 2039.81\n",
      "[57]\ttraining's rmse: 2031.13\n",
      "[58]\ttraining's rmse: 2023.77\n",
      "[59]\ttraining's rmse: 2019.54\n",
      "[60]\ttraining's rmse: 2014.5\n",
      "[61]\ttraining's rmse: 2009.78\n",
      "[62]\ttraining's rmse: 2002.68\n",
      "[63]\ttraining's rmse: 1997.64\n",
      "[64]\ttraining's rmse: 1993.74\n",
      "[65]\ttraining's rmse: 1990.35\n",
      "[66]\ttraining's rmse: 1986.59\n",
      "[67]\ttraining's rmse: 1982.64\n",
      "[68]\ttraining's rmse: 1979.63\n",
      "[69]\ttraining's rmse: 1975.61\n",
      "[70]\ttraining's rmse: 1970.82\n",
      "Did not meet early stopping. Best iteration is:\n",
      "[70]\ttraining's rmse: 1970.82\n"
     ]
    },
    {
     "name": "stderr",
     "output_type": "stream",
     "text": [
      "C:\\Users\\User\\anaconda3\\envs\\ds_practicum_env\\lib\\site-packages\\lightgbm\\engine.py:148: UserWarning: Found `num_iterations` in params. Will use it instead of argument\n",
      "  _log_warning(\"Found `{}` in params. Will use it instead of argument\".format(alias))\n",
      "C:\\Users\\User\\anaconda3\\envs\\ds_practicum_env\\lib\\site-packages\\lightgbm\\engine.py:153: UserWarning: Found `early_stopping_rounds` in params. Will use it instead of argument\n",
      "  _log_warning(\"Found `{}` in params. Will use it instead of argument\".format(alias))\n"
     ]
    },
    {
     "name": "stdout",
     "output_type": "stream",
     "text": [
      "[LightGBM] [Warning] Auto-choosing row-wise multi-threading, the overhead of testing was 0.012236 seconds.\n",
      "You can set `force_row_wise=true` to remove the overhead.\n",
      "And if memory is not enough, you can set `force_col_wise=true`.\n",
      "[LightGBM] [Info] Total Bins 865\n",
      "[LightGBM] [Info] Number of data points in the train set: 159478, number of used features: 10\n",
      "[LightGBM] [Info] Start training from score 5014.451717\n",
      "[1]\ttraining's rmse: 4308.46\n",
      "Training until validation scores don't improve for 10 rounds\n",
      "[2]\ttraining's rmse: 4038.5\n",
      "[3]\ttraining's rmse: 3800.3\n",
      "[4]\ttraining's rmse: 3586.83\n",
      "[5]\ttraining's rmse: 3398.83\n",
      "[6]\ttraining's rmse: 3230.94\n",
      "[7]\ttraining's rmse: 3079.81\n",
      "[8]\ttraining's rmse: 2951.81\n",
      "[9]\ttraining's rmse: 2834.35\n",
      "[10]\ttraining's rmse: 2727.94\n",
      "[11]\ttraining's rmse: 2635.06\n",
      "[12]\ttraining's rmse: 2549.68\n",
      "[13]\ttraining's rmse: 2474.6\n",
      "[14]\ttraining's rmse: 2405.7\n",
      "[15]\ttraining's rmse: 2344.96\n",
      "[16]\ttraining's rmse: 2289.15\n",
      "[17]\ttraining's rmse: 2242.17\n",
      "[18]\ttraining's rmse: 2197.97\n",
      "[19]\ttraining's rmse: 2160.18\n",
      "[20]\ttraining's rmse: 2120.94\n",
      "[21]\ttraining's rmse: 2087.12\n",
      "[22]\ttraining's rmse: 2054.38\n",
      "[23]\ttraining's rmse: 2027.63\n",
      "[24]\ttraining's rmse: 2001.92\n",
      "[25]\ttraining's rmse: 1978.83\n",
      "[26]\ttraining's rmse: 1957.92\n",
      "[27]\ttraining's rmse: 1938.82\n",
      "[28]\ttraining's rmse: 1921.04\n",
      "[29]\ttraining's rmse: 1904.83\n",
      "[30]\ttraining's rmse: 1890.37\n",
      "[31]\ttraining's rmse: 1876.39\n",
      "[32]\ttraining's rmse: 1864.4\n",
      "[33]\ttraining's rmse: 1854.5\n",
      "[34]\ttraining's rmse: 1844.12\n",
      "[35]\ttraining's rmse: 1834.52\n",
      "[36]\ttraining's rmse: 1825.3\n",
      "[37]\ttraining's rmse: 1815.42\n",
      "[38]\ttraining's rmse: 1806.49\n",
      "[39]\ttraining's rmse: 1799.78\n",
      "[40]\ttraining's rmse: 1793.56\n",
      "[41]\ttraining's rmse: 1787.36\n",
      "[42]\ttraining's rmse: 1782\n",
      "[LightGBM] [Warning] No further splits with positive gain, best gain: -inf\n",
      "[43]\ttraining's rmse: 1775.03\n",
      "[44]\ttraining's rmse: 1769.1\n",
      "[45]\ttraining's rmse: 1764.42\n",
      "[46]\ttraining's rmse: 1760.41\n",
      "[47]\ttraining's rmse: 1756.03\n",
      "[LightGBM] [Warning] No further splits with positive gain, best gain: -inf\n",
      "[48]\ttraining's rmse: 1752\n",
      "[49]\ttraining's rmse: 1748.69\n",
      "[LightGBM] [Warning] No further splits with positive gain, best gain: -inf\n",
      "[50]\ttraining's rmse: 1745.25\n",
      "[51]\ttraining's rmse: 1740.96\n",
      "[52]\ttraining's rmse: 1736.39\n",
      "[53]\ttraining's rmse: 1733.48\n",
      "[54]\ttraining's rmse: 1730.21\n",
      "[55]\ttraining's rmse: 1726.58\n",
      "[56]\ttraining's rmse: 1724.5\n",
      "[57]\ttraining's rmse: 1722.17\n",
      "[58]\ttraining's rmse: 1719.29\n",
      "[59]\ttraining's rmse: 1716.36\n",
      "[LightGBM] [Warning] No further splits with positive gain, best gain: -inf\n",
      "[60]\ttraining's rmse: 1714.39\n",
      "[61]\ttraining's rmse: 1712.48\n",
      "[62]\ttraining's rmse: 1709.14\n",
      "[63]\ttraining's rmse: 1706.72\n",
      "[64]\ttraining's rmse: 1704.35\n",
      "[LightGBM] [Warning] No further splits with positive gain, best gain: -inf\n",
      "[65]\ttraining's rmse: 1701.52\n",
      "[66]\ttraining's rmse: 1700.1\n",
      "[67]\ttraining's rmse: 1698.19\n",
      "[LightGBM] [Warning] No further splits with positive gain, best gain: -inf\n",
      "[68]\ttraining's rmse: 1696.7\n",
      "[69]\ttraining's rmse: 1694.71\n",
      "[70]\ttraining's rmse: 1693.16\n",
      "Did not meet early stopping. Best iteration is:\n",
      "[70]\ttraining's rmse: 1693.16\n"
     ]
    },
    {
     "name": "stderr",
     "output_type": "stream",
     "text": [
      "C:\\Users\\User\\anaconda3\\envs\\ds_practicum_env\\lib\\site-packages\\lightgbm\\engine.py:148: UserWarning: Found `num_iterations` in params. Will use it instead of argument\n",
      "  _log_warning(\"Found `{}` in params. Will use it instead of argument\".format(alias))\n",
      "C:\\Users\\User\\anaconda3\\envs\\ds_practicum_env\\lib\\site-packages\\lightgbm\\engine.py:153: UserWarning: Found `early_stopping_rounds` in params. Will use it instead of argument\n",
      "  _log_warning(\"Found `{}` in params. Will use it instead of argument\".format(alias))\n"
     ]
    },
    {
     "name": "stdout",
     "output_type": "stream",
     "text": [
      "[LightGBM] [Warning] Accuracy may be bad since you didn't explicitly set num_leaves OR 2^max_depth > num_leaves. (num_leaves=31).\n",
      "[LightGBM] [Warning] Accuracy may be bad since you didn't explicitly set num_leaves OR 2^max_depth > num_leaves. (num_leaves=31).\n",
      "[LightGBM] [Warning] Auto-choosing row-wise multi-threading, the overhead of testing was 0.009896 seconds.\n",
      "You can set `force_row_wise=true` to remove the overhead.\n",
      "And if memory is not enough, you can set `force_col_wise=true`.\n",
      "[LightGBM] [Info] Total Bins 865\n",
      "[LightGBM] [Info] Number of data points in the train set: 159478, number of used features: 10\n",
      "[LightGBM] [Info] Start training from score 5014.451717\n",
      "[1]\ttraining's rmse: 4279.39\n",
      "Training until validation scores don't improve for 10 rounds\n",
      "[2]\ttraining's rmse: 3977.97\n",
      "[3]\ttraining's rmse: 3714.26\n",
      "[4]\ttraining's rmse: 3480.91\n",
      "[5]\ttraining's rmse: 3271.99\n",
      "[6]\ttraining's rmse: 3089.3\n",
      "[7]\ttraining's rmse: 2924.18\n",
      "[8]\ttraining's rmse: 2779.71\n",
      "[9]\ttraining's rmse: 2648.3\n",
      "[10]\ttraining's rmse: 2537.86\n",
      "[11]\ttraining's rmse: 2437.05\n",
      "[12]\ttraining's rmse: 2346.57\n",
      "[13]\ttraining's rmse: 2266.43\n",
      "[14]\ttraining's rmse: 2197.46\n",
      "[15]\ttraining's rmse: 2136.48\n",
      "[16]\ttraining's rmse: 2083.22\n",
      "[17]\ttraining's rmse: 2036.6\n",
      "[18]\ttraining's rmse: 1995.56\n",
      "[19]\ttraining's rmse: 1957.89\n",
      "[20]\ttraining's rmse: 1925.13\n",
      "[21]\ttraining's rmse: 1896.72\n",
      "[22]\ttraining's rmse: 1871.52\n",
      "[23]\ttraining's rmse: 1848.73\n",
      "[24]\ttraining's rmse: 1828.55\n",
      "[25]\ttraining's rmse: 1810.27\n",
      "[26]\ttraining's rmse: 1793.22\n",
      "[27]\ttraining's rmse: 1777.71\n",
      "[28]\ttraining's rmse: 1764.49\n",
      "[29]\ttraining's rmse: 1750.16\n",
      "[30]\ttraining's rmse: 1739.07\n",
      "[31]\ttraining's rmse: 1727.4\n",
      "[32]\ttraining's rmse: 1717.04\n",
      "[33]\ttraining's rmse: 1708.71\n",
      "[34]\ttraining's rmse: 1700.9\n",
      "[35]\ttraining's rmse: 1694.25\n",
      "[36]\ttraining's rmse: 1687.18\n",
      "[37]\ttraining's rmse: 1681.41\n",
      "[38]\ttraining's rmse: 1675.62\n",
      "[39]\ttraining's rmse: 1670.5\n",
      "[40]\ttraining's rmse: 1665.91\n",
      "[41]\ttraining's rmse: 1659.88\n",
      "[42]\ttraining's rmse: 1655.4\n",
      "[43]\ttraining's rmse: 1651.33\n",
      "[44]\ttraining's rmse: 1648.14\n",
      "[45]\ttraining's rmse: 1644.98\n",
      "[46]\ttraining's rmse: 1641.87\n",
      "[47]\ttraining's rmse: 1639.13\n",
      "[48]\ttraining's rmse: 1635.46\n",
      "[49]\ttraining's rmse: 1632.75\n",
      "[50]\ttraining's rmse: 1629.49\n",
      "[51]\ttraining's rmse: 1627.41\n",
      "[52]\ttraining's rmse: 1624.22\n",
      "[53]\ttraining's rmse: 1621.26\n",
      "[54]\ttraining's rmse: 1618.42\n",
      "[55]\ttraining's rmse: 1615.86\n",
      "[56]\ttraining's rmse: 1613.86\n",
      "[57]\ttraining's rmse: 1612.02\n",
      "[58]\ttraining's rmse: 1609.91\n",
      "[59]\ttraining's rmse: 1607.97\n",
      "[60]\ttraining's rmse: 1606.13\n",
      "[61]\ttraining's rmse: 1603.56\n",
      "[62]\ttraining's rmse: 1602\n",
      "[63]\ttraining's rmse: 1600.61\n",
      "[64]\ttraining's rmse: 1599.03\n",
      "[65]\ttraining's rmse: 1597.73\n",
      "[66]\ttraining's rmse: 1595.38\n",
      "[67]\ttraining's rmse: 1592.98\n",
      "[68]\ttraining's rmse: 1591.73\n",
      "[69]\ttraining's rmse: 1590.68\n",
      "[70]\ttraining's rmse: 1589.3\n",
      "Did not meet early stopping. Best iteration is:\n",
      "[70]\ttraining's rmse: 1589.3\n"
     ]
    },
    {
     "name": "stderr",
     "output_type": "stream",
     "text": [
      "C:\\Users\\User\\anaconda3\\envs\\ds_practicum_env\\lib\\site-packages\\lightgbm\\engine.py:148: UserWarning: Found `num_iterations` in params. Will use it instead of argument\n",
      "  _log_warning(\"Found `{}` in params. Will use it instead of argument\".format(alias))\n",
      "C:\\Users\\User\\anaconda3\\envs\\ds_practicum_env\\lib\\site-packages\\lightgbm\\engine.py:153: UserWarning: Found `early_stopping_rounds` in params. Will use it instead of argument\n",
      "  _log_warning(\"Found `{}` in params. Will use it instead of argument\".format(alias))\n"
     ]
    },
    {
     "name": "stdout",
     "output_type": "stream",
     "text": [
      "[LightGBM] [Warning] Accuracy may be bad since you didn't explicitly set num_leaves OR 2^max_depth > num_leaves. (num_leaves=31).\n",
      "[LightGBM] [Warning] Accuracy may be bad since you didn't explicitly set num_leaves OR 2^max_depth > num_leaves. (num_leaves=31).\n",
      "[LightGBM] [Warning] Auto-choosing row-wise multi-threading, the overhead of testing was 0.011626 seconds.\n",
      "You can set `force_row_wise=true` to remove the overhead.\n",
      "And if memory is not enough, you can set `force_col_wise=true`.\n",
      "[LightGBM] [Info] Total Bins 865\n",
      "[LightGBM] [Info] Number of data points in the train set: 159478, number of used features: 10\n",
      "[LightGBM] [Info] Start training from score 5014.451717\n",
      "[1]\ttraining's rmse: 4279.37\n",
      "Training until validation scores don't improve for 10 rounds\n",
      "[2]\ttraining's rmse: 3977.91\n",
      "[3]\ttraining's rmse: 3714.51\n",
      "[4]\ttraining's rmse: 3481.05\n",
      "[5]\ttraining's rmse: 3270.37\n",
      "[6]\ttraining's rmse: 3087.12\n",
      "[7]\ttraining's rmse: 2923.04\n",
      "[8]\ttraining's rmse: 2779.37\n",
      "[9]\ttraining's rmse: 2645.79\n",
      "[10]\ttraining's rmse: 2533.86\n",
      "[11]\ttraining's rmse: 2432.45\n",
      "[12]\ttraining's rmse: 2345.44\n",
      "[13]\ttraining's rmse: 2265.26\n",
      "[14]\ttraining's rmse: 2193.39\n",
      "[15]\ttraining's rmse: 2132.04\n",
      "[16]\ttraining's rmse: 2078.13\n",
      "[17]\ttraining's rmse: 2031.1\n",
      "[18]\ttraining's rmse: 1989.02\n",
      "[19]\ttraining's rmse: 1951.2\n",
      "[20]\ttraining's rmse: 1919.42\n",
      "[21]\ttraining's rmse: 1889.27\n",
      "[22]\ttraining's rmse: 1863.95\n",
      "[23]\ttraining's rmse: 1841.49\n",
      "[24]\ttraining's rmse: 1819.88\n",
      "[25]\ttraining's rmse: 1800.71\n",
      "[26]\ttraining's rmse: 1783.04\n",
      "[27]\ttraining's rmse: 1767.14\n",
      "[28]\ttraining's rmse: 1753.18\n",
      "[29]\ttraining's rmse: 1740.01\n",
      "[30]\ttraining's rmse: 1728.08\n",
      "[31]\ttraining's rmse: 1717.1\n",
      "[32]\ttraining's rmse: 1708.24\n",
      "[33]\ttraining's rmse: 1699.68\n",
      "[34]\ttraining's rmse: 1691.88\n",
      "[35]\ttraining's rmse: 1684.11\n",
      "[36]\ttraining's rmse: 1677.21\n",
      "[37]\ttraining's rmse: 1670.96\n",
      "[38]\ttraining's rmse: 1665.39\n",
      "[39]\ttraining's rmse: 1660.5\n",
      "[40]\ttraining's rmse: 1654.89\n",
      "[41]\ttraining's rmse: 1649.97\n",
      "[42]\ttraining's rmse: 1645.73\n",
      "[43]\ttraining's rmse: 1641.88\n",
      "[44]\ttraining's rmse: 1637.5\n",
      "[45]\ttraining's rmse: 1633.53\n",
      "[46]\ttraining's rmse: 1630.34\n",
      "[47]\ttraining's rmse: 1626.45\n",
      "[48]\ttraining's rmse: 1623.34\n",
      "[49]\ttraining's rmse: 1620.73\n",
      "[50]\ttraining's rmse: 1617.75\n",
      "[51]\ttraining's rmse: 1615.37\n",
      "[52]\ttraining's rmse: 1612.84\n",
      "[53]\ttraining's rmse: 1610.51\n",
      "[54]\ttraining's rmse: 1608.26\n",
      "[55]\ttraining's rmse: 1606\n",
      "[56]\ttraining's rmse: 1604.02\n",
      "[57]\ttraining's rmse: 1601.69\n",
      "[58]\ttraining's rmse: 1599.65\n",
      "[59]\ttraining's rmse: 1597.15\n",
      "[60]\ttraining's rmse: 1595.42\n",
      "[61]\ttraining's rmse: 1593.86\n",
      "[62]\ttraining's rmse: 1591.9\n",
      "[63]\ttraining's rmse: 1590.22\n",
      "[64]\ttraining's rmse: 1588.38\n",
      "[65]\ttraining's rmse: 1586.67\n",
      "[66]\ttraining's rmse: 1585.16\n",
      "[67]\ttraining's rmse: 1583.89\n",
      "[68]\ttraining's rmse: 1582.45\n",
      "[69]\ttraining's rmse: 1580.29\n",
      "[70]\ttraining's rmse: 1579.07\n",
      "Did not meet early stopping. Best iteration is:\n",
      "[70]\ttraining's rmse: 1579.07\n"
     ]
    },
    {
     "name": "stderr",
     "output_type": "stream",
     "text": [
      "C:\\Users\\User\\anaconda3\\envs\\ds_practicum_env\\lib\\site-packages\\lightgbm\\engine.py:148: UserWarning: Found `num_iterations` in params. Will use it instead of argument\n",
      "  _log_warning(\"Found `{}` in params. Will use it instead of argument\".format(alias))\n",
      "C:\\Users\\User\\anaconda3\\envs\\ds_practicum_env\\lib\\site-packages\\lightgbm\\engine.py:153: UserWarning: Found `early_stopping_rounds` in params. Will use it instead of argument\n",
      "  _log_warning(\"Found `{}` in params. Will use it instead of argument\".format(alias))\n"
     ]
    },
    {
     "name": "stdout",
     "output_type": "stream",
     "text": [
      "[LightGBM] [Warning] Accuracy may be bad since you didn't explicitly set num_leaves OR 2^max_depth > num_leaves. (num_leaves=31).\n",
      "[LightGBM] [Warning] Accuracy may be bad since you didn't explicitly set num_leaves OR 2^max_depth > num_leaves. (num_leaves=31).\n",
      "[LightGBM] [Warning] Auto-choosing col-wise multi-threading, the overhead of testing was 0.018780 seconds.\n",
      "You can set `force_col_wise=true` to remove the overhead.\n",
      "[LightGBM] [Info] Total Bins 865\n",
      "[LightGBM] [Info] Number of data points in the train set: 159478, number of used features: 10\n",
      "[LightGBM] [Info] Start training from score 5014.451717\n",
      "[1]\ttraining's rmse: 4279.37\n",
      "Training until validation scores don't improve for 10 rounds\n",
      "[2]\ttraining's rmse: 3977.91\n",
      "[3]\ttraining's rmse: 3714.51\n",
      "[4]\ttraining's rmse: 3481.05\n",
      "[5]\ttraining's rmse: 3270.37\n",
      "[6]\ttraining's rmse: 3087.12\n",
      "[7]\ttraining's rmse: 2923.04\n",
      "[8]\ttraining's rmse: 2779.37\n",
      "[9]\ttraining's rmse: 2645.79\n",
      "[10]\ttraining's rmse: 2533.86\n",
      "[11]\ttraining's rmse: 2432.16\n",
      "[12]\ttraining's rmse: 2344.57\n",
      "[13]\ttraining's rmse: 2267.31\n",
      "[14]\ttraining's rmse: 2195.14\n",
      "[15]\ttraining's rmse: 2134.25\n",
      "[16]\ttraining's rmse: 2079.04\n",
      "[17]\ttraining's rmse: 2031.73\n",
      "[18]\ttraining's rmse: 1989.47\n",
      "[19]\ttraining's rmse: 1954.31\n",
      "[20]\ttraining's rmse: 1919.94\n",
      "[21]\ttraining's rmse: 1892.41\n",
      "[22]\ttraining's rmse: 1865.89\n",
      "[23]\ttraining's rmse: 1841.85\n",
      "[24]\ttraining's rmse: 1820.05\n",
      "[25]\ttraining's rmse: 1802.09\n",
      "[26]\ttraining's rmse: 1783.88\n",
      "[27]\ttraining's rmse: 1768.68\n",
      "[28]\ttraining's rmse: 1755.2\n",
      "[29]\ttraining's rmse: 1741.62\n",
      "[30]\ttraining's rmse: 1730.19\n",
      "[31]\ttraining's rmse: 1718.79\n",
      "[32]\ttraining's rmse: 1710.13\n",
      "[33]\ttraining's rmse: 1701.62\n",
      "[34]\ttraining's rmse: 1693.44\n",
      "[35]\ttraining's rmse: 1686.13\n",
      "[36]\ttraining's rmse: 1678.97\n",
      "[37]\ttraining's rmse: 1672.69\n",
      "[38]\ttraining's rmse: 1666.6\n",
      "[39]\ttraining's rmse: 1661.62\n",
      "[40]\ttraining's rmse: 1656.65\n",
      "[41]\ttraining's rmse: 1651.65\n",
      "[42]\ttraining's rmse: 1647.16\n",
      "[43]\ttraining's rmse: 1642.92\n",
      "[44]\ttraining's rmse: 1638\n",
      "[45]\ttraining's rmse: 1634.11\n",
      "[46]\ttraining's rmse: 1630.12\n",
      "[47]\ttraining's rmse: 1626.21\n",
      "[48]\ttraining's rmse: 1623.35\n",
      "[49]\ttraining's rmse: 1620.31\n",
      "[50]\ttraining's rmse: 1617.17\n",
      "[51]\ttraining's rmse: 1614.41\n",
      "[52]\ttraining's rmse: 1612.01\n",
      "[53]\ttraining's rmse: 1609\n",
      "[54]\ttraining's rmse: 1606.63\n",
      "[55]\ttraining's rmse: 1604.1\n",
      "[56]\ttraining's rmse: 1601.94\n",
      "[57]\ttraining's rmse: 1599.25\n",
      "[58]\ttraining's rmse: 1597.54\n",
      "[59]\ttraining's rmse: 1595.45\n",
      "[60]\ttraining's rmse: 1593.09\n",
      "[61]\ttraining's rmse: 1590.94\n",
      "[62]\ttraining's rmse: 1589.34\n",
      "[63]\ttraining's rmse: 1586.9\n",
      "[64]\ttraining's rmse: 1584.66\n",
      "[65]\ttraining's rmse: 1583.3\n",
      "[66]\ttraining's rmse: 1581.58\n",
      "[67]\ttraining's rmse: 1579.75\n",
      "[68]\ttraining's rmse: 1578.11\n",
      "[69]\ttraining's rmse: 1576.59\n",
      "[70]\ttraining's rmse: 1575.46\n",
      "Did not meet early stopping. Best iteration is:\n",
      "[70]\ttraining's rmse: 1575.46\n"
     ]
    },
    {
     "name": "stderr",
     "output_type": "stream",
     "text": [
      "C:\\Users\\User\\anaconda3\\envs\\ds_practicum_env\\lib\\site-packages\\lightgbm\\engine.py:148: UserWarning: Found `num_iterations` in params. Will use it instead of argument\n",
      "  _log_warning(\"Found `{}` in params. Will use it instead of argument\".format(alias))\n",
      "C:\\Users\\User\\anaconda3\\envs\\ds_practicum_env\\lib\\site-packages\\lightgbm\\engine.py:153: UserWarning: Found `early_stopping_rounds` in params. Will use it instead of argument\n",
      "  _log_warning(\"Found `{}` in params. Will use it instead of argument\".format(alias))\n"
     ]
    },
    {
     "name": "stdout",
     "output_type": "stream",
     "text": [
      "[LightGBM] [Warning] Accuracy may be bad since you didn't explicitly set num_leaves OR 2^max_depth > num_leaves. (num_leaves=31).\n",
      "[LightGBM] [Warning] Accuracy may be bad since you didn't explicitly set num_leaves OR 2^max_depth > num_leaves. (num_leaves=31).\n",
      "[LightGBM] [Warning] Auto-choosing row-wise multi-threading, the overhead of testing was 0.017669 seconds.\n",
      "You can set `force_row_wise=true` to remove the overhead.\n",
      "And if memory is not enough, you can set `force_col_wise=true`.\n",
      "[LightGBM] [Info] Total Bins 865\n",
      "[LightGBM] [Info] Number of data points in the train set: 159478, number of used features: 10\n",
      "[LightGBM] [Info] Start training from score 5014.451717\n",
      "[1]\ttraining's rmse: 4279.37\n",
      "Training until validation scores don't improve for 10 rounds\n",
      "[2]\ttraining's rmse: 3977.91\n",
      "[3]\ttraining's rmse: 3714.51\n",
      "[4]\ttraining's rmse: 3481.05\n",
      "[5]\ttraining's rmse: 3270.37\n",
      "[6]\ttraining's rmse: 3087.12\n",
      "[7]\ttraining's rmse: 2923.04\n",
      "[8]\ttraining's rmse: 2779.37\n",
      "[9]\ttraining's rmse: 2645.79\n",
      "[10]\ttraining's rmse: 2533.86\n",
      "[11]\ttraining's rmse: 2432.16\n",
      "[12]\ttraining's rmse: 2344.57\n",
      "[13]\ttraining's rmse: 2267.31\n",
      "[14]\ttraining's rmse: 2195.14\n",
      "[15]\ttraining's rmse: 2134.25\n",
      "[16]\ttraining's rmse: 2079.04\n",
      "[17]\ttraining's rmse: 2031.73\n",
      "[18]\ttraining's rmse: 1989.47\n",
      "[19]\ttraining's rmse: 1954.31\n",
      "[20]\ttraining's rmse: 1919.94\n",
      "[21]\ttraining's rmse: 1892.41\n",
      "[22]\ttraining's rmse: 1865.86\n",
      "[23]\ttraining's rmse: 1841.83\n",
      "[24]\ttraining's rmse: 1820.05\n",
      "[25]\ttraining's rmse: 1801.61\n",
      "[26]\ttraining's rmse: 1785.84\n",
      "[27]\ttraining's rmse: 1769.78\n",
      "[28]\ttraining's rmse: 1755.96\n",
      "[29]\ttraining's rmse: 1741.63\n",
      "[30]\ttraining's rmse: 1729.37\n",
      "[31]\ttraining's rmse: 1718.74\n",
      "[32]\ttraining's rmse: 1708.88\n",
      "[33]\ttraining's rmse: 1699.57\n",
      "[34]\ttraining's rmse: 1692.2\n",
      "[35]\ttraining's rmse: 1684.9\n",
      "[36]\ttraining's rmse: 1678.19\n",
      "[37]\ttraining's rmse: 1671.67\n",
      "[38]\ttraining's rmse: 1665.96\n",
      "[39]\ttraining's rmse: 1660.55\n",
      "[40]\ttraining's rmse: 1655.71\n",
      "[41]\ttraining's rmse: 1650.69\n",
      "[42]\ttraining's rmse: 1646.41\n",
      "[43]\ttraining's rmse: 1642.6\n",
      "[44]\ttraining's rmse: 1637.96\n",
      "[45]\ttraining's rmse: 1633.5\n",
      "[46]\ttraining's rmse: 1629.24\n",
      "[47]\ttraining's rmse: 1625.63\n",
      "[48]\ttraining's rmse: 1621.93\n",
      "[49]\ttraining's rmse: 1619.15\n",
      "[50]\ttraining's rmse: 1616.75\n",
      "[51]\ttraining's rmse: 1614.12\n",
      "[52]\ttraining's rmse: 1611.82\n",
      "[53]\ttraining's rmse: 1609.15\n",
      "[54]\ttraining's rmse: 1607.07\n",
      "[55]\ttraining's rmse: 1604.41\n",
      "[56]\ttraining's rmse: 1602.24\n",
      "[57]\ttraining's rmse: 1599.85\n",
      "[58]\ttraining's rmse: 1597.3\n",
      "[59]\ttraining's rmse: 1595.07\n",
      "[60]\ttraining's rmse: 1593.38\n",
      "[61]\ttraining's rmse: 1591.91\n",
      "[62]\ttraining's rmse: 1589.72\n",
      "[63]\ttraining's rmse: 1587.4\n",
      "[64]\ttraining's rmse: 1585.39\n",
      "[65]\ttraining's rmse: 1583.45\n",
      "[66]\ttraining's rmse: 1582.19\n",
      "[67]\ttraining's rmse: 1580.5\n",
      "[68]\ttraining's rmse: 1578.86\n",
      "[69]\ttraining's rmse: 1577.2\n",
      "[70]\ttraining's rmse: 1575.1\n",
      "Did not meet early stopping. Best iteration is:\n",
      "[70]\ttraining's rmse: 1575.1\n"
     ]
    },
    {
     "name": "stderr",
     "output_type": "stream",
     "text": [
      "C:\\Users\\User\\anaconda3\\envs\\ds_practicum_env\\lib\\site-packages\\lightgbm\\engine.py:148: UserWarning: Found `num_iterations` in params. Will use it instead of argument\n",
      "  _log_warning(\"Found `{}` in params. Will use it instead of argument\".format(alias))\n",
      "C:\\Users\\User\\anaconda3\\envs\\ds_practicum_env\\lib\\site-packages\\lightgbm\\engine.py:153: UserWarning: Found `early_stopping_rounds` in params. Will use it instead of argument\n",
      "  _log_warning(\"Found `{}` in params. Will use it instead of argument\".format(alias))\n"
     ]
    },
    {
     "name": "stdout",
     "output_type": "stream",
     "text": [
      "[LightGBM] [Warning] Accuracy may be bad since you didn't explicitly set num_leaves OR 2^max_depth > num_leaves. (num_leaves=31).\n",
      "[LightGBM] [Warning] Accuracy may be bad since you didn't explicitly set num_leaves OR 2^max_depth > num_leaves. (num_leaves=31).\n",
      "[LightGBM] [Warning] Auto-choosing row-wise multi-threading, the overhead of testing was 0.011561 seconds.\n",
      "You can set `force_row_wise=true` to remove the overhead.\n",
      "And if memory is not enough, you can set `force_col_wise=true`.\n",
      "[LightGBM] [Info] Total Bins 865\n",
      "[LightGBM] [Info] Number of data points in the train set: 159478, number of used features: 10\n",
      "[LightGBM] [Info] Start training from score 5014.451717\n",
      "[1]\ttraining's rmse: 4279.37\n",
      "Training until validation scores don't improve for 10 rounds\n",
      "[2]\ttraining's rmse: 3977.91\n",
      "[3]\ttraining's rmse: 3714.51\n",
      "[4]\ttraining's rmse: 3481.05\n",
      "[5]\ttraining's rmse: 3270.37\n",
      "[6]\ttraining's rmse: 3087.12\n",
      "[7]\ttraining's rmse: 2923.04\n",
      "[8]\ttraining's rmse: 2779.37\n",
      "[9]\ttraining's rmse: 2645.79\n",
      "[10]\ttraining's rmse: 2533.86\n",
      "[11]\ttraining's rmse: 2432.16\n",
      "[12]\ttraining's rmse: 2344.57\n",
      "[13]\ttraining's rmse: 2267.31\n",
      "[14]\ttraining's rmse: 2195.14\n",
      "[15]\ttraining's rmse: 2134.25\n",
      "[16]\ttraining's rmse: 2079.04\n",
      "[17]\ttraining's rmse: 2031.73\n",
      "[18]\ttraining's rmse: 1989.47\n",
      "[19]\ttraining's rmse: 1954.31\n",
      "[20]\ttraining's rmse: 1919.94\n",
      "[21]\ttraining's rmse: 1892.41\n",
      "[22]\ttraining's rmse: 1865.86\n",
      "[23]\ttraining's rmse: 1841.83\n",
      "[24]\ttraining's rmse: 1820.05\n",
      "[25]\ttraining's rmse: 1801.61\n",
      "[26]\ttraining's rmse: 1785.84\n",
      "[27]\ttraining's rmse: 1769.78\n",
      "[28]\ttraining's rmse: 1755.96\n",
      "[29]\ttraining's rmse: 1741.63\n",
      "[30]\ttraining's rmse: 1729.37\n",
      "[31]\ttraining's rmse: 1718.74\n",
      "[32]\ttraining's rmse: 1708.88\n",
      "[33]\ttraining's rmse: 1699.57\n",
      "[34]\ttraining's rmse: 1692.2\n",
      "[35]\ttraining's rmse: 1684.9\n",
      "[36]\ttraining's rmse: 1678.19\n",
      "[37]\ttraining's rmse: 1671.67\n",
      "[38]\ttraining's rmse: 1665.96\n",
      "[39]\ttraining's rmse: 1660.55\n",
      "[40]\ttraining's rmse: 1655.71\n",
      "[41]\ttraining's rmse: 1650.69\n",
      "[42]\ttraining's rmse: 1646.41\n",
      "[43]\ttraining's rmse: 1642.6\n",
      "[44]\ttraining's rmse: 1637.96\n",
      "[45]\ttraining's rmse: 1633.49\n",
      "[46]\ttraining's rmse: 1629.56\n",
      "[47]\ttraining's rmse: 1625.97\n",
      "[48]\ttraining's rmse: 1622.87\n",
      "[49]\ttraining's rmse: 1619.59\n",
      "[50]\ttraining's rmse: 1616.1\n",
      "[51]\ttraining's rmse: 1613.24\n",
      "[52]\ttraining's rmse: 1610.48\n",
      "[53]\ttraining's rmse: 1608.22\n",
      "[54]\ttraining's rmse: 1605.87\n",
      "[55]\ttraining's rmse: 1603.68\n",
      "[56]\ttraining's rmse: 1601.32\n",
      "[57]\ttraining's rmse: 1599.32\n",
      "[58]\ttraining's rmse: 1597.38\n",
      "[59]\ttraining's rmse: 1595.57\n",
      "[60]\ttraining's rmse: 1593.65\n",
      "[61]\ttraining's rmse: 1591.46\n",
      "[62]\ttraining's rmse: 1589.5\n",
      "[63]\ttraining's rmse: 1588.03\n",
      "[64]\ttraining's rmse: 1585.94\n",
      "[65]\ttraining's rmse: 1583.94\n",
      "[66]\ttraining's rmse: 1582.04\n",
      "[67]\ttraining's rmse: 1580.74\n",
      "[68]\ttraining's rmse: 1579.28\n",
      "[69]\ttraining's rmse: 1577.33\n",
      "[70]\ttraining's rmse: 1575.48\n",
      "Did not meet early stopping. Best iteration is:\n",
      "[70]\ttraining's rmse: 1575.48\n"
     ]
    },
    {
     "name": "stderr",
     "output_type": "stream",
     "text": [
      " 67%|██████▋   | 4/6 [00:44<00:25, 12.66s/it]C:\\Users\\User\\anaconda3\\envs\\ds_practicum_env\\lib\\site-packages\\lightgbm\\engine.py:148: UserWarning: Found `num_iterations` in params. Will use it instead of argument\n",
      "  _log_warning(\"Found `{}` in params. Will use it instead of argument\".format(alias))\n",
      "C:\\Users\\User\\anaconda3\\envs\\ds_practicum_env\\lib\\site-packages\\lightgbm\\engine.py:153: UserWarning: Found `early_stopping_rounds` in params. Will use it instead of argument\n",
      "  _log_warning(\"Found `{}` in params. Will use it instead of argument\".format(alias))\n"
     ]
    },
    {
     "name": "stdout",
     "output_type": "stream",
     "text": [
      "[LightGBM] [Warning] Auto-choosing row-wise multi-threading, the overhead of testing was 0.012150 seconds.\n",
      "You can set `force_row_wise=true` to remove the overhead.\n",
      "And if memory is not enough, you can set `force_col_wise=true`.\n",
      "[LightGBM] [Info] Total Bins 865\n",
      "[LightGBM] [Info] Number of data points in the train set: 159478, number of used features: 10\n",
      "[LightGBM] [Info] Start training from score 5014.451717\n",
      "[1]\ttraining's rmse: 4385.2\n",
      "Training until validation scores don't improve for 10 rounds\n",
      "[2]\ttraining's rmse: 4186.15\n",
      "[3]\ttraining's rmse: 4004.47\n",
      "[4]\ttraining's rmse: 3848.99\n",
      "[5]\ttraining's rmse: 3709.09\n",
      "[6]\ttraining's rmse: 3589.76\n",
      "[7]\ttraining's rmse: 3466.58\n",
      "[8]\ttraining's rmse: 3362.72\n",
      "[9]\ttraining's rmse: 3273.96\n",
      "[10]\ttraining's rmse: 3179.64\n",
      "[11]\ttraining's rmse: 3108.52\n",
      "[12]\ttraining's rmse: 3022.55\n",
      "[13]\ttraining's rmse: 2950.31\n",
      "[14]\ttraining's rmse: 2893.85\n",
      "[15]\ttraining's rmse: 2825.35\n",
      "[16]\ttraining's rmse: 2765.53\n",
      "[17]\ttraining's rmse: 2721.57\n",
      "[18]\ttraining's rmse: 2668.1\n",
      "[19]\ttraining's rmse: 2622.48\n",
      "[20]\ttraining's rmse: 2581.64\n",
      "[21]\ttraining's rmse: 2552.59\n",
      "[22]\ttraining's rmse: 2524.38\n",
      "[23]\ttraining's rmse: 2488.68\n",
      "[24]\ttraining's rmse: 2457.7\n",
      "[25]\ttraining's rmse: 2431.96\n",
      "[26]\ttraining's rmse: 2407.97\n",
      "[27]\ttraining's rmse: 2386.53\n",
      "[28]\ttraining's rmse: 2364.7\n",
      "[29]\ttraining's rmse: 2343.27\n",
      "[30]\ttraining's rmse: 2325.97\n",
      "[31]\ttraining's rmse: 2308.12\n",
      "[32]\ttraining's rmse: 2290.41\n",
      "[33]\ttraining's rmse: 2268.98\n",
      "[34]\ttraining's rmse: 2254.73\n",
      "[35]\ttraining's rmse: 2240.88\n",
      "[36]\ttraining's rmse: 2225.19\n",
      "[37]\ttraining's rmse: 2212.03\n",
      "[38]\ttraining's rmse: 2199.92\n",
      "[39]\ttraining's rmse: 2189.04\n",
      "[40]\ttraining's rmse: 2172.48\n",
      "[41]\ttraining's rmse: 2160.1\n",
      "[42]\ttraining's rmse: 2150.16\n",
      "[43]\ttraining's rmse: 2140.54\n",
      "[44]\ttraining's rmse: 2130.15\n",
      "[45]\ttraining's rmse: 2122.06\n",
      "[46]\ttraining's rmse: 2114.46\n",
      "[47]\ttraining's rmse: 2106.37\n",
      "[48]\ttraining's rmse: 2092.53\n",
      "[49]\ttraining's rmse: 2081.95\n",
      "[50]\ttraining's rmse: 2075.66\n",
      "[51]\ttraining's rmse: 2069.6\n",
      "[52]\ttraining's rmse: 2061.96\n",
      "[53]\ttraining's rmse: 2055.61\n",
      "[54]\ttraining's rmse: 2049.72\n",
      "[55]\ttraining's rmse: 2044.83\n",
      "[56]\ttraining's rmse: 2039.81\n",
      "[57]\ttraining's rmse: 2031.13\n",
      "[58]\ttraining's rmse: 2023.77\n",
      "[59]\ttraining's rmse: 2019.54\n",
      "[60]\ttraining's rmse: 2014.5\n",
      "[61]\ttraining's rmse: 2009.78\n",
      "[62]\ttraining's rmse: 2002.68\n",
      "[63]\ttraining's rmse: 1997.64\n",
      "[64]\ttraining's rmse: 1993.74\n",
      "[65]\ttraining's rmse: 1990.35\n",
      "[66]\ttraining's rmse: 1986.59\n",
      "[67]\ttraining's rmse: 1982.64\n",
      "[68]\ttraining's rmse: 1979.63\n",
      "[69]\ttraining's rmse: 1975.61\n",
      "[70]\ttraining's rmse: 1970.82\n",
      "[71]\ttraining's rmse: 1967.6\n",
      "[72]\ttraining's rmse: 1964.76\n",
      "[73]\ttraining's rmse: 1959.49\n",
      "[74]\ttraining's rmse: 1956.13\n",
      "[75]\ttraining's rmse: 1953.14\n",
      "[76]\ttraining's rmse: 1948.86\n",
      "[77]\ttraining's rmse: 1946.56\n",
      "[78]\ttraining's rmse: 1944.07\n",
      "[79]\ttraining's rmse: 1941.31\n",
      "[80]\ttraining's rmse: 1938.59\n",
      "[81]\ttraining's rmse: 1936.54\n",
      "[82]\ttraining's rmse: 1932.83\n",
      "[83]\ttraining's rmse: 1930.37\n",
      "[84]\ttraining's rmse: 1928.59\n",
      "[85]\ttraining's rmse: 1926.81\n",
      "[86]\ttraining's rmse: 1924.54\n",
      "[87]\ttraining's rmse: 1921.48\n",
      "[88]\ttraining's rmse: 1919.27\n",
      "[89]\ttraining's rmse: 1917.74\n",
      "[90]\ttraining's rmse: 1915.85\n",
      "Did not meet early stopping. Best iteration is:\n",
      "[90]\ttraining's rmse: 1915.85\n"
     ]
    },
    {
     "name": "stderr",
     "output_type": "stream",
     "text": [
      "C:\\Users\\User\\anaconda3\\envs\\ds_practicum_env\\lib\\site-packages\\lightgbm\\engine.py:148: UserWarning: Found `num_iterations` in params. Will use it instead of argument\n",
      "  _log_warning(\"Found `{}` in params. Will use it instead of argument\".format(alias))\n",
      "C:\\Users\\User\\anaconda3\\envs\\ds_practicum_env\\lib\\site-packages\\lightgbm\\engine.py:153: UserWarning: Found `early_stopping_rounds` in params. Will use it instead of argument\n",
      "  _log_warning(\"Found `{}` in params. Will use it instead of argument\".format(alias))\n"
     ]
    },
    {
     "name": "stdout",
     "output_type": "stream",
     "text": [
      "[LightGBM] [Warning] Auto-choosing col-wise multi-threading, the overhead of testing was 0.023071 seconds.\n",
      "You can set `force_col_wise=true` to remove the overhead.\n",
      "[LightGBM] [Info] Total Bins 865\n",
      "[LightGBM] [Info] Number of data points in the train set: 159478, number of used features: 10\n",
      "[LightGBM] [Info] Start training from score 5014.451717\n",
      "[1]\ttraining's rmse: 4308.46\n",
      "Training until validation scores don't improve for 10 rounds\n",
      "[2]\ttraining's rmse: 4038.5\n",
      "[3]\ttraining's rmse: 3800.3\n",
      "[4]\ttraining's rmse: 3586.83\n",
      "[5]\ttraining's rmse: 3398.83\n",
      "[6]\ttraining's rmse: 3230.94\n",
      "[7]\ttraining's rmse: 3079.81\n",
      "[8]\ttraining's rmse: 2951.81\n",
      "[9]\ttraining's rmse: 2834.35\n",
      "[10]\ttraining's rmse: 2727.94\n",
      "[11]\ttraining's rmse: 2635.06\n",
      "[12]\ttraining's rmse: 2549.68\n",
      "[13]\ttraining's rmse: 2474.6\n",
      "[14]\ttraining's rmse: 2405.7\n",
      "[15]\ttraining's rmse: 2344.96\n",
      "[16]\ttraining's rmse: 2289.15\n",
      "[17]\ttraining's rmse: 2242.17\n",
      "[18]\ttraining's rmse: 2197.97\n",
      "[19]\ttraining's rmse: 2160.18\n",
      "[20]\ttraining's rmse: 2120.94\n",
      "[21]\ttraining's rmse: 2087.12\n",
      "[22]\ttraining's rmse: 2054.38\n",
      "[23]\ttraining's rmse: 2027.63\n",
      "[24]\ttraining's rmse: 2001.92\n",
      "[25]\ttraining's rmse: 1978.83\n",
      "[26]\ttraining's rmse: 1957.92\n",
      "[27]\ttraining's rmse: 1938.82\n",
      "[28]\ttraining's rmse: 1921.04\n",
      "[29]\ttraining's rmse: 1904.83\n",
      "[30]\ttraining's rmse: 1890.37\n",
      "[31]\ttraining's rmse: 1876.39\n",
      "[32]\ttraining's rmse: 1864.4\n",
      "[33]\ttraining's rmse: 1854.5\n",
      "[34]\ttraining's rmse: 1844.12\n",
      "[35]\ttraining's rmse: 1834.52\n",
      "[36]\ttraining's rmse: 1825.3\n",
      "[37]\ttraining's rmse: 1815.42\n",
      "[38]\ttraining's rmse: 1806.49\n",
      "[39]\ttraining's rmse: 1799.78\n",
      "[40]\ttraining's rmse: 1793.56\n",
      "[41]\ttraining's rmse: 1787.36\n",
      "[42]\ttraining's rmse: 1782\n",
      "[LightGBM] [Warning] No further splits with positive gain, best gain: -inf\n",
      "[43]\ttraining's rmse: 1775.03\n",
      "[44]\ttraining's rmse: 1769.1\n",
      "[45]\ttraining's rmse: 1764.42\n",
      "[46]\ttraining's rmse: 1760.41\n",
      "[47]\ttraining's rmse: 1756.03\n",
      "[LightGBM] [Warning] No further splits with positive gain, best gain: -inf\n",
      "[48]\ttraining's rmse: 1752\n",
      "[49]\ttraining's rmse: 1748.69\n",
      "[LightGBM] [Warning] No further splits with positive gain, best gain: -inf\n",
      "[50]\ttraining's rmse: 1745.25\n",
      "[51]\ttraining's rmse: 1740.96\n",
      "[52]\ttraining's rmse: 1736.39\n",
      "[53]\ttraining's rmse: 1733.48\n",
      "[54]\ttraining's rmse: 1730.21\n",
      "[55]\ttraining's rmse: 1726.58\n",
      "[56]\ttraining's rmse: 1724.5\n",
      "[57]\ttraining's rmse: 1722.17\n",
      "[58]\ttraining's rmse: 1719.29\n",
      "[59]\ttraining's rmse: 1716.36\n",
      "[LightGBM] [Warning] No further splits with positive gain, best gain: -inf\n",
      "[60]\ttraining's rmse: 1714.39\n",
      "[61]\ttraining's rmse: 1712.48\n",
      "[62]\ttraining's rmse: 1709.14\n",
      "[63]\ttraining's rmse: 1706.72\n",
      "[64]\ttraining's rmse: 1704.35\n",
      "[LightGBM] [Warning] No further splits with positive gain, best gain: -inf\n",
      "[65]\ttraining's rmse: 1701.52\n",
      "[66]\ttraining's rmse: 1700.1\n",
      "[67]\ttraining's rmse: 1698.19\n",
      "[LightGBM] [Warning] No further splits with positive gain, best gain: -inf\n",
      "[68]\ttraining's rmse: 1696.7\n",
      "[69]\ttraining's rmse: 1694.71\n",
      "[70]\ttraining's rmse: 1693.16\n",
      "[LightGBM] [Warning] No further splits with positive gain, best gain: -inf\n",
      "[71]\ttraining's rmse: 1690.45\n",
      "[LightGBM] [Warning] No further splits with positive gain, best gain: -inf\n",
      "[72]\ttraining's rmse: 1689.02\n",
      "[73]\ttraining's rmse: 1687.66\n",
      "[74]\ttraining's rmse: 1685.7\n",
      "[LightGBM] [Warning] No further splits with positive gain, best gain: -inf\n",
      "[75]\ttraining's rmse: 1684.34\n",
      "[LightGBM] [Warning] No further splits with positive gain, best gain: -inf\n",
      "[76]\ttraining's rmse: 1683.14\n",
      "[77]\ttraining's rmse: 1680.71\n",
      "[78]\ttraining's rmse: 1679.05\n",
      "[79]\ttraining's rmse: 1677.38\n",
      "[80]\ttraining's rmse: 1676.26\n",
      "[LightGBM] [Warning] No further splits with positive gain, best gain: -inf\n",
      "[81]\ttraining's rmse: 1674.4\n",
      "[LightGBM] [Warning] No further splits with positive gain, best gain: -inf\n",
      "[82]\ttraining's rmse: 1673.52\n",
      "[LightGBM] [Warning] No further splits with positive gain, best gain: -inf\n",
      "[83]\ttraining's rmse: 1672.6\n",
      "[84]\ttraining's rmse: 1671.53\n",
      "[85]\ttraining's rmse: 1670.05\n",
      "[86]\ttraining's rmse: 1668.3\n",
      "[87]\ttraining's rmse: 1666.43\n",
      "[88]\ttraining's rmse: 1665.59\n",
      "[89]\ttraining's rmse: 1663.98\n",
      "[LightGBM] [Warning] No further splits with positive gain, best gain: -inf\n",
      "[90]\ttraining's rmse: 1663.11\n",
      "Did not meet early stopping. Best iteration is:\n",
      "[90]\ttraining's rmse: 1663.11\n"
     ]
    },
    {
     "name": "stderr",
     "output_type": "stream",
     "text": [
      "C:\\Users\\User\\anaconda3\\envs\\ds_practicum_env\\lib\\site-packages\\lightgbm\\engine.py:148: UserWarning: Found `num_iterations` in params. Will use it instead of argument\n",
      "  _log_warning(\"Found `{}` in params. Will use it instead of argument\".format(alias))\n",
      "C:\\Users\\User\\anaconda3\\envs\\ds_practicum_env\\lib\\site-packages\\lightgbm\\engine.py:153: UserWarning: Found `early_stopping_rounds` in params. Will use it instead of argument\n",
      "  _log_warning(\"Found `{}` in params. Will use it instead of argument\".format(alias))\n"
     ]
    },
    {
     "name": "stdout",
     "output_type": "stream",
     "text": [
      "[LightGBM] [Warning] Accuracy may be bad since you didn't explicitly set num_leaves OR 2^max_depth > num_leaves. (num_leaves=31).\n",
      "[LightGBM] [Warning] Accuracy may be bad since you didn't explicitly set num_leaves OR 2^max_depth > num_leaves. (num_leaves=31).\n",
      "[LightGBM] [Warning] Auto-choosing col-wise multi-threading, the overhead of testing was 0.020207 seconds.\n",
      "You can set `force_col_wise=true` to remove the overhead.\n",
      "[LightGBM] [Info] Total Bins 865\n",
      "[LightGBM] [Info] Number of data points in the train set: 159478, number of used features: 10\n",
      "[LightGBM] [Info] Start training from score 5014.451717\n",
      "[1]\ttraining's rmse: 4279.39\n",
      "Training until validation scores don't improve for 10 rounds\n",
      "[2]\ttraining's rmse: 3977.97\n",
      "[3]\ttraining's rmse: 3714.26\n",
      "[4]\ttraining's rmse: 3480.91\n",
      "[5]\ttraining's rmse: 3271.99\n",
      "[6]\ttraining's rmse: 3089.3\n",
      "[7]\ttraining's rmse: 2924.18\n",
      "[8]\ttraining's rmse: 2779.71\n",
      "[9]\ttraining's rmse: 2648.3\n",
      "[10]\ttraining's rmse: 2537.86\n",
      "[11]\ttraining's rmse: 2437.05\n",
      "[12]\ttraining's rmse: 2346.57\n",
      "[13]\ttraining's rmse: 2266.43\n",
      "[14]\ttraining's rmse: 2197.46\n",
      "[15]\ttraining's rmse: 2136.48\n",
      "[16]\ttraining's rmse: 2083.22\n",
      "[17]\ttraining's rmse: 2036.6\n",
      "[18]\ttraining's rmse: 1995.56\n",
      "[19]\ttraining's rmse: 1957.89\n",
      "[20]\ttraining's rmse: 1925.13\n",
      "[21]\ttraining's rmse: 1896.72\n",
      "[22]\ttraining's rmse: 1871.52\n",
      "[23]\ttraining's rmse: 1848.73\n",
      "[24]\ttraining's rmse: 1828.55\n",
      "[25]\ttraining's rmse: 1810.27\n",
      "[26]\ttraining's rmse: 1793.22\n",
      "[27]\ttraining's rmse: 1777.71\n",
      "[28]\ttraining's rmse: 1764.49\n",
      "[29]\ttraining's rmse: 1750.16\n",
      "[30]\ttraining's rmse: 1739.07\n",
      "[31]\ttraining's rmse: 1727.4\n",
      "[32]\ttraining's rmse: 1717.04\n",
      "[33]\ttraining's rmse: 1708.71\n",
      "[34]\ttraining's rmse: 1700.9\n",
      "[35]\ttraining's rmse: 1694.25\n",
      "[36]\ttraining's rmse: 1687.18\n",
      "[37]\ttraining's rmse: 1681.41\n",
      "[38]\ttraining's rmse: 1675.62\n",
      "[39]\ttraining's rmse: 1670.5\n",
      "[40]\ttraining's rmse: 1665.91\n",
      "[41]\ttraining's rmse: 1659.88\n",
      "[42]\ttraining's rmse: 1655.4\n",
      "[43]\ttraining's rmse: 1651.33\n",
      "[44]\ttraining's rmse: 1648.14\n",
      "[45]\ttraining's rmse: 1644.98\n",
      "[46]\ttraining's rmse: 1641.87\n",
      "[47]\ttraining's rmse: 1639.13\n",
      "[48]\ttraining's rmse: 1635.46\n",
      "[49]\ttraining's rmse: 1632.75\n",
      "[50]\ttraining's rmse: 1629.49\n",
      "[51]\ttraining's rmse: 1627.41\n",
      "[52]\ttraining's rmse: 1624.22\n",
      "[53]\ttraining's rmse: 1621.26\n",
      "[54]\ttraining's rmse: 1618.42\n",
      "[55]\ttraining's rmse: 1615.86\n",
      "[56]\ttraining's rmse: 1613.86\n",
      "[57]\ttraining's rmse: 1612.02\n",
      "[58]\ttraining's rmse: 1609.91\n",
      "[59]\ttraining's rmse: 1607.97\n",
      "[60]\ttraining's rmse: 1606.13\n",
      "[61]\ttraining's rmse: 1603.56\n",
      "[62]\ttraining's rmse: 1602\n",
      "[63]\ttraining's rmse: 1600.61\n",
      "[64]\ttraining's rmse: 1599.03\n",
      "[65]\ttraining's rmse: 1597.73\n",
      "[66]\ttraining's rmse: 1595.38\n",
      "[67]\ttraining's rmse: 1592.98\n",
      "[68]\ttraining's rmse: 1591.73\n",
      "[69]\ttraining's rmse: 1590.68\n",
      "[70]\ttraining's rmse: 1589.3\n",
      "[71]\ttraining's rmse: 1587.8\n",
      "[72]\ttraining's rmse: 1586.75\n",
      "[73]\ttraining's rmse: 1585.68\n",
      "[74]\ttraining's rmse: 1584.52\n",
      "[75]\ttraining's rmse: 1583.12\n",
      "[76]\ttraining's rmse: 1581.79\n",
      "[LightGBM] [Warning] No further splits with positive gain, best gain: -inf\n",
      "[77]\ttraining's rmse: 1581.03\n",
      "[78]\ttraining's rmse: 1578.99\n",
      "[79]\ttraining's rmse: 1576.83\n",
      "[80]\ttraining's rmse: 1575.95\n",
      "[81]\ttraining's rmse: 1574.82\n",
      "[LightGBM] [Warning] No further splits with positive gain, best gain: -inf\n",
      "[82]\ttraining's rmse: 1574.21\n",
      "[83]\ttraining's rmse: 1573.26\n",
      "[84]\ttraining's rmse: 1571.76\n",
      "[85]\ttraining's rmse: 1570.41\n",
      "[86]\ttraining's rmse: 1569.35\n",
      "[LightGBM] [Warning] No further splits with positive gain, best gain: -inf\n",
      "[87]\ttraining's rmse: 1568.85\n",
      "[88]\ttraining's rmse: 1567.28\n",
      "[LightGBM] [Warning] No further splits with positive gain, best gain: -inf\n",
      "[89]\ttraining's rmse: 1566.48\n",
      "[90]\ttraining's rmse: 1565.4\n",
      "Did not meet early stopping. Best iteration is:\n",
      "[90]\ttraining's rmse: 1565.4\n"
     ]
    },
    {
     "name": "stderr",
     "output_type": "stream",
     "text": [
      "C:\\Users\\User\\anaconda3\\envs\\ds_practicum_env\\lib\\site-packages\\lightgbm\\engine.py:148: UserWarning: Found `num_iterations` in params. Will use it instead of argument\n",
      "  _log_warning(\"Found `{}` in params. Will use it instead of argument\".format(alias))\n",
      "C:\\Users\\User\\anaconda3\\envs\\ds_practicum_env\\lib\\site-packages\\lightgbm\\engine.py:153: UserWarning: Found `early_stopping_rounds` in params. Will use it instead of argument\n",
      "  _log_warning(\"Found `{}` in params. Will use it instead of argument\".format(alias))\n"
     ]
    },
    {
     "name": "stdout",
     "output_type": "stream",
     "text": [
      "[LightGBM] [Warning] Accuracy may be bad since you didn't explicitly set num_leaves OR 2^max_depth > num_leaves. (num_leaves=31).\n",
      "[LightGBM] [Warning] Accuracy may be bad since you didn't explicitly set num_leaves OR 2^max_depth > num_leaves. (num_leaves=31).\n",
      "[LightGBM] [Warning] Auto-choosing col-wise multi-threading, the overhead of testing was 0.020030 seconds.\n",
      "You can set `force_col_wise=true` to remove the overhead.\n",
      "[LightGBM] [Info] Total Bins 865\n",
      "[LightGBM] [Info] Number of data points in the train set: 159478, number of used features: 10\n",
      "[LightGBM] [Info] Start training from score 5014.451717\n",
      "[1]\ttraining's rmse: 4279.37\n",
      "Training until validation scores don't improve for 10 rounds\n",
      "[2]\ttraining's rmse: 3977.91\n",
      "[3]\ttraining's rmse: 3714.51\n",
      "[4]\ttraining's rmse: 3481.05\n",
      "[5]\ttraining's rmse: 3270.37\n",
      "[6]\ttraining's rmse: 3087.12\n",
      "[7]\ttraining's rmse: 2923.04\n",
      "[8]\ttraining's rmse: 2779.37\n",
      "[9]\ttraining's rmse: 2645.79\n",
      "[10]\ttraining's rmse: 2533.86\n",
      "[11]\ttraining's rmse: 2432.45\n",
      "[12]\ttraining's rmse: 2345.44\n",
      "[13]\ttraining's rmse: 2265.26\n",
      "[14]\ttraining's rmse: 2193.39\n",
      "[15]\ttraining's rmse: 2132.04\n",
      "[16]\ttraining's rmse: 2078.13\n",
      "[17]\ttraining's rmse: 2031.1\n",
      "[18]\ttraining's rmse: 1989.02\n",
      "[19]\ttraining's rmse: 1951.2\n",
      "[20]\ttraining's rmse: 1919.42\n",
      "[21]\ttraining's rmse: 1889.27\n",
      "[22]\ttraining's rmse: 1863.95\n",
      "[23]\ttraining's rmse: 1841.49\n",
      "[24]\ttraining's rmse: 1819.88\n",
      "[25]\ttraining's rmse: 1800.71\n",
      "[26]\ttraining's rmse: 1783.04\n",
      "[27]\ttraining's rmse: 1767.14\n",
      "[28]\ttraining's rmse: 1753.18\n",
      "[29]\ttraining's rmse: 1740.01\n",
      "[30]\ttraining's rmse: 1728.08\n",
      "[31]\ttraining's rmse: 1717.1\n",
      "[32]\ttraining's rmse: 1708.24\n",
      "[33]\ttraining's rmse: 1699.68\n",
      "[34]\ttraining's rmse: 1691.88\n",
      "[35]\ttraining's rmse: 1684.11\n",
      "[36]\ttraining's rmse: 1677.21\n",
      "[37]\ttraining's rmse: 1670.96\n",
      "[38]\ttraining's rmse: 1665.39\n",
      "[39]\ttraining's rmse: 1660.5\n",
      "[40]\ttraining's rmse: 1654.89\n",
      "[41]\ttraining's rmse: 1649.97\n",
      "[42]\ttraining's rmse: 1645.73\n",
      "[43]\ttraining's rmse: 1641.88\n",
      "[44]\ttraining's rmse: 1637.5\n",
      "[45]\ttraining's rmse: 1633.53\n",
      "[46]\ttraining's rmse: 1630.34\n",
      "[47]\ttraining's rmse: 1626.45\n",
      "[48]\ttraining's rmse: 1623.34\n",
      "[49]\ttraining's rmse: 1620.73\n",
      "[50]\ttraining's rmse: 1617.75\n",
      "[51]\ttraining's rmse: 1615.37\n",
      "[52]\ttraining's rmse: 1612.84\n",
      "[53]\ttraining's rmse: 1610.51\n",
      "[54]\ttraining's rmse: 1608.26\n",
      "[55]\ttraining's rmse: 1606\n",
      "[56]\ttraining's rmse: 1604.02\n",
      "[57]\ttraining's rmse: 1601.69\n",
      "[58]\ttraining's rmse: 1599.65\n",
      "[59]\ttraining's rmse: 1597.15\n",
      "[60]\ttraining's rmse: 1595.42\n",
      "[61]\ttraining's rmse: 1593.86\n",
      "[62]\ttraining's rmse: 1591.9\n",
      "[63]\ttraining's rmse: 1590.22\n",
      "[64]\ttraining's rmse: 1588.38\n",
      "[65]\ttraining's rmse: 1586.67\n",
      "[66]\ttraining's rmse: 1585.16\n",
      "[67]\ttraining's rmse: 1583.89\n",
      "[68]\ttraining's rmse: 1582.45\n",
      "[69]\ttraining's rmse: 1580.29\n",
      "[70]\ttraining's rmse: 1579.07\n",
      "[71]\ttraining's rmse: 1577.73\n",
      "[72]\ttraining's rmse: 1575.77\n",
      "[73]\ttraining's rmse: 1574.39\n",
      "[74]\ttraining's rmse: 1573.49\n",
      "[75]\ttraining's rmse: 1572.29\n",
      "[76]\ttraining's rmse: 1570.66\n",
      "[77]\ttraining's rmse: 1568.72\n",
      "[78]\ttraining's rmse: 1567.64\n",
      "[79]\ttraining's rmse: 1566.44\n",
      "[80]\ttraining's rmse: 1565.25\n",
      "[81]\ttraining's rmse: 1563.65\n",
      "[82]\ttraining's rmse: 1562.54\n",
      "[83]\ttraining's rmse: 1561.51\n",
      "[84]\ttraining's rmse: 1559.8\n",
      "[85]\ttraining's rmse: 1558.23\n",
      "[86]\ttraining's rmse: 1557.31\n",
      "[87]\ttraining's rmse: 1555.38\n",
      "[88]\ttraining's rmse: 1554.2\n",
      "[89]\ttraining's rmse: 1553.29\n",
      "[90]\ttraining's rmse: 1551.79\n",
      "Did not meet early stopping. Best iteration is:\n",
      "[90]\ttraining's rmse: 1551.79\n"
     ]
    },
    {
     "name": "stderr",
     "output_type": "stream",
     "text": [
      "C:\\Users\\User\\anaconda3\\envs\\ds_practicum_env\\lib\\site-packages\\lightgbm\\engine.py:148: UserWarning: Found `num_iterations` in params. Will use it instead of argument\n",
      "  _log_warning(\"Found `{}` in params. Will use it instead of argument\".format(alias))\n",
      "C:\\Users\\User\\anaconda3\\envs\\ds_practicum_env\\lib\\site-packages\\lightgbm\\engine.py:153: UserWarning: Found `early_stopping_rounds` in params. Will use it instead of argument\n",
      "  _log_warning(\"Found `{}` in params. Will use it instead of argument\".format(alias))\n"
     ]
    },
    {
     "name": "stdout",
     "output_type": "stream",
     "text": [
      "[LightGBM] [Warning] Accuracy may be bad since you didn't explicitly set num_leaves OR 2^max_depth > num_leaves. (num_leaves=31).\n",
      "[LightGBM] [Warning] Accuracy may be bad since you didn't explicitly set num_leaves OR 2^max_depth > num_leaves. (num_leaves=31).\n",
      "[LightGBM] [Warning] Auto-choosing row-wise multi-threading, the overhead of testing was 0.013607 seconds.\n",
      "You can set `force_row_wise=true` to remove the overhead.\n",
      "And if memory is not enough, you can set `force_col_wise=true`.\n",
      "[LightGBM] [Info] Total Bins 865\n",
      "[LightGBM] [Info] Number of data points in the train set: 159478, number of used features: 10\n",
      "[LightGBM] [Info] Start training from score 5014.451717\n",
      "[1]\ttraining's rmse: 4279.37\n",
      "Training until validation scores don't improve for 10 rounds\n",
      "[2]\ttraining's rmse: 3977.91\n",
      "[3]\ttraining's rmse: 3714.51\n",
      "[4]\ttraining's rmse: 3481.05\n",
      "[5]\ttraining's rmse: 3270.37\n",
      "[6]\ttraining's rmse: 3087.12\n",
      "[7]\ttraining's rmse: 2923.04\n",
      "[8]\ttraining's rmse: 2779.37\n",
      "[9]\ttraining's rmse: 2645.79\n",
      "[10]\ttraining's rmse: 2533.86\n",
      "[11]\ttraining's rmse: 2432.16\n",
      "[12]\ttraining's rmse: 2344.57\n",
      "[13]\ttraining's rmse: 2267.31\n",
      "[14]\ttraining's rmse: 2195.14\n",
      "[15]\ttraining's rmse: 2134.25\n",
      "[16]\ttraining's rmse: 2079.04\n",
      "[17]\ttraining's rmse: 2031.73\n",
      "[18]\ttraining's rmse: 1989.47\n",
      "[19]\ttraining's rmse: 1954.31\n",
      "[20]\ttraining's rmse: 1919.94\n",
      "[21]\ttraining's rmse: 1892.41\n",
      "[22]\ttraining's rmse: 1865.89\n",
      "[23]\ttraining's rmse: 1841.85\n",
      "[24]\ttraining's rmse: 1820.05\n",
      "[25]\ttraining's rmse: 1802.09\n",
      "[26]\ttraining's rmse: 1783.88\n",
      "[27]\ttraining's rmse: 1768.68\n",
      "[28]\ttraining's rmse: 1755.2\n",
      "[29]\ttraining's rmse: 1741.62\n",
      "[30]\ttraining's rmse: 1730.19\n",
      "[31]\ttraining's rmse: 1718.79\n",
      "[32]\ttraining's rmse: 1710.13\n",
      "[33]\ttraining's rmse: 1701.62\n",
      "[34]\ttraining's rmse: 1693.44\n",
      "[35]\ttraining's rmse: 1686.13\n",
      "[36]\ttraining's rmse: 1678.97\n",
      "[37]\ttraining's rmse: 1672.69\n",
      "[38]\ttraining's rmse: 1666.6\n",
      "[39]\ttraining's rmse: 1661.62\n",
      "[40]\ttraining's rmse: 1656.65\n",
      "[41]\ttraining's rmse: 1651.65\n",
      "[42]\ttraining's rmse: 1647.16\n",
      "[43]\ttraining's rmse: 1642.92\n",
      "[44]\ttraining's rmse: 1638\n",
      "[45]\ttraining's rmse: 1634.11\n",
      "[46]\ttraining's rmse: 1630.12\n",
      "[47]\ttraining's rmse: 1626.21\n",
      "[48]\ttraining's rmse: 1623.35\n",
      "[49]\ttraining's rmse: 1620.31\n",
      "[50]\ttraining's rmse: 1617.17\n",
      "[51]\ttraining's rmse: 1614.41\n",
      "[52]\ttraining's rmse: 1612.01\n",
      "[53]\ttraining's rmse: 1609\n",
      "[54]\ttraining's rmse: 1606.63\n",
      "[55]\ttraining's rmse: 1604.1\n",
      "[56]\ttraining's rmse: 1601.94\n",
      "[57]\ttraining's rmse: 1599.25\n",
      "[58]\ttraining's rmse: 1597.54\n",
      "[59]\ttraining's rmse: 1595.45\n",
      "[60]\ttraining's rmse: 1593.09\n",
      "[61]\ttraining's rmse: 1590.94\n",
      "[62]\ttraining's rmse: 1589.34\n",
      "[63]\ttraining's rmse: 1586.9\n",
      "[64]\ttraining's rmse: 1584.66\n",
      "[65]\ttraining's rmse: 1583.3\n",
      "[66]\ttraining's rmse: 1581.58\n",
      "[67]\ttraining's rmse: 1579.75\n",
      "[68]\ttraining's rmse: 1578.11\n",
      "[69]\ttraining's rmse: 1576.59\n",
      "[70]\ttraining's rmse: 1575.46\n",
      "[71]\ttraining's rmse: 1574.18\n",
      "[72]\ttraining's rmse: 1572.73\n",
      "[73]\ttraining's rmse: 1570.75\n",
      "[74]\ttraining's rmse: 1569.05\n",
      "[75]\ttraining's rmse: 1567.74\n",
      "[76]\ttraining's rmse: 1566.44\n",
      "[77]\ttraining's rmse: 1564.99\n",
      "[78]\ttraining's rmse: 1563.22\n",
      "[79]\ttraining's rmse: 1561.76\n",
      "[80]\ttraining's rmse: 1560.12\n",
      "[81]\ttraining's rmse: 1558.58\n",
      "[82]\ttraining's rmse: 1557.56\n",
      "[83]\ttraining's rmse: 1556.49\n",
      "[84]\ttraining's rmse: 1554.98\n",
      "[85]\ttraining's rmse: 1553.42\n",
      "[86]\ttraining's rmse: 1551.95\n",
      "[87]\ttraining's rmse: 1551.16\n",
      "[88]\ttraining's rmse: 1550.2\n",
      "[89]\ttraining's rmse: 1549.1\n",
      "[90]\ttraining's rmse: 1548.16\n",
      "Did not meet early stopping. Best iteration is:\n",
      "[90]\ttraining's rmse: 1548.16\n"
     ]
    },
    {
     "name": "stderr",
     "output_type": "stream",
     "text": [
      "C:\\Users\\User\\anaconda3\\envs\\ds_practicum_env\\lib\\site-packages\\lightgbm\\engine.py:148: UserWarning: Found `num_iterations` in params. Will use it instead of argument\n",
      "  _log_warning(\"Found `{}` in params. Will use it instead of argument\".format(alias))\n",
      "C:\\Users\\User\\anaconda3\\envs\\ds_practicum_env\\lib\\site-packages\\lightgbm\\engine.py:153: UserWarning: Found `early_stopping_rounds` in params. Will use it instead of argument\n",
      "  _log_warning(\"Found `{}` in params. Will use it instead of argument\".format(alias))\n"
     ]
    },
    {
     "name": "stdout",
     "output_type": "stream",
     "text": [
      "[LightGBM] [Warning] Accuracy may be bad since you didn't explicitly set num_leaves OR 2^max_depth > num_leaves. (num_leaves=31).\n",
      "[LightGBM] [Warning] Accuracy may be bad since you didn't explicitly set num_leaves OR 2^max_depth > num_leaves. (num_leaves=31).\n",
      "[LightGBM] [Warning] Auto-choosing col-wise multi-threading, the overhead of testing was 0.014488 seconds.\n",
      "You can set `force_col_wise=true` to remove the overhead.\n",
      "[LightGBM] [Info] Total Bins 865\n",
      "[LightGBM] [Info] Number of data points in the train set: 159478, number of used features: 10\n",
      "[LightGBM] [Info] Start training from score 5014.451717\n",
      "[1]\ttraining's rmse: 4279.37\n",
      "Training until validation scores don't improve for 10 rounds\n",
      "[2]\ttraining's rmse: 3977.91\n",
      "[3]\ttraining's rmse: 3714.51\n",
      "[4]\ttraining's rmse: 3481.05\n",
      "[5]\ttraining's rmse: 3270.37\n",
      "[6]\ttraining's rmse: 3087.12\n",
      "[7]\ttraining's rmse: 2923.04\n",
      "[8]\ttraining's rmse: 2779.37\n",
      "[9]\ttraining's rmse: 2645.79\n",
      "[10]\ttraining's rmse: 2533.86\n",
      "[11]\ttraining's rmse: 2432.16\n",
      "[12]\ttraining's rmse: 2344.57\n",
      "[13]\ttraining's rmse: 2267.31\n",
      "[14]\ttraining's rmse: 2195.14\n",
      "[15]\ttraining's rmse: 2134.25\n",
      "[16]\ttraining's rmse: 2079.04\n",
      "[17]\ttraining's rmse: 2031.73\n",
      "[18]\ttraining's rmse: 1989.47\n",
      "[19]\ttraining's rmse: 1954.31\n",
      "[20]\ttraining's rmse: 1919.94\n",
      "[21]\ttraining's rmse: 1892.41\n",
      "[22]\ttraining's rmse: 1865.86\n",
      "[23]\ttraining's rmse: 1841.83\n",
      "[24]\ttraining's rmse: 1820.05\n",
      "[25]\ttraining's rmse: 1801.61\n",
      "[26]\ttraining's rmse: 1785.84\n",
      "[27]\ttraining's rmse: 1769.78\n",
      "[28]\ttraining's rmse: 1755.96\n",
      "[29]\ttraining's rmse: 1741.63\n",
      "[30]\ttraining's rmse: 1729.37\n",
      "[31]\ttraining's rmse: 1718.74\n",
      "[32]\ttraining's rmse: 1708.88\n",
      "[33]\ttraining's rmse: 1699.57\n",
      "[34]\ttraining's rmse: 1692.2\n",
      "[35]\ttraining's rmse: 1684.9\n",
      "[36]\ttraining's rmse: 1678.19\n",
      "[37]\ttraining's rmse: 1671.67\n",
      "[38]\ttraining's rmse: 1665.96\n",
      "[39]\ttraining's rmse: 1660.55\n",
      "[40]\ttraining's rmse: 1655.71\n",
      "[41]\ttraining's rmse: 1650.69\n",
      "[42]\ttraining's rmse: 1646.41\n",
      "[43]\ttraining's rmse: 1642.6\n",
      "[44]\ttraining's rmse: 1637.96\n",
      "[45]\ttraining's rmse: 1633.5\n",
      "[46]\ttraining's rmse: 1629.24\n",
      "[47]\ttraining's rmse: 1625.63\n",
      "[48]\ttraining's rmse: 1621.93\n",
      "[49]\ttraining's rmse: 1619.15\n",
      "[50]\ttraining's rmse: 1616.75\n",
      "[51]\ttraining's rmse: 1614.12\n",
      "[52]\ttraining's rmse: 1611.82\n",
      "[53]\ttraining's rmse: 1609.15\n",
      "[54]\ttraining's rmse: 1607.07\n",
      "[55]\ttraining's rmse: 1604.41\n",
      "[56]\ttraining's rmse: 1602.24\n",
      "[57]\ttraining's rmse: 1599.85\n",
      "[58]\ttraining's rmse: 1597.3\n",
      "[59]\ttraining's rmse: 1595.07\n",
      "[60]\ttraining's rmse: 1593.38\n",
      "[61]\ttraining's rmse: 1591.91\n",
      "[62]\ttraining's rmse: 1589.72\n",
      "[63]\ttraining's rmse: 1587.4\n",
      "[64]\ttraining's rmse: 1585.39\n",
      "[65]\ttraining's rmse: 1583.45\n",
      "[66]\ttraining's rmse: 1582.19\n",
      "[67]\ttraining's rmse: 1580.5\n",
      "[68]\ttraining's rmse: 1578.86\n",
      "[69]\ttraining's rmse: 1577.2\n",
      "[70]\ttraining's rmse: 1575.1\n",
      "[71]\ttraining's rmse: 1573.61\n",
      "[72]\ttraining's rmse: 1572.59\n",
      "[73]\ttraining's rmse: 1570.94\n",
      "[74]\ttraining's rmse: 1569.61\n",
      "[75]\ttraining's rmse: 1568.29\n",
      "[76]\ttraining's rmse: 1566.42\n",
      "[77]\ttraining's rmse: 1565.06\n",
      "[78]\ttraining's rmse: 1563.14\n",
      "[79]\ttraining's rmse: 1561.73\n",
      "[80]\ttraining's rmse: 1560.82\n",
      "[81]\ttraining's rmse: 1559.9\n",
      "[82]\ttraining's rmse: 1558.26\n",
      "[83]\ttraining's rmse: 1557.14\n",
      "[84]\ttraining's rmse: 1555.95\n",
      "[85]\ttraining's rmse: 1554.86\n",
      "[86]\ttraining's rmse: 1553.65\n",
      "[87]\ttraining's rmse: 1552.72\n",
      "[88]\ttraining's rmse: 1551.61\n",
      "[89]\ttraining's rmse: 1550.32\n",
      "[90]\ttraining's rmse: 1549.31\n",
      "Did not meet early stopping. Best iteration is:\n",
      "[90]\ttraining's rmse: 1549.31\n"
     ]
    },
    {
     "name": "stderr",
     "output_type": "stream",
     "text": [
      "C:\\Users\\User\\anaconda3\\envs\\ds_practicum_env\\lib\\site-packages\\lightgbm\\engine.py:148: UserWarning: Found `num_iterations` in params. Will use it instead of argument\n",
      "  _log_warning(\"Found `{}` in params. Will use it instead of argument\".format(alias))\n",
      "C:\\Users\\User\\anaconda3\\envs\\ds_practicum_env\\lib\\site-packages\\lightgbm\\engine.py:153: UserWarning: Found `early_stopping_rounds` in params. Will use it instead of argument\n",
      "  _log_warning(\"Found `{}` in params. Will use it instead of argument\".format(alias))\n"
     ]
    },
    {
     "name": "stdout",
     "output_type": "stream",
     "text": [
      "[LightGBM] [Warning] Accuracy may be bad since you didn't explicitly set num_leaves OR 2^max_depth > num_leaves. (num_leaves=31).\n",
      "[LightGBM] [Warning] Accuracy may be bad since you didn't explicitly set num_leaves OR 2^max_depth > num_leaves. (num_leaves=31).\n",
      "[LightGBM] [Warning] Auto-choosing row-wise multi-threading, the overhead of testing was 0.014253 seconds.\n",
      "You can set `force_row_wise=true` to remove the overhead.\n",
      "And if memory is not enough, you can set `force_col_wise=true`.\n",
      "[LightGBM] [Info] Total Bins 865\n",
      "[LightGBM] [Info] Number of data points in the train set: 159478, number of used features: 10\n",
      "[LightGBM] [Info] Start training from score 5014.451717\n",
      "[1]\ttraining's rmse: 4279.37\n",
      "Training until validation scores don't improve for 10 rounds\n",
      "[2]\ttraining's rmse: 3977.91\n",
      "[3]\ttraining's rmse: 3714.51\n",
      "[4]\ttraining's rmse: 3481.05\n",
      "[5]\ttraining's rmse: 3270.37\n",
      "[6]\ttraining's rmse: 3087.12\n",
      "[7]\ttraining's rmse: 2923.04\n",
      "[8]\ttraining's rmse: 2779.37\n",
      "[9]\ttraining's rmse: 2645.79\n",
      "[10]\ttraining's rmse: 2533.86\n",
      "[11]\ttraining's rmse: 2432.16\n",
      "[12]\ttraining's rmse: 2344.57\n",
      "[13]\ttraining's rmse: 2267.31\n",
      "[14]\ttraining's rmse: 2195.14\n",
      "[15]\ttraining's rmse: 2134.25\n",
      "[16]\ttraining's rmse: 2079.04\n",
      "[17]\ttraining's rmse: 2031.73\n",
      "[18]\ttraining's rmse: 1989.47\n",
      "[19]\ttraining's rmse: 1954.31\n",
      "[20]\ttraining's rmse: 1919.94\n",
      "[21]\ttraining's rmse: 1892.41\n",
      "[22]\ttraining's rmse: 1865.86\n",
      "[23]\ttraining's rmse: 1841.83\n",
      "[24]\ttraining's rmse: 1820.05\n",
      "[25]\ttraining's rmse: 1801.61\n",
      "[26]\ttraining's rmse: 1785.84\n",
      "[27]\ttraining's rmse: 1769.78\n",
      "[28]\ttraining's rmse: 1755.96\n",
      "[29]\ttraining's rmse: 1741.63\n",
      "[30]\ttraining's rmse: 1729.37\n",
      "[31]\ttraining's rmse: 1718.74\n",
      "[32]\ttraining's rmse: 1708.88\n",
      "[33]\ttraining's rmse: 1699.57\n",
      "[34]\ttraining's rmse: 1692.2\n",
      "[35]\ttraining's rmse: 1684.9\n",
      "[36]\ttraining's rmse: 1678.19\n",
      "[37]\ttraining's rmse: 1671.67\n",
      "[38]\ttraining's rmse: 1665.96\n",
      "[39]\ttraining's rmse: 1660.55\n",
      "[40]\ttraining's rmse: 1655.71\n",
      "[41]\ttraining's rmse: 1650.69\n",
      "[42]\ttraining's rmse: 1646.41\n",
      "[43]\ttraining's rmse: 1642.6\n",
      "[44]\ttraining's rmse: 1637.96\n",
      "[45]\ttraining's rmse: 1633.49\n",
      "[46]\ttraining's rmse: 1629.56\n",
      "[47]\ttraining's rmse: 1625.97\n",
      "[48]\ttraining's rmse: 1622.87\n",
      "[49]\ttraining's rmse: 1619.59\n",
      "[50]\ttraining's rmse: 1616.1\n",
      "[51]\ttraining's rmse: 1613.24\n",
      "[52]\ttraining's rmse: 1610.48\n",
      "[53]\ttraining's rmse: 1608.22\n",
      "[54]\ttraining's rmse: 1605.87\n",
      "[55]\ttraining's rmse: 1603.68\n",
      "[56]\ttraining's rmse: 1601.32\n",
      "[57]\ttraining's rmse: 1599.32\n",
      "[58]\ttraining's rmse: 1597.38\n",
      "[59]\ttraining's rmse: 1595.57\n",
      "[60]\ttraining's rmse: 1593.65\n",
      "[61]\ttraining's rmse: 1591.46\n",
      "[62]\ttraining's rmse: 1589.5\n",
      "[63]\ttraining's rmse: 1588.03\n",
      "[64]\ttraining's rmse: 1585.94\n",
      "[65]\ttraining's rmse: 1583.94\n",
      "[66]\ttraining's rmse: 1582.04\n",
      "[67]\ttraining's rmse: 1580.74\n",
      "[68]\ttraining's rmse: 1579.28\n",
      "[69]\ttraining's rmse: 1577.33\n",
      "[70]\ttraining's rmse: 1575.48\n",
      "[71]\ttraining's rmse: 1574.08\n",
      "[72]\ttraining's rmse: 1571.87\n",
      "[73]\ttraining's rmse: 1569.9\n",
      "[74]\ttraining's rmse: 1568.72\n",
      "[75]\ttraining's rmse: 1567.26\n",
      "[76]\ttraining's rmse: 1566.04\n",
      "[77]\ttraining's rmse: 1564.93\n",
      "[78]\ttraining's rmse: 1563.58\n",
      "[79]\ttraining's rmse: 1561.98\n",
      "[80]\ttraining's rmse: 1560.21\n",
      "[81]\ttraining's rmse: 1558.69\n",
      "[82]\ttraining's rmse: 1557.56\n",
      "[83]\ttraining's rmse: 1556.33\n",
      "[84]\ttraining's rmse: 1554.65\n",
      "[85]\ttraining's rmse: 1553.37\n",
      "[86]\ttraining's rmse: 1552.13\n",
      "[87]\ttraining's rmse: 1550.98\n",
      "[88]\ttraining's rmse: 1550.16\n",
      "[89]\ttraining's rmse: 1548.86\n",
      "[90]\ttraining's rmse: 1547.35\n",
      "Did not meet early stopping. Best iteration is:\n",
      "[90]\ttraining's rmse: 1547.35\n"
     ]
    },
    {
     "name": "stderr",
     "output_type": "stream",
     "text": [
      " 83%|████████▎ | 5/6 [01:04<00:15, 15.39s/it]C:\\Users\\User\\anaconda3\\envs\\ds_practicum_env\\lib\\site-packages\\lightgbm\\engine.py:148: UserWarning: Found `num_iterations` in params. Will use it instead of argument\n",
      "  _log_warning(\"Found `{}` in params. Will use it instead of argument\".format(alias))\n",
      "C:\\Users\\User\\anaconda3\\envs\\ds_practicum_env\\lib\\site-packages\\lightgbm\\engine.py:153: UserWarning: Found `early_stopping_rounds` in params. Will use it instead of argument\n",
      "  _log_warning(\"Found `{}` in params. Will use it instead of argument\".format(alias))\n"
     ]
    },
    {
     "name": "stdout",
     "output_type": "stream",
     "text": [
      "[LightGBM] [Warning] Auto-choosing row-wise multi-threading, the overhead of testing was 0.010037 seconds.\n",
      "You can set `force_row_wise=true` to remove the overhead.\n",
      "And if memory is not enough, you can set `force_col_wise=true`.\n",
      "[LightGBM] [Info] Total Bins 865\n",
      "[LightGBM] [Info] Number of data points in the train set: 159478, number of used features: 10\n",
      "[LightGBM] [Info] Start training from score 5014.451717\n",
      "[1]\ttraining's rmse: 4385.2\n",
      "Training until validation scores don't improve for 10 rounds\n",
      "[2]\ttraining's rmse: 4186.15\n",
      "[3]\ttraining's rmse: 4004.47\n",
      "[4]\ttraining's rmse: 3848.99\n",
      "[5]\ttraining's rmse: 3709.09\n",
      "[6]\ttraining's rmse: 3589.76\n",
      "[7]\ttraining's rmse: 3466.58\n",
      "[8]\ttraining's rmse: 3362.72\n",
      "[9]\ttraining's rmse: 3273.96\n",
      "[10]\ttraining's rmse: 3179.64\n",
      "[11]\ttraining's rmse: 3108.52\n",
      "[12]\ttraining's rmse: 3022.55\n",
      "[13]\ttraining's rmse: 2950.31\n",
      "[14]\ttraining's rmse: 2893.85\n",
      "[15]\ttraining's rmse: 2825.35\n",
      "[16]\ttraining's rmse: 2765.53\n",
      "[17]\ttraining's rmse: 2721.57\n",
      "[18]\ttraining's rmse: 2668.1\n",
      "[19]\ttraining's rmse: 2622.48\n",
      "[20]\ttraining's rmse: 2581.64\n",
      "[21]\ttraining's rmse: 2552.59\n",
      "[22]\ttraining's rmse: 2524.38\n",
      "[23]\ttraining's rmse: 2488.68\n",
      "[24]\ttraining's rmse: 2457.7\n",
      "[25]\ttraining's rmse: 2431.96\n",
      "[26]\ttraining's rmse: 2407.97\n",
      "[27]\ttraining's rmse: 2386.53\n",
      "[28]\ttraining's rmse: 2364.7\n",
      "[29]\ttraining's rmse: 2343.27\n",
      "[30]\ttraining's rmse: 2325.97\n",
      "[31]\ttraining's rmse: 2308.12\n",
      "[32]\ttraining's rmse: 2290.41\n",
      "[33]\ttraining's rmse: 2268.98\n",
      "[34]\ttraining's rmse: 2254.73\n",
      "[35]\ttraining's rmse: 2240.88\n",
      "[36]\ttraining's rmse: 2225.19\n",
      "[37]\ttraining's rmse: 2212.03\n",
      "[38]\ttraining's rmse: 2199.92\n",
      "[39]\ttraining's rmse: 2189.04\n",
      "[40]\ttraining's rmse: 2172.48\n",
      "[41]\ttraining's rmse: 2160.1\n",
      "[42]\ttraining's rmse: 2150.16\n",
      "[43]\ttraining's rmse: 2140.54\n",
      "[44]\ttraining's rmse: 2130.15\n",
      "[45]\ttraining's rmse: 2122.06\n",
      "[46]\ttraining's rmse: 2114.46\n",
      "[47]\ttraining's rmse: 2106.37\n",
      "[48]\ttraining's rmse: 2092.53\n",
      "[49]\ttraining's rmse: 2081.95\n",
      "[50]\ttraining's rmse: 2075.66\n",
      "[51]\ttraining's rmse: 2069.6\n",
      "[52]\ttraining's rmse: 2061.96\n",
      "[53]\ttraining's rmse: 2055.61\n",
      "[54]\ttraining's rmse: 2049.72\n",
      "[55]\ttraining's rmse: 2044.83\n",
      "[56]\ttraining's rmse: 2039.81\n",
      "[57]\ttraining's rmse: 2031.13\n",
      "[58]\ttraining's rmse: 2023.77\n",
      "[59]\ttraining's rmse: 2019.54\n",
      "[60]\ttraining's rmse: 2014.5\n",
      "[61]\ttraining's rmse: 2009.78\n",
      "[62]\ttraining's rmse: 2002.68\n",
      "[63]\ttraining's rmse: 1997.64\n",
      "[64]\ttraining's rmse: 1993.74\n",
      "[65]\ttraining's rmse: 1990.35\n",
      "[66]\ttraining's rmse: 1986.59\n",
      "[67]\ttraining's rmse: 1982.64\n",
      "[68]\ttraining's rmse: 1979.63\n",
      "[69]\ttraining's rmse: 1975.61\n",
      "[70]\ttraining's rmse: 1970.82\n",
      "[71]\ttraining's rmse: 1967.6\n",
      "[72]\ttraining's rmse: 1964.76\n",
      "[73]\ttraining's rmse: 1959.49\n",
      "[74]\ttraining's rmse: 1956.13\n",
      "[75]\ttraining's rmse: 1953.14\n",
      "[76]\ttraining's rmse: 1948.86\n",
      "[77]\ttraining's rmse: 1946.56\n",
      "[78]\ttraining's rmse: 1944.07\n",
      "[79]\ttraining's rmse: 1941.31\n",
      "[80]\ttraining's rmse: 1938.59\n",
      "[81]\ttraining's rmse: 1936.54\n",
      "[82]\ttraining's rmse: 1932.83\n",
      "[83]\ttraining's rmse: 1930.37\n",
      "[84]\ttraining's rmse: 1928.59\n",
      "[85]\ttraining's rmse: 1926.81\n",
      "[86]\ttraining's rmse: 1924.54\n",
      "[87]\ttraining's rmse: 1921.48\n",
      "[88]\ttraining's rmse: 1919.27\n",
      "[89]\ttraining's rmse: 1917.74\n",
      "[90]\ttraining's rmse: 1915.85\n",
      "[91]\ttraining's rmse: 1914.45\n",
      "[92]\ttraining's rmse: 1912.58\n",
      "[93]\ttraining's rmse: 1910.6\n",
      "[94]\ttraining's rmse: 1908.91\n",
      "[95]\ttraining's rmse: 1906.27\n",
      "[96]\ttraining's rmse: 1904.79\n",
      "[97]\ttraining's rmse: 1903.09\n",
      "[98]\ttraining's rmse: 1901.83\n",
      "[99]\ttraining's rmse: 1900.08\n",
      "[100]\ttraining's rmse: 1898.8\n",
      "[101]\ttraining's rmse: 1897.28\n",
      "[102]\ttraining's rmse: 1896.07\n",
      "[103]\ttraining's rmse: 1895.11\n",
      "[104]\ttraining's rmse: 1893.05\n",
      "[105]\ttraining's rmse: 1891.39\n",
      "[106]\ttraining's rmse: 1889.88\n",
      "[107]\ttraining's rmse: 1888.44\n",
      "[108]\ttraining's rmse: 1887.52\n",
      "[109]\ttraining's rmse: 1886.4\n",
      "[110]\ttraining's rmse: 1885.08\n",
      "Did not meet early stopping. Best iteration is:\n",
      "[110]\ttraining's rmse: 1885.08\n"
     ]
    },
    {
     "name": "stderr",
     "output_type": "stream",
     "text": [
      "C:\\Users\\User\\anaconda3\\envs\\ds_practicum_env\\lib\\site-packages\\lightgbm\\engine.py:148: UserWarning: Found `num_iterations` in params. Will use it instead of argument\n",
      "  _log_warning(\"Found `{}` in params. Will use it instead of argument\".format(alias))\n",
      "C:\\Users\\User\\anaconda3\\envs\\ds_practicum_env\\lib\\site-packages\\lightgbm\\engine.py:153: UserWarning: Found `early_stopping_rounds` in params. Will use it instead of argument\n",
      "  _log_warning(\"Found `{}` in params. Will use it instead of argument\".format(alias))\n"
     ]
    },
    {
     "name": "stdout",
     "output_type": "stream",
     "text": [
      "[LightGBM] [Warning] Auto-choosing row-wise multi-threading, the overhead of testing was 0.014579 seconds.\n",
      "You can set `force_row_wise=true` to remove the overhead.\n",
      "And if memory is not enough, you can set `force_col_wise=true`.\n",
      "[LightGBM] [Info] Total Bins 865\n",
      "[LightGBM] [Info] Number of data points in the train set: 159478, number of used features: 10\n",
      "[LightGBM] [Info] Start training from score 5014.451717\n",
      "[1]\ttraining's rmse: 4308.46\n",
      "Training until validation scores don't improve for 10 rounds\n",
      "[2]\ttraining's rmse: 4038.5\n",
      "[3]\ttraining's rmse: 3800.3\n",
      "[4]\ttraining's rmse: 3586.83\n",
      "[5]\ttraining's rmse: 3398.83\n",
      "[6]\ttraining's rmse: 3230.94\n",
      "[7]\ttraining's rmse: 3079.81\n",
      "[8]\ttraining's rmse: 2951.81\n",
      "[9]\ttraining's rmse: 2834.35\n",
      "[10]\ttraining's rmse: 2727.94\n",
      "[11]\ttraining's rmse: 2635.06\n",
      "[12]\ttraining's rmse: 2549.68\n",
      "[13]\ttraining's rmse: 2474.6\n",
      "[14]\ttraining's rmse: 2405.7\n",
      "[15]\ttraining's rmse: 2344.96\n",
      "[16]\ttraining's rmse: 2289.15\n",
      "[17]\ttraining's rmse: 2242.17\n",
      "[18]\ttraining's rmse: 2197.97\n",
      "[19]\ttraining's rmse: 2160.18\n",
      "[20]\ttraining's rmse: 2120.94\n",
      "[21]\ttraining's rmse: 2087.12\n",
      "[22]\ttraining's rmse: 2054.38\n",
      "[23]\ttraining's rmse: 2027.63\n",
      "[24]\ttraining's rmse: 2001.92\n",
      "[25]\ttraining's rmse: 1978.83\n",
      "[26]\ttraining's rmse: 1957.92\n",
      "[27]\ttraining's rmse: 1938.82\n",
      "[28]\ttraining's rmse: 1921.04\n",
      "[29]\ttraining's rmse: 1904.83\n",
      "[30]\ttraining's rmse: 1890.37\n",
      "[31]\ttraining's rmse: 1876.39\n",
      "[32]\ttraining's rmse: 1864.4\n",
      "[33]\ttraining's rmse: 1854.5\n",
      "[34]\ttraining's rmse: 1844.12\n",
      "[35]\ttraining's rmse: 1834.52\n",
      "[36]\ttraining's rmse: 1825.3\n",
      "[37]\ttraining's rmse: 1815.42\n",
      "[38]\ttraining's rmse: 1806.49\n",
      "[39]\ttraining's rmse: 1799.78\n",
      "[40]\ttraining's rmse: 1793.56\n",
      "[41]\ttraining's rmse: 1787.36\n",
      "[42]\ttraining's rmse: 1782\n",
      "[LightGBM] [Warning] No further splits with positive gain, best gain: -inf\n",
      "[43]\ttraining's rmse: 1775.03\n",
      "[44]\ttraining's rmse: 1769.1\n",
      "[45]\ttraining's rmse: 1764.42\n",
      "[46]\ttraining's rmse: 1760.41\n",
      "[47]\ttraining's rmse: 1756.03\n",
      "[LightGBM] [Warning] No further splits with positive gain, best gain: -inf\n",
      "[48]\ttraining's rmse: 1752\n",
      "[49]\ttraining's rmse: 1748.69\n",
      "[LightGBM] [Warning] No further splits with positive gain, best gain: -inf\n",
      "[50]\ttraining's rmse: 1745.25\n",
      "[51]\ttraining's rmse: 1740.96\n",
      "[52]\ttraining's rmse: 1736.39\n",
      "[53]\ttraining's rmse: 1733.48\n",
      "[54]\ttraining's rmse: 1730.21\n",
      "[55]\ttraining's rmse: 1726.58\n",
      "[56]\ttraining's rmse: 1724.5\n",
      "[57]\ttraining's rmse: 1722.17\n",
      "[58]\ttraining's rmse: 1719.29\n",
      "[59]\ttraining's rmse: 1716.36\n",
      "[LightGBM] [Warning] No further splits with positive gain, best gain: -inf\n",
      "[60]\ttraining's rmse: 1714.39\n",
      "[61]\ttraining's rmse: 1712.48\n",
      "[62]\ttraining's rmse: 1709.14\n",
      "[63]\ttraining's rmse: 1706.72\n",
      "[64]\ttraining's rmse: 1704.35\n",
      "[LightGBM] [Warning] No further splits with positive gain, best gain: -inf\n",
      "[65]\ttraining's rmse: 1701.52\n",
      "[66]\ttraining's rmse: 1700.1\n",
      "[67]\ttraining's rmse: 1698.19\n",
      "[LightGBM] [Warning] No further splits with positive gain, best gain: -inf\n",
      "[68]\ttraining's rmse: 1696.7\n",
      "[69]\ttraining's rmse: 1694.71\n",
      "[70]\ttraining's rmse: 1693.16\n",
      "[LightGBM] [Warning] No further splits with positive gain, best gain: -inf\n",
      "[71]\ttraining's rmse: 1690.45\n",
      "[LightGBM] [Warning] No further splits with positive gain, best gain: -inf\n",
      "[72]\ttraining's rmse: 1689.02\n",
      "[73]\ttraining's rmse: 1687.66\n",
      "[74]\ttraining's rmse: 1685.7\n",
      "[LightGBM] [Warning] No further splits with positive gain, best gain: -inf\n",
      "[75]\ttraining's rmse: 1684.34\n",
      "[LightGBM] [Warning] No further splits with positive gain, best gain: -inf\n",
      "[76]\ttraining's rmse: 1683.14\n",
      "[77]\ttraining's rmse: 1680.71\n",
      "[78]\ttraining's rmse: 1679.05\n",
      "[79]\ttraining's rmse: 1677.38\n",
      "[80]\ttraining's rmse: 1676.26\n",
      "[LightGBM] [Warning] No further splits with positive gain, best gain: -inf\n",
      "[81]\ttraining's rmse: 1674.4\n",
      "[LightGBM] [Warning] No further splits with positive gain, best gain: -inf\n",
      "[82]\ttraining's rmse: 1673.52\n",
      "[LightGBM] [Warning] No further splits with positive gain, best gain: -inf\n",
      "[83]\ttraining's rmse: 1672.6\n",
      "[84]\ttraining's rmse: 1671.53\n",
      "[85]\ttraining's rmse: 1670.05\n",
      "[86]\ttraining's rmse: 1668.3\n",
      "[87]\ttraining's rmse: 1666.43\n",
      "[88]\ttraining's rmse: 1665.59\n",
      "[89]\ttraining's rmse: 1663.98\n",
      "[LightGBM] [Warning] No further splits with positive gain, best gain: -inf\n",
      "[90]\ttraining's rmse: 1663.11\n",
      "[LightGBM] [Warning] No further splits with positive gain, best gain: -inf\n",
      "[91]\ttraining's rmse: 1661.86\n",
      "[92]\ttraining's rmse: 1660.77\n",
      "[93]\ttraining's rmse: 1659.92\n",
      "[94]\ttraining's rmse: 1657.77\n",
      "[95]\ttraining's rmse: 1656.44\n",
      "[LightGBM] [Warning] No further splits with positive gain, best gain: -inf\n",
      "[96]\ttraining's rmse: 1655.78\n",
      "[97]\ttraining's rmse: 1655.01\n",
      "[98]\ttraining's rmse: 1654.1\n",
      "[LightGBM] [Warning] No further splits with positive gain, best gain: -inf\n",
      "[99]\ttraining's rmse: 1652.48\n",
      "[100]\ttraining's rmse: 1651.18\n",
      "[101]\ttraining's rmse: 1649.69\n",
      "[102]\ttraining's rmse: 1648.7\n",
      "[LightGBM] [Warning] No further splits with positive gain, best gain: -inf\n",
      "[103]\ttraining's rmse: 1647.83\n",
      "[104]\ttraining's rmse: 1647.1\n",
      "[105]\ttraining's rmse: 1646.18\n",
      "[106]\ttraining's rmse: 1644.91\n",
      "[LightGBM] [Warning] No further splits with positive gain, best gain: -inf\n",
      "[107]\ttraining's rmse: 1644.35\n",
      "[108]\ttraining's rmse: 1643.7\n",
      "[109]\ttraining's rmse: 1642.87\n",
      "[110]\ttraining's rmse: 1641.64\n",
      "Did not meet early stopping. Best iteration is:\n",
      "[110]\ttraining's rmse: 1641.64\n"
     ]
    },
    {
     "name": "stderr",
     "output_type": "stream",
     "text": [
      "C:\\Users\\User\\anaconda3\\envs\\ds_practicum_env\\lib\\site-packages\\lightgbm\\engine.py:148: UserWarning: Found `num_iterations` in params. Will use it instead of argument\n",
      "  _log_warning(\"Found `{}` in params. Will use it instead of argument\".format(alias))\n",
      "C:\\Users\\User\\anaconda3\\envs\\ds_practicum_env\\lib\\site-packages\\lightgbm\\engine.py:153: UserWarning: Found `early_stopping_rounds` in params. Will use it instead of argument\n",
      "  _log_warning(\"Found `{}` in params. Will use it instead of argument\".format(alias))\n"
     ]
    },
    {
     "name": "stdout",
     "output_type": "stream",
     "text": [
      "[LightGBM] [Warning] Accuracy may be bad since you didn't explicitly set num_leaves OR 2^max_depth > num_leaves. (num_leaves=31).\n",
      "[LightGBM] [Warning] Accuracy may be bad since you didn't explicitly set num_leaves OR 2^max_depth > num_leaves. (num_leaves=31).\n",
      "[LightGBM] [Warning] Auto-choosing row-wise multi-threading, the overhead of testing was 0.011986 seconds.\n",
      "You can set `force_row_wise=true` to remove the overhead.\n",
      "And if memory is not enough, you can set `force_col_wise=true`.\n",
      "[LightGBM] [Info] Total Bins 865\n",
      "[LightGBM] [Info] Number of data points in the train set: 159478, number of used features: 10\n",
      "[LightGBM] [Info] Start training from score 5014.451717\n",
      "[1]\ttraining's rmse: 4279.39\n",
      "Training until validation scores don't improve for 10 rounds\n",
      "[2]\ttraining's rmse: 3977.97\n",
      "[3]\ttraining's rmse: 3714.26\n",
      "[4]\ttraining's rmse: 3480.91\n",
      "[5]\ttraining's rmse: 3271.99\n",
      "[6]\ttraining's rmse: 3089.3\n",
      "[7]\ttraining's rmse: 2924.18\n",
      "[8]\ttraining's rmse: 2779.71\n",
      "[9]\ttraining's rmse: 2648.3\n",
      "[10]\ttraining's rmse: 2537.86\n",
      "[11]\ttraining's rmse: 2437.05\n",
      "[12]\ttraining's rmse: 2346.57\n",
      "[13]\ttraining's rmse: 2266.43\n",
      "[14]\ttraining's rmse: 2197.46\n",
      "[15]\ttraining's rmse: 2136.48\n",
      "[16]\ttraining's rmse: 2083.22\n",
      "[17]\ttraining's rmse: 2036.6\n",
      "[18]\ttraining's rmse: 1995.56\n",
      "[19]\ttraining's rmse: 1957.89\n",
      "[20]\ttraining's rmse: 1925.13\n",
      "[21]\ttraining's rmse: 1896.72\n",
      "[22]\ttraining's rmse: 1871.52\n",
      "[23]\ttraining's rmse: 1848.73\n",
      "[24]\ttraining's rmse: 1828.55\n",
      "[25]\ttraining's rmse: 1810.27\n",
      "[26]\ttraining's rmse: 1793.22\n",
      "[27]\ttraining's rmse: 1777.71\n",
      "[28]\ttraining's rmse: 1764.49\n",
      "[29]\ttraining's rmse: 1750.16\n",
      "[30]\ttraining's rmse: 1739.07\n",
      "[31]\ttraining's rmse: 1727.4\n",
      "[32]\ttraining's rmse: 1717.04\n",
      "[33]\ttraining's rmse: 1708.71\n",
      "[34]\ttraining's rmse: 1700.9\n",
      "[35]\ttraining's rmse: 1694.25\n",
      "[36]\ttraining's rmse: 1687.18\n",
      "[37]\ttraining's rmse: 1681.41\n",
      "[38]\ttraining's rmse: 1675.62\n",
      "[39]\ttraining's rmse: 1670.5\n",
      "[40]\ttraining's rmse: 1665.91\n",
      "[41]\ttraining's rmse: 1659.88\n",
      "[42]\ttraining's rmse: 1655.4\n",
      "[43]\ttraining's rmse: 1651.33\n",
      "[44]\ttraining's rmse: 1648.14\n",
      "[45]\ttraining's rmse: 1644.98\n",
      "[46]\ttraining's rmse: 1641.87\n",
      "[47]\ttraining's rmse: 1639.13\n",
      "[48]\ttraining's rmse: 1635.46\n",
      "[49]\ttraining's rmse: 1632.75\n",
      "[50]\ttraining's rmse: 1629.49\n",
      "[51]\ttraining's rmse: 1627.41\n",
      "[52]\ttraining's rmse: 1624.22\n",
      "[53]\ttraining's rmse: 1621.26\n",
      "[54]\ttraining's rmse: 1618.42\n",
      "[55]\ttraining's rmse: 1615.86\n",
      "[56]\ttraining's rmse: 1613.86\n",
      "[57]\ttraining's rmse: 1612.02\n",
      "[58]\ttraining's rmse: 1609.91\n",
      "[59]\ttraining's rmse: 1607.97\n",
      "[60]\ttraining's rmse: 1606.13\n",
      "[61]\ttraining's rmse: 1603.56\n",
      "[62]\ttraining's rmse: 1602\n",
      "[63]\ttraining's rmse: 1600.61\n",
      "[64]\ttraining's rmse: 1599.03\n",
      "[65]\ttraining's rmse: 1597.73\n",
      "[66]\ttraining's rmse: 1595.38\n",
      "[67]\ttraining's rmse: 1592.98\n",
      "[68]\ttraining's rmse: 1591.73\n",
      "[69]\ttraining's rmse: 1590.68\n",
      "[70]\ttraining's rmse: 1589.3\n",
      "[71]\ttraining's rmse: 1587.8\n",
      "[72]\ttraining's rmse: 1586.75\n",
      "[73]\ttraining's rmse: 1585.68\n",
      "[74]\ttraining's rmse: 1584.52\n",
      "[75]\ttraining's rmse: 1583.12\n",
      "[76]\ttraining's rmse: 1581.79\n",
      "[LightGBM] [Warning] No further splits with positive gain, best gain: -inf\n",
      "[77]\ttraining's rmse: 1581.03\n",
      "[78]\ttraining's rmse: 1578.99\n",
      "[79]\ttraining's rmse: 1576.83\n",
      "[80]\ttraining's rmse: 1575.95\n",
      "[81]\ttraining's rmse: 1574.82\n",
      "[LightGBM] [Warning] No further splits with positive gain, best gain: -inf\n",
      "[82]\ttraining's rmse: 1574.21\n",
      "[83]\ttraining's rmse: 1573.26\n",
      "[84]\ttraining's rmse: 1571.76\n",
      "[85]\ttraining's rmse: 1570.41\n",
      "[86]\ttraining's rmse: 1569.35\n",
      "[LightGBM] [Warning] No further splits with positive gain, best gain: -inf\n",
      "[87]\ttraining's rmse: 1568.85\n",
      "[88]\ttraining's rmse: 1567.28\n",
      "[LightGBM] [Warning] No further splits with positive gain, best gain: -inf\n",
      "[89]\ttraining's rmse: 1566.48\n",
      "[90]\ttraining's rmse: 1565.4\n",
      "[91]\ttraining's rmse: 1564.46\n",
      "[92]\ttraining's rmse: 1563.2\n",
      "[LightGBM] [Warning] No further splits with positive gain, best gain: -inf\n",
      "[93]\ttraining's rmse: 1562.88\n",
      "[94]\ttraining's rmse: 1561.44\n",
      "[95]\ttraining's rmse: 1559.86\n",
      "[96]\ttraining's rmse: 1559.08\n",
      "[97]\ttraining's rmse: 1557.65\n",
      "[98]\ttraining's rmse: 1557.03\n",
      "[99]\ttraining's rmse: 1556.31\n",
      "[100]\ttraining's rmse: 1555.64\n",
      "[101]\ttraining's rmse: 1554.99\n",
      "[102]\ttraining's rmse: 1553.49\n",
      "[103]\ttraining's rmse: 1552.68\n",
      "[104]\ttraining's rmse: 1551.93\n",
      "[105]\ttraining's rmse: 1550.21\n",
      "[106]\ttraining's rmse: 1549.37\n",
      "[107]\ttraining's rmse: 1548.53\n",
      "[108]\ttraining's rmse: 1546.89\n",
      "[109]\ttraining's rmse: 1545.99\n",
      "[110]\ttraining's rmse: 1545.21\n",
      "Did not meet early stopping. Best iteration is:\n",
      "[110]\ttraining's rmse: 1545.21\n"
     ]
    },
    {
     "name": "stderr",
     "output_type": "stream",
     "text": [
      "C:\\Users\\User\\anaconda3\\envs\\ds_practicum_env\\lib\\site-packages\\lightgbm\\engine.py:148: UserWarning: Found `num_iterations` in params. Will use it instead of argument\n",
      "  _log_warning(\"Found `{}` in params. Will use it instead of argument\".format(alias))\n",
      "C:\\Users\\User\\anaconda3\\envs\\ds_practicum_env\\lib\\site-packages\\lightgbm\\engine.py:153: UserWarning: Found `early_stopping_rounds` in params. Will use it instead of argument\n",
      "  _log_warning(\"Found `{}` in params. Will use it instead of argument\".format(alias))\n"
     ]
    },
    {
     "name": "stdout",
     "output_type": "stream",
     "text": [
      "[LightGBM] [Warning] Accuracy may be bad since you didn't explicitly set num_leaves OR 2^max_depth > num_leaves. (num_leaves=31).\n",
      "[LightGBM] [Warning] Accuracy may be bad since you didn't explicitly set num_leaves OR 2^max_depth > num_leaves. (num_leaves=31).\n",
      "[LightGBM] [Warning] Auto-choosing col-wise multi-threading, the overhead of testing was 0.016635 seconds.\n",
      "You can set `force_col_wise=true` to remove the overhead.\n",
      "[LightGBM] [Info] Total Bins 865\n",
      "[LightGBM] [Info] Number of data points in the train set: 159478, number of used features: 10\n",
      "[LightGBM] [Info] Start training from score 5014.451717\n",
      "[1]\ttraining's rmse: 4279.37\n",
      "Training until validation scores don't improve for 10 rounds\n",
      "[2]\ttraining's rmse: 3977.91\n",
      "[3]\ttraining's rmse: 3714.51\n",
      "[4]\ttraining's rmse: 3481.05\n",
      "[5]\ttraining's rmse: 3270.37\n",
      "[6]\ttraining's rmse: 3087.12\n",
      "[7]\ttraining's rmse: 2923.04\n",
      "[8]\ttraining's rmse: 2779.37\n",
      "[9]\ttraining's rmse: 2645.79\n",
      "[10]\ttraining's rmse: 2533.86\n",
      "[11]\ttraining's rmse: 2432.45\n",
      "[12]\ttraining's rmse: 2345.44\n",
      "[13]\ttraining's rmse: 2265.26\n",
      "[14]\ttraining's rmse: 2193.39\n",
      "[15]\ttraining's rmse: 2132.04\n",
      "[16]\ttraining's rmse: 2078.13\n",
      "[17]\ttraining's rmse: 2031.1\n",
      "[18]\ttraining's rmse: 1989.02\n",
      "[19]\ttraining's rmse: 1951.2\n",
      "[20]\ttraining's rmse: 1919.42\n",
      "[21]\ttraining's rmse: 1889.27\n",
      "[22]\ttraining's rmse: 1863.95\n",
      "[23]\ttraining's rmse: 1841.49\n",
      "[24]\ttraining's rmse: 1819.88\n",
      "[25]\ttraining's rmse: 1800.71\n",
      "[26]\ttraining's rmse: 1783.04\n",
      "[27]\ttraining's rmse: 1767.14\n",
      "[28]\ttraining's rmse: 1753.18\n",
      "[29]\ttraining's rmse: 1740.01\n",
      "[30]\ttraining's rmse: 1728.08\n",
      "[31]\ttraining's rmse: 1717.1\n",
      "[32]\ttraining's rmse: 1708.24\n",
      "[33]\ttraining's rmse: 1699.68\n",
      "[34]\ttraining's rmse: 1691.88\n",
      "[35]\ttraining's rmse: 1684.11\n",
      "[36]\ttraining's rmse: 1677.21\n",
      "[37]\ttraining's rmse: 1670.96\n",
      "[38]\ttraining's rmse: 1665.39\n",
      "[39]\ttraining's rmse: 1660.5\n",
      "[40]\ttraining's rmse: 1654.89\n",
      "[41]\ttraining's rmse: 1649.97\n",
      "[42]\ttraining's rmse: 1645.73\n",
      "[43]\ttraining's rmse: 1641.88\n",
      "[44]\ttraining's rmse: 1637.5\n",
      "[45]\ttraining's rmse: 1633.53\n",
      "[46]\ttraining's rmse: 1630.34\n",
      "[47]\ttraining's rmse: 1626.45\n",
      "[48]\ttraining's rmse: 1623.34\n",
      "[49]\ttraining's rmse: 1620.73\n",
      "[50]\ttraining's rmse: 1617.75\n",
      "[51]\ttraining's rmse: 1615.37\n",
      "[52]\ttraining's rmse: 1612.84\n",
      "[53]\ttraining's rmse: 1610.51\n",
      "[54]\ttraining's rmse: 1608.26\n",
      "[55]\ttraining's rmse: 1606\n",
      "[56]\ttraining's rmse: 1604.02\n",
      "[57]\ttraining's rmse: 1601.69\n",
      "[58]\ttraining's rmse: 1599.65\n",
      "[59]\ttraining's rmse: 1597.15\n",
      "[60]\ttraining's rmse: 1595.42\n",
      "[61]\ttraining's rmse: 1593.86\n",
      "[62]\ttraining's rmse: 1591.9\n",
      "[63]\ttraining's rmse: 1590.22\n",
      "[64]\ttraining's rmse: 1588.38\n",
      "[65]\ttraining's rmse: 1586.67\n",
      "[66]\ttraining's rmse: 1585.16\n",
      "[67]\ttraining's rmse: 1583.89\n",
      "[68]\ttraining's rmse: 1582.45\n",
      "[69]\ttraining's rmse: 1580.29\n",
      "[70]\ttraining's rmse: 1579.07\n",
      "[71]\ttraining's rmse: 1577.73\n",
      "[72]\ttraining's rmse: 1575.77\n",
      "[73]\ttraining's rmse: 1574.39\n",
      "[74]\ttraining's rmse: 1573.49\n",
      "[75]\ttraining's rmse: 1572.29\n",
      "[76]\ttraining's rmse: 1570.66\n",
      "[77]\ttraining's rmse: 1568.72\n",
      "[78]\ttraining's rmse: 1567.64\n",
      "[79]\ttraining's rmse: 1566.44\n",
      "[80]\ttraining's rmse: 1565.25\n",
      "[81]\ttraining's rmse: 1563.65\n",
      "[82]\ttraining's rmse: 1562.54\n",
      "[83]\ttraining's rmse: 1561.51\n",
      "[84]\ttraining's rmse: 1559.8\n",
      "[85]\ttraining's rmse: 1558.23\n",
      "[86]\ttraining's rmse: 1557.31\n",
      "[87]\ttraining's rmse: 1555.38\n",
      "[88]\ttraining's rmse: 1554.2\n",
      "[89]\ttraining's rmse: 1553.29\n",
      "[90]\ttraining's rmse: 1551.79\n",
      "[91]\ttraining's rmse: 1550.23\n",
      "[92]\ttraining's rmse: 1549.24\n",
      "[93]\ttraining's rmse: 1547.84\n",
      "[94]\ttraining's rmse: 1547\n",
      "[95]\ttraining's rmse: 1545.95\n",
      "[96]\ttraining's rmse: 1545.21\n",
      "[97]\ttraining's rmse: 1544.44\n",
      "[98]\ttraining's rmse: 1543.68\n",
      "[99]\ttraining's rmse: 1542.52\n",
      "[100]\ttraining's rmse: 1541.21\n",
      "[101]\ttraining's rmse: 1539.98\n",
      "[102]\ttraining's rmse: 1538.85\n",
      "[103]\ttraining's rmse: 1537.98\n",
      "[104]\ttraining's rmse: 1537.3\n",
      "[105]\ttraining's rmse: 1536.45\n",
      "[106]\ttraining's rmse: 1535.42\n",
      "[107]\ttraining's rmse: 1534.17\n",
      "[108]\ttraining's rmse: 1533.36\n",
      "[109]\ttraining's rmse: 1532.7\n",
      "[110]\ttraining's rmse: 1532.13\n",
      "Did not meet early stopping. Best iteration is:\n",
      "[110]\ttraining's rmse: 1532.13\n"
     ]
    },
    {
     "name": "stderr",
     "output_type": "stream",
     "text": [
      "C:\\Users\\User\\anaconda3\\envs\\ds_practicum_env\\lib\\site-packages\\lightgbm\\engine.py:148: UserWarning: Found `num_iterations` in params. Will use it instead of argument\n",
      "  _log_warning(\"Found `{}` in params. Will use it instead of argument\".format(alias))\n",
      "C:\\Users\\User\\anaconda3\\envs\\ds_practicum_env\\lib\\site-packages\\lightgbm\\engine.py:153: UserWarning: Found `early_stopping_rounds` in params. Will use it instead of argument\n",
      "  _log_warning(\"Found `{}` in params. Will use it instead of argument\".format(alias))\n"
     ]
    },
    {
     "name": "stdout",
     "output_type": "stream",
     "text": [
      "[LightGBM] [Warning] Accuracy may be bad since you didn't explicitly set num_leaves OR 2^max_depth > num_leaves. (num_leaves=31).\n",
      "[LightGBM] [Warning] Accuracy may be bad since you didn't explicitly set num_leaves OR 2^max_depth > num_leaves. (num_leaves=31).\n",
      "[LightGBM] [Warning] Auto-choosing col-wise multi-threading, the overhead of testing was 0.012233 seconds.\n",
      "You can set `force_col_wise=true` to remove the overhead.\n",
      "[LightGBM] [Info] Total Bins 865\n",
      "[LightGBM] [Info] Number of data points in the train set: 159478, number of used features: 10\n",
      "[LightGBM] [Info] Start training from score 5014.451717\n",
      "[1]\ttraining's rmse: 4279.37\n",
      "Training until validation scores don't improve for 10 rounds\n",
      "[2]\ttraining's rmse: 3977.91\n",
      "[3]\ttraining's rmse: 3714.51\n",
      "[4]\ttraining's rmse: 3481.05\n",
      "[5]\ttraining's rmse: 3270.37\n",
      "[6]\ttraining's rmse: 3087.12\n",
      "[7]\ttraining's rmse: 2923.04\n",
      "[8]\ttraining's rmse: 2779.37\n",
      "[9]\ttraining's rmse: 2645.79\n",
      "[10]\ttraining's rmse: 2533.86\n",
      "[11]\ttraining's rmse: 2432.16\n",
      "[12]\ttraining's rmse: 2344.57\n",
      "[13]\ttraining's rmse: 2267.31\n",
      "[14]\ttraining's rmse: 2195.14\n",
      "[15]\ttraining's rmse: 2134.25\n",
      "[16]\ttraining's rmse: 2079.04\n",
      "[17]\ttraining's rmse: 2031.73\n",
      "[18]\ttraining's rmse: 1989.47\n",
      "[19]\ttraining's rmse: 1954.31\n",
      "[20]\ttraining's rmse: 1919.94\n",
      "[21]\ttraining's rmse: 1892.41\n",
      "[22]\ttraining's rmse: 1865.89\n",
      "[23]\ttraining's rmse: 1841.85\n",
      "[24]\ttraining's rmse: 1820.05\n",
      "[25]\ttraining's rmse: 1802.09\n",
      "[26]\ttraining's rmse: 1783.88\n",
      "[27]\ttraining's rmse: 1768.68\n",
      "[28]\ttraining's rmse: 1755.2\n",
      "[29]\ttraining's rmse: 1741.62\n",
      "[30]\ttraining's rmse: 1730.19\n",
      "[31]\ttraining's rmse: 1718.79\n",
      "[32]\ttraining's rmse: 1710.13\n",
      "[33]\ttraining's rmse: 1701.62\n",
      "[34]\ttraining's rmse: 1693.44\n",
      "[35]\ttraining's rmse: 1686.13\n",
      "[36]\ttraining's rmse: 1678.97\n",
      "[37]\ttraining's rmse: 1672.69\n",
      "[38]\ttraining's rmse: 1666.6\n",
      "[39]\ttraining's rmse: 1661.62\n",
      "[40]\ttraining's rmse: 1656.65\n",
      "[41]\ttraining's rmse: 1651.65\n",
      "[42]\ttraining's rmse: 1647.16\n",
      "[43]\ttraining's rmse: 1642.92\n",
      "[44]\ttraining's rmse: 1638\n",
      "[45]\ttraining's rmse: 1634.11\n",
      "[46]\ttraining's rmse: 1630.12\n",
      "[47]\ttraining's rmse: 1626.21\n",
      "[48]\ttraining's rmse: 1623.35\n",
      "[49]\ttraining's rmse: 1620.31\n",
      "[50]\ttraining's rmse: 1617.17\n",
      "[51]\ttraining's rmse: 1614.41\n",
      "[52]\ttraining's rmse: 1612.01\n",
      "[53]\ttraining's rmse: 1609\n",
      "[54]\ttraining's rmse: 1606.63\n",
      "[55]\ttraining's rmse: 1604.1\n",
      "[56]\ttraining's rmse: 1601.94\n",
      "[57]\ttraining's rmse: 1599.25\n",
      "[58]\ttraining's rmse: 1597.54\n",
      "[59]\ttraining's rmse: 1595.45\n",
      "[60]\ttraining's rmse: 1593.09\n",
      "[61]\ttraining's rmse: 1590.94\n",
      "[62]\ttraining's rmse: 1589.34\n",
      "[63]\ttraining's rmse: 1586.9\n",
      "[64]\ttraining's rmse: 1584.66\n",
      "[65]\ttraining's rmse: 1583.3\n",
      "[66]\ttraining's rmse: 1581.58\n",
      "[67]\ttraining's rmse: 1579.75\n",
      "[68]\ttraining's rmse: 1578.11\n",
      "[69]\ttraining's rmse: 1576.59\n",
      "[70]\ttraining's rmse: 1575.46\n",
      "[71]\ttraining's rmse: 1574.18\n",
      "[72]\ttraining's rmse: 1572.73\n",
      "[73]\ttraining's rmse: 1570.75\n",
      "[74]\ttraining's rmse: 1569.05\n",
      "[75]\ttraining's rmse: 1567.74\n",
      "[76]\ttraining's rmse: 1566.44\n",
      "[77]\ttraining's rmse: 1564.99\n",
      "[78]\ttraining's rmse: 1563.22\n",
      "[79]\ttraining's rmse: 1561.76\n",
      "[80]\ttraining's rmse: 1560.12\n",
      "[81]\ttraining's rmse: 1558.58\n",
      "[82]\ttraining's rmse: 1557.56\n",
      "[83]\ttraining's rmse: 1556.49\n",
      "[84]\ttraining's rmse: 1554.98\n",
      "[85]\ttraining's rmse: 1553.42\n",
      "[86]\ttraining's rmse: 1551.95\n",
      "[87]\ttraining's rmse: 1551.16\n",
      "[88]\ttraining's rmse: 1550.2\n",
      "[89]\ttraining's rmse: 1549.1\n",
      "[90]\ttraining's rmse: 1548.16\n",
      "[91]\ttraining's rmse: 1546.85\n",
      "[92]\ttraining's rmse: 1545.79\n",
      "[93]\ttraining's rmse: 1544.34\n",
      "[94]\ttraining's rmse: 1543.29\n",
      "[95]\ttraining's rmse: 1542.6\n",
      "[96]\ttraining's rmse: 1541.04\n",
      "[97]\ttraining's rmse: 1540.22\n",
      "[98]\ttraining's rmse: 1539.51\n",
      "[99]\ttraining's rmse: 1538.39\n",
      "[100]\ttraining's rmse: 1537.46\n",
      "[101]\ttraining's rmse: 1536.9\n",
      "[102]\ttraining's rmse: 1535.94\n",
      "[103]\ttraining's rmse: 1535.23\n",
      "[104]\ttraining's rmse: 1534.32\n",
      "[105]\ttraining's rmse: 1533.64\n",
      "[106]\ttraining's rmse: 1532.6\n",
      "[107]\ttraining's rmse: 1531.61\n",
      "[108]\ttraining's rmse: 1530.54\n",
      "[109]\ttraining's rmse: 1529.31\n",
      "[110]\ttraining's rmse: 1528.44\n",
      "Did not meet early stopping. Best iteration is:\n",
      "[110]\ttraining's rmse: 1528.44\n"
     ]
    },
    {
     "name": "stderr",
     "output_type": "stream",
     "text": [
      "C:\\Users\\User\\anaconda3\\envs\\ds_practicum_env\\lib\\site-packages\\lightgbm\\engine.py:148: UserWarning: Found `num_iterations` in params. Will use it instead of argument\n",
      "  _log_warning(\"Found `{}` in params. Will use it instead of argument\".format(alias))\n",
      "C:\\Users\\User\\anaconda3\\envs\\ds_practicum_env\\lib\\site-packages\\lightgbm\\engine.py:153: UserWarning: Found `early_stopping_rounds` in params. Will use it instead of argument\n",
      "  _log_warning(\"Found `{}` in params. Will use it instead of argument\".format(alias))\n"
     ]
    },
    {
     "name": "stdout",
     "output_type": "stream",
     "text": [
      "[LightGBM] [Warning] Accuracy may be bad since you didn't explicitly set num_leaves OR 2^max_depth > num_leaves. (num_leaves=31).\n",
      "[LightGBM] [Warning] Accuracy may be bad since you didn't explicitly set num_leaves OR 2^max_depth > num_leaves. (num_leaves=31).\n",
      "[LightGBM] [Warning] Auto-choosing col-wise multi-threading, the overhead of testing was 0.018901 seconds.\n",
      "You can set `force_col_wise=true` to remove the overhead.\n",
      "[LightGBM] [Info] Total Bins 865\n",
      "[LightGBM] [Info] Number of data points in the train set: 159478, number of used features: 10\n",
      "[LightGBM] [Info] Start training from score 5014.451717\n",
      "[1]\ttraining's rmse: 4279.37\n",
      "Training until validation scores don't improve for 10 rounds\n",
      "[2]\ttraining's rmse: 3977.91\n",
      "[3]\ttraining's rmse: 3714.51\n",
      "[4]\ttraining's rmse: 3481.05\n",
      "[5]\ttraining's rmse: 3270.37\n",
      "[6]\ttraining's rmse: 3087.12\n",
      "[7]\ttraining's rmse: 2923.04\n",
      "[8]\ttraining's rmse: 2779.37\n",
      "[9]\ttraining's rmse: 2645.79\n",
      "[10]\ttraining's rmse: 2533.86\n",
      "[11]\ttraining's rmse: 2432.16\n",
      "[12]\ttraining's rmse: 2344.57\n",
      "[13]\ttraining's rmse: 2267.31\n",
      "[14]\ttraining's rmse: 2195.14\n",
      "[15]\ttraining's rmse: 2134.25\n",
      "[16]\ttraining's rmse: 2079.04\n",
      "[17]\ttraining's rmse: 2031.73\n",
      "[18]\ttraining's rmse: 1989.47\n",
      "[19]\ttraining's rmse: 1954.31\n",
      "[20]\ttraining's rmse: 1919.94\n",
      "[21]\ttraining's rmse: 1892.41\n",
      "[22]\ttraining's rmse: 1865.86\n",
      "[23]\ttraining's rmse: 1841.83\n",
      "[24]\ttraining's rmse: 1820.05\n",
      "[25]\ttraining's rmse: 1801.61\n",
      "[26]\ttraining's rmse: 1785.84\n",
      "[27]\ttraining's rmse: 1769.78\n",
      "[28]\ttraining's rmse: 1755.96\n",
      "[29]\ttraining's rmse: 1741.63\n",
      "[30]\ttraining's rmse: 1729.37\n",
      "[31]\ttraining's rmse: 1718.74\n",
      "[32]\ttraining's rmse: 1708.88\n",
      "[33]\ttraining's rmse: 1699.57\n",
      "[34]\ttraining's rmse: 1692.2\n",
      "[35]\ttraining's rmse: 1684.9\n",
      "[36]\ttraining's rmse: 1678.19\n",
      "[37]\ttraining's rmse: 1671.67\n",
      "[38]\ttraining's rmse: 1665.96\n",
      "[39]\ttraining's rmse: 1660.55\n",
      "[40]\ttraining's rmse: 1655.71\n",
      "[41]\ttraining's rmse: 1650.69\n",
      "[42]\ttraining's rmse: 1646.41\n",
      "[43]\ttraining's rmse: 1642.6\n",
      "[44]\ttraining's rmse: 1637.96\n",
      "[45]\ttraining's rmse: 1633.5\n",
      "[46]\ttraining's rmse: 1629.24\n",
      "[47]\ttraining's rmse: 1625.63\n",
      "[48]\ttraining's rmse: 1621.93\n",
      "[49]\ttraining's rmse: 1619.15\n",
      "[50]\ttraining's rmse: 1616.75\n",
      "[51]\ttraining's rmse: 1614.12\n",
      "[52]\ttraining's rmse: 1611.82\n",
      "[53]\ttraining's rmse: 1609.15\n",
      "[54]\ttraining's rmse: 1607.07\n",
      "[55]\ttraining's rmse: 1604.41\n",
      "[56]\ttraining's rmse: 1602.24\n",
      "[57]\ttraining's rmse: 1599.85\n",
      "[58]\ttraining's rmse: 1597.3\n",
      "[59]\ttraining's rmse: 1595.07\n",
      "[60]\ttraining's rmse: 1593.38\n",
      "[61]\ttraining's rmse: 1591.91\n",
      "[62]\ttraining's rmse: 1589.72\n",
      "[63]\ttraining's rmse: 1587.4\n",
      "[64]\ttraining's rmse: 1585.39\n",
      "[65]\ttraining's rmse: 1583.45\n",
      "[66]\ttraining's rmse: 1582.19\n",
      "[67]\ttraining's rmse: 1580.5\n",
      "[68]\ttraining's rmse: 1578.86\n",
      "[69]\ttraining's rmse: 1577.2\n",
      "[70]\ttraining's rmse: 1575.1\n",
      "[71]\ttraining's rmse: 1573.61\n",
      "[72]\ttraining's rmse: 1572.59\n",
      "[73]\ttraining's rmse: 1570.94\n",
      "[74]\ttraining's rmse: 1569.61\n",
      "[75]\ttraining's rmse: 1568.29\n",
      "[76]\ttraining's rmse: 1566.42\n",
      "[77]\ttraining's rmse: 1565.06\n",
      "[78]\ttraining's rmse: 1563.14\n",
      "[79]\ttraining's rmse: 1561.73\n",
      "[80]\ttraining's rmse: 1560.82\n",
      "[81]\ttraining's rmse: 1559.9\n",
      "[82]\ttraining's rmse: 1558.26\n",
      "[83]\ttraining's rmse: 1557.14\n",
      "[84]\ttraining's rmse: 1555.95\n",
      "[85]\ttraining's rmse: 1554.86\n",
      "[86]\ttraining's rmse: 1553.65\n",
      "[87]\ttraining's rmse: 1552.72\n",
      "[88]\ttraining's rmse: 1551.61\n",
      "[89]\ttraining's rmse: 1550.32\n",
      "[90]\ttraining's rmse: 1549.31\n",
      "[91]\ttraining's rmse: 1547.71\n",
      "[92]\ttraining's rmse: 1546.56\n",
      "[93]\ttraining's rmse: 1545.25\n",
      "[94]\ttraining's rmse: 1544.5\n",
      "[95]\ttraining's rmse: 1543.42\n",
      "[96]\ttraining's rmse: 1542.71\n",
      "[97]\ttraining's rmse: 1541.55\n",
      "[98]\ttraining's rmse: 1540.23\n",
      "[99]\ttraining's rmse: 1539.26\n",
      "[100]\ttraining's rmse: 1538.56\n",
      "[101]\ttraining's rmse: 1537.97\n",
      "[102]\ttraining's rmse: 1537.26\n",
      "[103]\ttraining's rmse: 1536.55\n",
      "[104]\ttraining's rmse: 1535.99\n",
      "[105]\ttraining's rmse: 1535.23\n",
      "[106]\ttraining's rmse: 1534.16\n",
      "[107]\ttraining's rmse: 1533.4\n",
      "[108]\ttraining's rmse: 1532.62\n",
      "[109]\ttraining's rmse: 1531.95\n",
      "[110]\ttraining's rmse: 1531.14\n",
      "Did not meet early stopping. Best iteration is:\n",
      "[110]\ttraining's rmse: 1531.14\n"
     ]
    },
    {
     "name": "stderr",
     "output_type": "stream",
     "text": [
      "C:\\Users\\User\\anaconda3\\envs\\ds_practicum_env\\lib\\site-packages\\lightgbm\\engine.py:148: UserWarning: Found `num_iterations` in params. Will use it instead of argument\n",
      "  _log_warning(\"Found `{}` in params. Will use it instead of argument\".format(alias))\n",
      "C:\\Users\\User\\anaconda3\\envs\\ds_practicum_env\\lib\\site-packages\\lightgbm\\engine.py:153: UserWarning: Found `early_stopping_rounds` in params. Will use it instead of argument\n",
      "  _log_warning(\"Found `{}` in params. Will use it instead of argument\".format(alias))\n"
     ]
    },
    {
     "name": "stdout",
     "output_type": "stream",
     "text": [
      "[LightGBM] [Warning] Accuracy may be bad since you didn't explicitly set num_leaves OR 2^max_depth > num_leaves. (num_leaves=31).\n",
      "[LightGBM] [Warning] Accuracy may be bad since you didn't explicitly set num_leaves OR 2^max_depth > num_leaves. (num_leaves=31).\n",
      "[LightGBM] [Warning] Auto-choosing row-wise multi-threading, the overhead of testing was 0.008895 seconds.\n",
      "You can set `force_row_wise=true` to remove the overhead.\n",
      "And if memory is not enough, you can set `force_col_wise=true`.\n",
      "[LightGBM] [Info] Total Bins 865\n",
      "[LightGBM] [Info] Number of data points in the train set: 159478, number of used features: 10\n",
      "[LightGBM] [Info] Start training from score 5014.451717\n",
      "[1]\ttraining's rmse: 4279.37\n",
      "Training until validation scores don't improve for 10 rounds\n",
      "[2]\ttraining's rmse: 3977.91\n",
      "[3]\ttraining's rmse: 3714.51\n",
      "[4]\ttraining's rmse: 3481.05\n",
      "[5]\ttraining's rmse: 3270.37\n",
      "[6]\ttraining's rmse: 3087.12\n",
      "[7]\ttraining's rmse: 2923.04\n",
      "[8]\ttraining's rmse: 2779.37\n",
      "[9]\ttraining's rmse: 2645.79\n",
      "[10]\ttraining's rmse: 2533.86\n",
      "[11]\ttraining's rmse: 2432.16\n",
      "[12]\ttraining's rmse: 2344.57\n",
      "[13]\ttraining's rmse: 2267.31\n",
      "[14]\ttraining's rmse: 2195.14\n",
      "[15]\ttraining's rmse: 2134.25\n",
      "[16]\ttraining's rmse: 2079.04\n",
      "[17]\ttraining's rmse: 2031.73\n",
      "[18]\ttraining's rmse: 1989.47\n",
      "[19]\ttraining's rmse: 1954.31\n",
      "[20]\ttraining's rmse: 1919.94\n",
      "[21]\ttraining's rmse: 1892.41\n",
      "[22]\ttraining's rmse: 1865.86\n",
      "[23]\ttraining's rmse: 1841.83\n",
      "[24]\ttraining's rmse: 1820.05\n",
      "[25]\ttraining's rmse: 1801.61\n",
      "[26]\ttraining's rmse: 1785.84\n",
      "[27]\ttraining's rmse: 1769.78\n",
      "[28]\ttraining's rmse: 1755.96\n",
      "[29]\ttraining's rmse: 1741.63\n",
      "[30]\ttraining's rmse: 1729.37\n",
      "[31]\ttraining's rmse: 1718.74\n",
      "[32]\ttraining's rmse: 1708.88\n",
      "[33]\ttraining's rmse: 1699.57\n",
      "[34]\ttraining's rmse: 1692.2\n",
      "[35]\ttraining's rmse: 1684.9\n",
      "[36]\ttraining's rmse: 1678.19\n",
      "[37]\ttraining's rmse: 1671.67\n",
      "[38]\ttraining's rmse: 1665.96\n",
      "[39]\ttraining's rmse: 1660.55\n",
      "[40]\ttraining's rmse: 1655.71\n",
      "[41]\ttraining's rmse: 1650.69\n",
      "[42]\ttraining's rmse: 1646.41\n",
      "[43]\ttraining's rmse: 1642.6\n",
      "[44]\ttraining's rmse: 1637.96\n",
      "[45]\ttraining's rmse: 1633.49\n",
      "[46]\ttraining's rmse: 1629.56\n",
      "[47]\ttraining's rmse: 1625.97\n",
      "[48]\ttraining's rmse: 1622.87\n",
      "[49]\ttraining's rmse: 1619.59\n",
      "[50]\ttraining's rmse: 1616.1\n",
      "[51]\ttraining's rmse: 1613.24\n",
      "[52]\ttraining's rmse: 1610.48\n",
      "[53]\ttraining's rmse: 1608.22\n",
      "[54]\ttraining's rmse: 1605.87\n",
      "[55]\ttraining's rmse: 1603.68\n",
      "[56]\ttraining's rmse: 1601.32\n",
      "[57]\ttraining's rmse: 1599.32\n",
      "[58]\ttraining's rmse: 1597.38\n",
      "[59]\ttraining's rmse: 1595.57\n",
      "[60]\ttraining's rmse: 1593.65\n",
      "[61]\ttraining's rmse: 1591.46\n",
      "[62]\ttraining's rmse: 1589.5\n",
      "[63]\ttraining's rmse: 1588.03\n",
      "[64]\ttraining's rmse: 1585.94\n",
      "[65]\ttraining's rmse: 1583.94\n",
      "[66]\ttraining's rmse: 1582.04\n",
      "[67]\ttraining's rmse: 1580.74\n",
      "[68]\ttraining's rmse: 1579.28\n",
      "[69]\ttraining's rmse: 1577.33\n",
      "[70]\ttraining's rmse: 1575.48\n",
      "[71]\ttraining's rmse: 1574.08\n",
      "[72]\ttraining's rmse: 1571.87\n",
      "[73]\ttraining's rmse: 1569.9\n",
      "[74]\ttraining's rmse: 1568.72\n",
      "[75]\ttraining's rmse: 1567.26\n",
      "[76]\ttraining's rmse: 1566.04\n",
      "[77]\ttraining's rmse: 1564.93\n",
      "[78]\ttraining's rmse: 1563.58\n",
      "[79]\ttraining's rmse: 1561.98\n",
      "[80]\ttraining's rmse: 1560.21\n",
      "[81]\ttraining's rmse: 1558.69\n",
      "[82]\ttraining's rmse: 1557.56\n",
      "[83]\ttraining's rmse: 1556.33\n",
      "[84]\ttraining's rmse: 1554.65\n",
      "[85]\ttraining's rmse: 1553.37\n",
      "[86]\ttraining's rmse: 1552.13\n",
      "[87]\ttraining's rmse: 1550.98\n",
      "[88]\ttraining's rmse: 1550.16\n",
      "[89]\ttraining's rmse: 1548.86\n",
      "[90]\ttraining's rmse: 1547.35\n",
      "[91]\ttraining's rmse: 1546.6\n",
      "[92]\ttraining's rmse: 1545.45\n",
      "[93]\ttraining's rmse: 1544.56\n",
      "[94]\ttraining's rmse: 1543.7\n",
      "[95]\ttraining's rmse: 1542.72\n",
      "[96]\ttraining's rmse: 1541.8\n",
      "[97]\ttraining's rmse: 1540.43\n",
      "[98]\ttraining's rmse: 1539.12\n",
      "[99]\ttraining's rmse: 1538.16\n",
      "[100]\ttraining's rmse: 1536.98\n",
      "[101]\ttraining's rmse: 1535.76\n",
      "[102]\ttraining's rmse: 1534.86\n",
      "[103]\ttraining's rmse: 1534.2\n",
      "[104]\ttraining's rmse: 1533.42\n",
      "[105]\ttraining's rmse: 1532.62\n",
      "[106]\ttraining's rmse: 1531.78\n",
      "[107]\ttraining's rmse: 1530.36\n",
      "[108]\ttraining's rmse: 1529.44\n",
      "[109]\ttraining's rmse: 1528.53\n",
      "[110]\ttraining's rmse: 1527.87\n",
      "Did not meet early stopping. Best iteration is:\n",
      "[110]\ttraining's rmse: 1527.87\n"
     ]
    },
    {
     "name": "stderr",
     "output_type": "stream",
     "text": [
      "100%|██████████| 6/6 [01:25<00:00, 14.17s/it]"
     ]
    },
    {
     "name": "stdout",
     "output_type": "stream",
     "text": [
      "RMSE лучшей модели на валидационной выборке: 1599.05\n",
      "CPU times: total: 3min 30s\n",
      "Wall time: 1min 25s\n"
     ]
    },
    {
     "name": "stderr",
     "output_type": "stream",
     "text": [
      "\n"
     ]
    }
   ],
   "source": [
    "%%time\n",
    "\n",
    "best_lgb_model = None #Лучшая модель\n",
    "best_result = 100000 #Лучший результат\n",
    "#датафрейм для параметров и точности моделей\n",
    "lgb_param = pd.DataFrame\\\n",
    "(columns=['rmse_train','rmse_valid','max_depth', \\\n",
    "          'num_iterations'])\n",
    "\n",
    "#цикл для подбора параметров модели\n",
    "for iterations in tqdm(range(10,120,20)):\n",
    "    for depth in range(2,15,2):\n",
    "        params = {\n",
    "            'task': 'train', \n",
    "            'boosting': 'gbdt',\n",
    "            'objective': 'regression',\n",
    "            'num_leaves': 31,\n",
    "            'num_iterations':iterations,\n",
    "            'max_depth': depth,\n",
    "            'metric': 'rmse',\n",
    "            'early_stopping_rounds': 10\n",
    "        }\n",
    "        \n",
    "        # Обучаем модель на тестовой выборке\n",
    "        \n",
    "        model_lgb = lgb.train(params,\n",
    "                              train_set=lgb_train,\n",
    "                              valid_sets= lgb_train,\n",
    "                              feature_name=list(features_train_v2),\n",
    "                              categorical_feature=categorical_columns\n",
    "                             )\n",
    "        # получаем предсказаня на Тренировочной выборке\n",
    "        predictions_1 = model_lgb.predict(features_train)\n",
    "        \n",
    "        # RMSE\n",
    "        rmse_1 = RMSE(predictions_1,target_train)\n",
    "\n",
    "        # получаем предсказаня на Валидационной выборке\n",
    "        predictions_2 = model_lgb.predict(features_valid)\n",
    "\n",
    "        #  RMSE\n",
    "        rmse_2 = RMSE(predictions_2,target_valid)\n",
    "    \n",
    "        #сохраняем параметры модели и rmse в датафрейм\n",
    "        new_row = {'rmse_train':rmse_1,\n",
    "                   'rmse_valid':rmse_2,\n",
    "                   'max_depth':depth,\n",
    "                   'num_iterations':iterations}\n",
    "        lgb_param = lgb_param.append(new_row,ignore_index=True)\n",
    "            \n",
    "        # сохраним лучшее\n",
    "        \n",
    "        if rmse_2 < best_result:\n",
    "            best_lgb_model = model_lgb\n",
    "            best_result = rmse_2\n",
    "    \n",
    "print(\"RMSE лучшей модели на валидационной выборке:\", round(best_result,2))"
   ]
  },
  {
   "cell_type": "code",
   "execution_count": 66,
   "id": "5f8293c6",
   "metadata": {
    "scrolled": true
   },
   "outputs": [
    {
     "data": {
      "text/html": [
       "<div>\n",
       "<style scoped>\n",
       "    .dataframe tbody tr th:only-of-type {\n",
       "        vertical-align: middle;\n",
       "    }\n",
       "\n",
       "    .dataframe tbody tr th {\n",
       "        vertical-align: top;\n",
       "    }\n",
       "\n",
       "    .dataframe thead th {\n",
       "        text-align: right;\n",
       "    }\n",
       "</style>\n",
       "<table border=\"1\" class=\"dataframe\">\n",
       "  <thead>\n",
       "    <tr style=\"text-align: right;\">\n",
       "      <th></th>\n",
       "      <th>rmse_train</th>\n",
       "      <th>rmse_valid</th>\n",
       "      <th>max_depth</th>\n",
       "      <th>num_iterations</th>\n",
       "    </tr>\n",
       "  </thead>\n",
       "  <tbody>\n",
       "    <tr>\n",
       "      <th>41</th>\n",
       "      <td>1545.970506</td>\n",
       "      <td>1599.047631</td>\n",
       "      <td>14.0</td>\n",
       "      <td>110.0</td>\n",
       "    </tr>\n",
       "    <tr>\n",
       "      <th>39</th>\n",
       "      <td>1546.534139</td>\n",
       "      <td>1599.575145</td>\n",
       "      <td>10.0</td>\n",
       "      <td>110.0</td>\n",
       "    </tr>\n",
       "    <tr>\n",
       "      <th>38</th>\n",
       "      <td>1550.096679</td>\n",
       "      <td>1602.797518</td>\n",
       "      <td>8.0</td>\n",
       "      <td>110.0</td>\n",
       "    </tr>\n",
       "    <tr>\n",
       "      <th>40</th>\n",
       "      <td>1549.507305</td>\n",
       "      <td>1603.359292</td>\n",
       "      <td>12.0</td>\n",
       "      <td>110.0</td>\n",
       "    </tr>\n",
       "    <tr>\n",
       "      <th>32</th>\n",
       "      <td>1563.731024</td>\n",
       "      <td>1609.529589</td>\n",
       "      <td>10.0</td>\n",
       "      <td>90.0</td>\n",
       "    </tr>\n",
       "    <tr>\n",
       "      <th>34</th>\n",
       "      <td>1563.186449</td>\n",
       "      <td>1609.750497</td>\n",
       "      <td>14.0</td>\n",
       "      <td>90.0</td>\n",
       "    </tr>\n",
       "    <tr>\n",
       "      <th>33</th>\n",
       "      <td>1565.219096</td>\n",
       "      <td>1612.015192</td>\n",
       "      <td>12.0</td>\n",
       "      <td>90.0</td>\n",
       "    </tr>\n",
       "    <tr>\n",
       "      <th>37</th>\n",
       "      <td>1562.205516</td>\n",
       "      <td>1612.129371</td>\n",
       "      <td>6.0</td>\n",
       "      <td>110.0</td>\n",
       "    </tr>\n",
       "    <tr>\n",
       "      <th>31</th>\n",
       "      <td>1567.418677</td>\n",
       "      <td>1613.402101</td>\n",
       "      <td>8.0</td>\n",
       "      <td>90.0</td>\n",
       "    </tr>\n",
       "    <tr>\n",
       "      <th>30</th>\n",
       "      <td>1580.314289</td>\n",
       "      <td>1624.227136</td>\n",
       "      <td>6.0</td>\n",
       "      <td>90.0</td>\n",
       "    </tr>\n",
       "    <tr>\n",
       "      <th>25</th>\n",
       "      <td>1588.490894</td>\n",
       "      <td>1626.962641</td>\n",
       "      <td>10.0</td>\n",
       "      <td>70.0</td>\n",
       "    </tr>\n",
       "    <tr>\n",
       "      <th>27</th>\n",
       "      <td>1588.622436</td>\n",
       "      <td>1627.414636</td>\n",
       "      <td>14.0</td>\n",
       "      <td>70.0</td>\n",
       "    </tr>\n",
       "    <tr>\n",
       "      <th>26</th>\n",
       "      <td>1588.470145</td>\n",
       "      <td>1627.915909</td>\n",
       "      <td>12.0</td>\n",
       "      <td>70.0</td>\n",
       "    </tr>\n",
       "    <tr>\n",
       "      <th>24</th>\n",
       "      <td>1592.106827</td>\n",
       "      <td>1630.582224</td>\n",
       "      <td>8.0</td>\n",
       "      <td>70.0</td>\n",
       "    </tr>\n",
       "    <tr>\n",
       "      <th>23</th>\n",
       "      <td>1601.950930</td>\n",
       "      <td>1639.328073</td>\n",
       "      <td>6.0</td>\n",
       "      <td>70.0</td>\n",
       "    </tr>\n",
       "    <tr>\n",
       "      <th>18</th>\n",
       "      <td>1627.146795</td>\n",
       "      <td>1656.727329</td>\n",
       "      <td>10.0</td>\n",
       "      <td>50.0</td>\n",
       "    </tr>\n",
       "    <tr>\n",
       "      <th>17</th>\n",
       "      <td>1627.659746</td>\n",
       "      <td>1657.045506</td>\n",
       "      <td>8.0</td>\n",
       "      <td>50.0</td>\n",
       "    </tr>\n",
       "    <tr>\n",
       "      <th>20</th>\n",
       "      <td>1626.457856</td>\n",
       "      <td>1657.141883</td>\n",
       "      <td>14.0</td>\n",
       "      <td>50.0</td>\n",
       "    </tr>\n",
       "    <tr>\n",
       "      <th>19</th>\n",
       "      <td>1627.004393</td>\n",
       "      <td>1657.393477</td>\n",
       "      <td>12.0</td>\n",
       "      <td>50.0</td>\n",
       "    </tr>\n",
       "    <tr>\n",
       "      <th>16</th>\n",
       "      <td>1639.379699</td>\n",
       "      <td>1668.705212</td>\n",
       "      <td>6.0</td>\n",
       "      <td>50.0</td>\n",
       "    </tr>\n",
       "    <tr>\n",
       "      <th>36</th>\n",
       "      <td>1651.448486</td>\n",
       "      <td>1680.539801</td>\n",
       "      <td>4.0</td>\n",
       "      <td>110.0</td>\n",
       "    </tr>\n",
       "    <tr>\n",
       "      <th>29</th>\n",
       "      <td>1671.965483</td>\n",
       "      <td>1698.248127</td>\n",
       "      <td>4.0</td>\n",
       "      <td>90.0</td>\n",
       "    </tr>\n",
       "    <tr>\n",
       "      <th>22</th>\n",
       "      <td>1701.094275</td>\n",
       "      <td>1724.683567</td>\n",
       "      <td>4.0</td>\n",
       "      <td>70.0</td>\n",
       "    </tr>\n",
       "    <tr>\n",
       "      <th>10</th>\n",
       "      <td>1735.345600</td>\n",
       "      <td>1756.948119</td>\n",
       "      <td>8.0</td>\n",
       "      <td>30.0</td>\n",
       "    </tr>\n",
       "    <tr>\n",
       "      <th>13</th>\n",
       "      <td>1737.114629</td>\n",
       "      <td>1760.150998</td>\n",
       "      <td>14.0</td>\n",
       "      <td>30.0</td>\n",
       "    </tr>\n",
       "    <tr>\n",
       "      <th>12</th>\n",
       "      <td>1737.114629</td>\n",
       "      <td>1760.150998</td>\n",
       "      <td>12.0</td>\n",
       "      <td>30.0</td>\n",
       "    </tr>\n",
       "    <tr>\n",
       "      <th>11</th>\n",
       "      <td>1738.092425</td>\n",
       "      <td>1761.586820</td>\n",
       "      <td>10.0</td>\n",
       "      <td>30.0</td>\n",
       "    </tr>\n",
       "    <tr>\n",
       "      <th>9</th>\n",
       "      <td>1746.385621</td>\n",
       "      <td>1768.136013</td>\n",
       "      <td>6.0</td>\n",
       "      <td>30.0</td>\n",
       "    </tr>\n",
       "    <tr>\n",
       "      <th>15</th>\n",
       "      <td>1752.038924</td>\n",
       "      <td>1772.255714</td>\n",
       "      <td>4.0</td>\n",
       "      <td>50.0</td>\n",
       "    </tr>\n",
       "    <tr>\n",
       "      <th>35</th>\n",
       "      <td>1888.142138</td>\n",
       "      <td>1897.308392</td>\n",
       "      <td>2.0</td>\n",
       "      <td>110.0</td>\n",
       "    </tr>\n",
       "    <tr>\n",
       "      <th>8</th>\n",
       "      <td>1896.099767</td>\n",
       "      <td>1913.198426</td>\n",
       "      <td>4.0</td>\n",
       "      <td>30.0</td>\n",
       "    </tr>\n",
       "    <tr>\n",
       "      <th>28</th>\n",
       "      <td>1919.099848</td>\n",
       "      <td>1928.827691</td>\n",
       "      <td>2.0</td>\n",
       "      <td>90.0</td>\n",
       "    </tr>\n",
       "    <tr>\n",
       "      <th>21</th>\n",
       "      <td>1974.183732</td>\n",
       "      <td>1984.250499</td>\n",
       "      <td>2.0</td>\n",
       "      <td>70.0</td>\n",
       "    </tr>\n",
       "    <tr>\n",
       "      <th>14</th>\n",
       "      <td>2079.124649</td>\n",
       "      <td>2089.478893</td>\n",
       "      <td>2.0</td>\n",
       "      <td>50.0</td>\n",
       "    </tr>\n",
       "    <tr>\n",
       "      <th>7</th>\n",
       "      <td>2329.815522</td>\n",
       "      <td>2341.317442</td>\n",
       "      <td>2.0</td>\n",
       "      <td>30.0</td>\n",
       "    </tr>\n",
       "    <tr>\n",
       "      <th>6</th>\n",
       "      <td>2539.223989</td>\n",
       "      <td>2555.257214</td>\n",
       "      <td>14.0</td>\n",
       "      <td>10.0</td>\n",
       "    </tr>\n",
       "    <tr>\n",
       "      <th>5</th>\n",
       "      <td>2539.223989</td>\n",
       "      <td>2555.257214</td>\n",
       "      <td>12.0</td>\n",
       "      <td>10.0</td>\n",
       "    </tr>\n",
       "    <tr>\n",
       "      <th>4</th>\n",
       "      <td>2539.223989</td>\n",
       "      <td>2555.257214</td>\n",
       "      <td>10.0</td>\n",
       "      <td>10.0</td>\n",
       "    </tr>\n",
       "    <tr>\n",
       "      <th>3</th>\n",
       "      <td>2539.223989</td>\n",
       "      <td>2555.257214</td>\n",
       "      <td>8.0</td>\n",
       "      <td>10.0</td>\n",
       "    </tr>\n",
       "    <tr>\n",
       "      <th>2</th>\n",
       "      <td>2543.658019</td>\n",
       "      <td>2560.980649</td>\n",
       "      <td>6.0</td>\n",
       "      <td>10.0</td>\n",
       "    </tr>\n",
       "    <tr>\n",
       "      <th>1</th>\n",
       "      <td>2732.751521</td>\n",
       "      <td>2747.129148</td>\n",
       "      <td>4.0</td>\n",
       "      <td>10.0</td>\n",
       "    </tr>\n",
       "    <tr>\n",
       "      <th>0</th>\n",
       "      <td>3184.032318</td>\n",
       "      <td>3197.184797</td>\n",
       "      <td>2.0</td>\n",
       "      <td>10.0</td>\n",
       "    </tr>\n",
       "  </tbody>\n",
       "</table>\n",
       "</div>"
      ],
      "text/plain": [
       "     rmse_train   rmse_valid  max_depth  num_iterations\n",
       "41  1545.970506  1599.047631       14.0           110.0\n",
       "39  1546.534139  1599.575145       10.0           110.0\n",
       "38  1550.096679  1602.797518        8.0           110.0\n",
       "40  1549.507305  1603.359292       12.0           110.0\n",
       "32  1563.731024  1609.529589       10.0            90.0\n",
       "34  1563.186449  1609.750497       14.0            90.0\n",
       "33  1565.219096  1612.015192       12.0            90.0\n",
       "37  1562.205516  1612.129371        6.0           110.0\n",
       "31  1567.418677  1613.402101        8.0            90.0\n",
       "30  1580.314289  1624.227136        6.0            90.0\n",
       "25  1588.490894  1626.962641       10.0            70.0\n",
       "27  1588.622436  1627.414636       14.0            70.0\n",
       "26  1588.470145  1627.915909       12.0            70.0\n",
       "24  1592.106827  1630.582224        8.0            70.0\n",
       "23  1601.950930  1639.328073        6.0            70.0\n",
       "18  1627.146795  1656.727329       10.0            50.0\n",
       "17  1627.659746  1657.045506        8.0            50.0\n",
       "20  1626.457856  1657.141883       14.0            50.0\n",
       "19  1627.004393  1657.393477       12.0            50.0\n",
       "16  1639.379699  1668.705212        6.0            50.0\n",
       "36  1651.448486  1680.539801        4.0           110.0\n",
       "29  1671.965483  1698.248127        4.0            90.0\n",
       "22  1701.094275  1724.683567        4.0            70.0\n",
       "10  1735.345600  1756.948119        8.0            30.0\n",
       "13  1737.114629  1760.150998       14.0            30.0\n",
       "12  1737.114629  1760.150998       12.0            30.0\n",
       "11  1738.092425  1761.586820       10.0            30.0\n",
       "9   1746.385621  1768.136013        6.0            30.0\n",
       "15  1752.038924  1772.255714        4.0            50.0\n",
       "35  1888.142138  1897.308392        2.0           110.0\n",
       "8   1896.099767  1913.198426        4.0            30.0\n",
       "28  1919.099848  1928.827691        2.0            90.0\n",
       "21  1974.183732  1984.250499        2.0            70.0\n",
       "14  2079.124649  2089.478893        2.0            50.0\n",
       "7   2329.815522  2341.317442        2.0            30.0\n",
       "6   2539.223989  2555.257214       14.0            10.0\n",
       "5   2539.223989  2555.257214       12.0            10.0\n",
       "4   2539.223989  2555.257214       10.0            10.0\n",
       "3   2539.223989  2555.257214        8.0            10.0\n",
       "2   2543.658019  2560.980649        6.0            10.0\n",
       "1   2732.751521  2747.129148        4.0            10.0\n",
       "0   3184.032318  3197.184797        2.0            10.0"
      ]
     },
     "execution_count": 66,
     "metadata": {},
     "output_type": "execute_result"
    }
   ],
   "source": [
    "# Посмотрим сводную таблицу с результатамит моделирования\n",
    "lgb_param.sort_values(by='rmse_valid')"
   ]
  },
  {
   "cell_type": "markdown",
   "id": "c11deb67",
   "metadata": {},
   "source": [
    "Оценим время обучения и предсказания модели с лучшими параметрами"
   ]
  },
  {
   "cell_type": "code",
   "execution_count": 67,
   "id": "2e4e0065",
   "metadata": {},
   "outputs": [],
   "source": [
    "# Зададим лучшие параметры\n",
    "\n",
    "params = {\n",
    "    'task': 'train', \n",
    "    'boosting': 'gbdt',\n",
    "    'objective': 'regression',\n",
    "    'num_leaves': 31,\n",
    "    'num_iterations':110,\n",
    "    'max_depth': 14,\n",
    "    'metric': 'rmse',\n",
    "    'verbose': -1,\n",
    "    'early_stopping_rounds': 10\n",
    "}"
   ]
  },
  {
   "cell_type": "code",
   "execution_count": 68,
   "id": "32847465",
   "metadata": {},
   "outputs": [
    {
     "name": "stderr",
     "output_type": "stream",
     "text": [
      "C:\\Users\\User\\anaconda3\\envs\\ds_practicum_env\\lib\\site-packages\\lightgbm\\engine.py:148: UserWarning: Found `num_iterations` in params. Will use it instead of argument\n",
      "  _log_warning(\"Found `{}` in params. Will use it instead of argument\".format(alias))\n",
      "C:\\Users\\User\\anaconda3\\envs\\ds_practicum_env\\lib\\site-packages\\lightgbm\\engine.py:153: UserWarning: Found `early_stopping_rounds` in params. Will use it instead of argument\n",
      "  _log_warning(\"Found `{}` in params. Will use it instead of argument\".format(alias))\n"
     ]
    },
    {
     "name": "stdout",
     "output_type": "stream",
     "text": [
      "[1]\ttraining's rmse: 4279.37\n",
      "Training until validation scores don't improve for 10 rounds\n",
      "[2]\ttraining's rmse: 3977.91\n",
      "[3]\ttraining's rmse: 3714.51\n",
      "[4]\ttraining's rmse: 3481.05\n",
      "[5]\ttraining's rmse: 3270.37\n",
      "[6]\ttraining's rmse: 3087.12\n",
      "[7]\ttraining's rmse: 2923.04\n",
      "[8]\ttraining's rmse: 2779.37\n",
      "[9]\ttraining's rmse: 2645.79\n",
      "[10]\ttraining's rmse: 2533.86\n",
      "[11]\ttraining's rmse: 2432.16\n",
      "[12]\ttraining's rmse: 2344.57\n",
      "[13]\ttraining's rmse: 2267.31\n",
      "[14]\ttraining's rmse: 2195.14\n",
      "[15]\ttraining's rmse: 2134.25\n",
      "[16]\ttraining's rmse: 2079.04\n",
      "[17]\ttraining's rmse: 2031.73\n",
      "[18]\ttraining's rmse: 1989.47\n",
      "[19]\ttraining's rmse: 1954.31\n",
      "[20]\ttraining's rmse: 1919.94\n",
      "[21]\ttraining's rmse: 1892.41\n",
      "[22]\ttraining's rmse: 1865.86\n",
      "[23]\ttraining's rmse: 1841.83\n",
      "[24]\ttraining's rmse: 1820.05\n",
      "[25]\ttraining's rmse: 1801.61\n",
      "[26]\ttraining's rmse: 1785.84\n",
      "[27]\ttraining's rmse: 1769.78\n",
      "[28]\ttraining's rmse: 1755.96\n",
      "[29]\ttraining's rmse: 1741.63\n",
      "[30]\ttraining's rmse: 1729.37\n",
      "[31]\ttraining's rmse: 1718.74\n",
      "[32]\ttraining's rmse: 1708.88\n",
      "[33]\ttraining's rmse: 1699.57\n",
      "[34]\ttraining's rmse: 1692.2\n",
      "[35]\ttraining's rmse: 1684.9\n",
      "[36]\ttraining's rmse: 1678.19\n",
      "[37]\ttraining's rmse: 1671.67\n",
      "[38]\ttraining's rmse: 1665.96\n",
      "[39]\ttraining's rmse: 1660.55\n",
      "[40]\ttraining's rmse: 1655.71\n",
      "[41]\ttraining's rmse: 1650.69\n",
      "[42]\ttraining's rmse: 1646.41\n",
      "[43]\ttraining's rmse: 1642.6\n",
      "[44]\ttraining's rmse: 1637.96\n",
      "[45]\ttraining's rmse: 1633.49\n",
      "[46]\ttraining's rmse: 1629.56\n",
      "[47]\ttraining's rmse: 1625.97\n",
      "[48]\ttraining's rmse: 1622.87\n",
      "[49]\ttraining's rmse: 1619.59\n",
      "[50]\ttraining's rmse: 1616.1\n",
      "[51]\ttraining's rmse: 1613.24\n",
      "[52]\ttraining's rmse: 1610.48\n",
      "[53]\ttraining's rmse: 1608.22\n",
      "[54]\ttraining's rmse: 1605.87\n",
      "[55]\ttraining's rmse: 1603.68\n",
      "[56]\ttraining's rmse: 1601.32\n",
      "[57]\ttraining's rmse: 1599.32\n",
      "[58]\ttraining's rmse: 1597.38\n",
      "[59]\ttraining's rmse: 1595.57\n",
      "[60]\ttraining's rmse: 1593.65\n",
      "[61]\ttraining's rmse: 1591.46\n",
      "[62]\ttraining's rmse: 1589.5\n",
      "[63]\ttraining's rmse: 1588.03\n",
      "[64]\ttraining's rmse: 1585.94\n",
      "[65]\ttraining's rmse: 1583.94\n",
      "[66]\ttraining's rmse: 1582.04\n",
      "[67]\ttraining's rmse: 1580.74\n",
      "[68]\ttraining's rmse: 1579.28\n",
      "[69]\ttraining's rmse: 1577.33\n",
      "[70]\ttraining's rmse: 1575.48\n",
      "[71]\ttraining's rmse: 1574.08\n",
      "[72]\ttraining's rmse: 1571.87\n",
      "[73]\ttraining's rmse: 1569.9\n",
      "[74]\ttraining's rmse: 1568.72\n",
      "[75]\ttraining's rmse: 1567.26\n",
      "[76]\ttraining's rmse: 1566.04\n",
      "[77]\ttraining's rmse: 1564.93\n",
      "[78]\ttraining's rmse: 1563.58\n",
      "[79]\ttraining's rmse: 1561.98\n",
      "[80]\ttraining's rmse: 1560.21\n",
      "[81]\ttraining's rmse: 1558.69\n",
      "[82]\ttraining's rmse: 1557.56\n",
      "[83]\ttraining's rmse: 1556.33\n",
      "[84]\ttraining's rmse: 1554.65\n",
      "[85]\ttraining's rmse: 1553.37\n",
      "[86]\ttraining's rmse: 1552.13\n",
      "[87]\ttraining's rmse: 1550.98\n",
      "[88]\ttraining's rmse: 1550.16\n",
      "[89]\ttraining's rmse: 1548.86\n",
      "[90]\ttraining's rmse: 1547.35\n",
      "[91]\ttraining's rmse: 1546.6\n",
      "[92]\ttraining's rmse: 1545.45\n",
      "[93]\ttraining's rmse: 1544.56\n",
      "[94]\ttraining's rmse: 1543.7\n",
      "[95]\ttraining's rmse: 1542.72\n",
      "[96]\ttraining's rmse: 1541.8\n",
      "[97]\ttraining's rmse: 1540.43\n",
      "[98]\ttraining's rmse: 1539.12\n",
      "[99]\ttraining's rmse: 1538.16\n",
      "[100]\ttraining's rmse: 1536.98\n",
      "[101]\ttraining's rmse: 1535.76\n",
      "[102]\ttraining's rmse: 1534.86\n",
      "[103]\ttraining's rmse: 1534.2\n",
      "[104]\ttraining's rmse: 1533.42\n",
      "[105]\ttraining's rmse: 1532.62\n",
      "[106]\ttraining's rmse: 1531.78\n",
      "[107]\ttraining's rmse: 1530.36\n",
      "[108]\ttraining's rmse: 1529.44\n",
      "[109]\ttraining's rmse: 1528.53\n",
      "[110]\ttraining's rmse: 1527.87\n",
      "Did not meet early stopping. Best iteration is:\n",
      "[110]\ttraining's rmse: 1527.87\n",
      "CPU times: total: 3.11 s\n",
      "Wall time: 2.35 s\n"
     ]
    }
   ],
   "source": [
    "%%time\n",
    "# Обучаем модель с лучшими параметрами на валидационной выборке\n",
    "\n",
    "model_lgb = lgb.train(params,\n",
    "                 train_set=lgb_train,\n",
    "                 valid_sets= lgb_train,\n",
    "                 feature_name=list(features_train_v2),\n",
    "                 categorical_feature=categorical_columns\n",
    "                 )"
   ]
  },
  {
   "cell_type": "code",
   "execution_count": 69,
   "id": "a296550d",
   "metadata": {},
   "outputs": [
    {
     "name": "stdout",
     "output_type": "stream",
     "text": [
      "CPU times: total: 1.02 s\n",
      "Wall time: 390 ms\n"
     ]
    }
   ],
   "source": [
    "%%time\n",
    "# получаем предсказаня на валидационной выборке\n",
    "predictions = model_lgb.predict(features_valid)"
   ]
  },
  {
   "cell_type": "code",
   "execution_count": 70,
   "id": "a9a9d8af",
   "metadata": {},
   "outputs": [
    {
     "name": "stdout",
     "output_type": "stream",
     "text": [
      "RMSE: 1599.05\n"
     ]
    }
   ],
   "source": [
    "# проверка RMSE\n",
    "\n",
    "rmse = RMSE(predictions,target_valid)\n",
    "print(\"RMSE: %.2f\" % rmse) "
   ]
  },
  {
   "cell_type": "markdown",
   "id": "458c1dfd",
   "metadata": {},
   "source": [
    "## Сравнение моделей"
   ]
  },
  {
   "cell_type": "code",
   "execution_count": 71,
   "id": "d0796390",
   "metadata": {},
   "outputs": [
    {
     "name": "stdout",
     "output_type": "stream",
     "text": [
      "Результаты для случайного леса\n"
     ]
    },
    {
     "data": {
      "text/html": [
       "<div>\n",
       "<style scoped>\n",
       "    .dataframe tbody tr th:only-of-type {\n",
       "        vertical-align: middle;\n",
       "    }\n",
       "\n",
       "    .dataframe tbody tr th {\n",
       "        vertical-align: top;\n",
       "    }\n",
       "\n",
       "    .dataframe thead th {\n",
       "        text-align: right;\n",
       "    }\n",
       "</style>\n",
       "<table border=\"1\" class=\"dataframe\">\n",
       "  <thead>\n",
       "    <tr style=\"text-align: right;\">\n",
       "      <th></th>\n",
       "      <th>model_name</th>\n",
       "      <th>rmse</th>\n",
       "      <th>best_param</th>\n",
       "      <th>max_learn_time</th>\n",
       "      <th>max_predict_time</th>\n",
       "    </tr>\n",
       "  </thead>\n",
       "  <tbody>\n",
       "    <tr>\n",
       "      <th>0</th>\n",
       "      <td>rf_model</td>\n",
       "      <td>-1691.119637</td>\n",
       "      <td>{'max_depth': 14, 'n_estimators': 42}</td>\n",
       "      <td>43.17</td>\n",
       "      <td>1.58</td>\n",
       "    </tr>\n",
       "  </tbody>\n",
       "</table>\n",
       "</div>"
      ],
      "text/plain": [
       "  model_name         rmse                             best_param  \\\n",
       "0   rf_model -1691.119637  {'max_depth': 14, 'n_estimators': 42}   \n",
       "\n",
       "   max_learn_time  max_predict_time  \n",
       "0           43.17              1.58  "
      ]
     },
     "execution_count": 71,
     "metadata": {},
     "output_type": "execute_result"
    }
   ],
   "source": [
    "print('Результаты для случайного леса')\n",
    "rf_model_result"
   ]
  },
  {
   "cell_type": "code",
   "execution_count": 72,
   "id": "eb795622",
   "metadata": {},
   "outputs": [
    {
     "name": "stdout",
     "output_type": "stream",
     "text": [
      "Результаты для LightGBM\n"
     ]
    },
    {
     "data": {
      "text/html": [
       "<div>\n",
       "<style scoped>\n",
       "    .dataframe tbody tr th:only-of-type {\n",
       "        vertical-align: middle;\n",
       "    }\n",
       "\n",
       "    .dataframe tbody tr th {\n",
       "        vertical-align: top;\n",
       "    }\n",
       "\n",
       "    .dataframe thead th {\n",
       "        text-align: right;\n",
       "    }\n",
       "</style>\n",
       "<table border=\"1\" class=\"dataframe\">\n",
       "  <thead>\n",
       "    <tr style=\"text-align: right;\">\n",
       "      <th></th>\n",
       "      <th>rmse_train</th>\n",
       "      <th>rmse_valid</th>\n",
       "      <th>max_depth</th>\n",
       "      <th>num_iterations</th>\n",
       "    </tr>\n",
       "  </thead>\n",
       "  <tbody>\n",
       "    <tr>\n",
       "      <th>41</th>\n",
       "      <td>1545.970506</td>\n",
       "      <td>1599.047631</td>\n",
       "      <td>14.0</td>\n",
       "      <td>110.0</td>\n",
       "    </tr>\n",
       "    <tr>\n",
       "      <th>39</th>\n",
       "      <td>1546.534139</td>\n",
       "      <td>1599.575145</td>\n",
       "      <td>10.0</td>\n",
       "      <td>110.0</td>\n",
       "    </tr>\n",
       "    <tr>\n",
       "      <th>38</th>\n",
       "      <td>1550.096679</td>\n",
       "      <td>1602.797518</td>\n",
       "      <td>8.0</td>\n",
       "      <td>110.0</td>\n",
       "    </tr>\n",
       "    <tr>\n",
       "      <th>40</th>\n",
       "      <td>1549.507305</td>\n",
       "      <td>1603.359292</td>\n",
       "      <td>12.0</td>\n",
       "      <td>110.0</td>\n",
       "    </tr>\n",
       "    <tr>\n",
       "      <th>32</th>\n",
       "      <td>1563.731024</td>\n",
       "      <td>1609.529589</td>\n",
       "      <td>10.0</td>\n",
       "      <td>90.0</td>\n",
       "    </tr>\n",
       "    <tr>\n",
       "      <th>34</th>\n",
       "      <td>1563.186449</td>\n",
       "      <td>1609.750497</td>\n",
       "      <td>14.0</td>\n",
       "      <td>90.0</td>\n",
       "    </tr>\n",
       "    <tr>\n",
       "      <th>33</th>\n",
       "      <td>1565.219096</td>\n",
       "      <td>1612.015192</td>\n",
       "      <td>12.0</td>\n",
       "      <td>90.0</td>\n",
       "    </tr>\n",
       "    <tr>\n",
       "      <th>37</th>\n",
       "      <td>1562.205516</td>\n",
       "      <td>1612.129371</td>\n",
       "      <td>6.0</td>\n",
       "      <td>110.0</td>\n",
       "    </tr>\n",
       "    <tr>\n",
       "      <th>31</th>\n",
       "      <td>1567.418677</td>\n",
       "      <td>1613.402101</td>\n",
       "      <td>8.0</td>\n",
       "      <td>90.0</td>\n",
       "    </tr>\n",
       "    <tr>\n",
       "      <th>30</th>\n",
       "      <td>1580.314289</td>\n",
       "      <td>1624.227136</td>\n",
       "      <td>6.0</td>\n",
       "      <td>90.0</td>\n",
       "    </tr>\n",
       "  </tbody>\n",
       "</table>\n",
       "</div>"
      ],
      "text/plain": [
       "     rmse_train   rmse_valid  max_depth  num_iterations\n",
       "41  1545.970506  1599.047631       14.0           110.0\n",
       "39  1546.534139  1599.575145       10.0           110.0\n",
       "38  1550.096679  1602.797518        8.0           110.0\n",
       "40  1549.507305  1603.359292       12.0           110.0\n",
       "32  1563.731024  1609.529589       10.0            90.0\n",
       "34  1563.186449  1609.750497       14.0            90.0\n",
       "33  1565.219096  1612.015192       12.0            90.0\n",
       "37  1562.205516  1612.129371        6.0           110.0\n",
       "31  1567.418677  1613.402101        8.0            90.0\n",
       "30  1580.314289  1624.227136        6.0            90.0"
      ]
     },
     "execution_count": 72,
     "metadata": {},
     "output_type": "execute_result"
    }
   ],
   "source": [
    "print('Результаты для LightGBM')\n",
    "lgb_param.sort_values(by='rmse_valid').head(10)"
   ]
  },
  {
   "cell_type": "markdown",
   "id": "ed47f1b4",
   "metadata": {},
   "source": [
    "**Промежуточные выводы:**\n",
    " - Модель LightGBM обучается значительно быстрее модели случайного леса при лучшей точности. Для сравнения - время обучения модели случайного леса с лучшими параметрами ~37 c., в то время как лучшая LightGBM обучается за ~6 c.\n",
    " - Время, потраченное на предсказание результатов у LightGBM ~ 0.5c, у случайного леса - больше секнды."
   ]
  },
  {
   "cell_type": "markdown",
   "id": "76f756ce",
   "metadata": {},
   "source": [
    "## Проверка на вменяемость"
   ]
  },
  {
   "cell_type": "markdown",
   "id": "04d5779b",
   "metadata": {},
   "source": [
    "**Оценим точность \"модели\" , предсказывающей медианное значение параметра price на тестовой выборке.**"
   ]
  },
  {
   "cell_type": "code",
   "execution_count": 73,
   "id": "64891538",
   "metadata": {},
   "outputs": [
    {
     "name": "stdout",
     "output_type": "stream",
     "text": [
      "RMSE на тестовой выборке: 4911.72\n"
     ]
    }
   ],
   "source": [
    "dummy_clf = DummyRegressor(strategy=\"median\")\n",
    "dummy_clf.fit(features_train,target_train)\n",
    "predicted_valid = dummy_clf.predict(features_test)\n",
    "result_1 = round(RMSE(target_test,predicted_valid),2)\n",
    "print(\"RMSE на тестовой выборке:\", result_1)"
   ]
  },
  {
   "cell_type": "markdown",
   "id": "68a09b14",
   "metadata": {},
   "source": [
    "## Проверка лучшей модели на тестовой выборке"
   ]
  },
  {
   "cell_type": "markdown",
   "id": "f3c18921",
   "metadata": {},
   "source": [
    "Посчитаем RMSE модели LightGBM на тестовой выборке"
   ]
  },
  {
   "cell_type": "code",
   "execution_count": 74,
   "id": "fdb0e826",
   "metadata": {},
   "outputs": [
    {
     "name": "stdout",
     "output_type": "stream",
     "text": [
      "CPU times: total: 1.42 s\n",
      "Wall time: 458 ms\n"
     ]
    }
   ],
   "source": [
    "%%time\n",
    "# получаем предсказаня на валидационной выборке\n",
    "predictions = model_lgb.predict(features_test)"
   ]
  },
  {
   "cell_type": "code",
   "execution_count": 75,
   "id": "fd7dc927",
   "metadata": {},
   "outputs": [
    {
     "name": "stdout",
     "output_type": "stream",
     "text": [
      "RMSE: 1984.41\n"
     ]
    }
   ],
   "source": [
    "# проверка RMSE\n",
    "\n",
    "rmse = RMSE(predictions,target_test)\n",
    "print(\"RMSE: %.2f\" % rmse) "
   ]
  },
  {
   "cell_type": "markdown",
   "id": "f9e36f73",
   "metadata": {},
   "source": [
    "# Итоговый вывод"
   ]
  },
  {
   "cell_type": "markdown",
   "id": "187a2749",
   "metadata": {},
   "source": [
    "**По результатам проделанной работы можно сделать следующие выводы:**\n",
    " - Лучшая метрика RMSE на тестовой выборке получена при использовании модели LightGBM:\n",
    "   - RMSE LightGBM: 1608\n",
    "   - RMSE RandomForest: 1691\n",
    "   - RMSE Модели, предсказывающей медиану: 4911\n",
    " - Лучшее время обучения получено при использовании модели LightGBM:\n",
    "   -  LightGBM: ~6c\n",
    "   -  RandomForest: ~37c\n",
    " - Лучшее время предсказания получено при использовании модели LightGBM:\n",
    "   -  LightGBM: ~0,5c\n",
    "   -  RandomForest: ~1,2c\n",
    "\n",
    "lgb.plot_importance(model, height=.5)\n",
    "\n",
    "Безусловно, градиентный бустинг выигрывет в точности и скорости применительно к данной задаче и может быть рекомендован как основной инструмент для предсказания цены. Примечательно, что наиболее важные параметры для градиентного бустинга - модель, год регистрации и мощность (см. диаграмму ниже). "
   ]
  },
  {
   "cell_type": "code",
   "execution_count": 76,
   "id": "d58f42e8",
   "metadata": {},
   "outputs": [
    {
     "data": {
      "image/png": "[encoded data removed]",
      "text/plain": [
       "<Figure size 432x288 with 1 Axes>"
      ]
     },
     "metadata": {
      "needs_background": "light"
     },
     "output_type": "display_data"
    }
   ],
   "source": [
    "# Важность параметров для лучшей модели LightGBM\n",
    "lgb.plot_importance(model_lgb, height=.5);"
   ]
  },
  {
   "cell_type": "code",
   "execution_count": null,
   "id": "ee70ca82",
   "metadata": {},
   "outputs": [],
   "source": []
  }
 ],
 "metadata": {
  "ExecuteTimeLog": [
   {
    "duration": 67,
    "start_time": "2022-12-06T13:52:03.340Z"
   },
   {
    "duration": 1663,
    "start_time": "2022-12-06T13:56:10.739Z"
   },
   {
    "duration": 3,
    "start_time": "2022-12-06T13:56:12.404Z"
   },
   {
    "duration": 50,
    "start_time": "2022-12-06T13:56:42.477Z"
   },
   {
    "duration": 4,
    "start_time": "2022-12-06T14:02:59.322Z"
   },
   {
    "duration": 1895,
    "start_time": "2022-12-06T14:23:42.494Z"
   },
   {
    "duration": 55,
    "start_time": "2022-12-06T14:25:22.496Z"
   },
   {
    "duration": 139,
    "start_time": "2022-12-06T14:25:53.172Z"
   },
   {
    "duration": 43,
    "start_time": "2022-12-06T14:26:06.624Z"
   },
   {
    "duration": 379,
    "start_time": "2022-12-06T14:26:53.655Z"
   },
   {
    "duration": 56,
    "start_time": "2022-12-06T14:27:52.702Z"
   },
   {
    "duration": 11,
    "start_time": "2022-12-06T14:28:01.279Z"
   },
   {
    "duration": 1542,
    "start_time": "2022-12-06T14:28:05.267Z"
   },
   {
    "duration": 3,
    "start_time": "2022-12-06T14:28:07.974Z"
   },
   {
    "duration": 416,
    "start_time": "2022-12-06T14:28:10.896Z"
   },
   {
    "duration": 85,
    "start_time": "2022-12-06T14:28:13.222Z"
   },
   {
    "duration": 16,
    "start_time": "2022-12-06T14:28:27.845Z"
   },
   {
    "duration": 15,
    "start_time": "2022-12-06T14:28:35.391Z"
   },
   {
    "duration": 15,
    "start_time": "2022-12-06T14:28:42.077Z"
   },
   {
    "duration": 111,
    "start_time": "2022-12-06T14:28:50.893Z"
   },
   {
    "duration": 4,
    "start_time": "2022-12-06T14:28:55.589Z"
   },
   {
    "duration": 39,
    "start_time": "2022-12-06T14:29:02.353Z"
   },
   {
    "duration": 5,
    "start_time": "2022-12-06T14:30:11.113Z"
   },
   {
    "duration": 5,
    "start_time": "2022-12-06T14:30:17.520Z"
   },
   {
    "duration": 5,
    "start_time": "2022-12-06T14:30:23.394Z"
   },
   {
    "duration": 5,
    "start_time": "2022-12-06T14:30:31.654Z"
   },
   {
    "duration": 4,
    "start_time": "2022-12-06T14:31:01.280Z"
   },
   {
    "duration": 3,
    "start_time": "2022-12-06T14:31:05.480Z"
   },
   {
    "duration": 373,
    "start_time": "2022-12-06T14:31:09.786Z"
   },
   {
    "duration": 15,
    "start_time": "2022-12-06T14:31:12.464Z"
   },
   {
    "duration": 349,
    "start_time": "2022-12-06T14:32:25.159Z"
   },
   {
    "duration": 4,
    "start_time": "2022-12-06T14:32:28.459Z"
   },
   {
    "duration": 395,
    "start_time": "2022-12-06T14:34:08.998Z"
   },
   {
    "duration": 76,
    "start_time": "2022-12-07T06:47:01.981Z"
   },
   {
    "duration": 4,
    "start_time": "2022-12-07T06:51:00.858Z"
   },
   {
    "duration": 30,
    "start_time": "2022-12-07T06:51:00.869Z"
   },
   {
    "duration": 1224,
    "start_time": "2022-12-07T06:51:00.924Z"
   },
   {
    "duration": 20,
    "start_time": "2022-12-07T06:51:02.150Z"
   },
   {
    "duration": 17,
    "start_time": "2022-12-07T06:51:02.172Z"
   },
   {
    "duration": 14,
    "start_time": "2022-12-07T06:51:02.191Z"
   },
   {
    "duration": 61,
    "start_time": "2022-12-07T06:51:02.207Z"
   },
   {
    "duration": 247,
    "start_time": "2022-12-07T06:51:02.269Z"
   },
   {
    "duration": 59,
    "start_time": "2022-12-07T06:51:02.518Z"
   },
   {
    "duration": 31,
    "start_time": "2022-12-07T06:51:02.579Z"
   },
   {
    "duration": 18,
    "start_time": "2022-12-07T06:51:02.612Z"
   },
   {
    "duration": 3,
    "start_time": "2022-12-07T06:51:02.633Z"
   },
   {
    "duration": 267,
    "start_time": "2022-12-07T06:51:02.638Z"
   },
   {
    "duration": 12,
    "start_time": "2022-12-07T06:51:02.906Z"
   },
   {
    "duration": 6,
    "start_time": "2022-12-07T06:51:02.919Z"
   },
   {
    "duration": 15,
    "start_time": "2022-12-07T06:51:02.927Z"
   },
   {
    "duration": 12,
    "start_time": "2022-12-07T06:51:02.944Z"
   },
   {
    "duration": 7,
    "start_time": "2022-12-07T06:51:20.269Z"
   },
   {
    "duration": 54,
    "start_time": "2022-12-07T07:01:49.643Z"
   },
   {
    "duration": 4,
    "start_time": "2022-12-07T07:05:21.296Z"
   },
   {
    "duration": 3,
    "start_time": "2022-12-07T07:05:21.314Z"
   },
   {
    "duration": 722,
    "start_time": "2022-12-07T07:05:21.345Z"
   },
   {
    "duration": 18,
    "start_time": "2022-12-07T07:05:22.069Z"
   },
   {
    "duration": 20,
    "start_time": "2022-12-07T07:05:22.089Z"
   },
   {
    "duration": 12,
    "start_time": "2022-12-07T07:05:22.111Z"
   },
   {
    "duration": 77,
    "start_time": "2022-12-07T07:05:22.125Z"
   },
   {
    "duration": 239,
    "start_time": "2022-12-07T07:05:22.204Z"
   },
   {
    "duration": 19,
    "start_time": "2022-12-07T07:05:22.444Z"
   },
   {
    "duration": 13,
    "start_time": "2022-12-07T07:05:22.465Z"
   },
   {
    "duration": 19,
    "start_time": "2022-12-07T07:05:22.496Z"
   },
   {
    "duration": 4,
    "start_time": "2022-12-07T07:05:22.517Z"
   },
   {
    "duration": 262,
    "start_time": "2022-12-07T07:05:22.522Z"
   },
   {
    "duration": 14,
    "start_time": "2022-12-07T07:05:22.786Z"
   },
   {
    "duration": 5,
    "start_time": "2022-12-07T07:05:22.801Z"
   },
   {
    "duration": 14,
    "start_time": "2022-12-07T07:05:22.807Z"
   },
   {
    "duration": 5,
    "start_time": "2022-12-07T07:05:22.822Z"
   },
   {
    "duration": 7,
    "start_time": "2022-12-07T07:05:22.828Z"
   },
   {
    "duration": 74,
    "start_time": "2022-12-07T07:05:30.691Z"
   },
   {
    "duration": 8,
    "start_time": "2022-12-07T07:05:33.137Z"
   },
   {
    "duration": 63,
    "start_time": "2022-12-07T07:06:13.911Z"
   },
   {
    "duration": 58,
    "start_time": "2022-12-07T07:06:54.343Z"
   },
   {
    "duration": 7,
    "start_time": "2022-12-07T07:07:03.676Z"
   },
   {
    "duration": 18,
    "start_time": "2022-12-07T07:08:09.431Z"
   },
   {
    "duration": 8,
    "start_time": "2022-12-07T07:08:11.499Z"
   },
   {
    "duration": 10,
    "start_time": "2022-12-07T07:08:17.179Z"
   },
   {
    "duration": 5,
    "start_time": "2022-12-07T07:08:20.629Z"
   },
   {
    "duration": 3,
    "start_time": "2022-12-07T07:08:27.885Z"
   },
   {
    "duration": 7,
    "start_time": "2022-12-07T07:08:27.898Z"
   },
   {
    "duration": 709,
    "start_time": "2022-12-07T07:08:27.941Z"
   },
   {
    "duration": 18,
    "start_time": "2022-12-07T07:08:28.653Z"
   },
   {
    "duration": 29,
    "start_time": "2022-12-07T07:08:28.672Z"
   },
   {
    "duration": 14,
    "start_time": "2022-12-07T07:08:28.704Z"
   },
   {
    "duration": 78,
    "start_time": "2022-12-07T07:08:28.720Z"
   },
   {
    "duration": 225,
    "start_time": "2022-12-07T07:08:28.800Z"
   },
   {
    "duration": 19,
    "start_time": "2022-12-07T07:08:29.027Z"
   },
   {
    "duration": 15,
    "start_time": "2022-12-07T07:08:29.048Z"
   },
   {
    "duration": 38,
    "start_time": "2022-12-07T07:08:29.065Z"
   },
   {
    "duration": 3,
    "start_time": "2022-12-07T07:08:29.107Z"
   },
   {
    "duration": 244,
    "start_time": "2022-12-07T07:08:29.111Z"
   },
   {
    "duration": 13,
    "start_time": "2022-12-07T07:08:29.357Z"
   },
   {
    "duration": 5,
    "start_time": "2022-12-07T07:08:29.372Z"
   },
   {
    "duration": 14,
    "start_time": "2022-12-07T07:08:29.398Z"
   },
   {
    "duration": 4,
    "start_time": "2022-12-07T07:08:29.413Z"
   },
   {
    "duration": 8,
    "start_time": "2022-12-07T07:08:29.419Z"
   },
   {
    "duration": 104,
    "start_time": "2022-12-07T07:08:29.430Z"
   },
   {
    "duration": 9,
    "start_time": "2022-12-07T07:08:29.536Z"
   },
   {
    "duration": 64,
    "start_time": "2022-12-07T07:08:30.228Z"
   },
   {
    "duration": 9,
    "start_time": "2022-12-07T07:08:30.294Z"
   },
   {
    "duration": 58,
    "start_time": "2022-12-07T07:08:30.305Z"
   },
   {
    "duration": 0,
    "start_time": "2022-12-07T07:08:30.365Z"
   },
   {
    "duration": 0,
    "start_time": "2022-12-07T07:08:30.367Z"
   },
   {
    "duration": 5,
    "start_time": "2022-12-07T07:08:46.011Z"
   },
   {
    "duration": 3,
    "start_time": "2022-12-07T07:08:46.029Z"
   },
   {
    "duration": 711,
    "start_time": "2022-12-07T07:08:46.068Z"
   },
   {
    "duration": 17,
    "start_time": "2022-12-07T07:08:46.781Z"
   },
   {
    "duration": 15,
    "start_time": "2022-12-07T07:08:46.799Z"
   },
   {
    "duration": 12,
    "start_time": "2022-12-07T07:08:46.817Z"
   },
   {
    "duration": 82,
    "start_time": "2022-12-07T07:08:46.830Z"
   },
   {
    "duration": 220,
    "start_time": "2022-12-07T07:08:46.914Z"
   },
   {
    "duration": 19,
    "start_time": "2022-12-07T07:08:47.135Z"
   },
   {
    "duration": 14,
    "start_time": "2022-12-07T07:08:47.156Z"
   },
   {
    "duration": 36,
    "start_time": "2022-12-07T07:08:47.171Z"
   },
   {
    "duration": 3,
    "start_time": "2022-12-07T07:08:47.210Z"
   },
   {
    "duration": 242,
    "start_time": "2022-12-07T07:08:47.215Z"
   },
   {
    "duration": 9,
    "start_time": "2022-12-07T07:08:47.459Z"
   },
   {
    "duration": 5,
    "start_time": "2022-12-07T07:08:47.469Z"
   },
   {
    "duration": 30,
    "start_time": "2022-12-07T07:08:47.476Z"
   },
   {
    "duration": 6,
    "start_time": "2022-12-07T07:08:47.508Z"
   },
   {
    "duration": 7,
    "start_time": "2022-12-07T07:08:47.515Z"
   },
   {
    "duration": 87,
    "start_time": "2022-12-07T07:08:47.524Z"
   },
   {
    "duration": 9,
    "start_time": "2022-12-07T07:08:47.613Z"
   },
   {
    "duration": 51,
    "start_time": "2022-12-07T07:08:47.625Z"
   },
   {
    "duration": 24,
    "start_time": "2022-12-07T07:08:47.678Z"
   },
   {
    "duration": 17,
    "start_time": "2022-12-07T07:08:47.705Z"
   },
   {
    "duration": 15,
    "start_time": "2022-12-07T07:08:55.205Z"
   },
   {
    "duration": 5,
    "start_time": "2022-12-07T07:08:57.182Z"
   },
   {
    "duration": 65,
    "start_time": "2022-12-07T07:10:18.584Z"
   },
   {
    "duration": 56,
    "start_time": "2022-12-07T07:11:07.000Z"
   },
   {
    "duration": 3,
    "start_time": "2022-12-07T07:44:46.382Z"
   },
   {
    "duration": 51,
    "start_time": "2022-12-07T07:48:45.617Z"
   },
   {
    "duration": 50,
    "start_time": "2022-12-07T07:59:07.085Z"
   },
   {
    "duration": 4,
    "start_time": "2022-12-07T07:59:18.435Z"
   },
   {
    "duration": 2,
    "start_time": "2022-12-07T07:59:18.446Z"
   },
   {
    "duration": 681,
    "start_time": "2022-12-07T07:59:18.477Z"
   },
   {
    "duration": 17,
    "start_time": "2022-12-07T07:59:19.160Z"
   },
   {
    "duration": 24,
    "start_time": "2022-12-07T07:59:19.178Z"
   },
   {
    "duration": 12,
    "start_time": "2022-12-07T07:59:19.204Z"
   },
   {
    "duration": 59,
    "start_time": "2022-12-07T07:59:19.217Z"
   },
   {
    "duration": 218,
    "start_time": "2022-12-07T07:59:19.295Z"
   },
   {
    "duration": 24,
    "start_time": "2022-12-07T07:59:19.514Z"
   },
   {
    "duration": 19,
    "start_time": "2022-12-07T07:59:19.540Z"
   },
   {
    "duration": 46,
    "start_time": "2022-12-07T07:59:19.561Z"
   },
   {
    "duration": 4,
    "start_time": "2022-12-07T07:59:19.609Z"
   },
   {
    "duration": 248,
    "start_time": "2022-12-07T07:59:19.614Z"
   },
   {
    "duration": 10,
    "start_time": "2022-12-07T07:59:19.863Z"
   },
   {
    "duration": 21,
    "start_time": "2022-12-07T07:59:19.875Z"
   },
   {
    "duration": 15,
    "start_time": "2022-12-07T07:59:19.898Z"
   },
   {
    "duration": 5,
    "start_time": "2022-12-07T07:59:19.914Z"
   },
   {
    "duration": 9,
    "start_time": "2022-12-07T07:59:19.920Z"
   },
   {
    "duration": 90,
    "start_time": "2022-12-07T07:59:19.931Z"
   },
   {
    "duration": 8,
    "start_time": "2022-12-07T07:59:20.022Z"
   },
   {
    "duration": 68,
    "start_time": "2022-12-07T07:59:20.032Z"
   },
   {
    "duration": 9,
    "start_time": "2022-12-07T07:59:20.101Z"
   },
   {
    "duration": 19,
    "start_time": "2022-12-07T07:59:20.111Z"
   },
   {
    "duration": 7,
    "start_time": "2022-12-07T07:59:20.131Z"
   },
   {
    "duration": 14,
    "start_time": "2022-12-07T08:14:37.955Z"
   },
   {
    "duration": 14,
    "start_time": "2022-12-07T08:18:34.909Z"
   },
   {
    "duration": 11,
    "start_time": "2022-12-07T08:19:08.462Z"
   },
   {
    "duration": 50,
    "start_time": "2022-12-07T08:19:25.629Z"
   },
   {
    "duration": 39,
    "start_time": "2022-12-07T08:20:09.212Z"
   },
   {
    "duration": 58,
    "start_time": "2022-12-07T08:20:28.288Z"
   },
   {
    "duration": 13,
    "start_time": "2022-12-07T08:23:06.972Z"
   },
   {
    "duration": 24,
    "start_time": "2022-12-07T08:23:40.076Z"
   },
   {
    "duration": 74,
    "start_time": "2022-12-07T08:23:49.720Z"
   },
   {
    "duration": 4,
    "start_time": "2022-12-07T08:24:39.739Z"
   },
   {
    "duration": 6,
    "start_time": "2022-12-07T08:24:39.750Z"
   },
   {
    "duration": 721,
    "start_time": "2022-12-07T08:24:39.779Z"
   },
   {
    "duration": 17,
    "start_time": "2022-12-07T08:24:40.501Z"
   },
   {
    "duration": 15,
    "start_time": "2022-12-07T08:24:40.520Z"
   },
   {
    "duration": 12,
    "start_time": "2022-12-07T08:24:40.536Z"
   },
   {
    "duration": 80,
    "start_time": "2022-12-07T08:24:40.549Z"
   },
   {
    "duration": 227,
    "start_time": "2022-12-07T08:24:40.631Z"
   },
   {
    "duration": 19,
    "start_time": "2022-12-07T08:24:40.859Z"
   },
   {
    "duration": 31,
    "start_time": "2022-12-07T08:24:40.879Z"
   },
   {
    "duration": 98,
    "start_time": "2022-12-07T08:24:40.911Z"
   },
   {
    "duration": 3,
    "start_time": "2022-12-07T08:24:41.012Z"
   },
   {
    "duration": 236,
    "start_time": "2022-12-07T08:24:41.017Z"
   },
   {
    "duration": 12,
    "start_time": "2022-12-07T08:24:41.255Z"
   },
   {
    "duration": 5,
    "start_time": "2022-12-07T08:24:41.269Z"
   },
   {
    "duration": 30,
    "start_time": "2022-12-07T08:24:41.276Z"
   },
   {
    "duration": 16,
    "start_time": "2022-12-07T08:24:41.308Z"
   },
   {
    "duration": 14,
    "start_time": "2022-12-07T08:24:41.325Z"
   },
   {
    "duration": 84,
    "start_time": "2022-12-07T08:24:41.341Z"
   },
   {
    "duration": 8,
    "start_time": "2022-12-07T08:24:41.427Z"
   },
   {
    "duration": 74,
    "start_time": "2022-12-07T08:24:41.437Z"
   },
   {
    "duration": 7,
    "start_time": "2022-12-07T08:24:41.513Z"
   },
   {
    "duration": 18,
    "start_time": "2022-12-07T08:24:41.522Z"
   },
   {
    "duration": 5,
    "start_time": "2022-12-07T08:24:41.542Z"
   },
   {
    "duration": 50,
    "start_time": "2022-12-07T08:25:06.493Z"
   },
   {
    "duration": 104,
    "start_time": "2022-12-07T08:25:16.439Z"
   },
   {
    "duration": 61,
    "start_time": "2022-12-07T08:25:20.255Z"
   },
   {
    "duration": 8,
    "start_time": "2022-12-07T08:25:24.733Z"
   },
   {
    "duration": 3,
    "start_time": "2022-12-07T08:25:31.279Z"
   },
   {
    "duration": 9,
    "start_time": "2022-12-07T08:25:34.541Z"
   },
   {
    "duration": 4,
    "start_time": "2022-12-07T08:25:40.745Z"
   },
   {
    "duration": 7,
    "start_time": "2022-12-07T08:29:53.191Z"
   },
   {
    "duration": 6,
    "start_time": "2022-12-07T08:30:02.847Z"
   },
   {
    "duration": 71,
    "start_time": "2022-12-07T08:31:36.541Z"
   },
   {
    "duration": 52,
    "start_time": "2022-12-07T08:31:42.449Z"
   },
   {
    "duration": 53,
    "start_time": "2022-12-07T08:36:44.106Z"
   },
   {
    "duration": 4,
    "start_time": "2022-12-07T08:36:49.356Z"
   },
   {
    "duration": 3,
    "start_time": "2022-12-07T08:37:40.446Z"
   },
   {
    "duration": 3,
    "start_time": "2022-12-07T08:37:50.830Z"
   },
   {
    "duration": 3,
    "start_time": "2022-12-07T08:37:50.841Z"
   },
   {
    "duration": 702,
    "start_time": "2022-12-07T08:37:50.871Z"
   },
   {
    "duration": 19,
    "start_time": "2022-12-07T08:37:51.575Z"
   },
   {
    "duration": 16,
    "start_time": "2022-12-07T08:37:51.596Z"
   },
   {
    "duration": 12,
    "start_time": "2022-12-07T08:37:51.614Z"
   },
   {
    "duration": 81,
    "start_time": "2022-12-07T08:37:51.628Z"
   },
   {
    "duration": 234,
    "start_time": "2022-12-07T08:37:51.711Z"
   },
   {
    "duration": 18,
    "start_time": "2022-12-07T08:37:51.946Z"
   },
   {
    "duration": 32,
    "start_time": "2022-12-07T08:37:51.966Z"
   },
   {
    "duration": 17,
    "start_time": "2022-12-07T08:37:52.000Z"
   },
   {
    "duration": 3,
    "start_time": "2022-12-07T08:37:52.020Z"
   },
   {
    "duration": 244,
    "start_time": "2022-12-07T08:37:52.025Z"
   },
   {
    "duration": 10,
    "start_time": "2022-12-07T08:37:52.271Z"
   },
   {
    "duration": 17,
    "start_time": "2022-12-07T08:37:52.282Z"
   },
   {
    "duration": 15,
    "start_time": "2022-12-07T08:37:52.301Z"
   },
   {
    "duration": 11,
    "start_time": "2022-12-07T08:37:52.317Z"
   },
   {
    "duration": 10,
    "start_time": "2022-12-07T08:37:52.329Z"
   },
   {
    "duration": 93,
    "start_time": "2022-12-07T08:37:52.341Z"
   },
   {
    "duration": 9,
    "start_time": "2022-12-07T08:37:52.435Z"
   },
   {
    "duration": 70,
    "start_time": "2022-12-07T08:37:52.445Z"
   },
   {
    "duration": 8,
    "start_time": "2022-12-07T08:37:52.517Z"
   },
   {
    "duration": 18,
    "start_time": "2022-12-07T08:37:52.526Z"
   },
   {
    "duration": 6,
    "start_time": "2022-12-07T08:37:52.545Z"
   },
   {
    "duration": 5,
    "start_time": "2022-12-07T08:37:52.553Z"
   },
   {
    "duration": 12,
    "start_time": "2022-12-07T08:37:52.560Z"
   },
   {
    "duration": 4,
    "start_time": "2022-12-07T08:37:52.597Z"
   },
   {
    "duration": 9,
    "start_time": "2022-12-07T08:37:52.602Z"
   },
   {
    "duration": 4,
    "start_time": "2022-12-07T08:37:53.215Z"
   },
   {
    "duration": 64,
    "start_time": "2022-12-07T08:37:53.231Z"
   },
   {
    "duration": 5,
    "start_time": "2022-12-07T08:37:53.298Z"
   },
   {
    "duration": 13,
    "start_time": "2022-12-07T08:39:17.482Z"
   },
   {
    "duration": 52,
    "start_time": "2022-12-07T08:40:31.571Z"
   },
   {
    "duration": 4,
    "start_time": "2022-12-07T08:56:23.022Z"
   },
   {
    "duration": 11,
    "start_time": "2022-12-07T08:56:23.036Z"
   },
   {
    "duration": 706,
    "start_time": "2022-12-07T08:56:23.069Z"
   },
   {
    "duration": 18,
    "start_time": "2022-12-07T08:56:23.777Z"
   },
   {
    "duration": 16,
    "start_time": "2022-12-07T08:56:23.796Z"
   },
   {
    "duration": 12,
    "start_time": "2022-12-07T08:56:23.815Z"
   },
   {
    "duration": 81,
    "start_time": "2022-12-07T08:56:23.829Z"
   },
   {
    "duration": 225,
    "start_time": "2022-12-07T08:56:23.912Z"
   },
   {
    "duration": 17,
    "start_time": "2022-12-07T08:56:24.139Z"
   },
   {
    "duration": 15,
    "start_time": "2022-12-07T08:56:24.158Z"
   },
   {
    "duration": 38,
    "start_time": "2022-12-07T08:56:24.175Z"
   },
   {
    "duration": 3,
    "start_time": "2022-12-07T08:56:24.216Z"
   },
   {
    "duration": 249,
    "start_time": "2022-12-07T08:56:24.221Z"
   },
   {
    "duration": 26,
    "start_time": "2022-12-07T08:56:24.472Z"
   },
   {
    "duration": 5,
    "start_time": "2022-12-07T08:56:24.500Z"
   },
   {
    "duration": 17,
    "start_time": "2022-12-07T08:56:24.507Z"
   },
   {
    "duration": 7,
    "start_time": "2022-12-07T08:56:24.526Z"
   },
   {
    "duration": 8,
    "start_time": "2022-12-07T08:56:24.535Z"
   },
   {
    "duration": 115,
    "start_time": "2022-12-07T08:56:24.547Z"
   },
   {
    "duration": 8,
    "start_time": "2022-12-07T08:56:24.664Z"
   },
   {
    "duration": 72,
    "start_time": "2022-12-07T08:56:24.673Z"
   },
   {
    "duration": 7,
    "start_time": "2022-12-07T08:56:24.747Z"
   },
   {
    "duration": 16,
    "start_time": "2022-12-07T08:56:24.756Z"
   },
   {
    "duration": 23,
    "start_time": "2022-12-07T08:56:24.774Z"
   },
   {
    "duration": 5,
    "start_time": "2022-12-07T08:56:24.799Z"
   },
   {
    "duration": 12,
    "start_time": "2022-12-07T08:56:24.806Z"
   },
   {
    "duration": 6,
    "start_time": "2022-12-07T08:56:24.820Z"
   },
   {
    "duration": 11,
    "start_time": "2022-12-07T08:56:24.827Z"
   },
   {
    "duration": 83,
    "start_time": "2022-12-07T08:56:24.839Z"
   },
   {
    "duration": 7,
    "start_time": "2022-12-07T08:56:24.923Z"
   },
   {
    "duration": 8,
    "start_time": "2022-12-07T08:56:24.933Z"
   },
   {
    "duration": 15,
    "start_time": "2022-12-07T08:56:24.943Z"
   },
   {
    "duration": 12,
    "start_time": "2022-12-07T08:56:24.959Z"
   },
   {
    "duration": 641,
    "start_time": "2022-12-07T08:56:24.973Z"
   },
   {
    "duration": 15,
    "start_time": "2022-12-07T08:56:25.616Z"
   },
   {
    "duration": 4,
    "start_time": "2022-12-07T08:59:48.250Z"
   },
   {
    "duration": 5,
    "start_time": "2022-12-07T08:59:48.259Z"
   },
   {
    "duration": 679,
    "start_time": "2022-12-07T08:59:48.284Z"
   },
   {
    "duration": 18,
    "start_time": "2022-12-07T08:59:48.966Z"
   },
   {
    "duration": 20,
    "start_time": "2022-12-07T08:59:48.986Z"
   },
   {
    "duration": 13,
    "start_time": "2022-12-07T08:59:49.008Z"
   },
   {
    "duration": 84,
    "start_time": "2022-12-07T08:59:49.023Z"
   },
   {
    "duration": 209,
    "start_time": "2022-12-07T08:59:49.109Z"
   },
   {
    "duration": 18,
    "start_time": "2022-12-07T08:59:49.319Z"
   },
   {
    "duration": 13,
    "start_time": "2022-12-07T08:59:49.338Z"
   },
   {
    "duration": 17,
    "start_time": "2022-12-07T08:59:49.353Z"
   },
   {
    "duration": 3,
    "start_time": "2022-12-07T08:59:49.396Z"
   },
   {
    "duration": 225,
    "start_time": "2022-12-07T08:59:49.401Z"
   },
   {
    "duration": 10,
    "start_time": "2022-12-07T08:59:49.628Z"
   },
   {
    "duration": 5,
    "start_time": "2022-12-07T08:59:49.640Z"
   },
   {
    "duration": 13,
    "start_time": "2022-12-07T08:59:49.646Z"
   },
   {
    "duration": 4,
    "start_time": "2022-12-07T08:59:49.660Z"
   },
   {
    "duration": 33,
    "start_time": "2022-12-07T08:59:49.665Z"
   },
   {
    "duration": 76,
    "start_time": "2022-12-07T08:59:49.700Z"
   },
   {
    "duration": 20,
    "start_time": "2022-12-07T08:59:49.778Z"
   },
   {
    "duration": 53,
    "start_time": "2022-12-07T08:59:49.799Z"
   },
   {
    "duration": 7,
    "start_time": "2022-12-07T08:59:49.854Z"
   },
   {
    "duration": 45,
    "start_time": "2022-12-07T08:59:49.863Z"
   },
   {
    "duration": 5,
    "start_time": "2022-12-07T08:59:49.910Z"
   },
   {
    "duration": 5,
    "start_time": "2022-12-07T08:59:49.917Z"
   },
   {
    "duration": 10,
    "start_time": "2022-12-07T08:59:49.923Z"
   },
   {
    "duration": 3,
    "start_time": "2022-12-07T08:59:49.935Z"
   },
   {
    "duration": 7,
    "start_time": "2022-12-07T08:59:49.939Z"
   },
   {
    "duration": 78,
    "start_time": "2022-12-07T08:59:49.947Z"
   },
   {
    "duration": 4,
    "start_time": "2022-12-07T08:59:50.028Z"
   },
   {
    "duration": 6,
    "start_time": "2022-12-07T08:59:50.034Z"
   },
   {
    "duration": 10,
    "start_time": "2022-12-07T08:59:50.042Z"
   },
   {
    "duration": 10,
    "start_time": "2022-12-07T08:59:50.054Z"
   },
   {
    "duration": 645,
    "start_time": "2022-12-07T08:59:50.065Z"
   },
   {
    "duration": 16,
    "start_time": "2022-12-07T08:59:50.712Z"
   },
   {
    "duration": 8,
    "start_time": "2022-12-07T08:59:50.730Z"
   },
   {
    "duration": 16,
    "start_time": "2022-12-07T08:59:50.739Z"
   },
   {
    "duration": 40,
    "start_time": "2022-12-07T08:59:50.757Z"
   },
   {
    "duration": 13,
    "start_time": "2022-12-07T09:02:57.727Z"
   },
   {
    "duration": 2375,
    "start_time": "2022-12-07T09:03:32.740Z"
   },
   {
    "duration": 27,
    "start_time": "2022-12-07T09:04:39.045Z"
   },
   {
    "duration": 24,
    "start_time": "2022-12-07T09:04:58.234Z"
   },
   {
    "duration": 7,
    "start_time": "2022-12-07T09:05:16.434Z"
   },
   {
    "duration": 17,
    "start_time": "2022-12-07T09:05:38.928Z"
   },
   {
    "duration": 214,
    "start_time": "2022-12-07T09:05:43.032Z"
   },
   {
    "duration": 17,
    "start_time": "2022-12-07T09:06:37.455Z"
   },
   {
    "duration": 22,
    "start_time": "2022-12-07T09:06:41.738Z"
   },
   {
    "duration": 154,
    "start_time": "2022-12-07T09:07:12.800Z"
   },
   {
    "duration": 11,
    "start_time": "2022-12-07T09:07:51.922Z"
   },
   {
    "duration": 12,
    "start_time": "2022-12-07T09:08:07.421Z"
   },
   {
    "duration": 5,
    "start_time": "2022-12-07T09:08:16.479Z"
   },
   {
    "duration": 6,
    "start_time": "2022-12-07T09:08:18.197Z"
   },
   {
    "duration": 3,
    "start_time": "2022-12-07T09:08:21.176Z"
   },
   {
    "duration": 11,
    "start_time": "2022-12-07T09:08:22.957Z"
   },
   {
    "duration": 26,
    "start_time": "2022-12-07T09:08:33.369Z"
   },
   {
    "duration": 8,
    "start_time": "2022-12-07T09:08:39.584Z"
   },
   {
    "duration": 11,
    "start_time": "2022-12-07T09:08:53.532Z"
   },
   {
    "duration": 8,
    "start_time": "2022-12-07T09:09:00.994Z"
   },
   {
    "duration": 2263,
    "start_time": "2022-12-07T09:09:40.623Z"
   },
   {
    "duration": 17,
    "start_time": "2022-12-07T09:09:54.027Z"
   },
   {
    "duration": 24,
    "start_time": "2022-12-07T09:10:07.522Z"
   },
   {
    "duration": 8,
    "start_time": "2022-12-07T09:10:29.594Z"
   },
   {
    "duration": 261,
    "start_time": "2022-12-07T09:11:20.857Z"
   },
   {
    "duration": 174,
    "start_time": "2022-12-07T09:11:36.239Z"
   },
   {
    "duration": 54,
    "start_time": "2022-12-07T09:11:51.888Z"
   },
   {
    "duration": 181,
    "start_time": "2022-12-07T09:11:55.905Z"
   },
   {
    "duration": 11,
    "start_time": "2022-12-07T09:12:11.112Z"
   },
   {
    "duration": 20,
    "start_time": "2022-12-07T09:12:41.618Z"
   },
   {
    "duration": 151,
    "start_time": "2022-12-07T09:13:09.675Z"
   },
   {
    "duration": 11,
    "start_time": "2022-12-07T09:13:21.785Z"
   },
   {
    "duration": 1459,
    "start_time": "2022-12-07T09:13:46.832Z"
   },
   {
    "duration": 194,
    "start_time": "2022-12-07T09:13:59.808Z"
   },
   {
    "duration": 214,
    "start_time": "2022-12-07T09:14:14.467Z"
   },
   {
    "duration": 206,
    "start_time": "2022-12-07T09:15:41.580Z"
   },
   {
    "duration": 14,
    "start_time": "2022-12-07T09:15:46.647Z"
   },
   {
    "duration": 212,
    "start_time": "2022-12-07T09:16:32.045Z"
   },
   {
    "duration": 221,
    "start_time": "2022-12-07T09:16:36.563Z"
   },
   {
    "duration": 977,
    "start_time": "2022-12-07T09:18:09.165Z"
   },
   {
    "duration": 723,
    "start_time": "2022-12-07T09:18:44.830Z"
   },
   {
    "duration": 664,
    "start_time": "2022-12-07T09:18:53.482Z"
   },
   {
    "duration": 788,
    "start_time": "2022-12-07T09:20:26.834Z"
   },
   {
    "duration": 171,
    "start_time": "2022-12-07T09:20:48.764Z"
   },
   {
    "duration": 674,
    "start_time": "2022-12-07T09:21:11.001Z"
   },
   {
    "duration": 694,
    "start_time": "2022-12-07T09:21:15.240Z"
   },
   {
    "duration": 684,
    "start_time": "2022-12-07T09:21:20.361Z"
   },
   {
    "duration": 803,
    "start_time": "2022-12-07T09:21:24.105Z"
   },
   {
    "duration": 690,
    "start_time": "2022-12-07T09:21:28.315Z"
   },
   {
    "duration": 697,
    "start_time": "2022-12-07T09:21:40.026Z"
   },
   {
    "duration": 924,
    "start_time": "2022-12-07T09:28:07.256Z"
   },
   {
    "duration": 12,
    "start_time": "2022-12-07T09:28:32.114Z"
   },
   {
    "duration": 936,
    "start_time": "2022-12-07T09:28:48.788Z"
   },
   {
    "duration": 142,
    "start_time": "2022-12-07T09:29:08.083Z"
   },
   {
    "duration": 24,
    "start_time": "2022-12-07T09:29:54.399Z"
   },
   {
    "duration": 2617,
    "start_time": "2022-12-07T09:30:01.667Z"
   },
   {
    "duration": 9,
    "start_time": "2022-12-07T09:30:22.585Z"
   },
   {
    "duration": 26,
    "start_time": "2022-12-07T09:30:26.359Z"
   },
   {
    "duration": 12,
    "start_time": "2022-12-07T09:30:42.406Z"
   },
   {
    "duration": 6,
    "start_time": "2022-12-07T09:30:48.916Z"
   },
   {
    "duration": 432,
    "start_time": "2022-12-07T09:30:59.982Z"
   },
   {
    "duration": 883,
    "start_time": "2022-12-07T09:31:22.343Z"
   },
   {
    "duration": 20,
    "start_time": "2022-12-07T09:31:32.688Z"
   },
   {
    "duration": 21,
    "start_time": "2022-12-07T09:31:45.801Z"
   },
   {
    "duration": 18,
    "start_time": "2022-12-07T09:31:52.703Z"
   },
   {
    "duration": 11,
    "start_time": "2022-12-07T09:32:10.230Z"
   },
   {
    "duration": 17,
    "start_time": "2022-12-07T09:32:14.312Z"
   },
   {
    "duration": 356,
    "start_time": "2022-12-07T09:32:22.239Z"
   },
   {
    "duration": 533,
    "start_time": "2022-12-07T09:32:41.453Z"
   },
   {
    "duration": 423,
    "start_time": "2022-12-07T09:32:49.561Z"
   },
   {
    "duration": 408,
    "start_time": "2022-12-07T10:05:27.888Z"
   },
   {
    "duration": 1968,
    "start_time": "2022-12-07T10:05:36.210Z"
   },
   {
    "duration": 484,
    "start_time": "2022-12-07T10:05:51.705Z"
   },
   {
    "duration": 1011,
    "start_time": "2022-12-07T10:06:18.332Z"
   },
   {
    "duration": 48,
    "start_time": "2022-12-07T10:07:17.740Z"
   },
   {
    "duration": 929,
    "start_time": "2022-12-07T10:07:24.534Z"
   },
   {
    "duration": 666,
    "start_time": "2022-12-07T10:07:40.763Z"
   },
   {
    "duration": 10,
    "start_time": "2022-12-07T10:08:31.346Z"
   },
   {
    "duration": 6,
    "start_time": "2022-12-07T10:08:35.858Z"
   },
   {
    "duration": 4,
    "start_time": "2022-12-07T10:08:49.558Z"
   },
   {
    "duration": 10,
    "start_time": "2022-12-07T10:08:58.728Z"
   },
   {
    "duration": 4,
    "start_time": "2022-12-07T10:09:03.157Z"
   },
   {
    "duration": 43,
    "start_time": "2022-12-07T10:12:40.763Z"
   },
   {
    "duration": 4,
    "start_time": "2022-12-07T10:12:44.222Z"
   },
   {
    "duration": 11,
    "start_time": "2022-12-07T10:13:16.220Z"
   },
   {
    "duration": 10,
    "start_time": "2022-12-07T10:13:23.193Z"
   },
   {
    "duration": 11,
    "start_time": "2022-12-07T10:13:25.134Z"
   },
   {
    "duration": 10,
    "start_time": "2022-12-07T10:13:34.895Z"
   },
   {
    "duration": 10,
    "start_time": "2022-12-07T10:13:38.977Z"
   },
   {
    "duration": 10,
    "start_time": "2022-12-07T10:15:26.596Z"
   },
   {
    "duration": 11,
    "start_time": "2022-12-07T10:15:40.015Z"
   },
   {
    "duration": 12,
    "start_time": "2022-12-07T10:16:05.930Z"
   },
   {
    "duration": 10,
    "start_time": "2022-12-07T10:16:09.616Z"
   },
   {
    "duration": 10,
    "start_time": "2022-12-07T10:16:16.290Z"
   },
   {
    "duration": 4,
    "start_time": "2022-12-07T10:16:18.910Z"
   },
   {
    "duration": 10,
    "start_time": "2022-12-07T10:16:34.393Z"
   },
   {
    "duration": 4,
    "start_time": "2022-12-07T10:16:41.769Z"
   },
   {
    "duration": 5,
    "start_time": "2022-12-07T10:17:29.462Z"
   },
   {
    "duration": 4,
    "start_time": "2022-12-07T10:17:33.640Z"
   },
   {
    "duration": 4695,
    "start_time": "2022-12-07T10:18:25.029Z"
   },
   {
    "duration": 10,
    "start_time": "2022-12-07T10:19:46.059Z"
   },
   {
    "duration": 14,
    "start_time": "2022-12-07T10:19:58.081Z"
   },
   {
    "duration": 3749,
    "start_time": "2022-12-07T10:20:21.787Z"
   },
   {
    "duration": 14536,
    "start_time": "2022-12-07T10:56:28.885Z"
   },
   {
    "duration": 22916,
    "start_time": "2022-12-07T11:45:45.097Z"
   },
   {
    "duration": 23057,
    "start_time": "2022-12-07T11:46:30.241Z"
   },
   {
    "duration": 23070,
    "start_time": "2022-12-07T11:46:56.613Z"
   },
   {
    "duration": 13922,
    "start_time": "2022-12-07T11:48:14.981Z"
   },
   {
    "duration": 13664,
    "start_time": "2022-12-07T11:54:27.243Z"
   },
   {
    "duration": 14018,
    "start_time": "2022-12-07T11:56:22.982Z"
   },
   {
    "duration": 13972,
    "start_time": "2022-12-07T11:56:40.078Z"
   },
   {
    "duration": 29,
    "start_time": "2022-12-07T11:57:45.592Z"
   },
   {
    "duration": 18,
    "start_time": "2022-12-07T11:57:54.474Z"
   },
   {
    "duration": 14183,
    "start_time": "2022-12-07T11:59:03.136Z"
   },
   {
    "duration": 13745,
    "start_time": "2022-12-07T11:59:18.666Z"
   },
   {
    "duration": 14516,
    "start_time": "2022-12-07T12:02:00.601Z"
   },
   {
    "duration": 14209,
    "start_time": "2022-12-07T12:03:11.214Z"
   },
   {
    "duration": 14462,
    "start_time": "2022-12-07T12:03:26.749Z"
   },
   {
    "duration": 3690,
    "start_time": "2022-12-07T12:03:54.430Z"
   },
   {
    "duration": 3519,
    "start_time": "2022-12-07T12:06:32.416Z"
   },
   {
    "duration": 14446,
    "start_time": "2022-12-07T12:06:43.368Z"
   },
   {
    "duration": 14311,
    "start_time": "2022-12-07T12:10:19.994Z"
   },
   {
    "duration": 14,
    "start_time": "2022-12-07T12:12:05.533Z"
   },
   {
    "duration": 21,
    "start_time": "2022-12-07T12:12:21.905Z"
   },
   {
    "duration": 18,
    "start_time": "2022-12-07T12:13:14.298Z"
   },
   {
    "duration": 14669,
    "start_time": "2022-12-07T12:14:20.148Z"
   },
   {
    "duration": 3675,
    "start_time": "2022-12-07T12:15:12.075Z"
   },
   {
    "duration": 5,
    "start_time": "2022-12-07T12:18:38.599Z"
   },
   {
    "duration": 5,
    "start_time": "2022-12-07T12:18:49.214Z"
   },
   {
    "duration": 13865,
    "start_time": "2022-12-07T12:19:06.990Z"
   },
   {
    "duration": 21,
    "start_time": "2022-12-07T12:20:29.317Z"
   },
   {
    "duration": 14105,
    "start_time": "2022-12-07T12:22:50.072Z"
   },
   {
    "duration": 41,
    "start_time": "2022-12-07T12:23:22.359Z"
   },
   {
    "duration": 14,
    "start_time": "2022-12-07T12:23:33.250Z"
   },
   {
    "duration": 5,
    "start_time": "2022-12-07T12:27:24.880Z"
   },
   {
    "duration": 12,
    "start_time": "2022-12-07T12:27:35.488Z"
   },
   {
    "duration": 6370,
    "start_time": "2022-12-07T12:28:41.550Z"
   },
   {
    "duration": 10858,
    "start_time": "2022-12-07T12:29:07.154Z"
   },
   {
    "duration": 10520,
    "start_time": "2022-12-07T12:29:40.581Z"
   },
   {
    "duration": 10671,
    "start_time": "2022-12-07T12:31:41.122Z"
   },
   {
    "duration": 11144,
    "start_time": "2022-12-07T12:35:43.455Z"
   },
   {
    "duration": 11809,
    "start_time": "2022-12-07T12:36:00.093Z"
   },
   {
    "duration": 10946,
    "start_time": "2022-12-07T12:36:18.243Z"
   },
   {
    "duration": 101,
    "start_time": "2022-12-07T12:38:00.119Z"
   },
   {
    "duration": 12350,
    "start_time": "2022-12-07T12:38:04.101Z"
   },
   {
    "duration": 10974,
    "start_time": "2022-12-07T12:38:56.508Z"
   },
   {
    "duration": 11373,
    "start_time": "2022-12-07T12:39:27.010Z"
   },
   {
    "duration": 11249,
    "start_time": "2022-12-07T12:40:20.563Z"
   },
   {
    "duration": 390,
    "start_time": "2022-12-07T12:40:46.187Z"
   },
   {
    "duration": 59,
    "start_time": "2022-12-07T12:40:55.785Z"
   },
   {
    "duration": 546,
    "start_time": "2022-12-07T12:41:03.839Z"
   },
   {
    "duration": 11703,
    "start_time": "2022-12-07T12:41:22.085Z"
   },
   {
    "duration": 11000,
    "start_time": "2022-12-07T12:41:45.352Z"
   },
   {
    "duration": 10670,
    "start_time": "2022-12-07T12:42:21.135Z"
   },
   {
    "duration": 11243,
    "start_time": "2022-12-07T12:44:42.970Z"
   },
   {
    "duration": 11321,
    "start_time": "2022-12-07T12:44:55.770Z"
   },
   {
    "duration": 10997,
    "start_time": "2022-12-07T12:45:53.588Z"
   },
   {
    "duration": 10716,
    "start_time": "2022-12-07T12:46:23.380Z"
   },
   {
    "duration": 11022,
    "start_time": "2022-12-07T12:47:39.076Z"
   },
   {
    "duration": 10680,
    "start_time": "2022-12-07T12:48:10.116Z"
   },
   {
    "duration": 57,
    "start_time": "2022-12-07T12:49:47.337Z"
   },
   {
    "duration": 55,
    "start_time": "2022-12-07T12:49:54.799Z"
   },
   {
    "duration": 10700,
    "start_time": "2022-12-07T12:50:08.717Z"
   },
   {
    "duration": 10936,
    "start_time": "2022-12-07T12:50:41.648Z"
   },
   {
    "duration": 11255,
    "start_time": "2022-12-07T12:51:57.368Z"
   },
   {
    "duration": 11114,
    "start_time": "2022-12-07T12:52:31.713Z"
   },
   {
    "duration": 11386,
    "start_time": "2022-12-07T12:56:57.235Z"
   },
   {
    "duration": 10798,
    "start_time": "2022-12-07T12:57:33.708Z"
   },
   {
    "duration": 11293,
    "start_time": "2022-12-07T12:57:47.421Z"
   },
   {
    "duration": 11633,
    "start_time": "2022-12-07T12:58:08.255Z"
   },
   {
    "duration": 11062,
    "start_time": "2022-12-07T12:59:54.447Z"
   },
   {
    "duration": 11302,
    "start_time": "2022-12-07T13:00:18.985Z"
   },
   {
    "duration": 2992,
    "start_time": "2022-12-07T13:02:02.622Z"
   },
   {
    "duration": 11239,
    "start_time": "2022-12-07T13:02:13.961Z"
   },
   {
    "duration": 13,
    "start_time": "2022-12-07T13:04:52.921Z"
   },
   {
    "duration": 5298,
    "start_time": "2022-12-07T13:04:58.116Z"
   },
   {
    "duration": 5177,
    "start_time": "2022-12-07T13:05:11.286Z"
   },
   {
    "duration": 2781,
    "start_time": "2022-12-07T13:05:45.720Z"
   },
   {
    "duration": 11023,
    "start_time": "2022-12-07T13:07:35.574Z"
   },
   {
    "duration": 2867,
    "start_time": "2022-12-07T13:07:52.549Z"
   },
   {
    "duration": 2872,
    "start_time": "2022-12-07T13:08:05.268Z"
   },
   {
    "duration": 11189,
    "start_time": "2022-12-07T13:08:36.011Z"
   },
   {
    "duration": 10643,
    "start_time": "2022-12-07T13:09:47.806Z"
   },
   {
    "duration": 20462,
    "start_time": "2022-12-07T13:10:08.418Z"
   },
   {
    "duration": 10210,
    "start_time": "2022-12-07T13:11:26.406Z"
   },
   {
    "duration": 52,
    "start_time": "2022-12-07T13:12:07.267Z"
   },
   {
    "duration": 10998,
    "start_time": "2022-12-07T13:12:11.007Z"
   },
   {
    "duration": 11372,
    "start_time": "2022-12-07T13:12:26.408Z"
   },
   {
    "duration": 4,
    "start_time": "2022-12-07T13:14:26.972Z"
   },
   {
    "duration": 7,
    "start_time": "2022-12-07T13:14:31.840Z"
   },
   {
    "duration": 8,
    "start_time": "2022-12-07T13:15:34.304Z"
   },
   {
    "duration": 3893,
    "start_time": "2022-12-07T13:16:04.536Z"
   },
   {
    "duration": 3707,
    "start_time": "2022-12-07T13:16:32.537Z"
   },
   {
    "duration": 3798,
    "start_time": "2022-12-07T13:16:39.308Z"
   },
   {
    "duration": 3245,
    "start_time": "2022-12-07T13:16:46.965Z"
   },
   {
    "duration": 46,
    "start_time": "2022-12-07T13:48:08.141Z"
   },
   {
    "duration": 3,
    "start_time": "2022-12-07T13:49:18.859Z"
   },
   {
    "duration": 7,
    "start_time": "2022-12-07T13:49:18.872Z"
   },
   {
    "duration": 737,
    "start_time": "2022-12-07T13:49:18.913Z"
   },
   {
    "duration": 19,
    "start_time": "2022-12-07T13:49:19.652Z"
   },
   {
    "duration": 38,
    "start_time": "2022-12-07T13:49:19.673Z"
   },
   {
    "duration": 18,
    "start_time": "2022-12-07T13:49:19.715Z"
   },
   {
    "duration": 80,
    "start_time": "2022-12-07T13:49:19.735Z"
   },
   {
    "duration": 232,
    "start_time": "2022-12-07T13:49:19.817Z"
   },
   {
    "duration": 21,
    "start_time": "2022-12-07T13:49:20.050Z"
   },
   {
    "duration": 42,
    "start_time": "2022-12-07T13:49:20.073Z"
   },
   {
    "duration": 20,
    "start_time": "2022-12-07T13:49:20.117Z"
   },
   {
    "duration": 3,
    "start_time": "2022-12-07T13:49:20.140Z"
   },
   {
    "duration": 268,
    "start_time": "2022-12-07T13:49:20.145Z"
   },
   {
    "duration": 12,
    "start_time": "2022-12-07T13:49:20.415Z"
   },
   {
    "duration": 5,
    "start_time": "2022-12-07T13:49:20.429Z"
   },
   {
    "duration": 16,
    "start_time": "2022-12-07T13:49:20.436Z"
   },
   {
    "duration": 7,
    "start_time": "2022-12-07T13:49:20.454Z"
   },
   {
    "duration": 35,
    "start_time": "2022-12-07T13:49:20.463Z"
   },
   {
    "duration": 78,
    "start_time": "2022-12-07T13:49:20.509Z"
   },
   {
    "duration": 22,
    "start_time": "2022-12-07T13:49:20.588Z"
   },
   {
    "duration": 66,
    "start_time": "2022-12-07T13:49:20.612Z"
   },
   {
    "duration": 8,
    "start_time": "2022-12-07T13:49:20.680Z"
   },
   {
    "duration": 47,
    "start_time": "2022-12-07T13:49:20.689Z"
   },
   {
    "duration": 20,
    "start_time": "2022-12-07T13:49:20.738Z"
   },
   {
    "duration": 22,
    "start_time": "2022-12-07T13:49:20.759Z"
   },
   {
    "duration": 26,
    "start_time": "2022-12-07T13:49:20.783Z"
   },
   {
    "duration": 29,
    "start_time": "2022-12-07T13:49:20.811Z"
   },
   {
    "duration": 10,
    "start_time": "2022-12-07T13:49:20.842Z"
   },
   {
    "duration": 83,
    "start_time": "2022-12-07T13:49:20.854Z"
   },
   {
    "duration": 4,
    "start_time": "2022-12-07T13:49:20.941Z"
   },
   {
    "duration": 20,
    "start_time": "2022-12-07T13:49:20.946Z"
   },
   {
    "duration": 18,
    "start_time": "2022-12-07T13:49:20.968Z"
   },
   {
    "duration": 57,
    "start_time": "2022-12-07T13:49:20.987Z"
   },
   {
    "duration": 34,
    "start_time": "2022-12-07T13:49:21.046Z"
   },
   {
    "duration": 794,
    "start_time": "2022-12-07T13:49:21.082Z"
   },
   {
    "duration": 3645,
    "start_time": "2022-12-07T13:49:21.878Z"
   },
   {
    "duration": 6,
    "start_time": "2022-12-07T13:49:25.525Z"
   },
   {
    "duration": 19,
    "start_time": "2022-12-07T13:49:25.533Z"
   },
   {
    "duration": 8,
    "start_time": "2022-12-07T13:49:25.553Z"
   },
   {
    "duration": 48,
    "start_time": "2022-12-07T13:49:25.563Z"
   },
   {
    "duration": 17,
    "start_time": "2022-12-07T13:49:25.613Z"
   },
   {
    "duration": 15,
    "start_time": "2022-12-07T13:49:37.395Z"
   },
   {
    "duration": 584,
    "start_time": "2022-12-07T13:51:32.730Z"
   },
   {
    "duration": 541,
    "start_time": "2022-12-07T13:51:50.642Z"
   },
   {
    "duration": 501,
    "start_time": "2022-12-07T13:51:59.011Z"
   },
   {
    "duration": 433,
    "start_time": "2022-12-07T13:53:25.460Z"
   },
   {
    "duration": 466,
    "start_time": "2022-12-07T13:53:33.339Z"
   },
   {
    "duration": 438,
    "start_time": "2022-12-07T13:53:38.876Z"
   },
   {
    "duration": 553,
    "start_time": "2022-12-07T13:53:44.675Z"
   },
   {
    "duration": 525,
    "start_time": "2022-12-07T13:53:51.895Z"
   },
   {
    "duration": 482,
    "start_time": "2022-12-07T13:54:39.953Z"
   },
   {
    "duration": 468,
    "start_time": "2022-12-07T13:55:49.246Z"
   },
   {
    "duration": 7,
    "start_time": "2022-12-07T13:56:11.496Z"
   },
   {
    "duration": 11,
    "start_time": "2022-12-07T13:56:11.508Z"
   },
   {
    "duration": 794,
    "start_time": "2022-12-07T13:56:11.540Z"
   },
   {
    "duration": 18,
    "start_time": "2022-12-07T13:56:12.337Z"
   },
   {
    "duration": 16,
    "start_time": "2022-12-07T13:56:12.357Z"
   },
   {
    "duration": 17,
    "start_time": "2022-12-07T13:56:12.397Z"
   },
   {
    "duration": 66,
    "start_time": "2022-12-07T13:56:12.417Z"
   },
   {
    "duration": 250,
    "start_time": "2022-12-07T13:56:12.484Z"
   },
   {
    "duration": 20,
    "start_time": "2022-12-07T13:56:12.735Z"
   },
   {
    "duration": 17,
    "start_time": "2022-12-07T13:56:12.757Z"
   },
   {
    "duration": 40,
    "start_time": "2022-12-07T13:56:12.776Z"
   },
   {
    "duration": 3,
    "start_time": "2022-12-07T13:56:12.820Z"
   },
   {
    "duration": 272,
    "start_time": "2022-12-07T13:56:12.825Z"
   },
   {
    "duration": 14,
    "start_time": "2022-12-07T13:56:13.101Z"
   },
   {
    "duration": 6,
    "start_time": "2022-12-07T13:56:13.118Z"
   },
   {
    "duration": 15,
    "start_time": "2022-12-07T13:56:13.126Z"
   },
   {
    "duration": 6,
    "start_time": "2022-12-07T13:56:13.143Z"
   },
   {
    "duration": 10,
    "start_time": "2022-12-07T13:56:13.151Z"
   },
   {
    "duration": 108,
    "start_time": "2022-12-07T13:56:13.163Z"
   },
   {
    "duration": 8,
    "start_time": "2022-12-07T13:56:13.273Z"
   },
   {
    "duration": 77,
    "start_time": "2022-12-07T13:56:13.282Z"
   },
   {
    "duration": 8,
    "start_time": "2022-12-07T13:56:13.361Z"
   },
   {
    "duration": 41,
    "start_time": "2022-12-07T13:56:13.371Z"
   },
   {
    "duration": 6,
    "start_time": "2022-12-07T13:56:13.414Z"
   },
   {
    "duration": 4,
    "start_time": "2022-12-07T13:56:13.422Z"
   },
   {
    "duration": 10,
    "start_time": "2022-12-07T13:56:13.428Z"
   },
   {
    "duration": 4,
    "start_time": "2022-12-07T13:56:13.440Z"
   },
   {
    "duration": 7,
    "start_time": "2022-12-07T13:56:13.446Z"
   },
   {
    "duration": 104,
    "start_time": "2022-12-07T13:56:13.455Z"
   },
   {
    "duration": 6,
    "start_time": "2022-12-07T13:56:13.562Z"
   },
   {
    "duration": 8,
    "start_time": "2022-12-07T13:56:13.570Z"
   },
   {
    "duration": 16,
    "start_time": "2022-12-07T13:56:13.596Z"
   },
   {
    "duration": 29,
    "start_time": "2022-12-07T13:56:13.614Z"
   },
   {
    "duration": 10,
    "start_time": "2022-12-07T13:56:13.645Z"
   },
   {
    "duration": 784,
    "start_time": "2022-12-07T13:56:13.658Z"
   },
   {
    "duration": 3902,
    "start_time": "2022-12-07T13:56:14.443Z"
   },
   {
    "duration": 7,
    "start_time": "2022-12-07T13:56:18.347Z"
   },
   {
    "duration": 18,
    "start_time": "2022-12-07T13:56:18.355Z"
   },
   {
    "duration": 28,
    "start_time": "2022-12-07T13:56:18.374Z"
   },
   {
    "duration": 19,
    "start_time": "2022-12-07T13:56:18.404Z"
   },
   {
    "duration": 19,
    "start_time": "2022-12-07T13:56:18.425Z"
   },
   {
    "duration": 571,
    "start_time": "2022-12-07T13:56:18.445Z"
   },
   {
    "duration": 12,
    "start_time": "2022-12-07T13:56:19.019Z"
   },
   {
    "duration": 23,
    "start_time": "2022-12-07T13:56:19.032Z"
   },
   {
    "duration": 17,
    "start_time": "2022-12-07T13:58:56.847Z"
   },
   {
    "duration": 204,
    "start_time": "2022-12-07T13:59:03.651Z"
   },
   {
    "duration": 3762,
    "start_time": "2022-12-07T14:11:02.488Z"
   },
   {
    "duration": 426,
    "start_time": "2022-12-07T14:11:49.374Z"
   },
   {
    "duration": 4,
    "start_time": "2022-12-07T14:14:16.313Z"
   },
   {
    "duration": 4,
    "start_time": "2022-12-07T14:14:16.322Z"
   },
   {
    "duration": 729,
    "start_time": "2022-12-07T14:14:16.352Z"
   },
   {
    "duration": 18,
    "start_time": "2022-12-07T14:14:17.083Z"
   },
   {
    "duration": 25,
    "start_time": "2022-12-07T14:14:17.103Z"
   },
   {
    "duration": 13,
    "start_time": "2022-12-07T14:14:17.130Z"
   },
   {
    "duration": 67,
    "start_time": "2022-12-07T14:14:17.145Z"
   },
   {
    "duration": 230,
    "start_time": "2022-12-07T14:14:17.214Z"
   },
   {
    "duration": 20,
    "start_time": "2022-12-07T14:14:17.446Z"
   },
   {
    "duration": 30,
    "start_time": "2022-12-07T14:14:17.467Z"
   },
   {
    "duration": 18,
    "start_time": "2022-12-07T14:14:17.499Z"
   },
   {
    "duration": 4,
    "start_time": "2022-12-07T14:14:17.521Z"
   },
   {
    "duration": 240,
    "start_time": "2022-12-07T14:14:17.527Z"
   },
   {
    "duration": 12,
    "start_time": "2022-12-07T14:14:17.770Z"
   },
   {
    "duration": 6,
    "start_time": "2022-12-07T14:14:17.796Z"
   },
   {
    "duration": 18,
    "start_time": "2022-12-07T14:14:17.804Z"
   },
   {
    "duration": 5,
    "start_time": "2022-12-07T14:14:17.823Z"
   },
   {
    "duration": 10,
    "start_time": "2022-12-07T14:14:17.830Z"
   },
   {
    "duration": 112,
    "start_time": "2022-12-07T14:14:17.841Z"
   },
   {
    "duration": 10,
    "start_time": "2022-12-07T14:14:17.955Z"
   },
   {
    "duration": 77,
    "start_time": "2022-12-07T14:14:17.967Z"
   },
   {
    "duration": 7,
    "start_time": "2022-12-07T14:14:18.046Z"
   },
   {
    "duration": 19,
    "start_time": "2022-12-07T14:14:18.054Z"
   },
   {
    "duration": 26,
    "start_time": "2022-12-07T14:14:18.075Z"
   },
   {
    "duration": 4,
    "start_time": "2022-12-07T14:14:18.105Z"
   },
   {
    "duration": 12,
    "start_time": "2022-12-07T14:14:18.111Z"
   },
   {
    "duration": 4,
    "start_time": "2022-12-07T14:14:18.124Z"
   },
   {
    "duration": 7,
    "start_time": "2022-12-07T14:14:18.130Z"
   },
   {
    "duration": 91,
    "start_time": "2022-12-07T14:14:18.138Z"
   },
   {
    "duration": 4,
    "start_time": "2022-12-07T14:14:18.233Z"
   },
   {
    "duration": 7,
    "start_time": "2022-12-07T14:14:18.239Z"
   },
   {
    "duration": 9,
    "start_time": "2022-12-07T14:14:18.247Z"
   },
   {
    "duration": 7,
    "start_time": "2022-12-07T14:14:18.258Z"
   },
   {
    "duration": 32,
    "start_time": "2022-12-07T14:14:18.266Z"
   },
   {
    "duration": 842,
    "start_time": "2022-12-07T14:14:18.300Z"
   },
   {
    "duration": 3568,
    "start_time": "2022-12-07T14:14:19.143Z"
   },
   {
    "duration": 18,
    "start_time": "2022-12-07T14:14:22.713Z"
   },
   {
    "duration": 8,
    "start_time": "2022-12-07T14:14:22.733Z"
   },
   {
    "duration": 18,
    "start_time": "2022-12-07T14:14:22.743Z"
   },
   {
    "duration": 44,
    "start_time": "2022-12-07T14:14:22.763Z"
   },
   {
    "duration": 477,
    "start_time": "2022-12-07T14:14:22.808Z"
   },
   {
    "duration": 15,
    "start_time": "2022-12-07T14:14:23.288Z"
   },
   {
    "duration": 21,
    "start_time": "2022-12-07T14:14:23.305Z"
   },
   {
    "duration": 197,
    "start_time": "2022-12-07T14:14:23.328Z"
   },
   {
    "duration": 4,
    "start_time": "2022-12-07T14:14:23.526Z"
   },
   {
    "duration": 28,
    "start_time": "2022-12-07T14:14:23.531Z"
   },
   {
    "duration": 198,
    "start_time": "2022-12-07T14:14:23.561Z"
   },
   {
    "duration": 5,
    "start_time": "2022-12-07T14:14:23.761Z"
   },
   {
    "duration": 7,
    "start_time": "2022-12-07T14:14:23.767Z"
   },
   {
    "duration": 26,
    "start_time": "2022-12-07T14:18:34.167Z"
   },
   {
    "duration": 5,
    "start_time": "2022-12-07T14:19:21.538Z"
   },
   {
    "duration": 732,
    "start_time": "2022-12-07T14:21:16.816Z"
   },
   {
    "duration": 1057,
    "start_time": "2022-12-07T14:21:38.259Z"
   },
   {
    "duration": 1010,
    "start_time": "2022-12-07T14:22:34.611Z"
   },
   {
    "duration": 1086,
    "start_time": "2022-12-07T14:22:59.354Z"
   },
   {
    "duration": 990,
    "start_time": "2022-12-07T14:24:02.232Z"
   },
   {
    "duration": 1036,
    "start_time": "2022-12-07T14:24:10.981Z"
   },
   {
    "duration": 1161,
    "start_time": "2022-12-07T14:24:25.461Z"
   },
   {
    "duration": 1055,
    "start_time": "2022-12-07T14:24:29.645Z"
   },
   {
    "duration": 1057,
    "start_time": "2022-12-07T14:25:30.158Z"
   },
   {
    "duration": 1063,
    "start_time": "2022-12-07T14:25:37.157Z"
   },
   {
    "duration": 1046,
    "start_time": "2022-12-07T14:27:09.470Z"
   },
   {
    "duration": 1052,
    "start_time": "2022-12-07T14:27:49.273Z"
   },
   {
    "duration": 16,
    "start_time": "2022-12-07T14:28:45.798Z"
   },
   {
    "duration": 9,
    "start_time": "2022-12-07T14:30:50.697Z"
   },
   {
    "duration": 47,
    "start_time": "2022-12-07T14:31:48.394Z"
   },
   {
    "duration": 48,
    "start_time": "2022-12-07T14:31:53.114Z"
   },
   {
    "duration": 9,
    "start_time": "2022-12-07T14:31:56.136Z"
   },
   {
    "duration": 9,
    "start_time": "2022-12-07T14:32:04.706Z"
   },
   {
    "duration": 4,
    "start_time": "2022-12-07T14:32:18.075Z"
   },
   {
    "duration": 7,
    "start_time": "2022-12-07T14:32:18.086Z"
   },
   {
    "duration": 716,
    "start_time": "2022-12-07T14:32:18.121Z"
   },
   {
    "duration": 19,
    "start_time": "2022-12-07T14:32:18.839Z"
   },
   {
    "duration": 19,
    "start_time": "2022-12-07T14:32:18.860Z"
   },
   {
    "duration": 16,
    "start_time": "2022-12-07T14:32:18.898Z"
   },
   {
    "duration": 92,
    "start_time": "2022-12-07T14:32:18.916Z"
   },
   {
    "duration": 243,
    "start_time": "2022-12-07T14:32:19.010Z"
   },
   {
    "duration": 17,
    "start_time": "2022-12-07T14:32:19.255Z"
   },
   {
    "duration": 26,
    "start_time": "2022-12-07T14:32:19.274Z"
   },
   {
    "duration": 20,
    "start_time": "2022-12-07T14:32:19.302Z"
   },
   {
    "duration": 3,
    "start_time": "2022-12-07T14:32:19.325Z"
   },
   {
    "duration": 237,
    "start_time": "2022-12-07T14:32:19.330Z"
   },
   {
    "duration": 9,
    "start_time": "2022-12-07T14:32:19.569Z"
   },
   {
    "duration": 18,
    "start_time": "2022-12-07T14:32:19.580Z"
   },
   {
    "duration": 14,
    "start_time": "2022-12-07T14:32:19.600Z"
   },
   {
    "duration": 7,
    "start_time": "2022-12-07T14:32:19.615Z"
   },
   {
    "duration": 9,
    "start_time": "2022-12-07T14:32:19.624Z"
   },
   {
    "duration": 102,
    "start_time": "2022-12-07T14:32:19.634Z"
   },
   {
    "duration": 7,
    "start_time": "2022-12-07T14:32:19.738Z"
   },
   {
    "duration": 76,
    "start_time": "2022-12-07T14:32:19.747Z"
   },
   {
    "duration": 7,
    "start_time": "2022-12-07T14:32:19.825Z"
   },
   {
    "duration": 18,
    "start_time": "2022-12-07T14:32:19.834Z"
   },
   {
    "duration": 7,
    "start_time": "2022-12-07T14:32:19.854Z"
   },
   {
    "duration": 4,
    "start_time": "2022-12-07T14:32:19.863Z"
   },
   {
    "duration": 10,
    "start_time": "2022-12-07T14:32:19.897Z"
   },
   {
    "duration": 5,
    "start_time": "2022-12-07T14:32:19.910Z"
   },
   {
    "duration": 11,
    "start_time": "2022-12-07T14:32:19.917Z"
   },
   {
    "duration": 88,
    "start_time": "2022-12-07T14:32:19.930Z"
   },
   {
    "duration": 5,
    "start_time": "2022-12-07T14:32:20.023Z"
   },
   {
    "duration": 7,
    "start_time": "2022-12-07T14:32:20.030Z"
   },
   {
    "duration": 10,
    "start_time": "2022-12-07T14:32:20.038Z"
   },
   {
    "duration": 8,
    "start_time": "2022-12-07T14:32:20.050Z"
   },
   {
    "duration": 36,
    "start_time": "2022-12-07T14:32:20.060Z"
   },
   {
    "duration": 708,
    "start_time": "2022-12-07T14:32:20.098Z"
   },
   {
    "duration": 3592,
    "start_time": "2022-12-07T14:32:20.809Z"
   },
   {
    "duration": 16,
    "start_time": "2022-12-07T14:32:24.403Z"
   },
   {
    "duration": 9,
    "start_time": "2022-12-07T14:32:24.421Z"
   },
   {
    "duration": 16,
    "start_time": "2022-12-07T14:32:24.431Z"
   },
   {
    "duration": 15,
    "start_time": "2022-12-07T14:32:24.449Z"
   },
   {
    "duration": 391,
    "start_time": "2022-12-07T14:32:24.497Z"
   },
   {
    "duration": 13,
    "start_time": "2022-12-07T14:32:24.890Z"
   },
   {
    "duration": 21,
    "start_time": "2022-12-07T14:32:24.905Z"
   },
   {
    "duration": 230,
    "start_time": "2022-12-07T14:32:24.927Z"
   },
   {
    "duration": 1273,
    "start_time": "2022-12-07T14:32:25.159Z"
   },
   {
    "duration": 15,
    "start_time": "2022-12-07T14:32:39.817Z"
   },
   {
    "duration": 10,
    "start_time": "2022-12-07T14:32:49.923Z"
   },
   {
    "duration": 4,
    "start_time": "2022-12-07T14:35:34.723Z"
   },
   {
    "duration": 3,
    "start_time": "2022-12-07T14:35:59.364Z"
   },
   {
    "duration": 12,
    "start_time": "2022-12-07T14:36:12.142Z"
   },
   {
    "duration": 141,
    "start_time": "2022-12-07T14:36:29.222Z"
   },
   {
    "duration": 50,
    "start_time": "2022-12-07T14:36:57.087Z"
   },
   {
    "duration": 19,
    "start_time": "2022-12-07T14:38:15.823Z"
   },
   {
    "duration": 19,
    "start_time": "2022-12-07T14:38:27.562Z"
   },
   {
    "duration": 24,
    "start_time": "2022-12-07T14:38:32.905Z"
   },
   {
    "duration": 48,
    "start_time": "2022-12-07T14:38:43.474Z"
   },
   {
    "duration": 23,
    "start_time": "2022-12-07T14:38:56.074Z"
   },
   {
    "duration": 17,
    "start_time": "2022-12-07T14:41:03.381Z"
   },
   {
    "duration": 26,
    "start_time": "2022-12-07T14:41:26.138Z"
   },
   {
    "duration": 26,
    "start_time": "2022-12-07T14:41:33.382Z"
   },
   {
    "duration": 4,
    "start_time": "2022-12-07T14:41:55.748Z"
   },
   {
    "duration": 10,
    "start_time": "2022-12-07T14:41:55.754Z"
   },
   {
    "duration": 840,
    "start_time": "2022-12-07T14:41:55.782Z"
   },
   {
    "duration": 19,
    "start_time": "2022-12-07T14:41:56.624Z"
   },
   {
    "duration": 17,
    "start_time": "2022-12-07T14:41:56.645Z"
   },
   {
    "duration": 33,
    "start_time": "2022-12-07T14:41:56.664Z"
   },
   {
    "duration": 62,
    "start_time": "2022-12-07T14:41:56.699Z"
   },
   {
    "duration": 248,
    "start_time": "2022-12-07T14:41:56.763Z"
   },
   {
    "duration": 19,
    "start_time": "2022-12-07T14:41:57.013Z"
   },
   {
    "duration": 14,
    "start_time": "2022-12-07T14:41:57.033Z"
   },
   {
    "duration": 17,
    "start_time": "2022-12-07T14:41:57.049Z"
   },
   {
    "duration": 27,
    "start_time": "2022-12-07T14:41:57.069Z"
   },
   {
    "duration": 232,
    "start_time": "2022-12-07T14:41:57.098Z"
   },
   {
    "duration": 11,
    "start_time": "2022-12-07T14:41:57.332Z"
   },
   {
    "duration": 6,
    "start_time": "2022-12-07T14:41:57.344Z"
   },
   {
    "duration": 17,
    "start_time": "2022-12-07T14:41:57.351Z"
   },
   {
    "duration": 26,
    "start_time": "2022-12-07T14:41:57.370Z"
   },
   {
    "duration": 8,
    "start_time": "2022-12-07T14:41:57.398Z"
   },
   {
    "duration": 95,
    "start_time": "2022-12-07T14:41:57.407Z"
   },
   {
    "duration": 8,
    "start_time": "2022-12-07T14:41:57.504Z"
   },
   {
    "duration": 61,
    "start_time": "2022-12-07T14:41:57.513Z"
   },
   {
    "duration": 23,
    "start_time": "2022-12-07T14:41:57.576Z"
   },
   {
    "duration": 18,
    "start_time": "2022-12-07T14:41:57.601Z"
   },
   {
    "duration": 5,
    "start_time": "2022-12-07T14:41:57.621Z"
   },
   {
    "duration": 5,
    "start_time": "2022-12-07T14:41:57.627Z"
   },
   {
    "duration": 10,
    "start_time": "2022-12-07T14:41:57.634Z"
   },
   {
    "duration": 4,
    "start_time": "2022-12-07T14:41:57.646Z"
   },
   {
    "duration": 46,
    "start_time": "2022-12-07T14:41:57.651Z"
   },
   {
    "duration": 65,
    "start_time": "2022-12-07T14:41:57.698Z"
   },
   {
    "duration": 4,
    "start_time": "2022-12-07T14:41:57.766Z"
   },
   {
    "duration": 26,
    "start_time": "2022-12-07T14:41:57.771Z"
   },
   {
    "duration": 13,
    "start_time": "2022-12-07T14:41:57.799Z"
   },
   {
    "duration": 8,
    "start_time": "2022-12-07T14:41:57.814Z"
   },
   {
    "duration": 8,
    "start_time": "2022-12-07T14:41:57.823Z"
   },
   {
    "duration": 741,
    "start_time": "2022-12-07T14:41:57.833Z"
   },
   {
    "duration": 3555,
    "start_time": "2022-12-07T14:41:58.576Z"
   },
   {
    "duration": 17,
    "start_time": "2022-12-07T14:42:02.132Z"
   },
   {
    "duration": 22,
    "start_time": "2022-12-07T14:42:02.150Z"
   },
   {
    "duration": 22,
    "start_time": "2022-12-07T14:42:02.175Z"
   },
   {
    "duration": 14,
    "start_time": "2022-12-07T14:42:02.199Z"
   },
   {
    "duration": 477,
    "start_time": "2022-12-07T14:42:02.215Z"
   },
   {
    "duration": 10,
    "start_time": "2022-12-07T14:42:02.694Z"
   },
   {
    "duration": 30,
    "start_time": "2022-12-07T14:42:02.706Z"
   },
   {
    "duration": 357,
    "start_time": "2022-12-07T14:42:02.739Z"
   },
   {
    "duration": 1356,
    "start_time": "2022-12-07T14:42:03.099Z"
   },
   {
    "duration": 9,
    "start_time": "2022-12-07T14:42:04.457Z"
   },
   {
    "duration": 15,
    "start_time": "2022-12-07T14:42:38.403Z"
   },
   {
    "duration": 17,
    "start_time": "2022-12-07T14:43:03.388Z"
   },
   {
    "duration": 16,
    "start_time": "2022-12-07T14:43:38.634Z"
   },
   {
    "duration": 31,
    "start_time": "2022-12-07T14:45:14.771Z"
   },
   {
    "duration": 827,
    "start_time": "2022-12-07T14:45:47.427Z"
   },
   {
    "duration": 10,
    "start_time": "2022-12-07T14:47:08.547Z"
   },
   {
    "duration": 11,
    "start_time": "2022-12-07T14:48:56.479Z"
   },
   {
    "duration": 9,
    "start_time": "2022-12-07T14:49:17.096Z"
   },
   {
    "duration": 13,
    "start_time": "2022-12-07T14:49:47.311Z"
   },
   {
    "duration": 11,
    "start_time": "2022-12-07T14:49:56.489Z"
   },
   {
    "duration": 11,
    "start_time": "2022-12-07T14:50:07.271Z"
   },
   {
    "duration": 11,
    "start_time": "2022-12-07T14:50:32.346Z"
   },
   {
    "duration": 31,
    "start_time": "2022-12-07T15:02:42.667Z"
   },
   {
    "duration": 37,
    "start_time": "2022-12-07T15:10:50.072Z"
   },
   {
    "duration": 32,
    "start_time": "2022-12-07T15:12:54.499Z"
   },
   {
    "duration": 8,
    "start_time": "2022-12-07T15:14:16.883Z"
   },
   {
    "duration": 30,
    "start_time": "2022-12-07T15:15:43.213Z"
   },
   {
    "duration": 10,
    "start_time": "2022-12-07T15:15:55.631Z"
   },
   {
    "duration": 113,
    "start_time": "2022-12-07T15:21:37.572Z"
   },
   {
    "duration": 13,
    "start_time": "2022-12-07T15:22:53.447Z"
   },
   {
    "duration": 10,
    "start_time": "2022-12-07T15:25:05.514Z"
   },
   {
    "duration": 10,
    "start_time": "2022-12-07T15:29:16.782Z"
   },
   {
    "duration": 14,
    "start_time": "2022-12-07T15:30:29.493Z"
   },
   {
    "duration": 22,
    "start_time": "2022-12-07T15:30:29.514Z"
   },
   {
    "duration": 822,
    "start_time": "2022-12-07T15:30:29.539Z"
   },
   {
    "duration": 40,
    "start_time": "2022-12-07T15:30:30.363Z"
   },
   {
    "duration": 30,
    "start_time": "2022-12-07T15:30:30.408Z"
   },
   {
    "duration": 33,
    "start_time": "2022-12-07T15:30:30.441Z"
   },
   {
    "duration": 90,
    "start_time": "2022-12-07T15:30:30.477Z"
   },
   {
    "duration": 260,
    "start_time": "2022-12-07T15:30:30.569Z"
   },
   {
    "duration": 29,
    "start_time": "2022-12-07T15:30:30.832Z"
   },
   {
    "duration": 50,
    "start_time": "2022-12-07T15:30:30.864Z"
   },
   {
    "duration": 23,
    "start_time": "2022-12-07T15:30:30.915Z"
   },
   {
    "duration": 9,
    "start_time": "2022-12-07T15:30:30.941Z"
   },
   {
    "duration": 279,
    "start_time": "2022-12-07T15:30:30.952Z"
   },
   {
    "duration": 11,
    "start_time": "2022-12-07T15:30:31.233Z"
   },
   {
    "duration": 6,
    "start_time": "2022-12-07T15:30:31.246Z"
   },
   {
    "duration": 19,
    "start_time": "2022-12-07T15:30:31.254Z"
   },
   {
    "duration": 46,
    "start_time": "2022-12-07T15:30:31.275Z"
   },
   {
    "duration": 11,
    "start_time": "2022-12-07T15:30:31.323Z"
   },
   {
    "duration": 85,
    "start_time": "2022-12-07T15:30:31.336Z"
   },
   {
    "duration": 9,
    "start_time": "2022-12-07T15:30:31.423Z"
   },
   {
    "duration": 85,
    "start_time": "2022-12-07T15:30:31.434Z"
   },
   {
    "duration": 9,
    "start_time": "2022-12-07T15:30:31.522Z"
   },
   {
    "duration": 21,
    "start_time": "2022-12-07T15:30:31.533Z"
   },
   {
    "duration": 6,
    "start_time": "2022-12-07T15:30:31.556Z"
   },
   {
    "duration": 35,
    "start_time": "2022-12-07T15:30:31.563Z"
   },
   {
    "duration": 17,
    "start_time": "2022-12-07T15:30:31.599Z"
   },
   {
    "duration": 12,
    "start_time": "2022-12-07T15:30:31.618Z"
   },
   {
    "duration": 14,
    "start_time": "2022-12-07T15:30:31.632Z"
   },
   {
    "duration": 90,
    "start_time": "2022-12-07T15:30:31.649Z"
   },
   {
    "duration": 9,
    "start_time": "2022-12-07T15:30:31.745Z"
   },
   {
    "duration": 12,
    "start_time": "2022-12-07T15:30:31.757Z"
   },
   {
    "duration": 11,
    "start_time": "2022-12-07T15:30:31.772Z"
   },
   {
    "duration": 35,
    "start_time": "2022-12-07T15:30:31.785Z"
   },
   {
    "duration": 12,
    "start_time": "2022-12-07T15:30:31.823Z"
   },
   {
    "duration": 817,
    "start_time": "2022-12-07T15:30:31.837Z"
   },
   {
    "duration": 3814,
    "start_time": "2022-12-07T15:30:32.657Z"
   },
   {
    "duration": 44,
    "start_time": "2022-12-07T15:30:36.473Z"
   },
   {
    "duration": 10,
    "start_time": "2022-12-07T15:30:36.519Z"
   },
   {
    "duration": 19,
    "start_time": "2022-12-07T15:30:36.531Z"
   },
   {
    "duration": 17,
    "start_time": "2022-12-07T15:30:36.552Z"
   },
   {
    "duration": 548,
    "start_time": "2022-12-07T15:30:36.571Z"
   },
   {
    "duration": 10,
    "start_time": "2022-12-07T15:30:37.121Z"
   },
   {
    "duration": 23,
    "start_time": "2022-12-07T15:30:37.133Z"
   },
   {
    "duration": 269,
    "start_time": "2022-12-07T15:30:37.157Z"
   },
   {
    "duration": 1233,
    "start_time": "2022-12-07T15:30:37.428Z"
   },
   {
    "duration": 12,
    "start_time": "2022-12-07T15:30:38.664Z"
   },
   {
    "duration": 38,
    "start_time": "2022-12-07T15:30:38.679Z"
   },
   {
    "duration": 7,
    "start_time": "2022-12-07T15:30:38.719Z"
   },
   {
    "duration": 32,
    "start_time": "2022-12-07T15:30:38.728Z"
   },
   {
    "duration": 30,
    "start_time": "2022-12-07T15:31:17.110Z"
   },
   {
    "duration": 56,
    "start_time": "2022-12-07T15:31:33.568Z"
   },
   {
    "duration": 28,
    "start_time": "2022-12-07T15:31:40.409Z"
   },
   {
    "duration": 4,
    "start_time": "2022-12-07T15:32:03.957Z"
   },
   {
    "duration": 3,
    "start_time": "2022-12-07T15:32:03.966Z"
   },
   {
    "duration": 693,
    "start_time": "2022-12-07T15:32:03.998Z"
   },
   {
    "duration": 138,
    "start_time": "2022-12-07T15:32:04.693Z"
   },
   {
    "duration": 17,
    "start_time": "2022-12-07T15:32:04.833Z"
   },
   {
    "duration": 13,
    "start_time": "2022-12-07T15:32:04.852Z"
   },
   {
    "duration": 101,
    "start_time": "2022-12-07T15:32:04.867Z"
   },
   {
    "duration": 246,
    "start_time": "2022-12-07T15:32:04.971Z"
   },
   {
    "duration": 21,
    "start_time": "2022-12-07T15:32:05.219Z"
   },
   {
    "duration": 18,
    "start_time": "2022-12-07T15:32:05.242Z"
   },
   {
    "duration": 46,
    "start_time": "2022-12-07T15:32:05.262Z"
   },
   {
    "duration": 3,
    "start_time": "2022-12-07T15:32:05.311Z"
   },
   {
    "duration": 241,
    "start_time": "2022-12-07T15:32:05.316Z"
   },
   {
    "duration": 13,
    "start_time": "2022-12-07T15:32:05.559Z"
   },
   {
    "duration": 24,
    "start_time": "2022-12-07T15:32:05.574Z"
   },
   {
    "duration": 17,
    "start_time": "2022-12-07T15:32:05.600Z"
   },
   {
    "duration": 11,
    "start_time": "2022-12-07T15:32:05.619Z"
   },
   {
    "duration": 11,
    "start_time": "2022-12-07T15:32:05.632Z"
   },
   {
    "duration": 98,
    "start_time": "2022-12-07T15:32:05.644Z"
   },
   {
    "duration": 8,
    "start_time": "2022-12-07T15:32:05.744Z"
   },
   {
    "duration": 70,
    "start_time": "2022-12-07T15:32:05.754Z"
   },
   {
    "duration": 8,
    "start_time": "2022-12-07T15:32:05.825Z"
   },
   {
    "duration": 20,
    "start_time": "2022-12-07T15:32:05.834Z"
   },
   {
    "duration": 6,
    "start_time": "2022-12-07T15:32:05.856Z"
   },
   {
    "duration": 37,
    "start_time": "2022-12-07T15:32:05.863Z"
   },
   {
    "duration": 14,
    "start_time": "2022-12-07T15:32:05.902Z"
   },
   {
    "duration": 4,
    "start_time": "2022-12-07T15:32:05.918Z"
   },
   {
    "duration": 38,
    "start_time": "2022-12-07T15:32:05.923Z"
   },
   {
    "duration": 82,
    "start_time": "2022-12-07T15:32:05.963Z"
   },
   {
    "duration": 13,
    "start_time": "2022-12-07T15:32:06.049Z"
   },
   {
    "duration": 18,
    "start_time": "2022-12-07T15:32:06.064Z"
   },
   {
    "duration": 12,
    "start_time": "2022-12-07T15:32:06.085Z"
   },
   {
    "duration": 29,
    "start_time": "2022-12-07T15:32:06.099Z"
   },
   {
    "duration": 12,
    "start_time": "2022-12-07T15:32:06.130Z"
   },
   {
    "duration": 757,
    "start_time": "2022-12-07T15:32:06.145Z"
   },
   {
    "duration": 3298,
    "start_time": "2022-12-07T15:32:06.905Z"
   },
   {
    "duration": 16,
    "start_time": "2022-12-07T15:32:10.205Z"
   },
   {
    "duration": 8,
    "start_time": "2022-12-07T15:32:10.223Z"
   },
   {
    "duration": 17,
    "start_time": "2022-12-07T15:32:10.232Z"
   },
   {
    "duration": 46,
    "start_time": "2022-12-07T15:32:10.251Z"
   },
   {
    "duration": 490,
    "start_time": "2022-12-07T15:32:10.299Z"
   },
   {
    "duration": 13,
    "start_time": "2022-12-07T15:32:10.791Z"
   },
   {
    "duration": 28,
    "start_time": "2022-12-07T15:32:10.806Z"
   },
   {
    "duration": 206,
    "start_time": "2022-12-07T15:32:10.835Z"
   },
   {
    "duration": 1097,
    "start_time": "2022-12-07T15:32:11.042Z"
   },
   {
    "duration": 11,
    "start_time": "2022-12-07T15:32:12.142Z"
   },
   {
    "duration": 13,
    "start_time": "2022-12-07T15:32:12.155Z"
   },
   {
    "duration": 31,
    "start_time": "2022-12-07T15:32:23.745Z"
   },
   {
    "duration": 52,
    "start_time": "2022-12-07T15:32:32.575Z"
   },
   {
    "duration": 58,
    "start_time": "2022-12-07T15:32:45.073Z"
   },
   {
    "duration": 29,
    "start_time": "2022-12-07T15:33:05.540Z"
   },
   {
    "duration": 14,
    "start_time": "2022-12-07T15:37:16.754Z"
   },
   {
    "duration": 6,
    "start_time": "2022-12-07T15:37:22.483Z"
   },
   {
    "duration": 176,
    "start_time": "2022-12-07T15:38:49.489Z"
   },
   {
    "duration": 12,
    "start_time": "2022-12-07T15:39:43.037Z"
   },
   {
    "duration": 5,
    "start_time": "2022-12-07T15:39:48.141Z"
   },
   {
    "duration": 4,
    "start_time": "2022-12-07T15:39:50.156Z"
   },
   {
    "duration": 9,
    "start_time": "2022-12-07T15:39:53.210Z"
   },
   {
    "duration": 886,
    "start_time": "2022-12-07T15:39:56.013Z"
   },
   {
    "duration": 27,
    "start_time": "2022-12-07T15:40:52.186Z"
   },
   {
    "duration": 12,
    "start_time": "2022-12-07T15:42:42.408Z"
   },
   {
    "duration": 15,
    "start_time": "2022-12-07T15:42:48.804Z"
   },
   {
    "duration": 786,
    "start_time": "2022-12-07T15:43:09.444Z"
   },
   {
    "duration": 23,
    "start_time": "2022-12-07T15:45:46.148Z"
   },
   {
    "duration": 14,
    "start_time": "2022-12-07T15:46:02.364Z"
   },
   {
    "duration": 4,
    "start_time": "2022-12-07T19:41:44.911Z"
   },
   {
    "duration": 9,
    "start_time": "2022-12-07T19:41:44.917Z"
   },
   {
    "duration": 692,
    "start_time": "2022-12-07T19:41:44.946Z"
   },
   {
    "duration": 17,
    "start_time": "2022-12-07T19:41:45.640Z"
   },
   {
    "duration": 15,
    "start_time": "2022-12-07T19:41:45.659Z"
   },
   {
    "duration": 31,
    "start_time": "2022-12-07T19:41:45.676Z"
   },
   {
    "duration": 59,
    "start_time": "2022-12-07T19:41:45.708Z"
   },
   {
    "duration": 238,
    "start_time": "2022-12-07T19:41:45.769Z"
   },
   {
    "duration": 20,
    "start_time": "2022-12-07T19:41:46.009Z"
   },
   {
    "duration": 16,
    "start_time": "2022-12-07T19:41:46.030Z"
   },
   {
    "duration": 21,
    "start_time": "2022-12-07T19:41:46.048Z"
   },
   {
    "duration": 3,
    "start_time": "2022-12-07T19:41:46.096Z"
   },
   {
    "duration": 230,
    "start_time": "2022-12-07T19:41:46.101Z"
   },
   {
    "duration": 13,
    "start_time": "2022-12-07T19:41:46.333Z"
   },
   {
    "duration": 6,
    "start_time": "2022-12-07T19:41:46.348Z"
   },
   {
    "duration": 15,
    "start_time": "2022-12-07T19:41:46.356Z"
   },
   {
    "duration": 27,
    "start_time": "2022-12-07T19:41:46.372Z"
   },
   {
    "duration": 7,
    "start_time": "2022-12-07T19:41:46.401Z"
   },
   {
    "duration": 101,
    "start_time": "2022-12-07T19:41:46.410Z"
   },
   {
    "duration": 9,
    "start_time": "2022-12-07T19:41:46.513Z"
   },
   {
    "duration": 88,
    "start_time": "2022-12-07T19:41:46.523Z"
   },
   {
    "duration": 10,
    "start_time": "2022-12-07T19:41:46.613Z"
   },
   {
    "duration": 32,
    "start_time": "2022-12-07T19:41:46.625Z"
   },
   {
    "duration": 8,
    "start_time": "2022-12-07T19:41:46.659Z"
   },
   {
    "duration": 28,
    "start_time": "2022-12-07T19:41:46.669Z"
   },
   {
    "duration": 13,
    "start_time": "2022-12-07T19:41:46.699Z"
   },
   {
    "duration": 12,
    "start_time": "2022-12-07T19:41:46.714Z"
   },
   {
    "duration": 16,
    "start_time": "2022-12-07T19:41:46.728Z"
   },
   {
    "duration": 94,
    "start_time": "2022-12-07T19:41:46.746Z"
   },
   {
    "duration": 4,
    "start_time": "2022-12-07T19:41:46.844Z"
   },
   {
    "duration": 796,
    "start_time": "2022-12-07T19:43:29.983Z"
   },
   {
    "duration": 30,
    "start_time": "2022-12-07T19:45:12.047Z"
   },
   {
    "duration": 31,
    "start_time": "2022-12-07T19:45:38.247Z"
   },
   {
    "duration": 58,
    "start_time": "2022-12-07T19:46:18.384Z"
   },
   {
    "duration": 12,
    "start_time": "2022-12-07T19:46:26.707Z"
   },
   {
    "duration": 4,
    "start_time": "2022-12-07T19:46:43.010Z"
   },
   {
    "duration": 13,
    "start_time": "2022-12-07T19:46:52.541Z"
   },
   {
    "duration": 15,
    "start_time": "2022-12-07T19:47:06.339Z"
   },
   {
    "duration": 13,
    "start_time": "2022-12-07T19:47:33.371Z"
   },
   {
    "duration": 6,
    "start_time": "2022-12-07T19:47:52.611Z"
   },
   {
    "duration": 44,
    "start_time": "2022-12-07T19:48:17.873Z"
   },
   {
    "duration": 5,
    "start_time": "2022-12-07T19:48:46.982Z"
   },
   {
    "duration": 7,
    "start_time": "2022-12-07T19:48:50.793Z"
   },
   {
    "duration": 6,
    "start_time": "2022-12-07T19:48:52.841Z"
   },
   {
    "duration": 810,
    "start_time": "2022-12-07T19:49:19.705Z"
   },
   {
    "duration": 847,
    "start_time": "2022-12-07T19:49:38.876Z"
   },
   {
    "duration": 22,
    "start_time": "2022-12-07T19:50:12.111Z"
   },
   {
    "duration": 19,
    "start_time": "2022-12-07T19:52:02.454Z"
   },
   {
    "duration": 42,
    "start_time": "2022-12-07T19:52:27.516Z"
   },
   {
    "duration": 19,
    "start_time": "2022-12-07T19:52:30.416Z"
   },
   {
    "duration": 27,
    "start_time": "2022-12-07T19:54:03.691Z"
   },
   {
    "duration": 5,
    "start_time": "2022-12-07T19:54:11.176Z"
   },
   {
    "duration": 21,
    "start_time": "2022-12-07T19:54:40.785Z"
   },
   {
    "duration": 16,
    "start_time": "2022-12-07T19:56:02.499Z"
   },
   {
    "duration": 22,
    "start_time": "2022-12-07T19:56:31.155Z"
   },
   {
    "duration": 80,
    "start_time": "2022-12-07T19:59:56.792Z"
   },
   {
    "duration": 31,
    "start_time": "2022-12-07T20:00:12.688Z"
   },
   {
    "duration": 15,
    "start_time": "2022-12-07T20:00:42.822Z"
   },
   {
    "duration": 4,
    "start_time": "2022-12-07T20:01:03.091Z"
   },
   {
    "duration": 27,
    "start_time": "2022-12-07T20:01:03.103Z"
   },
   {
    "duration": 853,
    "start_time": "2022-12-07T20:01:03.133Z"
   },
   {
    "duration": 27,
    "start_time": "2022-12-07T20:01:03.988Z"
   },
   {
    "duration": 19,
    "start_time": "2022-12-07T20:01:04.019Z"
   },
   {
    "duration": 11,
    "start_time": "2022-12-07T20:01:04.040Z"
   },
   {
    "duration": 77,
    "start_time": "2022-12-07T20:01:04.053Z"
   },
   {
    "duration": 229,
    "start_time": "2022-12-07T20:01:04.131Z"
   },
   {
    "duration": 17,
    "start_time": "2022-12-07T20:01:04.362Z"
   },
   {
    "duration": 23,
    "start_time": "2022-12-07T20:01:04.400Z"
   },
   {
    "duration": 24,
    "start_time": "2022-12-07T20:01:04.425Z"
   },
   {
    "duration": 4,
    "start_time": "2022-12-07T20:01:04.452Z"
   },
   {
    "duration": 255,
    "start_time": "2022-12-07T20:01:04.457Z"
   },
   {
    "duration": 13,
    "start_time": "2022-12-07T20:01:04.714Z"
   },
   {
    "duration": 6,
    "start_time": "2022-12-07T20:01:04.729Z"
   },
   {
    "duration": 15,
    "start_time": "2022-12-07T20:01:04.736Z"
   },
   {
    "duration": 5,
    "start_time": "2022-12-07T20:01:04.753Z"
   },
   {
    "duration": 8,
    "start_time": "2022-12-07T20:01:04.759Z"
   },
   {
    "duration": 107,
    "start_time": "2022-12-07T20:01:04.769Z"
   },
   {
    "duration": 8,
    "start_time": "2022-12-07T20:01:04.878Z"
   },
   {
    "duration": 66,
    "start_time": "2022-12-07T20:01:04.899Z"
   },
   {
    "duration": 8,
    "start_time": "2022-12-07T20:01:04.967Z"
   },
   {
    "duration": 39,
    "start_time": "2022-12-07T20:01:04.977Z"
   },
   {
    "duration": 9,
    "start_time": "2022-12-07T20:01:05.017Z"
   },
   {
    "duration": 6,
    "start_time": "2022-12-07T20:01:05.028Z"
   },
   {
    "duration": 12,
    "start_time": "2022-12-07T20:01:05.035Z"
   },
   {
    "duration": 4,
    "start_time": "2022-12-07T20:01:05.048Z"
   },
   {
    "duration": 10,
    "start_time": "2022-12-07T20:01:05.053Z"
   },
   {
    "duration": 96,
    "start_time": "2022-12-07T20:01:05.065Z"
   },
   {
    "duration": 4,
    "start_time": "2022-12-07T20:01:05.166Z"
   },
   {
    "duration": 10,
    "start_time": "2022-12-07T20:01:05.172Z"
   },
   {
    "duration": 9,
    "start_time": "2022-12-07T20:01:05.202Z"
   },
   {
    "duration": 26,
    "start_time": "2022-12-07T20:01:05.213Z"
   },
   {
    "duration": 796,
    "start_time": "2022-12-07T20:01:05.241Z"
   },
   {
    "duration": 19,
    "start_time": "2022-12-07T20:01:43.274Z"
   },
   {
    "duration": 14,
    "start_time": "2022-12-07T20:03:04.826Z"
   },
   {
    "duration": 13,
    "start_time": "2022-12-07T20:03:55.435Z"
   },
   {
    "duration": 440,
    "start_time": "2022-12-07T20:04:33.683Z"
   },
   {
    "duration": 34,
    "start_time": "2022-12-07T20:05:06.073Z"
   },
   {
    "duration": 3629,
    "start_time": "2022-12-07T20:05:16.495Z"
   },
   {
    "duration": 25,
    "start_time": "2022-12-07T20:05:31.383Z"
   },
   {
    "duration": 17,
    "start_time": "2022-12-07T20:05:59.854Z"
   },
   {
    "duration": 10,
    "start_time": "2022-12-07T20:13:48.189Z"
   },
   {
    "duration": 19,
    "start_time": "2022-12-07T20:13:50.888Z"
   },
   {
    "duration": 24,
    "start_time": "2022-12-07T20:13:53.387Z"
   },
   {
    "duration": 493,
    "start_time": "2022-12-07T20:13:56.419Z"
   },
   {
    "duration": 11,
    "start_time": "2022-12-07T20:14:01.001Z"
   },
   {
    "duration": 31,
    "start_time": "2022-12-07T20:15:26.380Z"
   },
   {
    "duration": 236,
    "start_time": "2022-12-07T20:15:29.535Z"
   },
   {
    "duration": 21,
    "start_time": "2022-12-07T20:15:38.365Z"
   },
   {
    "duration": 61,
    "start_time": "2022-12-07T20:17:02.467Z"
   },
   {
    "duration": 1082,
    "start_time": "2022-12-07T20:17:12.367Z"
   },
   {
    "duration": 11,
    "start_time": "2022-12-07T20:17:19.133Z"
   },
   {
    "duration": 15,
    "start_time": "2022-12-07T20:17:22.712Z"
   },
   {
    "duration": 24,
    "start_time": "2022-12-07T20:18:46.086Z"
   },
   {
    "duration": 17,
    "start_time": "2022-12-07T20:18:53.056Z"
   },
   {
    "duration": 22,
    "start_time": "2022-12-07T20:19:03.623Z"
   },
   {
    "duration": 4,
    "start_time": "2022-12-07T20:20:14.625Z"
   },
   {
    "duration": 5,
    "start_time": "2022-12-07T20:20:14.640Z"
   },
   {
    "duration": 851,
    "start_time": "2022-12-07T20:20:14.675Z"
   },
   {
    "duration": 154,
    "start_time": "2022-12-07T20:20:15.528Z"
   },
   {
    "duration": 35,
    "start_time": "2022-12-07T20:20:15.684Z"
   },
   {
    "duration": 16,
    "start_time": "2022-12-07T20:20:15.724Z"
   },
   {
    "duration": 100,
    "start_time": "2022-12-07T20:20:15.742Z"
   },
   {
    "duration": 271,
    "start_time": "2022-12-07T20:20:15.844Z"
   },
   {
    "duration": 30,
    "start_time": "2022-12-07T20:20:16.119Z"
   },
   {
    "duration": 18,
    "start_time": "2022-12-07T20:20:16.152Z"
   },
   {
    "duration": 53,
    "start_time": "2022-12-07T20:20:16.172Z"
   },
   {
    "duration": 6,
    "start_time": "2022-12-07T20:20:16.229Z"
   },
   {
    "duration": 321,
    "start_time": "2022-12-07T20:20:16.237Z"
   },
   {
    "duration": 11,
    "start_time": "2022-12-07T20:20:16.560Z"
   },
   {
    "duration": 7,
    "start_time": "2022-12-07T20:20:16.573Z"
   },
   {
    "duration": 39,
    "start_time": "2022-12-07T20:20:16.582Z"
   },
   {
    "duration": 34,
    "start_time": "2022-12-07T20:20:16.623Z"
   },
   {
    "duration": 16,
    "start_time": "2022-12-07T20:20:16.659Z"
   },
   {
    "duration": 87,
    "start_time": "2022-12-07T20:20:16.677Z"
   },
   {
    "duration": 9,
    "start_time": "2022-12-07T20:20:16.765Z"
   },
   {
    "duration": 76,
    "start_time": "2022-12-07T20:20:16.775Z"
   },
   {
    "duration": 11,
    "start_time": "2022-12-07T20:20:16.853Z"
   },
   {
    "duration": 46,
    "start_time": "2022-12-07T20:20:16.866Z"
   },
   {
    "duration": 7,
    "start_time": "2022-12-07T20:20:16.915Z"
   },
   {
    "duration": 9,
    "start_time": "2022-12-07T20:20:16.923Z"
   },
   {
    "duration": 14,
    "start_time": "2022-12-07T20:20:16.934Z"
   },
   {
    "duration": 7,
    "start_time": "2022-12-07T20:20:16.950Z"
   },
   {
    "duration": 16,
    "start_time": "2022-12-07T20:20:16.958Z"
   },
   {
    "duration": 81,
    "start_time": "2022-12-07T20:20:16.976Z"
   },
   {
    "duration": 4,
    "start_time": "2022-12-07T20:20:17.062Z"
   },
   {
    "duration": 8,
    "start_time": "2022-12-07T20:20:17.068Z"
   },
   {
    "duration": 32,
    "start_time": "2022-12-07T20:20:17.078Z"
   },
   {
    "duration": 11,
    "start_time": "2022-12-07T20:20:17.111Z"
   },
   {
    "duration": 807,
    "start_time": "2022-12-07T20:20:17.124Z"
   },
   {
    "duration": 17,
    "start_time": "2022-12-07T20:20:17.933Z"
   },
   {
    "duration": 3567,
    "start_time": "2022-12-07T20:20:17.955Z"
   },
   {
    "duration": 18,
    "start_time": "2022-12-07T20:20:21.525Z"
   },
   {
    "duration": 10,
    "start_time": "2022-12-07T20:20:21.545Z"
   },
   {
    "duration": 55,
    "start_time": "2022-12-07T20:20:21.558Z"
   },
   {
    "duration": 17,
    "start_time": "2022-12-07T20:20:21.615Z"
   },
   {
    "duration": 482,
    "start_time": "2022-12-07T20:20:21.634Z"
   },
   {
    "duration": 21,
    "start_time": "2022-12-07T20:20:22.117Z"
   },
   {
    "duration": 233,
    "start_time": "2022-12-07T20:20:22.140Z"
   },
   {
    "duration": 1493,
    "start_time": "2022-12-07T20:20:22.375Z"
   },
   {
    "duration": 13,
    "start_time": "2022-12-07T20:20:23.870Z"
   },
   {
    "duration": 19,
    "start_time": "2022-12-07T20:20:23.904Z"
   },
   {
    "duration": 7,
    "start_time": "2022-12-07T20:20:23.926Z"
   },
   {
    "duration": 39,
    "start_time": "2022-12-07T20:20:23.935Z"
   },
   {
    "duration": 210,
    "start_time": "2022-12-07T20:20:31.043Z"
   },
   {
    "duration": 11,
    "start_time": "2022-12-07T20:24:09.887Z"
   },
   {
    "duration": 379,
    "start_time": "2022-12-07T20:24:50.803Z"
   },
   {
    "duration": 14,
    "start_time": "2022-12-07T20:25:06.380Z"
   },
   {
    "duration": 15,
    "start_time": "2022-12-07T20:25:19.725Z"
   },
   {
    "duration": 9,
    "start_time": "2022-12-07T20:25:43.051Z"
   },
   {
    "duration": 67,
    "start_time": "2022-12-07T20:25:53.662Z"
   },
   {
    "duration": 45,
    "start_time": "2022-12-07T20:26:05.777Z"
   },
   {
    "duration": 28,
    "start_time": "2022-12-07T20:26:20.359Z"
   },
   {
    "duration": 19,
    "start_time": "2022-12-07T20:26:32.955Z"
   },
   {
    "duration": 21,
    "start_time": "2022-12-07T20:26:54.523Z"
   },
   {
    "duration": 25,
    "start_time": "2022-12-07T20:26:59.567Z"
   },
   {
    "duration": 4,
    "start_time": "2022-12-07T20:27:18.679Z"
   },
   {
    "duration": 4,
    "start_time": "2022-12-07T20:27:18.688Z"
   },
   {
    "duration": 873,
    "start_time": "2022-12-07T20:27:18.711Z"
   },
   {
    "duration": 30,
    "start_time": "2022-12-07T20:27:19.586Z"
   },
   {
    "duration": 54,
    "start_time": "2022-12-07T20:27:19.618Z"
   },
   {
    "duration": 12,
    "start_time": "2022-12-07T20:27:19.674Z"
   },
   {
    "duration": 80,
    "start_time": "2022-12-07T20:27:19.688Z"
   },
   {
    "duration": 260,
    "start_time": "2022-12-07T20:27:19.770Z"
   },
   {
    "duration": 26,
    "start_time": "2022-12-07T20:27:20.037Z"
   },
   {
    "duration": 17,
    "start_time": "2022-12-07T20:27:20.065Z"
   },
   {
    "duration": 30,
    "start_time": "2022-12-07T20:27:20.083Z"
   },
   {
    "duration": 35,
    "start_time": "2022-12-07T20:27:20.115Z"
   },
   {
    "duration": 283,
    "start_time": "2022-12-07T20:27:20.152Z"
   },
   {
    "duration": 11,
    "start_time": "2022-12-07T20:27:20.437Z"
   },
   {
    "duration": 20,
    "start_time": "2022-12-07T20:27:20.450Z"
   },
   {
    "duration": 30,
    "start_time": "2022-12-07T20:27:20.472Z"
   },
   {
    "duration": 50,
    "start_time": "2022-12-07T20:27:20.504Z"
   },
   {
    "duration": 13,
    "start_time": "2022-12-07T20:27:20.556Z"
   },
   {
    "duration": 133,
    "start_time": "2022-12-07T20:27:20.570Z"
   },
   {
    "duration": 24,
    "start_time": "2022-12-07T20:27:20.705Z"
   },
   {
    "duration": 71,
    "start_time": "2022-12-07T20:27:20.733Z"
   },
   {
    "duration": 19,
    "start_time": "2022-12-07T20:27:20.813Z"
   },
   {
    "duration": 46,
    "start_time": "2022-12-07T20:27:20.833Z"
   },
   {
    "duration": 49,
    "start_time": "2022-12-07T20:27:20.881Z"
   },
   {
    "duration": 13,
    "start_time": "2022-12-07T20:27:20.933Z"
   },
   {
    "duration": 19,
    "start_time": "2022-12-07T20:27:20.948Z"
   },
   {
    "duration": 26,
    "start_time": "2022-12-07T20:27:20.969Z"
   },
   {
    "duration": 62,
    "start_time": "2022-12-07T20:27:20.999Z"
   },
   {
    "duration": 84,
    "start_time": "2022-12-07T20:27:21.062Z"
   },
   {
    "duration": 7,
    "start_time": "2022-12-07T20:27:21.149Z"
   },
   {
    "duration": 19,
    "start_time": "2022-12-07T20:27:21.158Z"
   },
   {
    "duration": 56,
    "start_time": "2022-12-07T20:27:21.179Z"
   },
   {
    "duration": 29,
    "start_time": "2022-12-07T20:27:21.237Z"
   },
   {
    "duration": 966,
    "start_time": "2022-12-07T20:27:21.268Z"
   },
   {
    "duration": 19,
    "start_time": "2022-12-07T20:27:22.235Z"
   },
   {
    "duration": 3793,
    "start_time": "2022-12-07T20:27:22.256Z"
   },
   {
    "duration": 21,
    "start_time": "2022-12-07T20:27:26.052Z"
   },
   {
    "duration": 34,
    "start_time": "2022-12-07T20:27:26.075Z"
   },
   {
    "duration": 39,
    "start_time": "2022-12-07T20:27:26.119Z"
   },
   {
    "duration": 20,
    "start_time": "2022-12-07T20:27:26.160Z"
   },
   {
    "duration": 564,
    "start_time": "2022-12-07T20:27:26.182Z"
   },
   {
    "duration": 23,
    "start_time": "2022-12-07T20:27:26.748Z"
   },
   {
    "duration": 250,
    "start_time": "2022-12-07T20:27:26.773Z"
   },
   {
    "duration": 1162,
    "start_time": "2022-12-07T20:27:27.028Z"
   },
   {
    "duration": 26,
    "start_time": "2022-12-07T20:27:28.192Z"
   },
   {
    "duration": 28,
    "start_time": "2022-12-07T20:27:28.225Z"
   },
   {
    "duration": 3,
    "start_time": "2022-12-07T20:27:28.255Z"
   },
   {
    "duration": 61,
    "start_time": "2022-12-07T20:27:28.260Z"
   },
   {
    "duration": 222,
    "start_time": "2022-12-07T20:27:28.329Z"
   },
   {
    "duration": 12,
    "start_time": "2022-12-07T20:52:40.458Z"
   },
   {
    "duration": 9,
    "start_time": "2022-12-07T20:53:11.279Z"
   },
   {
    "duration": 4,
    "start_time": "2022-12-07T20:53:51.282Z"
   },
   {
    "duration": 14,
    "start_time": "2022-12-07T20:54:50.391Z"
   },
   {
    "duration": 10,
    "start_time": "2022-12-07T20:54:52.613Z"
   },
   {
    "duration": 12,
    "start_time": "2022-12-07T20:55:07.715Z"
   },
   {
    "duration": 10,
    "start_time": "2022-12-07T20:55:07.729Z"
   },
   {
    "duration": 744,
    "start_time": "2022-12-07T20:55:07.741Z"
   },
   {
    "duration": 23,
    "start_time": "2022-12-07T20:55:08.487Z"
   },
   {
    "duration": 29,
    "start_time": "2022-12-07T20:55:08.515Z"
   },
   {
    "duration": 16,
    "start_time": "2022-12-07T20:55:08.547Z"
   },
   {
    "duration": 78,
    "start_time": "2022-12-07T20:55:08.565Z"
   },
   {
    "duration": 250,
    "start_time": "2022-12-07T20:55:08.644Z"
   },
   {
    "duration": 28,
    "start_time": "2022-12-07T20:55:08.898Z"
   },
   {
    "duration": 20,
    "start_time": "2022-12-07T20:55:08.927Z"
   },
   {
    "duration": 16,
    "start_time": "2022-12-07T20:55:08.949Z"
   },
   {
    "duration": 3,
    "start_time": "2022-12-07T20:55:08.968Z"
   },
   {
    "duration": 274,
    "start_time": "2022-12-07T20:55:08.973Z"
   },
   {
    "duration": 11,
    "start_time": "2022-12-07T20:55:09.248Z"
   },
   {
    "duration": 5,
    "start_time": "2022-12-07T20:55:09.260Z"
   },
   {
    "duration": 37,
    "start_time": "2022-12-07T20:55:09.267Z"
   },
   {
    "duration": 18,
    "start_time": "2022-12-07T20:55:09.311Z"
   },
   {
    "duration": 6,
    "start_time": "2022-12-07T20:55:09.330Z"
   },
   {
    "duration": 82,
    "start_time": "2022-12-07T20:55:09.338Z"
   },
   {
    "duration": 9,
    "start_time": "2022-12-07T20:55:09.424Z"
   },
   {
    "duration": 59,
    "start_time": "2022-12-07T20:55:09.434Z"
   },
   {
    "duration": 15,
    "start_time": "2022-12-07T20:55:09.495Z"
   },
   {
    "duration": 34,
    "start_time": "2022-12-07T20:55:09.512Z"
   },
   {
    "duration": 6,
    "start_time": "2022-12-07T20:55:09.548Z"
   },
   {
    "duration": 5,
    "start_time": "2022-12-07T20:55:09.555Z"
   },
   {
    "duration": 12,
    "start_time": "2022-12-07T20:55:09.561Z"
   },
   {
    "duration": 3,
    "start_time": "2022-12-07T20:55:09.575Z"
   },
   {
    "duration": 17,
    "start_time": "2022-12-07T20:55:09.580Z"
   },
   {
    "duration": 63,
    "start_time": "2022-12-07T20:55:09.606Z"
   },
   {
    "duration": 4,
    "start_time": "2022-12-07T20:55:09.672Z"
   },
   {
    "duration": 6,
    "start_time": "2022-12-07T20:55:09.678Z"
   },
   {
    "duration": 15,
    "start_time": "2022-12-07T20:55:09.686Z"
   },
   {
    "duration": 28,
    "start_time": "2022-12-07T20:55:09.704Z"
   },
   {
    "duration": 907,
    "start_time": "2022-12-07T20:55:09.734Z"
   },
   {
    "duration": 14,
    "start_time": "2022-12-07T20:55:10.643Z"
   },
   {
    "duration": 3975,
    "start_time": "2022-12-07T20:55:10.659Z"
   },
   {
    "duration": 17,
    "start_time": "2022-12-07T20:55:14.636Z"
   },
   {
    "duration": 9,
    "start_time": "2022-12-07T20:55:14.655Z"
   },
   {
    "duration": 35,
    "start_time": "2022-12-07T20:55:14.665Z"
   },
   {
    "duration": 17,
    "start_time": "2022-12-07T20:55:14.701Z"
   },
   {
    "duration": 505,
    "start_time": "2022-12-07T20:55:14.722Z"
   },
   {
    "duration": 22,
    "start_time": "2022-12-07T20:55:15.230Z"
   },
   {
    "duration": 227,
    "start_time": "2022-12-07T20:55:15.254Z"
   },
   {
    "duration": 1182,
    "start_time": "2022-12-07T20:55:15.483Z"
   },
   {
    "duration": 9,
    "start_time": "2022-12-07T20:55:16.667Z"
   },
   {
    "duration": 38,
    "start_time": "2022-12-07T20:55:16.678Z"
   },
   {
    "duration": 17,
    "start_time": "2022-12-07T20:55:16.721Z"
   },
   {
    "duration": 38,
    "start_time": "2022-12-07T20:55:16.740Z"
   },
   {
    "duration": 208,
    "start_time": "2022-12-07T20:55:16.780Z"
   },
   {
    "duration": 9,
    "start_time": "2022-12-07T20:55:22.635Z"
   },
   {
    "duration": 10,
    "start_time": "2022-12-07T20:55:24.843Z"
   },
   {
    "duration": 5,
    "start_time": "2022-12-07T20:55:26.634Z"
   },
   {
    "duration": 10,
    "start_time": "2022-12-07T20:55:31.051Z"
   },
   {
    "duration": 12,
    "start_time": "2022-12-07T20:55:32.502Z"
   },
   {
    "duration": 10,
    "start_time": "2022-12-07T20:55:57.251Z"
   },
   {
    "duration": 3,
    "start_time": "2022-12-07T20:56:14.449Z"
   },
   {
    "duration": 14,
    "start_time": "2022-12-07T20:56:14.456Z"
   },
   {
    "duration": 737,
    "start_time": "2022-12-07T20:56:14.472Z"
   },
   {
    "duration": 19,
    "start_time": "2022-12-07T20:56:15.220Z"
   },
   {
    "duration": 20,
    "start_time": "2022-12-07T20:56:15.240Z"
   },
   {
    "duration": 14,
    "start_time": "2022-12-07T20:56:15.262Z"
   },
   {
    "duration": 76,
    "start_time": "2022-12-07T20:56:15.277Z"
   },
   {
    "duration": 231,
    "start_time": "2022-12-07T20:56:15.355Z"
   },
   {
    "duration": 37,
    "start_time": "2022-12-07T20:56:15.588Z"
   },
   {
    "duration": 15,
    "start_time": "2022-12-07T20:56:15.629Z"
   },
   {
    "duration": 20,
    "start_time": "2022-12-07T20:56:15.646Z"
   },
   {
    "duration": 5,
    "start_time": "2022-12-07T20:56:15.669Z"
   },
   {
    "duration": 271,
    "start_time": "2022-12-07T20:56:15.675Z"
   },
   {
    "duration": 11,
    "start_time": "2022-12-07T20:56:15.948Z"
   },
   {
    "duration": 12,
    "start_time": "2022-12-07T20:56:15.961Z"
   },
   {
    "duration": 40,
    "start_time": "2022-12-07T20:56:15.975Z"
   },
   {
    "duration": 37,
    "start_time": "2022-12-07T20:56:16.017Z"
   },
   {
    "duration": 32,
    "start_time": "2022-12-07T20:56:16.058Z"
   },
   {
    "duration": 89,
    "start_time": "2022-12-07T20:56:16.093Z"
   },
   {
    "duration": 16,
    "start_time": "2022-12-07T20:56:16.185Z"
   },
   {
    "duration": 103,
    "start_time": "2022-12-07T20:56:16.204Z"
   },
   {
    "duration": 18,
    "start_time": "2022-12-07T20:56:16.311Z"
   },
   {
    "duration": 28,
    "start_time": "2022-12-07T20:56:16.331Z"
   },
   {
    "duration": 7,
    "start_time": "2022-12-07T20:56:16.361Z"
   },
   {
    "duration": 15,
    "start_time": "2022-12-07T20:56:16.370Z"
   },
   {
    "duration": 30,
    "start_time": "2022-12-07T20:56:16.387Z"
   },
   {
    "duration": 37,
    "start_time": "2022-12-07T20:56:16.419Z"
   },
   {
    "duration": 16,
    "start_time": "2022-12-07T20:56:16.458Z"
   },
   {
    "duration": 69,
    "start_time": "2022-12-07T20:56:16.475Z"
   },
   {
    "duration": 4,
    "start_time": "2022-12-07T20:56:16.548Z"
   },
   {
    "duration": 8,
    "start_time": "2022-12-07T20:56:16.554Z"
   },
   {
    "duration": 9,
    "start_time": "2022-12-07T20:56:16.563Z"
   },
   {
    "duration": 15,
    "start_time": "2022-12-07T20:56:16.574Z"
   },
   {
    "duration": 869,
    "start_time": "2022-12-07T20:56:16.590Z"
   },
   {
    "duration": 13,
    "start_time": "2022-12-07T20:56:17.460Z"
   },
   {
    "duration": 3654,
    "start_time": "2022-12-07T20:56:17.474Z"
   },
   {
    "duration": 18,
    "start_time": "2022-12-07T20:56:21.133Z"
   },
   {
    "duration": 8,
    "start_time": "2022-12-07T20:56:21.153Z"
   },
   {
    "duration": 40,
    "start_time": "2022-12-07T20:56:21.162Z"
   },
   {
    "duration": 20,
    "start_time": "2022-12-07T20:56:21.203Z"
   },
   {
    "duration": 505,
    "start_time": "2022-12-07T20:56:21.224Z"
   },
   {
    "duration": 23,
    "start_time": "2022-12-07T20:56:21.731Z"
   },
   {
    "duration": 231,
    "start_time": "2022-12-07T20:56:21.756Z"
   },
   {
    "duration": 1258,
    "start_time": "2022-12-07T20:56:21.989Z"
   },
   {
    "duration": 10,
    "start_time": "2022-12-07T20:56:23.248Z"
   },
   {
    "duration": 14,
    "start_time": "2022-12-07T20:56:23.259Z"
   },
   {
    "duration": 31,
    "start_time": "2022-12-07T20:56:23.275Z"
   },
   {
    "duration": 53,
    "start_time": "2022-12-07T20:56:23.308Z"
   },
   {
    "duration": 203,
    "start_time": "2022-12-07T20:56:23.362Z"
   },
   {
    "duration": 9,
    "start_time": "2022-12-07T20:56:23.567Z"
   },
   {
    "duration": 29,
    "start_time": "2022-12-07T20:56:23.578Z"
   },
   {
    "duration": 11,
    "start_time": "2022-12-07T20:56:23.609Z"
   },
   {
    "duration": 12,
    "start_time": "2022-12-07T20:56:23.622Z"
   },
   {
    "duration": 5,
    "start_time": "2022-12-07T20:56:23.636Z"
   },
   {
    "duration": 23,
    "start_time": "2022-12-07T20:56:23.642Z"
   },
   {
    "duration": 20,
    "start_time": "2022-12-07T20:56:23.667Z"
   },
   {
    "duration": 0,
    "start_time": "2022-12-07T20:56:23.698Z"
   },
   {
    "duration": 0,
    "start_time": "2022-12-07T20:56:23.699Z"
   },
   {
    "duration": 0,
    "start_time": "2022-12-07T20:56:23.700Z"
   },
   {
    "duration": 0,
    "start_time": "2022-12-07T20:56:23.704Z"
   },
   {
    "duration": 0,
    "start_time": "2022-12-07T20:56:23.705Z"
   },
   {
    "duration": 0,
    "start_time": "2022-12-07T20:56:23.706Z"
   },
   {
    "duration": 0,
    "start_time": "2022-12-07T20:56:23.707Z"
   },
   {
    "duration": 241,
    "start_time": "2022-12-07T20:58:58.511Z"
   },
   {
    "duration": 17,
    "start_time": "2022-12-07T20:59:25.219Z"
   },
   {
    "duration": 11,
    "start_time": "2022-12-07T21:01:52.709Z"
   },
   {
    "duration": 13,
    "start_time": "2022-12-07T21:01:57.640Z"
   },
   {
    "duration": 14,
    "start_time": "2022-12-07T21:04:51.814Z"
   },
   {
    "duration": 11,
    "start_time": "2022-12-07T21:05:40.673Z"
   },
   {
    "duration": 61,
    "start_time": "2022-12-07T21:07:54.129Z"
   },
   {
    "duration": 21,
    "start_time": "2022-12-07T21:08:00.881Z"
   },
   {
    "duration": 25,
    "start_time": "2022-12-07T21:08:25.421Z"
   },
   {
    "duration": 37,
    "start_time": "2022-12-07T21:10:14.026Z"
   },
   {
    "duration": 16,
    "start_time": "2022-12-07T21:11:30.993Z"
   },
   {
    "duration": 14,
    "start_time": "2022-12-07T21:12:40.959Z"
   },
   {
    "duration": 17,
    "start_time": "2022-12-07T21:13:30.694Z"
   },
   {
    "duration": 7,
    "start_time": "2022-12-07T21:13:36.944Z"
   },
   {
    "duration": 13,
    "start_time": "2022-12-07T21:13:43.963Z"
   },
   {
    "duration": 25,
    "start_time": "2022-12-07T21:14:41.529Z"
   },
   {
    "duration": 8,
    "start_time": "2022-12-07T21:15:09.463Z"
   },
   {
    "duration": 7,
    "start_time": "2022-12-07T21:15:09.473Z"
   },
   {
    "duration": 934,
    "start_time": "2022-12-07T21:15:09.485Z"
   },
   {
    "duration": 26,
    "start_time": "2022-12-07T21:15:10.421Z"
   },
   {
    "duration": 24,
    "start_time": "2022-12-07T21:15:10.450Z"
   },
   {
    "duration": 44,
    "start_time": "2022-12-07T21:15:10.476Z"
   },
   {
    "duration": 73,
    "start_time": "2022-12-07T21:15:10.529Z"
   },
   {
    "duration": 270,
    "start_time": "2022-12-07T21:15:10.604Z"
   },
   {
    "duration": 44,
    "start_time": "2022-12-07T21:15:10.876Z"
   },
   {
    "duration": 23,
    "start_time": "2022-12-07T21:15:10.922Z"
   },
   {
    "duration": 37,
    "start_time": "2022-12-07T21:15:10.948Z"
   },
   {
    "duration": 5,
    "start_time": "2022-12-07T21:15:10.988Z"
   },
   {
    "duration": 359,
    "start_time": "2022-12-07T21:15:10.995Z"
   },
   {
    "duration": 13,
    "start_time": "2022-12-07T21:15:11.356Z"
   },
   {
    "duration": 9,
    "start_time": "2022-12-07T21:15:11.370Z"
   },
   {
    "duration": 36,
    "start_time": "2022-12-07T21:15:11.381Z"
   },
   {
    "duration": 23,
    "start_time": "2022-12-07T21:15:11.424Z"
   },
   {
    "duration": 24,
    "start_time": "2022-12-07T21:15:11.450Z"
   },
   {
    "duration": 104,
    "start_time": "2022-12-07T21:15:11.476Z"
   },
   {
    "duration": 21,
    "start_time": "2022-12-07T21:15:11.585Z"
   },
   {
    "duration": 79,
    "start_time": "2022-12-07T21:15:11.615Z"
   },
   {
    "duration": 16,
    "start_time": "2022-12-07T21:15:11.700Z"
   },
   {
    "duration": 49,
    "start_time": "2022-12-07T21:15:11.718Z"
   },
   {
    "duration": 7,
    "start_time": "2022-12-07T21:15:11.769Z"
   },
   {
    "duration": 4,
    "start_time": "2022-12-07T21:15:11.779Z"
   },
   {
    "duration": 12,
    "start_time": "2022-12-07T21:15:11.785Z"
   },
   {
    "duration": 33,
    "start_time": "2022-12-07T21:15:11.801Z"
   },
   {
    "duration": 15,
    "start_time": "2022-12-07T21:15:11.837Z"
   },
   {
    "duration": 109,
    "start_time": "2022-12-07T21:15:11.855Z"
   },
   {
    "duration": 14,
    "start_time": "2022-12-07T21:15:11.968Z"
   },
   {
    "duration": 33,
    "start_time": "2022-12-07T21:15:11.983Z"
   },
   {
    "duration": 50,
    "start_time": "2022-12-07T21:15:12.023Z"
   },
   {
    "duration": 63,
    "start_time": "2022-12-07T21:15:12.075Z"
   },
   {
    "duration": 1004,
    "start_time": "2022-12-07T21:15:12.140Z"
   },
   {
    "duration": 19,
    "start_time": "2022-12-07T21:15:13.146Z"
   },
   {
    "duration": 3945,
    "start_time": "2022-12-07T21:15:13.167Z"
   },
   {
    "duration": 32,
    "start_time": "2022-12-07T21:15:17.118Z"
   },
   {
    "duration": 26,
    "start_time": "2022-12-07T21:15:17.152Z"
   },
   {
    "duration": 30,
    "start_time": "2022-12-07T21:15:17.181Z"
   },
   {
    "duration": 64,
    "start_time": "2022-12-07T21:15:17.218Z"
   },
   {
    "duration": 576,
    "start_time": "2022-12-07T21:15:17.286Z"
   },
   {
    "duration": 36,
    "start_time": "2022-12-07T21:15:17.864Z"
   },
   {
    "duration": 307,
    "start_time": "2022-12-07T21:15:17.901Z"
   },
   {
    "duration": 1463,
    "start_time": "2022-12-07T21:15:18.210Z"
   },
   {
    "duration": 13,
    "start_time": "2022-12-07T21:15:19.674Z"
   },
   {
    "duration": 25,
    "start_time": "2022-12-07T21:15:19.688Z"
   },
   {
    "duration": 51,
    "start_time": "2022-12-07T21:15:19.716Z"
   },
   {
    "duration": 56,
    "start_time": "2022-12-07T21:15:19.769Z"
   },
   {
    "duration": 257,
    "start_time": "2022-12-07T21:15:19.827Z"
   },
   {
    "duration": 27,
    "start_time": "2022-12-07T21:15:20.087Z"
   },
   {
    "duration": 34,
    "start_time": "2022-12-07T21:15:20.119Z"
   },
   {
    "duration": 24,
    "start_time": "2022-12-07T21:15:20.156Z"
   },
   {
    "duration": 29,
    "start_time": "2022-12-07T21:15:20.183Z"
   },
   {
    "duration": 38,
    "start_time": "2022-12-07T21:15:20.225Z"
   },
   {
    "duration": 335,
    "start_time": "2022-12-07T21:15:20.266Z"
   },
   {
    "duration": 41,
    "start_time": "2022-12-07T21:15:20.609Z"
   },
   {
    "duration": 30,
    "start_time": "2022-12-07T21:15:25.399Z"
   },
   {
    "duration": 15,
    "start_time": "2022-12-07T21:15:36.499Z"
   },
   {
    "duration": 6,
    "start_time": "2022-12-07T21:15:39.280Z"
   },
   {
    "duration": 93,
    "start_time": "2022-12-07T21:17:36.089Z"
   },
   {
    "duration": 10,
    "start_time": "2022-12-07T21:17:47.234Z"
   },
   {
    "duration": 9,
    "start_time": "2022-12-07T21:18:25.988Z"
   },
   {
    "duration": 30,
    "start_time": "2022-12-07T21:18:33.584Z"
   },
   {
    "duration": 47,
    "start_time": "2022-12-07T21:18:36.505Z"
   },
   {
    "duration": 50,
    "start_time": "2022-12-07T21:19:17.855Z"
   },
   {
    "duration": 27,
    "start_time": "2022-12-07T21:22:38.516Z"
   },
   {
    "duration": 31,
    "start_time": "2022-12-07T21:23:53.045Z"
   },
   {
    "duration": 41,
    "start_time": "2022-12-07T21:24:06.548Z"
   },
   {
    "duration": 30,
    "start_time": "2022-12-07T21:24:57.806Z"
   },
   {
    "duration": 30,
    "start_time": "2022-12-07T21:25:53.903Z"
   },
   {
    "duration": 28,
    "start_time": "2022-12-07T21:26:42.319Z"
   },
   {
    "duration": 23,
    "start_time": "2022-12-07T21:27:15.713Z"
   },
   {
    "duration": 40,
    "start_time": "2022-12-07T21:28:02.616Z"
   },
   {
    "duration": 24,
    "start_time": "2022-12-07T21:28:48.593Z"
   },
   {
    "duration": 32,
    "start_time": "2022-12-07T21:29:19.729Z"
   },
   {
    "duration": 59,
    "start_time": "2022-12-07T21:29:56.696Z"
   },
   {
    "duration": 31,
    "start_time": "2022-12-07T21:30:04.824Z"
   },
   {
    "duration": 29,
    "start_time": "2022-12-07T21:30:25.371Z"
   },
   {
    "duration": 80,
    "start_time": "2022-12-07T21:34:14.667Z"
   },
   {
    "duration": 6,
    "start_time": "2022-12-07T21:36:16.740Z"
   },
   {
    "duration": 6,
    "start_time": "2022-12-07T21:39:55.157Z"
   },
   {
    "duration": 16,
    "start_time": "2022-12-07T21:40:03.567Z"
   },
   {
    "duration": 18,
    "start_time": "2022-12-07T21:50:06.815Z"
   },
   {
    "duration": 4,
    "start_time": "2022-12-07T21:50:09.968Z"
   },
   {
    "duration": 7,
    "start_time": "2022-12-07T21:50:09.975Z"
   },
   {
    "duration": 860,
    "start_time": "2022-12-07T21:50:09.988Z"
   },
   {
    "duration": 22,
    "start_time": "2022-12-07T21:50:10.851Z"
   },
   {
    "duration": 37,
    "start_time": "2022-12-07T21:50:10.875Z"
   },
   {
    "duration": 19,
    "start_time": "2022-12-07T21:50:10.915Z"
   },
   {
    "duration": 105,
    "start_time": "2022-12-07T21:50:10.936Z"
   },
   {
    "duration": 231,
    "start_time": "2022-12-07T21:50:11.043Z"
   },
   {
    "duration": 35,
    "start_time": "2022-12-07T21:50:11.276Z"
   },
   {
    "duration": 17,
    "start_time": "2022-12-07T21:50:11.313Z"
   },
   {
    "duration": 22,
    "start_time": "2022-12-07T21:50:11.337Z"
   },
   {
    "duration": 3,
    "start_time": "2022-12-07T21:50:11.362Z"
   },
   {
    "duration": 282,
    "start_time": "2022-12-07T21:50:11.367Z"
   },
   {
    "duration": 11,
    "start_time": "2022-12-07T21:50:11.651Z"
   },
   {
    "duration": 6,
    "start_time": "2022-12-07T21:50:11.664Z"
   },
   {
    "duration": 68,
    "start_time": "2022-12-07T21:50:11.671Z"
   },
   {
    "duration": 16,
    "start_time": "2022-12-07T21:50:11.741Z"
   },
   {
    "duration": 9,
    "start_time": "2022-12-07T21:50:11.758Z"
   },
   {
    "duration": 98,
    "start_time": "2022-12-07T21:50:11.769Z"
   },
   {
    "duration": 8,
    "start_time": "2022-12-07T21:50:11.869Z"
   },
   {
    "duration": 71,
    "start_time": "2022-12-07T21:50:11.878Z"
   },
   {
    "duration": 11,
    "start_time": "2022-12-07T21:50:11.951Z"
   },
   {
    "duration": 19,
    "start_time": "2022-12-07T21:50:11.964Z"
   },
   {
    "duration": 11,
    "start_time": "2022-12-07T21:50:11.997Z"
   },
   {
    "duration": 36,
    "start_time": "2022-12-07T21:50:12.009Z"
   },
   {
    "duration": 12,
    "start_time": "2022-12-07T21:50:12.046Z"
   },
   {
    "duration": 5,
    "start_time": "2022-12-07T21:50:12.060Z"
   },
   {
    "duration": 10,
    "start_time": "2022-12-07T21:50:12.067Z"
   },
   {
    "duration": 75,
    "start_time": "2022-12-07T21:50:12.079Z"
   },
   {
    "duration": 4,
    "start_time": "2022-12-07T21:50:12.159Z"
   },
   {
    "duration": 6,
    "start_time": "2022-12-07T21:50:12.165Z"
   },
   {
    "duration": 6,
    "start_time": "2022-12-07T21:50:12.173Z"
   },
   {
    "duration": 59,
    "start_time": "2022-12-07T21:50:12.180Z"
   },
   {
    "duration": 902,
    "start_time": "2022-12-07T21:50:12.241Z"
   },
   {
    "duration": 14,
    "start_time": "2022-12-07T21:50:13.144Z"
   },
   {
    "duration": 3879,
    "start_time": "2022-12-07T21:50:13.160Z"
   },
   {
    "duration": 16,
    "start_time": "2022-12-07T21:50:17.042Z"
   },
   {
    "duration": 32,
    "start_time": "2022-12-07T21:50:17.060Z"
   },
   {
    "duration": 63,
    "start_time": "2022-12-07T21:50:17.094Z"
   },
   {
    "duration": 15,
    "start_time": "2022-12-07T21:50:17.158Z"
   },
   {
    "duration": 433,
    "start_time": "2022-12-07T21:50:17.174Z"
   },
   {
    "duration": 35,
    "start_time": "2022-12-07T21:50:17.609Z"
   },
   {
    "duration": 226,
    "start_time": "2022-12-07T21:50:17.646Z"
   },
   {
    "duration": 1185,
    "start_time": "2022-12-07T21:50:17.874Z"
   },
   {
    "duration": 8,
    "start_time": "2022-12-07T21:50:19.062Z"
   },
   {
    "duration": 40,
    "start_time": "2022-12-07T21:50:19.072Z"
   },
   {
    "duration": 40,
    "start_time": "2022-12-07T21:50:19.113Z"
   },
   {
    "duration": 48,
    "start_time": "2022-12-07T21:50:19.155Z"
   },
   {
    "duration": 228,
    "start_time": "2022-12-07T21:50:19.211Z"
   },
   {
    "duration": 9,
    "start_time": "2022-12-07T21:50:19.442Z"
   },
   {
    "duration": 10,
    "start_time": "2022-12-07T21:50:19.452Z"
   },
   {
    "duration": 4,
    "start_time": "2022-12-07T21:50:19.463Z"
   },
   {
    "duration": 31,
    "start_time": "2022-12-07T21:50:19.469Z"
   },
   {
    "duration": 37,
    "start_time": "2022-12-07T21:50:19.501Z"
   },
   {
    "duration": 247,
    "start_time": "2022-12-07T21:50:19.539Z"
   },
   {
    "duration": 46,
    "start_time": "2022-12-07T21:50:19.787Z"
   },
   {
    "duration": 20,
    "start_time": "2022-12-07T21:50:19.835Z"
   },
   {
    "duration": 5,
    "start_time": "2022-12-07T21:50:19.857Z"
   },
   {
    "duration": 7,
    "start_time": "2022-12-07T21:50:19.863Z"
   },
   {
    "duration": 8,
    "start_time": "2022-12-07T21:50:19.871Z"
   },
   {
    "duration": 6,
    "start_time": "2022-12-07T21:50:19.881Z"
   },
   {
    "duration": 41,
    "start_time": "2022-12-07T21:50:19.889Z"
   },
   {
    "duration": 46,
    "start_time": "2022-12-07T21:50:19.932Z"
   },
   {
    "duration": 4,
    "start_time": "2022-12-07T21:50:19.981Z"
   },
   {
    "duration": 11,
    "start_time": "2022-12-07T21:50:19.986Z"
   },
   {
    "duration": 19,
    "start_time": "2022-12-07T21:50:27.623Z"
   },
   {
    "duration": 14,
    "start_time": "2022-12-07T21:51:13.729Z"
   },
   {
    "duration": 4,
    "start_time": "2022-12-07T21:52:51.643Z"
   },
   {
    "duration": 642,
    "start_time": "2022-12-07T21:53:07.684Z"
   },
   {
    "duration": 1186,
    "start_time": "2022-12-07T21:53:17.323Z"
   },
   {
    "duration": 8,
    "start_time": "2022-12-07T21:53:25.778Z"
   },
   {
    "duration": 6,
    "start_time": "2022-12-07T21:53:57.265Z"
   },
   {
    "duration": 711,
    "start_time": "2022-12-07T21:54:00.994Z"
   },
   {
    "duration": 4,
    "start_time": "2022-12-07T21:54:10.976Z"
   },
   {
    "duration": 38,
    "start_time": "2022-12-07T21:54:10.984Z"
   },
   {
    "duration": 903,
    "start_time": "2022-12-07T21:54:11.027Z"
   },
   {
    "duration": 18,
    "start_time": "2022-12-07T21:54:11.941Z"
   },
   {
    "duration": 16,
    "start_time": "2022-12-07T21:54:11.961Z"
   },
   {
    "duration": 12,
    "start_time": "2022-12-07T21:54:11.978Z"
   },
   {
    "duration": 72,
    "start_time": "2022-12-07T21:54:11.998Z"
   },
   {
    "duration": 254,
    "start_time": "2022-12-07T21:54:12.072Z"
   },
   {
    "duration": 24,
    "start_time": "2022-12-07T21:54:12.332Z"
   },
   {
    "duration": 13,
    "start_time": "2022-12-07T21:54:12.357Z"
   },
   {
    "duration": 47,
    "start_time": "2022-12-07T21:54:12.373Z"
   },
   {
    "duration": 5,
    "start_time": "2022-12-07T21:54:12.421Z"
   },
   {
    "duration": 280,
    "start_time": "2022-12-07T21:54:12.435Z"
   },
   {
    "duration": 25,
    "start_time": "2022-12-07T21:54:12.717Z"
   },
   {
    "duration": 6,
    "start_time": "2022-12-07T21:54:12.746Z"
   },
   {
    "duration": 15,
    "start_time": "2022-12-07T21:54:12.754Z"
   },
   {
    "duration": 6,
    "start_time": "2022-12-07T21:54:12.770Z"
   },
   {
    "duration": 9,
    "start_time": "2022-12-07T21:54:12.778Z"
   },
   {
    "duration": 95,
    "start_time": "2022-12-07T21:54:12.799Z"
   },
   {
    "duration": 19,
    "start_time": "2022-12-07T21:54:12.895Z"
   },
   {
    "duration": 64,
    "start_time": "2022-12-07T21:54:12.927Z"
   },
   {
    "duration": 16,
    "start_time": "2022-12-07T21:54:12.993Z"
   },
   {
    "duration": 34,
    "start_time": "2022-12-07T21:54:13.011Z"
   },
   {
    "duration": 5,
    "start_time": "2022-12-07T21:54:13.047Z"
   },
   {
    "duration": 4,
    "start_time": "2022-12-07T21:54:13.054Z"
   },
   {
    "duration": 9,
    "start_time": "2022-12-07T21:54:13.059Z"
   },
   {
    "duration": 4,
    "start_time": "2022-12-07T21:54:13.069Z"
   },
   {
    "duration": 7,
    "start_time": "2022-12-07T21:54:13.074Z"
   },
   {
    "duration": 66,
    "start_time": "2022-12-07T21:54:13.097Z"
   },
   {
    "duration": 4,
    "start_time": "2022-12-07T21:54:13.164Z"
   },
   {
    "duration": 7,
    "start_time": "2022-12-07T21:54:13.169Z"
   },
   {
    "duration": 61,
    "start_time": "2022-12-07T21:54:13.177Z"
   },
   {
    "duration": 7,
    "start_time": "2022-12-07T21:54:13.240Z"
   },
   {
    "duration": 927,
    "start_time": "2022-12-07T21:54:13.249Z"
   },
   {
    "duration": 37,
    "start_time": "2022-12-07T21:54:14.178Z"
   },
   {
    "duration": 3823,
    "start_time": "2022-12-07T21:54:14.220Z"
   },
   {
    "duration": 17,
    "start_time": "2022-12-07T21:54:18.045Z"
   },
   {
    "duration": 8,
    "start_time": "2022-12-07T21:54:18.063Z"
   },
   {
    "duration": 42,
    "start_time": "2022-12-07T21:54:18.072Z"
   },
   {
    "duration": 20,
    "start_time": "2022-12-07T21:54:18.115Z"
   },
   {
    "duration": 478,
    "start_time": "2022-12-07T21:54:18.141Z"
   },
   {
    "duration": 23,
    "start_time": "2022-12-07T21:54:18.621Z"
   },
   {
    "duration": 225,
    "start_time": "2022-12-07T21:54:18.646Z"
   },
   {
    "duration": 1238,
    "start_time": "2022-12-07T21:54:18.873Z"
   },
   {
    "duration": 13,
    "start_time": "2022-12-07T21:54:20.113Z"
   },
   {
    "duration": 24,
    "start_time": "2022-12-07T21:54:20.135Z"
   },
   {
    "duration": 4,
    "start_time": "2022-12-07T21:54:20.161Z"
   },
   {
    "duration": 53,
    "start_time": "2022-12-07T21:54:20.167Z"
   },
   {
    "duration": 228,
    "start_time": "2022-12-07T21:54:20.223Z"
   },
   {
    "duration": 8,
    "start_time": "2022-12-07T21:54:20.453Z"
   },
   {
    "duration": 9,
    "start_time": "2022-12-07T21:54:20.463Z"
   },
   {
    "duration": 4,
    "start_time": "2022-12-07T21:54:20.474Z"
   },
   {
    "duration": 18,
    "start_time": "2022-12-07T21:54:20.480Z"
   },
   {
    "duration": 47,
    "start_time": "2022-12-07T21:54:20.500Z"
   },
   {
    "duration": 275,
    "start_time": "2022-12-07T21:54:20.549Z"
   },
   {
    "duration": 19,
    "start_time": "2022-12-07T21:54:20.826Z"
   },
   {
    "duration": 18,
    "start_time": "2022-12-07T21:54:20.847Z"
   },
   {
    "duration": 43,
    "start_time": "2022-12-07T21:54:20.867Z"
   },
   {
    "duration": 34,
    "start_time": "2022-12-07T21:54:20.912Z"
   },
   {
    "duration": 9,
    "start_time": "2022-12-07T21:54:20.949Z"
   },
   {
    "duration": 6,
    "start_time": "2022-12-07T21:54:20.960Z"
   },
   {
    "duration": 27,
    "start_time": "2022-12-07T21:54:20.968Z"
   },
   {
    "duration": 36,
    "start_time": "2022-12-07T21:54:21.003Z"
   },
   {
    "duration": 14,
    "start_time": "2022-12-07T21:54:21.040Z"
   },
   {
    "duration": 7,
    "start_time": "2022-12-07T21:54:21.056Z"
   },
   {
    "duration": 971,
    "start_time": "2022-12-07T21:54:42.170Z"
   },
   {
    "duration": 1085,
    "start_time": "2022-12-07T21:54:46.827Z"
   },
   {
    "duration": 8,
    "start_time": "2022-12-07T21:54:49.963Z"
   },
   {
    "duration": 50350,
    "start_time": "2022-12-07T21:55:09.067Z"
   },
   {
    "duration": 19,
    "start_time": "2022-12-07T21:58:38.119Z"
   },
   {
    "duration": 24,
    "start_time": "2022-12-07T21:58:50.134Z"
   },
   {
    "duration": 590,
    "start_time": "2022-12-07T21:58:58.250Z"
   },
   {
    "duration": 7,
    "start_time": "2022-12-07T21:59:18.334Z"
   },
   {
    "duration": 618,
    "start_time": "2022-12-07T21:59:23.084Z"
   },
   {
    "duration": 67,
    "start_time": "2022-12-07T22:00:29.777Z"
   },
   {
    "duration": 50,
    "start_time": "2022-12-07T22:00:34.124Z"
   },
   {
    "duration": 58,
    "start_time": "2022-12-07T22:00:47.854Z"
   },
   {
    "duration": 50,
    "start_time": "2022-12-07T22:01:00.633Z"
   },
   {
    "duration": 46,
    "start_time": "2022-12-07T22:01:10.246Z"
   },
   {
    "duration": 94,
    "start_time": "2022-12-07T22:01:19.244Z"
   },
   {
    "duration": 6,
    "start_time": "2022-12-07T22:01:31.522Z"
   },
   {
    "duration": 561,
    "start_time": "2022-12-07T22:01:36.468Z"
   },
   {
    "duration": 8561,
    "start_time": "2022-12-07T22:01:58.646Z"
   },
   {
    "duration": 9,
    "start_time": "2022-12-07T22:03:16.317Z"
   },
   {
    "duration": 7,
    "start_time": "2022-12-07T22:03:24.818Z"
   },
   {
    "duration": 631,
    "start_time": "2022-12-07T22:03:30.285Z"
   },
   {
    "duration": 670,
    "start_time": "2022-12-07T22:03:43.736Z"
   },
   {
    "duration": 7,
    "start_time": "2022-12-07T22:03:47.051Z"
   },
   {
    "duration": 3899,
    "start_time": "2022-12-07T22:03:50.221Z"
   },
   {
    "duration": 7,
    "start_time": "2022-12-07T22:03:59.618Z"
   },
   {
    "duration": 6,
    "start_time": "2022-12-07T22:04:01.563Z"
   },
   {
    "duration": 9,
    "start_time": "2022-12-07T22:08:03.952Z"
   },
   {
    "duration": 733,
    "start_time": "2022-12-07T22:08:08.294Z"
   },
   {
    "duration": 72,
    "start_time": "2022-12-07T22:09:17.895Z"
   },
   {
    "duration": 8,
    "start_time": "2022-12-07T22:09:57.723Z"
   },
   {
    "duration": 654,
    "start_time": "2022-12-07T22:10:02.270Z"
   },
   {
    "duration": 6,
    "start_time": "2022-12-07T22:10:54.648Z"
   },
   {
    "duration": 624,
    "start_time": "2022-12-07T22:10:58.584Z"
   },
   {
    "duration": 6,
    "start_time": "2022-12-07T22:11:30.023Z"
   },
   {
    "duration": 670,
    "start_time": "2022-12-07T22:11:33.062Z"
   },
   {
    "duration": 14,
    "start_time": "2022-12-07T22:11:40.297Z"
   },
   {
    "duration": 789,
    "start_time": "2022-12-07T22:11:44.922Z"
   },
   {
    "duration": 13,
    "start_time": "2022-12-07T22:11:48.537Z"
   },
   {
    "duration": 6,
    "start_time": "2022-12-07T22:12:10.881Z"
   },
   {
    "duration": 8,
    "start_time": "2022-12-07T22:12:56.435Z"
   },
   {
    "duration": 585,
    "start_time": "2022-12-07T22:13:00.240Z"
   },
   {
    "duration": 6,
    "start_time": "2022-12-07T22:13:18.121Z"
   },
   {
    "duration": 636,
    "start_time": "2022-12-07T22:13:22.464Z"
   },
   {
    "duration": 7,
    "start_time": "2022-12-07T22:13:42.577Z"
   },
   {
    "duration": 827,
    "start_time": "2022-12-07T22:13:45.672Z"
   },
   {
    "duration": 6,
    "start_time": "2022-12-07T22:13:58.733Z"
   },
   {
    "duration": 5,
    "start_time": "2022-12-07T22:18:37.025Z"
   },
   {
    "duration": 7777,
    "start_time": "2022-12-07T22:20:39.352Z"
   },
   {
    "duration": 12,
    "start_time": "2022-12-07T22:20:57.722Z"
   },
   {
    "duration": 4,
    "start_time": "2022-12-07T22:21:14.667Z"
   },
   {
    "duration": 47,
    "start_time": "2022-12-07T22:21:14.675Z"
   },
   {
    "duration": 838,
    "start_time": "2022-12-07T22:21:14.724Z"
   },
   {
    "duration": 18,
    "start_time": "2022-12-07T22:21:15.564Z"
   },
   {
    "duration": 28,
    "start_time": "2022-12-07T22:21:15.584Z"
   },
   {
    "duration": 15,
    "start_time": "2022-12-07T22:21:15.613Z"
   },
   {
    "duration": 85,
    "start_time": "2022-12-07T22:21:15.630Z"
   },
   {
    "duration": 250,
    "start_time": "2022-12-07T22:21:15.719Z"
   },
   {
    "duration": 40,
    "start_time": "2022-12-07T22:21:15.971Z"
   },
   {
    "duration": 21,
    "start_time": "2022-12-07T22:21:16.017Z"
   },
   {
    "duration": 20,
    "start_time": "2022-12-07T22:21:16.042Z"
   },
   {
    "duration": 4,
    "start_time": "2022-12-07T22:21:16.064Z"
   },
   {
    "duration": 289,
    "start_time": "2022-12-07T22:21:16.070Z"
   },
   {
    "duration": 11,
    "start_time": "2022-12-07T22:21:16.360Z"
   },
   {
    "duration": 5,
    "start_time": "2022-12-07T22:21:16.372Z"
   },
   {
    "duration": 40,
    "start_time": "2022-12-07T22:21:16.379Z"
   },
   {
    "duration": 16,
    "start_time": "2022-12-07T22:21:16.422Z"
   },
   {
    "duration": 11,
    "start_time": "2022-12-07T22:21:16.439Z"
   },
   {
    "duration": 98,
    "start_time": "2022-12-07T22:21:16.451Z"
   },
   {
    "duration": 10,
    "start_time": "2022-12-07T22:21:16.551Z"
   },
   {
    "duration": 69,
    "start_time": "2022-12-07T22:21:16.563Z"
   },
   {
    "duration": 7,
    "start_time": "2022-12-07T22:21:16.634Z"
   },
   {
    "duration": 21,
    "start_time": "2022-12-07T22:21:16.643Z"
   },
   {
    "duration": 5,
    "start_time": "2022-12-07T22:21:16.666Z"
   },
   {
    "duration": 28,
    "start_time": "2022-12-07T22:21:16.673Z"
   },
   {
    "duration": 14,
    "start_time": "2022-12-07T22:21:16.702Z"
   },
   {
    "duration": 18,
    "start_time": "2022-12-07T22:21:16.724Z"
   },
   {
    "duration": 6,
    "start_time": "2022-12-07T22:21:16.744Z"
   },
   {
    "duration": 75,
    "start_time": "2022-12-07T22:21:16.754Z"
   },
   {
    "duration": 4,
    "start_time": "2022-12-07T22:21:16.831Z"
   },
   {
    "duration": 8,
    "start_time": "2022-12-07T22:21:16.838Z"
   },
   {
    "duration": 9,
    "start_time": "2022-12-07T22:21:16.847Z"
   },
   {
    "duration": 10,
    "start_time": "2022-12-07T22:21:16.857Z"
   },
   {
    "duration": 918,
    "start_time": "2022-12-07T22:21:16.869Z"
   },
   {
    "duration": 25,
    "start_time": "2022-12-07T22:21:17.788Z"
   },
   {
    "duration": 3591,
    "start_time": "2022-12-07T22:21:17.817Z"
   },
   {
    "duration": 22,
    "start_time": "2022-12-07T22:21:21.410Z"
   },
   {
    "duration": 8,
    "start_time": "2022-12-07T22:21:21.434Z"
   },
   {
    "duration": 14,
    "start_time": "2022-12-07T22:21:21.444Z"
   },
   {
    "duration": 15,
    "start_time": "2022-12-07T22:21:21.459Z"
   },
   {
    "duration": 530,
    "start_time": "2022-12-07T22:21:21.496Z"
   },
   {
    "duration": 24,
    "start_time": "2022-12-07T22:21:22.029Z"
   },
   {
    "duration": 234,
    "start_time": "2022-12-07T22:21:22.055Z"
   },
   {
    "duration": 1251,
    "start_time": "2022-12-07T22:21:22.291Z"
   },
   {
    "duration": 9,
    "start_time": "2022-12-07T22:21:23.543Z"
   },
   {
    "duration": 15,
    "start_time": "2022-12-07T22:21:23.554Z"
   },
   {
    "duration": 3,
    "start_time": "2022-12-07T22:21:23.571Z"
   },
   {
    "duration": 46,
    "start_time": "2022-12-07T22:21:23.596Z"
   },
   {
    "duration": 213,
    "start_time": "2022-12-07T22:21:23.644Z"
   },
   {
    "duration": 9,
    "start_time": "2022-12-07T22:21:23.858Z"
   },
   {
    "duration": 9,
    "start_time": "2022-12-07T22:21:23.869Z"
   },
   {
    "duration": 36,
    "start_time": "2022-12-07T22:21:23.879Z"
   },
   {
    "duration": 6,
    "start_time": "2022-12-07T22:21:23.925Z"
   },
   {
    "duration": 5,
    "start_time": "2022-12-07T22:21:23.933Z"
   },
   {
    "duration": 241,
    "start_time": "2022-12-07T22:21:23.940Z"
   },
   {
    "duration": 32,
    "start_time": "2022-12-07T22:21:24.183Z"
   },
   {
    "duration": 19,
    "start_time": "2022-12-07T22:21:24.222Z"
   },
   {
    "duration": 21,
    "start_time": "2022-12-07T22:21:24.243Z"
   },
   {
    "duration": 10,
    "start_time": "2022-12-07T22:21:24.266Z"
   },
   {
    "duration": 9,
    "start_time": "2022-12-07T22:21:24.278Z"
   },
   {
    "duration": 21,
    "start_time": "2022-12-07T22:21:24.289Z"
   },
   {
    "duration": 38,
    "start_time": "2022-12-07T22:21:24.311Z"
   },
   {
    "duration": 34,
    "start_time": "2022-12-07T22:21:24.351Z"
   },
   {
    "duration": 5,
    "start_time": "2022-12-07T22:21:24.386Z"
   },
   {
    "duration": 43,
    "start_time": "2022-12-07T22:21:24.396Z"
   },
   {
    "duration": 1443,
    "start_time": "2022-12-07T22:21:57.178Z"
   },
   {
    "duration": 2,
    "start_time": "2022-12-07T22:21:58.623Z"
   },
   {
    "duration": 760,
    "start_time": "2022-12-07T22:21:58.627Z"
   },
   {
    "duration": 32,
    "start_time": "2022-12-07T22:21:59.389Z"
   },
   {
    "duration": 18,
    "start_time": "2022-12-07T22:21:59.423Z"
   },
   {
    "duration": 12,
    "start_time": "2022-12-07T22:21:59.442Z"
   },
   {
    "duration": 77,
    "start_time": "2022-12-07T22:21:59.455Z"
   },
   {
    "duration": 244,
    "start_time": "2022-12-07T22:21:59.533Z"
   },
   {
    "duration": 67,
    "start_time": "2022-12-07T22:21:59.779Z"
   },
   {
    "duration": 13,
    "start_time": "2022-12-07T22:21:59.849Z"
   },
   {
    "duration": 16,
    "start_time": "2022-12-07T22:21:59.863Z"
   },
   {
    "duration": 4,
    "start_time": "2022-12-07T22:21:59.897Z"
   },
   {
    "duration": 314,
    "start_time": "2022-12-07T22:21:59.903Z"
   },
   {
    "duration": 15,
    "start_time": "2022-12-07T22:22:00.225Z"
   },
   {
    "duration": 16,
    "start_time": "2022-12-07T22:22:00.242Z"
   },
   {
    "duration": 18,
    "start_time": "2022-12-07T22:22:00.260Z"
   },
   {
    "duration": 42,
    "start_time": "2022-12-07T22:22:00.280Z"
   },
   {
    "duration": 26,
    "start_time": "2022-12-07T22:22:00.324Z"
   },
   {
    "duration": 103,
    "start_time": "2022-12-07T22:22:00.352Z"
   },
   {
    "duration": 9,
    "start_time": "2022-12-07T22:22:00.457Z"
   },
   {
    "duration": 100,
    "start_time": "2022-12-07T22:22:00.468Z"
   },
   {
    "duration": 8,
    "start_time": "2022-12-07T22:22:00.569Z"
   },
   {
    "duration": 57,
    "start_time": "2022-12-07T22:22:00.578Z"
   },
   {
    "duration": 12,
    "start_time": "2022-12-07T22:22:00.637Z"
   },
   {
    "duration": 24,
    "start_time": "2022-12-07T22:22:00.651Z"
   },
   {
    "duration": 41,
    "start_time": "2022-12-07T22:22:00.677Z"
   },
   {
    "duration": 36,
    "start_time": "2022-12-07T22:22:00.723Z"
   },
   {
    "duration": 44,
    "start_time": "2022-12-07T22:22:00.763Z"
   },
   {
    "duration": 101,
    "start_time": "2022-12-07T22:22:00.808Z"
   },
   {
    "duration": 54,
    "start_time": "2022-12-07T22:22:00.910Z"
   },
   {
    "duration": 18,
    "start_time": "2022-12-07T22:22:00.965Z"
   },
   {
    "duration": 56,
    "start_time": "2022-12-07T22:22:00.984Z"
   },
   {
    "duration": 25,
    "start_time": "2022-12-07T22:22:01.041Z"
   },
   {
    "duration": 920,
    "start_time": "2022-12-07T22:22:01.068Z"
   },
   {
    "duration": 26,
    "start_time": "2022-12-07T22:22:01.989Z"
   },
   {
    "duration": 3707,
    "start_time": "2022-12-07T22:22:02.019Z"
   },
   {
    "duration": 22,
    "start_time": "2022-12-07T22:22:05.731Z"
   },
   {
    "duration": 9,
    "start_time": "2022-12-07T22:22:05.755Z"
   },
   {
    "duration": 45,
    "start_time": "2022-12-07T22:22:05.766Z"
   },
   {
    "duration": 25,
    "start_time": "2022-12-07T22:22:05.813Z"
   },
   {
    "duration": 520,
    "start_time": "2022-12-07T22:22:05.842Z"
   },
   {
    "duration": 36,
    "start_time": "2022-12-07T22:22:06.364Z"
   },
   {
    "duration": 238,
    "start_time": "2022-12-07T22:22:06.401Z"
   },
   {
    "duration": 1117,
    "start_time": "2022-12-07T22:22:06.641Z"
   },
   {
    "duration": 9,
    "start_time": "2022-12-07T22:22:07.760Z"
   },
   {
    "duration": 44,
    "start_time": "2022-12-07T22:22:07.770Z"
   },
   {
    "duration": 28,
    "start_time": "2022-12-07T22:22:07.815Z"
   },
   {
    "duration": 40,
    "start_time": "2022-12-07T22:22:07.845Z"
   },
   {
    "duration": 222,
    "start_time": "2022-12-07T22:22:07.886Z"
   },
   {
    "duration": 10,
    "start_time": "2022-12-07T22:22:08.115Z"
   },
   {
    "duration": 24,
    "start_time": "2022-12-07T22:22:08.127Z"
   },
   {
    "duration": 3,
    "start_time": "2022-12-07T22:22:08.153Z"
   },
   {
    "duration": 5,
    "start_time": "2022-12-07T22:22:08.158Z"
   },
   {
    "duration": 5,
    "start_time": "2022-12-07T22:22:08.165Z"
   },
   {
    "duration": 263,
    "start_time": "2022-12-07T22:22:08.171Z"
   },
   {
    "duration": 18,
    "start_time": "2022-12-07T22:22:08.436Z"
   },
   {
    "duration": 16,
    "start_time": "2022-12-07T22:22:08.455Z"
   },
   {
    "duration": 43,
    "start_time": "2022-12-07T22:22:08.473Z"
   },
   {
    "duration": 25,
    "start_time": "2022-12-07T22:22:08.519Z"
   },
   {
    "duration": 9,
    "start_time": "2022-12-07T22:22:08.546Z"
   },
   {
    "duration": 7,
    "start_time": "2022-12-07T22:22:08.557Z"
   },
   {
    "duration": 29,
    "start_time": "2022-12-07T22:22:08.565Z"
   },
   {
    "duration": 40,
    "start_time": "2022-12-07T22:22:08.597Z"
   },
   {
    "duration": 8,
    "start_time": "2022-12-07T22:22:08.638Z"
   },
   {
    "duration": 6,
    "start_time": "2022-12-07T22:22:08.647Z"
   },
   {
    "duration": 779,
    "start_time": "2022-12-07T22:22:08.655Z"
   },
   {
    "duration": 1205,
    "start_time": "2022-12-07T22:22:09.436Z"
   },
   {
    "duration": 69,
    "start_time": "2022-12-07T22:22:10.643Z"
   },
   {
    "duration": 15631,
    "start_time": "2022-12-07T22:22:10.736Z"
   },
   {
    "duration": 0,
    "start_time": "2022-12-07T22:22:26.369Z"
   },
   {
    "duration": 0,
    "start_time": "2022-12-07T22:22:26.370Z"
   },
   {
    "duration": 0,
    "start_time": "2022-12-07T22:22:26.371Z"
   },
   {
    "duration": 0,
    "start_time": "2022-12-07T22:22:26.372Z"
   },
   {
    "duration": 0,
    "start_time": "2022-12-07T22:22:26.373Z"
   },
   {
    "duration": 0,
    "start_time": "2022-12-07T22:22:26.374Z"
   },
   {
    "duration": 0,
    "start_time": "2022-12-07T22:22:26.375Z"
   },
   {
    "duration": 0,
    "start_time": "2022-12-07T22:22:26.376Z"
   },
   {
    "duration": 6,
    "start_time": "2022-12-07T22:24:03.938Z"
   },
   {
    "duration": 8929,
    "start_time": "2022-12-07T22:24:08.078Z"
   },
   {
    "duration": 9,
    "start_time": "2022-12-07T22:25:03.322Z"
   },
   {
    "duration": 1455,
    "start_time": "2022-12-07T22:25:08.348Z"
   },
   {
    "duration": 9,
    "start_time": "2022-12-07T22:27:16.824Z"
   },
   {
    "duration": 1337,
    "start_time": "2022-12-07T22:27:26.572Z"
   },
   {
    "duration": 17,
    "start_time": "2022-12-07T22:27:58.228Z"
   },
   {
    "duration": 1137,
    "start_time": "2022-12-07T22:28:05.134Z"
   },
   {
    "duration": 7,
    "start_time": "2022-12-07T22:28:28.220Z"
   },
   {
    "duration": 1306,
    "start_time": "2022-12-07T22:28:39.093Z"
   },
   {
    "duration": 29,
    "start_time": "2022-12-07T22:33:14.628Z"
   },
   {
    "duration": 18,
    "start_time": "2022-12-07T22:33:32.121Z"
   },
   {
    "duration": 12,
    "start_time": "2022-12-07T22:33:48.251Z"
   },
   {
    "duration": 11,
    "start_time": "2022-12-07T22:34:01.035Z"
   },
   {
    "duration": 13,
    "start_time": "2022-12-07T22:34:14.539Z"
   },
   {
    "duration": 6,
    "start_time": "2022-12-07T22:34:26.684Z"
   },
   {
    "duration": 10,
    "start_time": "2022-12-07T22:34:49.372Z"
   },
   {
    "duration": 26,
    "start_time": "2022-12-07T22:34:57.355Z"
   },
   {
    "duration": 9,
    "start_time": "2022-12-07T22:35:07.325Z"
   },
   {
    "duration": 18,
    "start_time": "2022-12-07T22:42:55.579Z"
   },
   {
    "duration": 7,
    "start_time": "2022-12-07T22:43:14.935Z"
   },
   {
    "duration": 9,
    "start_time": "2022-12-07T22:43:35.360Z"
   },
   {
    "duration": 10,
    "start_time": "2022-12-07T22:43:58.885Z"
   },
   {
    "duration": 42,
    "start_time": "2022-12-07T22:44:57.203Z"
   },
   {
    "duration": 5,
    "start_time": "2022-12-07T22:45:08.789Z"
   },
   {
    "duration": 4,
    "start_time": "2022-12-07T22:45:28.562Z"
   },
   {
    "duration": 4,
    "start_time": "2022-12-07T22:45:28.570Z"
   },
   {
    "duration": 747,
    "start_time": "2022-12-07T22:45:28.583Z"
   },
   {
    "duration": 17,
    "start_time": "2022-12-07T22:45:29.332Z"
   },
   {
    "duration": 18,
    "start_time": "2022-12-07T22:45:29.351Z"
   },
   {
    "duration": 27,
    "start_time": "2022-12-07T22:45:29.371Z"
   },
   {
    "duration": 58,
    "start_time": "2022-12-07T22:45:29.400Z"
   },
   {
    "duration": 229,
    "start_time": "2022-12-07T22:45:29.459Z"
   },
   {
    "duration": 20,
    "start_time": "2022-12-07T22:45:29.690Z"
   },
   {
    "duration": 13,
    "start_time": "2022-12-07T22:45:29.712Z"
   },
   {
    "duration": 16,
    "start_time": "2022-12-07T22:45:29.726Z"
   },
   {
    "duration": 3,
    "start_time": "2022-12-07T22:45:29.744Z"
   },
   {
    "duration": 249,
    "start_time": "2022-12-07T22:45:29.748Z"
   },
   {
    "duration": 10,
    "start_time": "2022-12-07T22:45:29.999Z"
   },
   {
    "duration": 6,
    "start_time": "2022-12-07T22:45:30.011Z"
   },
   {
    "duration": 15,
    "start_time": "2022-12-07T22:45:30.019Z"
   },
   {
    "duration": 17,
    "start_time": "2022-12-07T22:45:30.035Z"
   },
   {
    "duration": 9,
    "start_time": "2022-12-07T22:45:30.054Z"
   },
   {
    "duration": 103,
    "start_time": "2022-12-07T22:45:30.065Z"
   },
   {
    "duration": 9,
    "start_time": "2022-12-07T22:45:30.170Z"
   },
   {
    "duration": 65,
    "start_time": "2022-12-07T22:45:30.180Z"
   },
   {
    "duration": 9,
    "start_time": "2022-12-07T22:45:30.246Z"
   },
   {
    "duration": 42,
    "start_time": "2022-12-07T22:45:30.257Z"
   },
   {
    "duration": 5,
    "start_time": "2022-12-07T22:45:30.301Z"
   },
   {
    "duration": 35,
    "start_time": "2022-12-07T22:45:30.308Z"
   },
   {
    "duration": 48,
    "start_time": "2022-12-07T22:45:30.345Z"
   },
   {
    "duration": 33,
    "start_time": "2022-12-07T22:45:30.395Z"
   },
   {
    "duration": 37,
    "start_time": "2022-12-07T22:45:30.430Z"
   },
   {
    "duration": 89,
    "start_time": "2022-12-07T22:45:30.469Z"
   },
   {
    "duration": 20,
    "start_time": "2022-12-07T22:45:30.562Z"
   },
   {
    "duration": 27,
    "start_time": "2022-12-07T22:45:30.584Z"
   },
   {
    "duration": 45,
    "start_time": "2022-12-07T22:45:30.613Z"
   },
   {
    "duration": 38,
    "start_time": "2022-12-07T22:45:30.659Z"
   },
   {
    "duration": 830,
    "start_time": "2022-12-07T22:45:30.698Z"
   },
   {
    "duration": 14,
    "start_time": "2022-12-07T22:45:31.530Z"
   },
   {
    "duration": 3560,
    "start_time": "2022-12-07T22:45:31.546Z"
   },
   {
    "duration": 19,
    "start_time": "2022-12-07T22:45:35.107Z"
   },
   {
    "duration": 9,
    "start_time": "2022-12-07T22:45:35.128Z"
   },
   {
    "duration": 17,
    "start_time": "2022-12-07T22:45:35.138Z"
   },
   {
    "duration": 43,
    "start_time": "2022-12-07T22:45:35.156Z"
   },
   {
    "duration": 482,
    "start_time": "2022-12-07T22:45:35.201Z"
   },
   {
    "duration": 28,
    "start_time": "2022-12-07T22:45:35.684Z"
   },
   {
    "duration": 208,
    "start_time": "2022-12-07T22:45:35.714Z"
   },
   {
    "duration": 1198,
    "start_time": "2022-12-07T22:45:35.924Z"
   },
   {
    "duration": 10,
    "start_time": "2022-12-07T22:45:37.123Z"
   },
   {
    "duration": 15,
    "start_time": "2022-12-07T22:45:37.134Z"
   },
   {
    "duration": 4,
    "start_time": "2022-12-07T22:45:37.151Z"
   },
   {
    "duration": 65,
    "start_time": "2022-12-07T22:45:37.156Z"
   },
   {
    "duration": 193,
    "start_time": "2022-12-07T22:45:37.223Z"
   },
   {
    "duration": 9,
    "start_time": "2022-12-07T22:45:37.418Z"
   },
   {
    "duration": 10,
    "start_time": "2022-12-07T22:45:37.429Z"
   },
   {
    "duration": 3,
    "start_time": "2022-12-07T22:45:37.441Z"
   },
   {
    "duration": 5,
    "start_time": "2022-12-07T22:45:37.446Z"
   },
   {
    "duration": 6,
    "start_time": "2022-12-07T22:45:37.452Z"
   },
   {
    "duration": 249,
    "start_time": "2022-12-07T22:45:37.459Z"
   },
   {
    "duration": 16,
    "start_time": "2022-12-07T22:45:37.709Z"
   },
   {
    "duration": 16,
    "start_time": "2022-12-07T22:45:37.727Z"
   },
   {
    "duration": 5,
    "start_time": "2022-12-07T22:45:37.745Z"
   },
   {
    "duration": 9,
    "start_time": "2022-12-07T22:45:37.751Z"
   },
   {
    "duration": 38,
    "start_time": "2022-12-07T22:45:37.761Z"
   },
   {
    "duration": 8,
    "start_time": "2022-12-07T22:45:37.801Z"
   },
   {
    "duration": 695,
    "start_time": "2022-12-07T22:45:37.811Z"
   },
   {
    "duration": 0,
    "start_time": "2022-12-07T22:45:38.507Z"
   },
   {
    "duration": 0,
    "start_time": "2022-12-07T22:45:38.508Z"
   },
   {
    "duration": 0,
    "start_time": "2022-12-07T22:45:38.510Z"
   },
   {
    "duration": 11,
    "start_time": "2022-12-07T22:47:45.723Z"
   },
   {
    "duration": 14,
    "start_time": "2022-12-07T22:48:49.899Z"
   },
   {
    "duration": 685,
    "start_time": "2022-12-07T22:49:28.917Z"
   },
   {
    "duration": 11,
    "start_time": "2022-12-07T22:50:15.575Z"
   },
   {
    "duration": 23,
    "start_time": "2022-12-07T22:50:26.101Z"
   },
   {
    "duration": 31,
    "start_time": "2022-12-07T22:51:20.519Z"
   },
   {
    "duration": 4,
    "start_time": "2022-12-07T22:51:30.228Z"
   },
   {
    "duration": 35,
    "start_time": "2022-12-07T22:51:30.236Z"
   },
   {
    "duration": 777,
    "start_time": "2022-12-07T22:51:30.274Z"
   },
   {
    "duration": 18,
    "start_time": "2022-12-07T22:51:31.053Z"
   },
   {
    "duration": 34,
    "start_time": "2022-12-07T22:51:31.073Z"
   },
   {
    "duration": 18,
    "start_time": "2022-12-07T22:51:31.109Z"
   },
   {
    "duration": 67,
    "start_time": "2022-12-07T22:51:31.130Z"
   },
   {
    "duration": 222,
    "start_time": "2022-12-07T22:51:31.199Z"
   },
   {
    "duration": 18,
    "start_time": "2022-12-07T22:51:31.423Z"
   },
   {
    "duration": 13,
    "start_time": "2022-12-07T22:51:31.443Z"
   },
   {
    "duration": 17,
    "start_time": "2022-12-07T22:51:31.459Z"
   },
   {
    "duration": 4,
    "start_time": "2022-12-07T22:51:31.497Z"
   },
   {
    "duration": 238,
    "start_time": "2022-12-07T22:51:31.502Z"
   },
   {
    "duration": 11,
    "start_time": "2022-12-07T22:51:31.742Z"
   },
   {
    "duration": 4,
    "start_time": "2022-12-07T22:51:31.755Z"
   },
   {
    "duration": 35,
    "start_time": "2022-12-07T22:51:31.761Z"
   },
   {
    "duration": 4,
    "start_time": "2022-12-07T22:51:31.798Z"
   },
   {
    "duration": 8,
    "start_time": "2022-12-07T22:51:31.804Z"
   },
   {
    "duration": 102,
    "start_time": "2022-12-07T22:51:31.813Z"
   },
   {
    "duration": 9,
    "start_time": "2022-12-07T22:51:31.917Z"
   },
   {
    "duration": 72,
    "start_time": "2022-12-07T22:51:31.928Z"
   },
   {
    "duration": 8,
    "start_time": "2022-12-07T22:51:32.001Z"
   },
   {
    "duration": 17,
    "start_time": "2022-12-07T22:51:32.011Z"
   },
   {
    "duration": 5,
    "start_time": "2022-12-07T22:51:32.030Z"
   },
   {
    "duration": 6,
    "start_time": "2022-12-07T22:51:32.037Z"
   },
   {
    "duration": 17,
    "start_time": "2022-12-07T22:51:32.045Z"
   },
   {
    "duration": 4,
    "start_time": "2022-12-07T22:51:32.063Z"
   },
   {
    "duration": 33,
    "start_time": "2022-12-07T22:51:32.068Z"
   },
   {
    "duration": 66,
    "start_time": "2022-12-07T22:51:32.105Z"
   },
   {
    "duration": 3,
    "start_time": "2022-12-07T22:51:32.173Z"
   },
   {
    "duration": 5,
    "start_time": "2022-12-07T22:51:32.196Z"
   },
   {
    "duration": 6,
    "start_time": "2022-12-07T22:51:32.203Z"
   },
   {
    "duration": 9,
    "start_time": "2022-12-07T22:51:32.210Z"
   },
   {
    "duration": 818,
    "start_time": "2022-12-07T22:51:32.220Z"
   },
   {
    "duration": 14,
    "start_time": "2022-12-07T22:51:33.040Z"
   },
   {
    "duration": 3467,
    "start_time": "2022-12-07T22:51:33.056Z"
   },
   {
    "duration": 18,
    "start_time": "2022-12-07T22:51:36.525Z"
   },
   {
    "duration": 8,
    "start_time": "2022-12-07T22:51:36.544Z"
   },
   {
    "duration": 14,
    "start_time": "2022-12-07T22:51:36.554Z"
   },
   {
    "duration": 39,
    "start_time": "2022-12-07T22:51:36.570Z"
   },
   {
    "duration": 475,
    "start_time": "2022-12-07T22:51:36.611Z"
   },
   {
    "duration": 27,
    "start_time": "2022-12-07T22:51:37.088Z"
   },
   {
    "duration": 208,
    "start_time": "2022-12-07T22:51:37.116Z"
   },
   {
    "duration": 1099,
    "start_time": "2022-12-07T22:51:37.326Z"
   },
   {
    "duration": 9,
    "start_time": "2022-12-07T22:51:38.427Z"
   },
   {
    "duration": 14,
    "start_time": "2022-12-07T22:51:38.438Z"
   },
   {
    "duration": 3,
    "start_time": "2022-12-07T22:51:38.454Z"
   },
   {
    "duration": 64,
    "start_time": "2022-12-07T22:51:38.459Z"
   },
   {
    "duration": 188,
    "start_time": "2022-12-07T22:51:38.525Z"
   },
   {
    "duration": 10,
    "start_time": "2022-12-07T22:51:38.715Z"
   },
   {
    "duration": 9,
    "start_time": "2022-12-07T22:51:38.727Z"
   },
   {
    "duration": 4,
    "start_time": "2022-12-07T22:51:38.738Z"
   },
   {
    "duration": 4,
    "start_time": "2022-12-07T22:51:38.743Z"
   },
   {
    "duration": 4,
    "start_time": "2022-12-07T22:51:38.749Z"
   },
   {
    "duration": 347,
    "start_time": "2022-12-07T22:51:38.754Z"
   },
   {
    "duration": 17,
    "start_time": "2022-12-07T22:51:39.102Z"
   },
   {
    "duration": 16,
    "start_time": "2022-12-07T22:51:39.121Z"
   },
   {
    "duration": 5,
    "start_time": "2022-12-07T22:51:39.139Z"
   },
   {
    "duration": 8,
    "start_time": "2022-12-07T22:51:39.146Z"
   },
   {
    "duration": 40,
    "start_time": "2022-12-07T22:51:39.156Z"
   },
   {
    "duration": 8,
    "start_time": "2022-12-07T22:51:39.198Z"
   },
   {
    "duration": 23,
    "start_time": "2022-12-07T22:51:39.208Z"
   },
   {
    "duration": 31,
    "start_time": "2022-12-07T22:51:39.233Z"
   },
   {
    "duration": 5,
    "start_time": "2022-12-07T22:51:39.297Z"
   },
   {
    "duration": 313,
    "start_time": "2022-12-07T22:51:57.389Z"
   },
   {
    "duration": 11,
    "start_time": "2022-12-07T22:52:16.436Z"
   },
   {
    "duration": 556,
    "start_time": "2022-12-07T22:52:32.341Z"
   },
   {
    "duration": 8,
    "start_time": "2022-12-07T22:52:36.212Z"
   },
   {
    "duration": 38006,
    "start_time": "2022-12-07T22:52:59.761Z"
   },
   {
    "duration": 53884,
    "start_time": "2022-12-07T22:54:04.790Z"
   },
   {
    "duration": 48,
    "start_time": "2022-12-07T22:55:11.861Z"
   },
   {
    "duration": 8,
    "start_time": "2022-12-07T22:55:35.269Z"
   },
   {
    "duration": 5,
    "start_time": "2022-12-07T22:57:54.246Z"
   },
   {
    "duration": 7,
    "start_time": "2022-12-07T22:57:55.951Z"
   },
   {
    "duration": 6,
    "start_time": "2022-12-07T23:04:42.495Z"
   },
   {
    "duration": 9,
    "start_time": "2022-12-07T23:06:40.572Z"
   },
   {
    "duration": 16491,
    "start_time": "2022-12-07T23:06:40.582Z"
   },
   {
    "duration": 52,
    "start_time": "2022-12-07T23:08:02.119Z"
   },
   {
    "duration": 5,
    "start_time": "2022-12-07T23:08:47.297Z"
   },
   {
    "duration": 6,
    "start_time": "2022-12-07T23:08:49.015Z"
   },
   {
    "duration": 5,
    "start_time": "2022-12-07T23:08:55.689Z"
   },
   {
    "duration": 5,
    "start_time": "2022-12-07T23:08:57.713Z"
   },
   {
    "duration": 5,
    "start_time": "2022-12-07T23:09:08.201Z"
   },
   {
    "duration": 5,
    "start_time": "2022-12-07T23:09:10.681Z"
   },
   {
    "duration": 44,
    "start_time": "2022-12-07T23:09:40.776Z"
   },
   {
    "duration": 13,
    "start_time": "2022-12-07T23:10:07.176Z"
   },
   {
    "duration": 14,
    "start_time": "2022-12-07T23:10:18.721Z"
   },
   {
    "duration": 3,
    "start_time": "2022-12-07T23:11:30.282Z"
   },
   {
    "duration": 3,
    "start_time": "2022-12-07T23:11:35.631Z"
   },
   {
    "duration": 4,
    "start_time": "2022-12-07T23:11:48.624Z"
   },
   {
    "duration": 1394,
    "start_time": "2022-12-07T23:13:16.594Z"
   },
   {
    "duration": 7,
    "start_time": "2022-12-07T23:13:17.990Z"
   },
   {
    "duration": 703,
    "start_time": "2022-12-07T23:13:17.999Z"
   },
   {
    "duration": 19,
    "start_time": "2022-12-07T23:13:18.704Z"
   },
   {
    "duration": 16,
    "start_time": "2022-12-07T23:13:18.725Z"
   },
   {
    "duration": 12,
    "start_time": "2022-12-07T23:13:18.742Z"
   },
   {
    "duration": 88,
    "start_time": "2022-12-07T23:13:18.756Z"
   },
   {
    "duration": 239,
    "start_time": "2022-12-07T23:13:18.845Z"
   },
   {
    "duration": 64,
    "start_time": "2022-12-07T23:13:19.086Z"
   },
   {
    "duration": 13,
    "start_time": "2022-12-07T23:13:19.153Z"
   },
   {
    "duration": 31,
    "start_time": "2022-12-07T23:13:19.168Z"
   },
   {
    "duration": 4,
    "start_time": "2022-12-07T23:13:19.201Z"
   },
   {
    "duration": 244,
    "start_time": "2022-12-07T23:13:19.207Z"
   },
   {
    "duration": 14,
    "start_time": "2022-12-07T23:13:19.453Z"
   },
   {
    "duration": 16,
    "start_time": "2022-12-07T23:13:19.468Z"
   },
   {
    "duration": 24,
    "start_time": "2022-12-07T23:13:19.485Z"
   },
   {
    "duration": 8,
    "start_time": "2022-12-07T23:13:19.511Z"
   },
   {
    "duration": 9,
    "start_time": "2022-12-07T23:13:19.521Z"
   },
   {
    "duration": 83,
    "start_time": "2022-12-07T23:13:19.531Z"
   },
   {
    "duration": 8,
    "start_time": "2022-12-07T23:13:19.616Z"
   },
   {
    "duration": 55,
    "start_time": "2022-12-07T23:13:19.625Z"
   },
   {
    "duration": 20,
    "start_time": "2022-12-07T23:13:19.682Z"
   },
   {
    "duration": 17,
    "start_time": "2022-12-07T23:13:19.703Z"
   },
   {
    "duration": 5,
    "start_time": "2022-12-07T23:13:19.722Z"
   },
   {
    "duration": 3,
    "start_time": "2022-12-07T23:13:19.729Z"
   },
   {
    "duration": 10,
    "start_time": "2022-12-07T23:13:19.734Z"
   },
   {
    "duration": 5,
    "start_time": "2022-12-07T23:13:19.745Z"
   },
   {
    "duration": 44,
    "start_time": "2022-12-07T23:13:19.754Z"
   },
   {
    "duration": 60,
    "start_time": "2022-12-07T23:13:19.799Z"
   },
   {
    "duration": 6,
    "start_time": "2022-12-07T23:13:19.861Z"
   },
   {
    "duration": 5,
    "start_time": "2022-12-07T23:13:19.869Z"
   },
   {
    "duration": 23,
    "start_time": "2022-12-07T23:13:19.876Z"
   },
   {
    "duration": 19,
    "start_time": "2022-12-07T23:13:19.901Z"
   },
   {
    "duration": 795,
    "start_time": "2022-12-07T23:13:19.921Z"
   },
   {
    "duration": 16,
    "start_time": "2022-12-07T23:13:20.718Z"
   },
   {
    "duration": 3370,
    "start_time": "2022-12-07T23:13:20.736Z"
   },
   {
    "duration": 19,
    "start_time": "2022-12-07T23:13:24.108Z"
   },
   {
    "duration": 7,
    "start_time": "2022-12-07T23:13:24.129Z"
   },
   {
    "duration": 15,
    "start_time": "2022-12-07T23:13:24.138Z"
   },
   {
    "duration": 43,
    "start_time": "2022-12-07T23:13:24.155Z"
   },
   {
    "duration": 487,
    "start_time": "2022-12-07T23:13:24.200Z"
   },
   {
    "duration": 26,
    "start_time": "2022-12-07T23:13:24.689Z"
   },
   {
    "duration": 196,
    "start_time": "2022-12-07T23:13:24.716Z"
   },
   {
    "duration": 1169,
    "start_time": "2022-12-07T23:13:24.914Z"
   },
   {
    "duration": 13,
    "start_time": "2022-12-07T23:13:26.085Z"
   },
   {
    "duration": 15,
    "start_time": "2022-12-07T23:13:26.099Z"
   },
   {
    "duration": 7,
    "start_time": "2022-12-07T23:13:26.116Z"
   },
   {
    "duration": 48,
    "start_time": "2022-12-07T23:13:26.125Z"
   },
   {
    "duration": 216,
    "start_time": "2022-12-07T23:13:26.175Z"
   },
   {
    "duration": 8,
    "start_time": "2022-12-07T23:13:26.397Z"
   },
   {
    "duration": 10,
    "start_time": "2022-12-07T23:13:26.407Z"
   },
   {
    "duration": 3,
    "start_time": "2022-12-07T23:13:26.419Z"
   },
   {
    "duration": 4,
    "start_time": "2022-12-07T23:13:26.424Z"
   },
   {
    "duration": 5,
    "start_time": "2022-12-07T23:13:26.429Z"
   },
   {
    "duration": 250,
    "start_time": "2022-12-07T23:13:26.435Z"
   },
   {
    "duration": 24,
    "start_time": "2022-12-07T23:13:26.687Z"
   },
   {
    "duration": 17,
    "start_time": "2022-12-07T23:13:26.713Z"
   },
   {
    "duration": 5,
    "start_time": "2022-12-07T23:13:26.732Z"
   },
   {
    "duration": 8,
    "start_time": "2022-12-07T23:13:26.738Z"
   },
   {
    "duration": 9,
    "start_time": "2022-12-07T23:13:26.747Z"
   },
   {
    "duration": 41,
    "start_time": "2022-12-07T23:13:26.757Z"
   },
   {
    "duration": 27,
    "start_time": "2022-12-07T23:13:26.800Z"
   },
   {
    "duration": 29,
    "start_time": "2022-12-07T23:13:26.829Z"
   },
   {
    "duration": 4,
    "start_time": "2022-12-07T23:13:26.859Z"
   },
   {
    "duration": 35,
    "start_time": "2022-12-07T23:13:26.865Z"
   },
   {
    "duration": 400,
    "start_time": "2022-12-07T23:13:26.902Z"
   },
   {
    "duration": 798,
    "start_time": "2022-12-07T23:13:27.304Z"
   },
   {
    "duration": 100,
    "start_time": "2022-12-07T23:13:28.104Z"
   },
   {
    "duration": 21028,
    "start_time": "2022-12-07T23:13:28.205Z"
   },
   {
    "duration": 0,
    "start_time": "2022-12-07T23:13:49.235Z"
   },
   {
    "duration": 0,
    "start_time": "2022-12-07T23:13:49.236Z"
   },
   {
    "duration": 0,
    "start_time": "2022-12-07T23:13:49.237Z"
   },
   {
    "duration": 0,
    "start_time": "2022-12-07T23:13:49.238Z"
   },
   {
    "duration": 0,
    "start_time": "2022-12-07T23:13:49.239Z"
   },
   {
    "duration": 0,
    "start_time": "2022-12-07T23:13:49.240Z"
   },
   {
    "duration": 0,
    "start_time": "2022-12-07T23:13:49.241Z"
   },
   {
    "duration": 0,
    "start_time": "2022-12-07T23:13:49.242Z"
   },
   {
    "duration": 0,
    "start_time": "2022-12-07T23:13:49.243Z"
   },
   {
    "duration": 6,
    "start_time": "2022-12-07T23:16:12.817Z"
   },
   {
    "duration": 307,
    "start_time": "2022-12-07T23:16:22.194Z"
   },
   {
    "duration": 321,
    "start_time": "2022-12-07T23:16:24.683Z"
   },
   {
    "duration": 7,
    "start_time": "2022-12-07T23:16:27.202Z"
   },
   {
    "duration": 1492,
    "start_time": "2022-12-07T23:17:23.585Z"
   },
   {
    "duration": 3,
    "start_time": "2022-12-07T23:17:25.079Z"
   },
   {
    "duration": 730,
    "start_time": "2022-12-07T23:17:25.083Z"
   },
   {
    "duration": 19,
    "start_time": "2022-12-07T23:17:25.815Z"
   },
   {
    "duration": 16,
    "start_time": "2022-12-07T23:17:25.835Z"
   },
   {
    "duration": 11,
    "start_time": "2022-12-07T23:17:25.853Z"
   },
   {
    "duration": 112,
    "start_time": "2022-12-07T23:17:25.866Z"
   },
   {
    "duration": 241,
    "start_time": "2022-12-07T23:17:25.979Z"
   },
   {
    "duration": 55,
    "start_time": "2022-12-07T23:17:26.222Z"
   },
   {
    "duration": 29,
    "start_time": "2022-12-07T23:17:26.279Z"
   },
   {
    "duration": 16,
    "start_time": "2022-12-07T23:17:26.310Z"
   },
   {
    "duration": 6,
    "start_time": "2022-12-07T23:17:26.327Z"
   },
   {
    "duration": 256,
    "start_time": "2022-12-07T23:17:26.335Z"
   },
   {
    "duration": 15,
    "start_time": "2022-12-07T23:17:26.592Z"
   },
   {
    "duration": 5,
    "start_time": "2022-12-07T23:17:26.609Z"
   },
   {
    "duration": 17,
    "start_time": "2022-12-07T23:17:26.616Z"
   },
   {
    "duration": 17,
    "start_time": "2022-12-07T23:17:26.634Z"
   },
   {
    "duration": 10,
    "start_time": "2022-12-07T23:17:26.653Z"
   },
   {
    "duration": 92,
    "start_time": "2022-12-07T23:17:26.664Z"
   },
   {
    "duration": 7,
    "start_time": "2022-12-07T23:17:26.758Z"
   },
   {
    "duration": 72,
    "start_time": "2022-12-07T23:17:26.767Z"
   },
   {
    "duration": 7,
    "start_time": "2022-12-07T23:17:26.840Z"
   },
   {
    "duration": 23,
    "start_time": "2022-12-07T23:17:26.848Z"
   },
   {
    "duration": 5,
    "start_time": "2022-12-07T23:17:26.873Z"
   },
   {
    "duration": 18,
    "start_time": "2022-12-07T23:17:26.880Z"
   },
   {
    "duration": 13,
    "start_time": "2022-12-07T23:17:26.900Z"
   },
   {
    "duration": 4,
    "start_time": "2022-12-07T23:17:26.914Z"
   },
   {
    "duration": 9,
    "start_time": "2022-12-07T23:17:26.922Z"
   },
   {
    "duration": 85,
    "start_time": "2022-12-07T23:17:26.932Z"
   },
   {
    "duration": 6,
    "start_time": "2022-12-07T23:17:27.019Z"
   },
   {
    "duration": 6,
    "start_time": "2022-12-07T23:17:27.027Z"
   },
   {
    "duration": 5,
    "start_time": "2022-12-07T23:17:27.035Z"
   },
   {
    "duration": 21,
    "start_time": "2022-12-07T23:17:27.042Z"
   },
   {
    "duration": 753,
    "start_time": "2022-12-07T23:17:27.064Z"
   },
   {
    "duration": 15,
    "start_time": "2022-12-07T23:17:27.819Z"
   },
   {
    "duration": 3564,
    "start_time": "2022-12-07T23:17:27.836Z"
   },
   {
    "duration": 19,
    "start_time": "2022-12-07T23:17:31.402Z"
   },
   {
    "duration": 8,
    "start_time": "2022-12-07T23:17:31.422Z"
   },
   {
    "duration": 20,
    "start_time": "2022-12-07T23:17:31.432Z"
   },
   {
    "duration": 15,
    "start_time": "2022-12-07T23:17:31.453Z"
   },
   {
    "duration": 505,
    "start_time": "2022-12-07T23:17:31.496Z"
   },
   {
    "duration": 21,
    "start_time": "2022-12-07T23:17:32.003Z"
   },
   {
    "duration": 205,
    "start_time": "2022-12-07T23:17:32.025Z"
   },
   {
    "duration": 1175,
    "start_time": "2022-12-07T23:17:32.232Z"
   },
   {
    "duration": 8,
    "start_time": "2022-12-07T23:17:33.409Z"
   },
   {
    "duration": 13,
    "start_time": "2022-12-07T23:17:33.419Z"
   },
   {
    "duration": 3,
    "start_time": "2022-12-07T23:17:33.433Z"
   },
   {
    "duration": 58,
    "start_time": "2022-12-07T23:17:33.438Z"
   },
   {
    "duration": 187,
    "start_time": "2022-12-07T23:17:33.498Z"
   },
   {
    "duration": 12,
    "start_time": "2022-12-07T23:17:33.686Z"
   },
   {
    "duration": 10,
    "start_time": "2022-12-07T23:17:33.700Z"
   },
   {
    "duration": 3,
    "start_time": "2022-12-07T23:17:33.711Z"
   },
   {
    "duration": 5,
    "start_time": "2022-12-07T23:17:33.716Z"
   },
   {
    "duration": 5,
    "start_time": "2022-12-07T23:17:33.722Z"
   },
   {
    "duration": 241,
    "start_time": "2022-12-07T23:17:33.728Z"
   },
   {
    "duration": 26,
    "start_time": "2022-12-07T23:17:33.970Z"
   },
   {
    "duration": 15,
    "start_time": "2022-12-07T23:17:33.998Z"
   },
   {
    "duration": 5,
    "start_time": "2022-12-07T23:17:34.015Z"
   },
   {
    "duration": 8,
    "start_time": "2022-12-07T23:17:34.021Z"
   },
   {
    "duration": 8,
    "start_time": "2022-12-07T23:17:34.030Z"
   },
   {
    "duration": 11,
    "start_time": "2022-12-07T23:17:34.039Z"
   },
   {
    "duration": 52,
    "start_time": "2022-12-07T23:17:34.051Z"
   },
   {
    "duration": 28,
    "start_time": "2022-12-07T23:17:34.105Z"
   },
   {
    "duration": 4,
    "start_time": "2022-12-07T23:17:34.135Z"
   },
   {
    "duration": 7,
    "start_time": "2022-12-07T23:17:34.140Z"
   },
   {
    "duration": 452,
    "start_time": "2022-12-07T23:17:34.149Z"
   },
   {
    "duration": 699,
    "start_time": "2022-12-07T23:17:34.602Z"
   },
   {
    "duration": 96,
    "start_time": "2022-12-07T23:17:35.303Z"
   },
   {
    "duration": 108242,
    "start_time": "2022-12-07T23:17:35.400Z"
   },
   {
    "duration": 147857,
    "start_time": "2022-12-07T23:19:23.644Z"
   },
   {
    "duration": 7,
    "start_time": "2022-12-07T23:21:51.503Z"
   },
   {
    "duration": 18,
    "start_time": "2022-12-07T23:21:51.512Z"
   },
   {
    "duration": 7,
    "start_time": "2022-12-07T23:21:51.532Z"
   },
   {
    "duration": 9,
    "start_time": "2022-12-07T23:21:51.540Z"
   },
   {
    "duration": 10,
    "start_time": "2022-12-07T23:21:51.551Z"
   },
   {
    "duration": 41,
    "start_time": "2022-12-07T23:21:51.562Z"
   },
   {
    "duration": 97,
    "start_time": "2022-12-07T23:21:51.608Z"
   },
   {
    "duration": 96,
    "start_time": "2022-12-07T23:21:51.706Z"
   },
   {
    "duration": 415,
    "start_time": "2022-12-07T23:25:27.587Z"
   },
   {
    "duration": 858,
    "start_time": "2022-12-07T23:25:29.546Z"
   },
   {
    "duration": 10,
    "start_time": "2022-12-07T23:25:32.003Z"
   },
   {
    "duration": 6,
    "start_time": "2022-12-07T23:25:50.139Z"
   },
   {
    "duration": 349,
    "start_time": "2022-12-07T23:25:54.954Z"
   },
   {
    "duration": 766,
    "start_time": "2022-12-07T23:25:57.437Z"
   },
   {
    "duration": 7,
    "start_time": "2022-12-07T23:25:59.739Z"
   },
   {
    "duration": 6,
    "start_time": "2022-12-07T23:26:09.355Z"
   },
   {
    "duration": 579,
    "start_time": "2022-12-07T23:26:12.522Z"
   },
   {
    "duration": 706,
    "start_time": "2022-12-07T23:26:14.603Z"
   },
   {
    "duration": 8,
    "start_time": "2022-12-07T23:26:18.003Z"
   },
   {
    "duration": 216,
    "start_time": "2022-12-07T23:34:40.471Z"
   },
   {
    "duration": 233,
    "start_time": "2022-12-07T23:36:48.977Z"
   },
   {
    "duration": 231,
    "start_time": "2022-12-07T23:36:56.367Z"
   },
   {
    "duration": 6,
    "start_time": "2022-12-07T23:37:51.663Z"
   },
   {
    "duration": 475,
    "start_time": "2022-12-07T23:37:58.828Z"
   },
   {
    "duration": 691,
    "start_time": "2022-12-07T23:38:16.711Z"
   },
   {
    "duration": 8,
    "start_time": "2022-12-07T23:38:21.854Z"
   },
   {
    "duration": 51,
    "start_time": "2022-12-07T23:41:10.586Z"
   },
   {
    "duration": 15,
    "start_time": "2022-12-07T23:41:22.237Z"
   },
   {
    "duration": 2,
    "start_time": "2022-12-07T23:45:28.223Z"
   },
   {
    "duration": 23,
    "start_time": "2022-12-07T23:49:59.956Z"
   },
   {
    "duration": 105,
    "start_time": "2022-12-07T23:50:07.950Z"
   },
   {
    "duration": 8,
    "start_time": "2022-12-07T23:50:13.748Z"
   },
   {
    "duration": 10,
    "start_time": "2022-12-07T23:50:19.203Z"
   },
   {
    "duration": 18,
    "start_time": "2022-12-07T23:53:38.718Z"
   },
   {
    "duration": 13,
    "start_time": "2022-12-07T23:53:56.742Z"
   },
   {
    "duration": 9,
    "start_time": "2022-12-07T23:54:26.413Z"
   },
   {
    "duration": 15,
    "start_time": "2022-12-07T23:56:44.894Z"
   },
   {
    "duration": 14,
    "start_time": "2022-12-07T23:56:59.346Z"
   },
   {
    "duration": 12,
    "start_time": "2022-12-07T23:57:15.688Z"
   },
   {
    "duration": 12,
    "start_time": "2022-12-07T23:58:30.746Z"
   },
   {
    "duration": 4,
    "start_time": "2022-12-07T23:58:35.243Z"
   },
   {
    "duration": 4,
    "start_time": "2022-12-07T23:58:35.251Z"
   },
   {
    "duration": 767,
    "start_time": "2022-12-07T23:58:35.262Z"
   },
   {
    "duration": 18,
    "start_time": "2022-12-07T23:58:36.031Z"
   },
   {
    "duration": 15,
    "start_time": "2022-12-07T23:58:36.051Z"
   },
   {
    "duration": 37,
    "start_time": "2022-12-07T23:58:36.068Z"
   },
   {
    "duration": 60,
    "start_time": "2022-12-07T23:58:36.106Z"
   },
   {
    "duration": 229,
    "start_time": "2022-12-07T23:58:36.167Z"
   },
   {
    "duration": 17,
    "start_time": "2022-12-07T23:58:36.398Z"
   },
   {
    "duration": 13,
    "start_time": "2022-12-07T23:58:36.417Z"
   },
   {
    "duration": 18,
    "start_time": "2022-12-07T23:58:36.431Z"
   },
   {
    "duration": 3,
    "start_time": "2022-12-07T23:58:36.451Z"
   },
   {
    "duration": 271,
    "start_time": "2022-12-07T23:58:36.456Z"
   },
   {
    "duration": 10,
    "start_time": "2022-12-07T23:58:36.728Z"
   },
   {
    "duration": 11,
    "start_time": "2022-12-07T23:58:36.740Z"
   },
   {
    "duration": 14,
    "start_time": "2022-12-07T23:58:36.753Z"
   },
   {
    "duration": 9,
    "start_time": "2022-12-07T23:58:36.768Z"
   },
   {
    "duration": 22,
    "start_time": "2022-12-07T23:58:36.779Z"
   },
   {
    "duration": 76,
    "start_time": "2022-12-07T23:58:36.803Z"
   },
   {
    "duration": 21,
    "start_time": "2022-12-07T23:58:36.881Z"
   },
   {
    "duration": 56,
    "start_time": "2022-12-07T23:58:36.903Z"
   },
   {
    "duration": 7,
    "start_time": "2022-12-07T23:58:36.961Z"
   },
   {
    "duration": 40,
    "start_time": "2022-12-07T23:58:36.969Z"
   },
   {
    "duration": 5,
    "start_time": "2022-12-07T23:58:37.011Z"
   },
   {
    "duration": 4,
    "start_time": "2022-12-07T23:58:37.018Z"
   },
   {
    "duration": 11,
    "start_time": "2022-12-07T23:58:37.024Z"
   },
   {
    "duration": 4,
    "start_time": "2022-12-07T23:58:37.036Z"
   },
   {
    "duration": 10,
    "start_time": "2022-12-07T23:58:37.041Z"
   },
   {
    "duration": 98,
    "start_time": "2022-12-07T23:58:37.053Z"
   },
   {
    "duration": 3,
    "start_time": "2022-12-07T23:58:37.154Z"
   },
   {
    "duration": 6,
    "start_time": "2022-12-07T23:58:37.159Z"
   },
   {
    "duration": 7,
    "start_time": "2022-12-07T23:58:37.167Z"
   },
   {
    "duration": 23,
    "start_time": "2022-12-07T23:58:37.176Z"
   },
   {
    "duration": 817,
    "start_time": "2022-12-07T23:58:37.201Z"
   },
   {
    "duration": 14,
    "start_time": "2022-12-07T23:58:38.019Z"
   },
   {
    "duration": 3566,
    "start_time": "2022-12-07T23:58:38.034Z"
   },
   {
    "duration": 17,
    "start_time": "2022-12-07T23:58:41.602Z"
   },
   {
    "duration": 8,
    "start_time": "2022-12-07T23:58:41.621Z"
   },
   {
    "duration": 15,
    "start_time": "2022-12-07T23:58:41.630Z"
   },
   {
    "duration": 15,
    "start_time": "2022-12-07T23:58:41.646Z"
   },
   {
    "duration": 425,
    "start_time": "2022-12-07T23:58:41.662Z"
   },
   {
    "duration": 26,
    "start_time": "2022-12-07T23:58:42.088Z"
   },
   {
    "duration": 191,
    "start_time": "2022-12-07T23:58:42.116Z"
   },
   {
    "duration": 1109,
    "start_time": "2022-12-07T23:58:42.309Z"
   },
   {
    "duration": 9,
    "start_time": "2022-12-07T23:58:43.419Z"
   },
   {
    "duration": 16,
    "start_time": "2022-12-07T23:58:43.429Z"
   },
   {
    "duration": 4,
    "start_time": "2022-12-07T23:58:43.446Z"
   },
   {
    "duration": 58,
    "start_time": "2022-12-07T23:58:43.451Z"
   },
   {
    "duration": 188,
    "start_time": "2022-12-07T23:58:43.511Z"
   },
   {
    "duration": 8,
    "start_time": "2022-12-07T23:58:43.701Z"
   },
   {
    "duration": 8,
    "start_time": "2022-12-07T23:58:43.711Z"
   },
   {
    "duration": 4,
    "start_time": "2022-12-07T23:58:43.721Z"
   },
   {
    "duration": 6,
    "start_time": "2022-12-07T23:58:43.726Z"
   },
   {
    "duration": 5,
    "start_time": "2022-12-07T23:58:43.733Z"
   },
   {
    "duration": 20,
    "start_time": "2022-12-07T23:58:43.739Z"
   },
   {
    "duration": 37,
    "start_time": "2022-12-07T23:58:43.761Z"
   },
   {
    "duration": 9,
    "start_time": "2022-12-07T23:58:43.799Z"
   },
   {
    "duration": 8,
    "start_time": "2022-12-07T23:58:43.809Z"
   },
   {
    "duration": 8,
    "start_time": "2022-12-07T23:58:43.818Z"
   },
   {
    "duration": 14,
    "start_time": "2022-12-07T23:58:53.499Z"
   },
   {
    "duration": 4,
    "start_time": "2022-12-07T23:59:52.508Z"
   },
   {
    "duration": 9,
    "start_time": "2022-12-07T23:59:52.516Z"
   },
   {
    "duration": 733,
    "start_time": "2022-12-07T23:59:52.530Z"
   },
   {
    "duration": 17,
    "start_time": "2022-12-07T23:59:53.265Z"
   },
   {
    "duration": 19,
    "start_time": "2022-12-07T23:59:53.284Z"
   },
   {
    "duration": 12,
    "start_time": "2022-12-07T23:59:53.305Z"
   },
   {
    "duration": 56,
    "start_time": "2022-12-07T23:59:53.318Z"
   },
   {
    "duration": 229,
    "start_time": "2022-12-07T23:59:53.375Z"
   },
   {
    "duration": 18,
    "start_time": "2022-12-07T23:59:53.605Z"
   },
   {
    "duration": 14,
    "start_time": "2022-12-07T23:59:53.624Z"
   },
   {
    "duration": 17,
    "start_time": "2022-12-07T23:59:53.639Z"
   },
   {
    "duration": 4,
    "start_time": "2022-12-07T23:59:53.658Z"
   },
   {
    "duration": 243,
    "start_time": "2022-12-07T23:59:53.663Z"
   },
   {
    "duration": 12,
    "start_time": "2022-12-07T23:59:53.908Z"
   },
   {
    "duration": 5,
    "start_time": "2022-12-07T23:59:53.921Z"
   },
   {
    "duration": 16,
    "start_time": "2022-12-07T23:59:53.927Z"
   },
   {
    "duration": 5,
    "start_time": "2022-12-07T23:59:53.949Z"
   },
   {
    "duration": 9,
    "start_time": "2022-12-07T23:59:53.955Z"
   },
   {
    "duration": 106,
    "start_time": "2022-12-07T23:59:53.965Z"
   },
   {
    "duration": 7,
    "start_time": "2022-12-07T23:59:54.073Z"
   },
   {
    "duration": 69,
    "start_time": "2022-12-07T23:59:54.082Z"
   },
   {
    "duration": 7,
    "start_time": "2022-12-07T23:59:54.153Z"
   },
   {
    "duration": 16,
    "start_time": "2022-12-07T23:59:54.162Z"
   },
   {
    "duration": 5,
    "start_time": "2022-12-07T23:59:54.197Z"
   },
   {
    "duration": 3,
    "start_time": "2022-12-07T23:59:54.204Z"
   },
   {
    "duration": 10,
    "start_time": "2022-12-07T23:59:54.209Z"
   },
   {
    "duration": 3,
    "start_time": "2022-12-07T23:59:54.221Z"
   },
   {
    "duration": 7,
    "start_time": "2022-12-07T23:59:54.225Z"
   },
   {
    "duration": 91,
    "start_time": "2022-12-07T23:59:54.234Z"
   },
   {
    "duration": 4,
    "start_time": "2022-12-07T23:59:54.328Z"
   },
   {
    "duration": 10,
    "start_time": "2022-12-07T23:59:54.333Z"
   },
   {
    "duration": 6,
    "start_time": "2022-12-07T23:59:54.345Z"
   },
   {
    "duration": 7,
    "start_time": "2022-12-07T23:59:54.353Z"
   },
   {
    "duration": 767,
    "start_time": "2022-12-07T23:59:54.362Z"
   },
   {
    "duration": 15,
    "start_time": "2022-12-07T23:59:55.131Z"
   },
   {
    "duration": 3442,
    "start_time": "2022-12-07T23:59:55.148Z"
   },
   {
    "duration": 18,
    "start_time": "2022-12-07T23:59:58.592Z"
   },
   {
    "duration": 9,
    "start_time": "2022-12-07T23:59:58.612Z"
   },
   {
    "duration": 16,
    "start_time": "2022-12-07T23:59:58.623Z"
   },
   {
    "duration": 15,
    "start_time": "2022-12-07T23:59:58.641Z"
   },
   {
    "duration": 479,
    "start_time": "2022-12-07T23:59:58.696Z"
   },
   {
    "duration": 29,
    "start_time": "2022-12-07T23:59:59.177Z"
   },
   {
    "duration": 186,
    "start_time": "2022-12-07T23:59:59.207Z"
   },
   {
    "duration": 1143,
    "start_time": "2022-12-07T23:59:59.397Z"
   },
   {
    "duration": 11,
    "start_time": "2022-12-08T00:00:00.542Z"
   },
   {
    "duration": 74,
    "start_time": "2022-12-08T00:00:00.554Z"
   },
   {
    "duration": 49,
    "start_time": "2022-12-08T00:00:00.630Z"
   },
   {
    "duration": 72,
    "start_time": "2022-12-08T00:00:00.681Z"
   },
   {
    "duration": 214,
    "start_time": "2022-12-08T00:00:00.755Z"
   },
   {
    "duration": 9,
    "start_time": "2022-12-08T00:00:00.971Z"
   },
   {
    "duration": 24,
    "start_time": "2022-12-08T00:00:00.982Z"
   },
   {
    "duration": 44,
    "start_time": "2022-12-08T00:00:01.007Z"
   },
   {
    "duration": 49,
    "start_time": "2022-12-08T00:00:01.052Z"
   },
   {
    "duration": 60,
    "start_time": "2022-12-08T00:00:01.103Z"
   },
   {
    "duration": 199,
    "start_time": "2022-12-08T00:00:01.165Z"
   },
   {
    "duration": 6,
    "start_time": "2022-12-08T00:00:01.366Z"
   },
   {
    "duration": 178,
    "start_time": "2022-12-08T00:00:01.374Z"
   },
   {
    "duration": 53,
    "start_time": "2022-12-08T00:00:01.554Z"
   },
   {
    "duration": 63,
    "start_time": "2022-12-08T00:00:01.609Z"
   },
   {
    "duration": 32,
    "start_time": "2022-12-08T00:00:23.745Z"
   },
   {
    "duration": 15,
    "start_time": "2022-12-08T00:00:35.298Z"
   },
   {
    "duration": 9,
    "start_time": "2022-12-08T00:00:46.386Z"
   },
   {
    "duration": 15,
    "start_time": "2022-12-08T00:01:06.346Z"
   },
   {
    "duration": 10,
    "start_time": "2022-12-08T00:01:17.354Z"
   },
   {
    "duration": 9,
    "start_time": "2022-12-08T00:06:39.022Z"
   },
   {
    "duration": 4,
    "start_time": "2022-12-08T00:07:14.038Z"
   },
   {
    "duration": 5,
    "start_time": "2022-12-08T00:07:14.047Z"
   },
   {
    "duration": 773,
    "start_time": "2022-12-08T00:07:14.058Z"
   },
   {
    "duration": 18,
    "start_time": "2022-12-08T00:07:14.833Z"
   },
   {
    "duration": 16,
    "start_time": "2022-12-08T00:07:14.853Z"
   },
   {
    "duration": 28,
    "start_time": "2022-12-08T00:07:14.871Z"
   },
   {
    "duration": 60,
    "start_time": "2022-12-08T00:07:14.901Z"
   },
   {
    "duration": 256,
    "start_time": "2022-12-08T00:07:14.963Z"
   },
   {
    "duration": 17,
    "start_time": "2022-12-08T00:07:15.221Z"
   },
   {
    "duration": 12,
    "start_time": "2022-12-08T00:07:15.240Z"
   },
   {
    "duration": 42,
    "start_time": "2022-12-08T00:07:15.254Z"
   },
   {
    "duration": 4,
    "start_time": "2022-12-08T00:07:15.300Z"
   },
   {
    "duration": 232,
    "start_time": "2022-12-08T00:07:15.306Z"
   },
   {
    "duration": 11,
    "start_time": "2022-12-08T00:07:15.539Z"
   },
   {
    "duration": 6,
    "start_time": "2022-12-08T00:07:15.551Z"
   },
   {
    "duration": 14,
    "start_time": "2022-12-08T00:07:15.559Z"
   },
   {
    "duration": 23,
    "start_time": "2022-12-08T00:07:15.575Z"
   },
   {
    "duration": 7,
    "start_time": "2022-12-08T00:07:15.600Z"
   },
   {
    "duration": 97,
    "start_time": "2022-12-08T00:07:15.608Z"
   },
   {
    "duration": 9,
    "start_time": "2022-12-08T00:07:15.707Z"
   },
   {
    "duration": 56,
    "start_time": "2022-12-08T00:07:15.718Z"
   },
   {
    "duration": 23,
    "start_time": "2022-12-08T00:07:15.777Z"
   },
   {
    "duration": 18,
    "start_time": "2022-12-08T00:07:15.802Z"
   },
   {
    "duration": 7,
    "start_time": "2022-12-08T00:07:15.822Z"
   },
   {
    "duration": 5,
    "start_time": "2022-12-08T00:07:15.830Z"
   },
   {
    "duration": 19,
    "start_time": "2022-12-08T00:07:15.837Z"
   },
   {
    "duration": 3,
    "start_time": "2022-12-08T00:07:15.858Z"
   },
   {
    "duration": 8,
    "start_time": "2022-12-08T00:07:15.896Z"
   },
   {
    "duration": 91,
    "start_time": "2022-12-08T00:07:15.906Z"
   },
   {
    "duration": 4,
    "start_time": "2022-12-08T00:07:16.001Z"
   },
   {
    "duration": 13,
    "start_time": "2022-12-08T00:07:16.007Z"
   },
   {
    "duration": 20,
    "start_time": "2022-12-08T00:07:16.022Z"
   },
   {
    "duration": 8,
    "start_time": "2022-12-08T00:07:16.044Z"
   },
   {
    "duration": 733,
    "start_time": "2022-12-08T00:07:16.054Z"
   },
   {
    "duration": 15,
    "start_time": "2022-12-08T00:07:16.796Z"
   },
   {
    "duration": 3201,
    "start_time": "2022-12-08T00:07:16.813Z"
   },
   {
    "duration": 19,
    "start_time": "2022-12-08T00:07:20.016Z"
   },
   {
    "duration": 9,
    "start_time": "2022-12-08T00:07:20.036Z"
   },
   {
    "duration": 16,
    "start_time": "2022-12-08T00:07:20.047Z"
   },
   {
    "duration": 47,
    "start_time": "2022-12-08T00:07:20.065Z"
   },
   {
    "duration": 471,
    "start_time": "2022-12-08T00:07:20.114Z"
   },
   {
    "duration": 25,
    "start_time": "2022-12-08T00:07:20.587Z"
   },
   {
    "duration": 207,
    "start_time": "2022-12-08T00:07:20.614Z"
   },
   {
    "duration": 1207,
    "start_time": "2022-12-08T00:07:20.823Z"
   },
   {
    "duration": 10,
    "start_time": "2022-12-08T00:07:22.032Z"
   },
   {
    "duration": 16,
    "start_time": "2022-12-08T00:07:22.044Z"
   },
   {
    "duration": 3,
    "start_time": "2022-12-08T00:07:22.062Z"
   },
   {
    "duration": 67,
    "start_time": "2022-12-08T00:07:22.067Z"
   },
   {
    "duration": 205,
    "start_time": "2022-12-08T00:07:22.136Z"
   },
   {
    "duration": 9,
    "start_time": "2022-12-08T00:07:22.343Z"
   },
   {
    "duration": 10,
    "start_time": "2022-12-08T00:07:22.353Z"
   },
   {
    "duration": 5,
    "start_time": "2022-12-08T00:07:22.365Z"
   },
   {
    "duration": 29,
    "start_time": "2022-12-08T00:07:22.371Z"
   },
   {
    "duration": 6,
    "start_time": "2022-12-08T00:07:22.401Z"
   },
   {
    "duration": 128,
    "start_time": "2022-12-08T00:07:22.409Z"
   },
   {
    "duration": 6,
    "start_time": "2022-12-08T00:07:22.539Z"
   },
   {
    "duration": 22,
    "start_time": "2022-12-08T00:07:22.546Z"
   },
   {
    "duration": 20,
    "start_time": "2022-12-08T00:07:22.570Z"
   },
   {
    "duration": 11,
    "start_time": "2022-12-08T00:07:22.592Z"
   },
   {
    "duration": 40,
    "start_time": "2022-12-08T00:07:27.388Z"
   },
   {
    "duration": 41,
    "start_time": "2022-12-08T00:07:46.026Z"
   },
   {
    "duration": 28,
    "start_time": "2022-12-08T00:08:07.224Z"
   },
   {
    "duration": 27,
    "start_time": "2022-12-08T00:08:14.757Z"
   },
   {
    "duration": 46,
    "start_time": "2022-12-08T00:08:50.398Z"
   },
   {
    "duration": 32,
    "start_time": "2022-12-08T00:09:36.550Z"
   },
   {
    "duration": 28,
    "start_time": "2022-12-08T00:11:04.527Z"
   },
   {
    "duration": 4,
    "start_time": "2022-12-08T00:11:17.780Z"
   },
   {
    "duration": 8,
    "start_time": "2022-12-08T00:11:17.787Z"
   },
   {
    "duration": 760,
    "start_time": "2022-12-08T00:11:17.801Z"
   },
   {
    "duration": 19,
    "start_time": "2022-12-08T00:11:18.563Z"
   },
   {
    "duration": 26,
    "start_time": "2022-12-08T00:11:18.584Z"
   },
   {
    "duration": 12,
    "start_time": "2022-12-08T00:11:18.612Z"
   },
   {
    "duration": 75,
    "start_time": "2022-12-08T00:11:18.625Z"
   },
   {
    "duration": 222,
    "start_time": "2022-12-08T00:11:18.702Z"
   },
   {
    "duration": 18,
    "start_time": "2022-12-08T00:11:18.926Z"
   },
   {
    "duration": 14,
    "start_time": "2022-12-08T00:11:18.945Z"
   },
   {
    "duration": 37,
    "start_time": "2022-12-08T00:11:18.961Z"
   },
   {
    "duration": 4,
    "start_time": "2022-12-08T00:11:19.000Z"
   },
   {
    "duration": 234,
    "start_time": "2022-12-08T00:11:19.006Z"
   },
   {
    "duration": 11,
    "start_time": "2022-12-08T00:11:19.242Z"
   },
   {
    "duration": 5,
    "start_time": "2022-12-08T00:11:19.254Z"
   },
   {
    "duration": 36,
    "start_time": "2022-12-08T00:11:19.261Z"
   },
   {
    "duration": 5,
    "start_time": "2022-12-08T00:11:19.298Z"
   },
   {
    "duration": 10,
    "start_time": "2022-12-08T00:11:19.305Z"
   },
   {
    "duration": 98,
    "start_time": "2022-12-08T00:11:19.317Z"
   },
   {
    "duration": 8,
    "start_time": "2022-12-08T00:11:19.416Z"
   },
   {
    "duration": 57,
    "start_time": "2022-12-08T00:11:19.425Z"
   },
   {
    "duration": 8,
    "start_time": "2022-12-08T00:11:19.496Z"
   },
   {
    "duration": 18,
    "start_time": "2022-12-08T00:11:19.506Z"
   },
   {
    "duration": 12,
    "start_time": "2022-12-08T00:11:19.526Z"
   },
   {
    "duration": 3,
    "start_time": "2022-12-08T00:11:19.540Z"
   },
   {
    "duration": 14,
    "start_time": "2022-12-08T00:11:19.545Z"
   },
   {
    "duration": 3,
    "start_time": "2022-12-08T00:11:19.561Z"
   },
   {
    "duration": 33,
    "start_time": "2022-12-08T00:11:19.566Z"
   },
   {
    "duration": 71,
    "start_time": "2022-12-08T00:11:19.601Z"
   },
   {
    "duration": 21,
    "start_time": "2022-12-08T00:11:19.677Z"
   },
   {
    "duration": 12,
    "start_time": "2022-12-08T00:11:19.699Z"
   },
   {
    "duration": 24,
    "start_time": "2022-12-08T00:11:19.713Z"
   },
   {
    "duration": 16,
    "start_time": "2022-12-08T00:11:19.738Z"
   },
   {
    "duration": 700,
    "start_time": "2022-12-08T00:11:19.756Z"
   },
   {
    "duration": 14,
    "start_time": "2022-12-08T00:11:20.458Z"
   },
   {
    "duration": 3327,
    "start_time": "2022-12-08T00:11:20.474Z"
   },
   {
    "duration": 18,
    "start_time": "2022-12-08T00:11:23.802Z"
   },
   {
    "duration": 8,
    "start_time": "2022-12-08T00:11:23.821Z"
   },
   {
    "duration": 15,
    "start_time": "2022-12-08T00:11:23.830Z"
   },
   {
    "duration": 18,
    "start_time": "2022-12-08T00:11:23.846Z"
   },
   {
    "duration": 460,
    "start_time": "2022-12-08T00:11:23.866Z"
   },
   {
    "duration": 21,
    "start_time": "2022-12-08T00:11:24.328Z"
   },
   {
    "duration": 201,
    "start_time": "2022-12-08T00:11:24.351Z"
   },
   {
    "duration": 1393,
    "start_time": "2022-12-08T00:11:24.554Z"
   },
   {
    "duration": 11,
    "start_time": "2022-12-08T00:11:25.950Z"
   },
   {
    "duration": 34,
    "start_time": "2022-12-08T00:11:25.963Z"
   },
   {
    "duration": 5,
    "start_time": "2022-12-08T00:11:25.999Z"
   },
   {
    "duration": 51,
    "start_time": "2022-12-08T00:11:26.006Z"
   },
   {
    "duration": 203,
    "start_time": "2022-12-08T00:11:26.059Z"
   },
   {
    "duration": 9,
    "start_time": "2022-12-08T00:11:26.263Z"
   },
   {
    "duration": 15,
    "start_time": "2022-12-08T00:11:26.273Z"
   },
   {
    "duration": 4,
    "start_time": "2022-12-08T00:11:26.295Z"
   },
   {
    "duration": 5,
    "start_time": "2022-12-08T00:11:26.301Z"
   },
   {
    "duration": 4,
    "start_time": "2022-12-08T00:11:26.308Z"
   },
   {
    "duration": 137,
    "start_time": "2022-12-08T00:11:26.314Z"
   },
   {
    "duration": 6,
    "start_time": "2022-12-08T00:11:26.453Z"
   },
   {
    "duration": 8,
    "start_time": "2022-12-08T00:11:26.461Z"
   },
   {
    "duration": 27,
    "start_time": "2022-12-08T00:11:26.471Z"
   },
   {
    "duration": 9,
    "start_time": "2022-12-08T00:11:26.499Z"
   },
   {
    "duration": 37,
    "start_time": "2022-12-08T00:11:26.510Z"
   },
   {
    "duration": 52,
    "start_time": "2022-12-08T00:11:26.548Z"
   },
   {
    "duration": 26,
    "start_time": "2022-12-08T00:11:26.602Z"
   },
   {
    "duration": 43,
    "start_time": "2022-12-08T00:11:26.630Z"
   },
   {
    "duration": 24,
    "start_time": "2022-12-08T00:11:26.675Z"
   },
   {
    "duration": 6,
    "start_time": "2022-12-08T00:11:29.470Z"
   },
   {
    "duration": 549,
    "start_time": "2022-12-08T00:11:33.149Z"
   },
   {
    "duration": 816,
    "start_time": "2022-12-08T00:11:35.286Z"
   },
   {
    "duration": 8,
    "start_time": "2022-12-08T00:11:38.494Z"
   },
   {
    "duration": 8,
    "start_time": "2022-12-08T00:13:08.873Z"
   },
   {
    "duration": 447,
    "start_time": "2022-12-08T00:13:12.455Z"
   },
   {
    "duration": 963,
    "start_time": "2022-12-08T00:13:14.734Z"
   },
   {
    "duration": 8,
    "start_time": "2022-12-08T00:13:19.029Z"
   },
   {
    "duration": 4,
    "start_time": "2022-12-08T00:15:08.483Z"
   },
   {
    "duration": 7,
    "start_time": "2022-12-08T00:15:08.491Z"
   },
   {
    "duration": 779,
    "start_time": "2022-12-08T00:15:08.504Z"
   },
   {
    "duration": 17,
    "start_time": "2022-12-08T00:15:09.285Z"
   },
   {
    "duration": 15,
    "start_time": "2022-12-08T00:15:09.303Z"
   },
   {
    "duration": 13,
    "start_time": "2022-12-08T00:15:09.320Z"
   },
   {
    "duration": 80,
    "start_time": "2022-12-08T00:15:09.334Z"
   },
   {
    "duration": 216,
    "start_time": "2022-12-08T00:15:09.416Z"
   },
   {
    "duration": 17,
    "start_time": "2022-12-08T00:15:09.633Z"
   },
   {
    "duration": 13,
    "start_time": "2022-12-08T00:15:09.652Z"
   },
   {
    "duration": 38,
    "start_time": "2022-12-08T00:15:09.667Z"
   },
   {
    "duration": 3,
    "start_time": "2022-12-08T00:15:09.707Z"
   },
   {
    "duration": 238,
    "start_time": "2022-12-08T00:15:09.712Z"
   },
   {
    "duration": 10,
    "start_time": "2022-12-08T00:15:09.952Z"
   },
   {
    "duration": 4,
    "start_time": "2022-12-08T00:15:09.964Z"
   },
   {
    "duration": 31,
    "start_time": "2022-12-08T00:15:09.969Z"
   },
   {
    "duration": 7,
    "start_time": "2022-12-08T00:15:10.002Z"
   },
   {
    "duration": 10,
    "start_time": "2022-12-08T00:15:10.011Z"
   },
   {
    "duration": 93,
    "start_time": "2022-12-08T00:15:10.023Z"
   },
   {
    "duration": 8,
    "start_time": "2022-12-08T00:15:10.118Z"
   },
   {
    "duration": 68,
    "start_time": "2022-12-08T00:15:10.128Z"
   },
   {
    "duration": 7,
    "start_time": "2022-12-08T00:15:10.198Z"
   },
   {
    "duration": 17,
    "start_time": "2022-12-08T00:15:10.206Z"
   },
   {
    "duration": 5,
    "start_time": "2022-12-08T00:15:10.224Z"
   },
   {
    "duration": 3,
    "start_time": "2022-12-08T00:15:10.231Z"
   },
   {
    "duration": 16,
    "start_time": "2022-12-08T00:15:10.236Z"
   },
   {
    "duration": 5,
    "start_time": "2022-12-08T00:15:10.254Z"
   },
   {
    "duration": 38,
    "start_time": "2022-12-08T00:15:10.260Z"
   },
   {
    "duration": 74,
    "start_time": "2022-12-08T00:15:10.300Z"
   },
   {
    "duration": 18,
    "start_time": "2022-12-08T00:15:10.378Z"
   },
   {
    "duration": 6,
    "start_time": "2022-12-08T00:15:10.398Z"
   },
   {
    "duration": 7,
    "start_time": "2022-12-08T00:15:10.405Z"
   },
   {
    "duration": 8,
    "start_time": "2022-12-08T00:15:10.413Z"
   },
   {
    "duration": 682,
    "start_time": "2022-12-08T00:15:10.423Z"
   },
   {
    "duration": 14,
    "start_time": "2022-12-08T00:15:11.107Z"
   },
   {
    "duration": 3467,
    "start_time": "2022-12-08T00:15:11.122Z"
   },
   {
    "duration": 17,
    "start_time": "2022-12-08T00:15:14.591Z"
   },
   {
    "duration": 7,
    "start_time": "2022-12-08T00:15:14.609Z"
   },
   {
    "duration": 14,
    "start_time": "2022-12-08T00:15:14.618Z"
   },
   {
    "duration": 15,
    "start_time": "2022-12-08T00:15:14.633Z"
   },
   {
    "duration": 440,
    "start_time": "2022-12-08T00:15:14.649Z"
   },
   {
    "duration": 24,
    "start_time": "2022-12-08T00:15:15.091Z"
   },
   {
    "duration": 211,
    "start_time": "2022-12-08T00:15:15.117Z"
   },
   {
    "duration": 1095,
    "start_time": "2022-12-08T00:15:15.330Z"
   },
   {
    "duration": 10,
    "start_time": "2022-12-08T00:15:16.426Z"
   },
   {
    "duration": 14,
    "start_time": "2022-12-08T00:15:16.437Z"
   },
   {
    "duration": 3,
    "start_time": "2022-12-08T00:15:16.453Z"
   },
   {
    "duration": 58,
    "start_time": "2022-12-08T00:15:16.458Z"
   },
   {
    "duration": 289,
    "start_time": "2022-12-08T00:15:16.518Z"
   },
   {
    "duration": 9,
    "start_time": "2022-12-08T00:15:16.809Z"
   },
   {
    "duration": 9,
    "start_time": "2022-12-08T00:15:16.820Z"
   },
   {
    "duration": 3,
    "start_time": "2022-12-08T00:15:16.831Z"
   },
   {
    "duration": 5,
    "start_time": "2022-12-08T00:15:16.836Z"
   },
   {
    "duration": 6,
    "start_time": "2022-12-08T00:15:16.842Z"
   },
   {
    "duration": 18,
    "start_time": "2022-12-08T00:15:16.849Z"
   },
   {
    "duration": 6,
    "start_time": "2022-12-08T00:15:16.896Z"
   },
   {
    "duration": 9,
    "start_time": "2022-12-08T00:15:16.904Z"
   },
   {
    "duration": 13,
    "start_time": "2022-12-08T00:15:16.915Z"
   },
   {
    "duration": 12,
    "start_time": "2022-12-08T00:15:16.929Z"
   },
   {
    "duration": 21,
    "start_time": "2022-12-08T00:15:16.942Z"
   },
   {
    "duration": 39,
    "start_time": "2022-12-08T00:15:16.965Z"
   },
   {
    "duration": 22,
    "start_time": "2022-12-08T00:15:17.005Z"
   },
   {
    "duration": 28,
    "start_time": "2022-12-08T00:15:17.029Z"
   },
   {
    "duration": 4,
    "start_time": "2022-12-08T00:15:17.059Z"
   },
   {
    "duration": 7,
    "start_time": "2022-12-08T00:15:17.096Z"
   },
   {
    "duration": 588,
    "start_time": "2022-12-08T00:15:24.014Z"
   },
   {
    "duration": 818,
    "start_time": "2022-12-08T00:15:26.477Z"
   },
   {
    "duration": 7,
    "start_time": "2022-12-08T00:15:29.614Z"
   },
   {
    "duration": 6,
    "start_time": "2022-12-08T00:15:42.000Z"
   },
   {
    "duration": 520,
    "start_time": "2022-12-08T00:15:45.677Z"
   },
   {
    "duration": 374,
    "start_time": "2022-12-08T00:15:48.230Z"
   },
   {
    "duration": 7,
    "start_time": "2022-12-08T00:15:51.790Z"
   },
   {
    "duration": 6,
    "start_time": "2022-12-08T00:18:03.267Z"
   },
   {
    "duration": 3,
    "start_time": "2022-12-08T00:18:13.345Z"
   },
   {
    "duration": 5,
    "start_time": "2022-12-08T00:18:13.352Z"
   },
   {
    "duration": 742,
    "start_time": "2022-12-08T00:18:13.365Z"
   },
   {
    "duration": 18,
    "start_time": "2022-12-08T00:18:14.109Z"
   },
   {
    "duration": 15,
    "start_time": "2022-12-08T00:18:14.128Z"
   },
   {
    "duration": 12,
    "start_time": "2022-12-08T00:18:14.145Z"
   },
   {
    "duration": 79,
    "start_time": "2022-12-08T00:18:14.158Z"
   },
   {
    "duration": 226,
    "start_time": "2022-12-08T00:18:14.239Z"
   },
   {
    "duration": 19,
    "start_time": "2022-12-08T00:18:14.466Z"
   },
   {
    "duration": 23,
    "start_time": "2022-12-08T00:18:14.486Z"
   },
   {
    "duration": 18,
    "start_time": "2022-12-08T00:18:14.511Z"
   },
   {
    "duration": 3,
    "start_time": "2022-12-08T00:18:14.532Z"
   },
   {
    "duration": 242,
    "start_time": "2022-12-08T00:18:14.537Z"
   },
   {
    "duration": 19,
    "start_time": "2022-12-08T00:18:14.780Z"
   },
   {
    "duration": 12,
    "start_time": "2022-12-08T00:18:14.800Z"
   },
   {
    "duration": 16,
    "start_time": "2022-12-08T00:18:14.813Z"
   },
   {
    "duration": 4,
    "start_time": "2022-12-08T00:18:14.830Z"
   },
   {
    "duration": 10,
    "start_time": "2022-12-08T00:18:14.835Z"
   },
   {
    "duration": 94,
    "start_time": "2022-12-08T00:18:14.846Z"
   },
   {
    "duration": 9,
    "start_time": "2022-12-08T00:18:14.942Z"
   },
   {
    "duration": 73,
    "start_time": "2022-12-08T00:18:14.952Z"
   },
   {
    "duration": 7,
    "start_time": "2022-12-08T00:18:15.027Z"
   },
   {
    "duration": 18,
    "start_time": "2022-12-08T00:18:15.036Z"
   },
   {
    "duration": 6,
    "start_time": "2022-12-08T00:18:15.055Z"
   },
   {
    "duration": 8,
    "start_time": "2022-12-08T00:18:15.062Z"
   },
   {
    "duration": 31,
    "start_time": "2022-12-08T00:18:15.072Z"
   },
   {
    "duration": 4,
    "start_time": "2022-12-08T00:18:15.104Z"
   },
   {
    "duration": 9,
    "start_time": "2022-12-08T00:18:15.109Z"
   },
   {
    "duration": 92,
    "start_time": "2022-12-08T00:18:15.119Z"
   },
   {
    "duration": 3,
    "start_time": "2022-12-08T00:18:15.215Z"
   },
   {
    "duration": 16,
    "start_time": "2022-12-08T00:18:15.220Z"
   },
   {
    "duration": 13,
    "start_time": "2022-12-08T00:18:15.237Z"
   },
   {
    "duration": 9,
    "start_time": "2022-12-08T00:18:15.251Z"
   },
   {
    "duration": 704,
    "start_time": "2022-12-08T00:18:15.261Z"
   },
   {
    "duration": 16,
    "start_time": "2022-12-08T00:18:15.967Z"
   },
   {
    "duration": 3214,
    "start_time": "2022-12-08T00:18:15.985Z"
   },
   {
    "duration": 17,
    "start_time": "2022-12-08T00:18:19.201Z"
   },
   {
    "duration": 8,
    "start_time": "2022-12-08T00:18:19.220Z"
   },
   {
    "duration": 15,
    "start_time": "2022-12-08T00:18:19.229Z"
   },
   {
    "duration": 14,
    "start_time": "2022-12-08T00:18:19.246Z"
   },
   {
    "duration": 417,
    "start_time": "2022-12-08T00:18:19.261Z"
   },
   {
    "duration": 27,
    "start_time": "2022-12-08T00:18:19.680Z"
   },
   {
    "duration": 195,
    "start_time": "2022-12-08T00:18:19.709Z"
   },
   {
    "duration": 1214,
    "start_time": "2022-12-08T00:18:19.906Z"
   },
   {
    "duration": 9,
    "start_time": "2022-12-08T00:18:21.122Z"
   },
   {
    "duration": 20,
    "start_time": "2022-12-08T00:18:21.132Z"
   },
   {
    "duration": 4,
    "start_time": "2022-12-08T00:18:21.153Z"
   },
   {
    "duration": 49,
    "start_time": "2022-12-08T00:18:21.158Z"
   },
   {
    "duration": 189,
    "start_time": "2022-12-08T00:18:21.209Z"
   },
   {
    "duration": 8,
    "start_time": "2022-12-08T00:18:21.400Z"
   },
   {
    "duration": 9,
    "start_time": "2022-12-08T00:18:21.409Z"
   },
   {
    "duration": 4,
    "start_time": "2022-12-08T00:18:21.419Z"
   },
   {
    "duration": 5,
    "start_time": "2022-12-08T00:18:21.424Z"
   },
   {
    "duration": 5,
    "start_time": "2022-12-08T00:18:21.430Z"
   },
   {
    "duration": 20,
    "start_time": "2022-12-08T00:18:21.436Z"
   },
   {
    "duration": 6,
    "start_time": "2022-12-08T00:18:21.457Z"
   },
   {
    "duration": 33,
    "start_time": "2022-12-08T00:18:21.464Z"
   },
   {
    "duration": 7,
    "start_time": "2022-12-08T00:18:21.499Z"
   },
   {
    "duration": 10,
    "start_time": "2022-12-08T00:18:21.507Z"
   },
   {
    "duration": 31,
    "start_time": "2022-12-08T00:18:21.518Z"
   },
   {
    "duration": 62,
    "start_time": "2022-12-08T00:18:21.551Z"
   },
   {
    "duration": 4,
    "start_time": "2022-12-08T00:18:21.615Z"
   },
   {
    "duration": 7,
    "start_time": "2022-12-08T00:18:21.621Z"
   },
   {
    "duration": 478,
    "start_time": "2022-12-08T00:18:25.125Z"
   },
   {
    "duration": 618,
    "start_time": "2022-12-08T00:18:27.485Z"
   },
   {
    "duration": 7,
    "start_time": "2022-12-08T00:18:29.742Z"
   },
   {
    "duration": 4,
    "start_time": "2022-12-08T00:19:14.390Z"
   },
   {
    "duration": 4,
    "start_time": "2022-12-08T00:19:14.397Z"
   },
   {
    "duration": 723,
    "start_time": "2022-12-08T00:19:14.411Z"
   },
   {
    "duration": 18,
    "start_time": "2022-12-08T00:19:15.136Z"
   },
   {
    "duration": 16,
    "start_time": "2022-12-08T00:19:15.155Z"
   },
   {
    "duration": 36,
    "start_time": "2022-12-08T00:19:15.173Z"
   },
   {
    "duration": 61,
    "start_time": "2022-12-08T00:19:15.210Z"
   },
   {
    "duration": 231,
    "start_time": "2022-12-08T00:19:15.272Z"
   },
   {
    "duration": 18,
    "start_time": "2022-12-08T00:19:15.505Z"
   },
   {
    "duration": 15,
    "start_time": "2022-12-08T00:19:15.524Z"
   },
   {
    "duration": 18,
    "start_time": "2022-12-08T00:19:15.540Z"
   },
   {
    "duration": 3,
    "start_time": "2022-12-08T00:19:15.560Z"
   },
   {
    "duration": 229,
    "start_time": "2022-12-08T00:19:15.596Z"
   },
   {
    "duration": 10,
    "start_time": "2022-12-08T00:19:15.827Z"
   },
   {
    "duration": 4,
    "start_time": "2022-12-08T00:19:15.839Z"
   },
   {
    "duration": 18,
    "start_time": "2022-12-08T00:19:15.844Z"
   },
   {
    "duration": 7,
    "start_time": "2022-12-08T00:19:15.863Z"
   },
   {
    "duration": 26,
    "start_time": "2022-12-08T00:19:15.871Z"
   },
   {
    "duration": 107,
    "start_time": "2022-12-08T00:19:15.899Z"
   },
   {
    "duration": 9,
    "start_time": "2022-12-08T00:19:16.008Z"
   },
   {
    "duration": 58,
    "start_time": "2022-12-08T00:19:16.019Z"
   },
   {
    "duration": 8,
    "start_time": "2022-12-08T00:19:16.096Z"
   },
   {
    "duration": 18,
    "start_time": "2022-12-08T00:19:16.106Z"
   },
   {
    "duration": 6,
    "start_time": "2022-12-08T00:19:16.126Z"
   },
   {
    "duration": 4,
    "start_time": "2022-12-08T00:19:16.133Z"
   },
   {
    "duration": 12,
    "start_time": "2022-12-08T00:19:16.138Z"
   },
   {
    "duration": 4,
    "start_time": "2022-12-08T00:19:16.151Z"
   },
   {
    "duration": 43,
    "start_time": "2022-12-08T00:19:16.156Z"
   },
   {
    "duration": 65,
    "start_time": "2022-12-08T00:19:16.201Z"
   },
   {
    "duration": 4,
    "start_time": "2022-12-08T00:19:16.270Z"
   },
   {
    "duration": 21,
    "start_time": "2022-12-08T00:19:16.275Z"
   },
   {
    "duration": 8,
    "start_time": "2022-12-08T00:19:16.298Z"
   },
   {
    "duration": 7,
    "start_time": "2022-12-08T00:19:16.308Z"
   },
   {
    "duration": 676,
    "start_time": "2022-12-08T00:19:16.317Z"
   },
   {
    "duration": 13,
    "start_time": "2022-12-08T00:19:16.995Z"
   },
   {
    "duration": 3486,
    "start_time": "2022-12-08T00:19:17.010Z"
   },
   {
    "duration": 18,
    "start_time": "2022-12-08T00:19:20.497Z"
   },
   {
    "duration": 8,
    "start_time": "2022-12-08T00:19:20.516Z"
   },
   {
    "duration": 20,
    "start_time": "2022-12-08T00:19:20.525Z"
   },
   {
    "duration": 13,
    "start_time": "2022-12-08T00:19:20.547Z"
   },
   {
    "duration": 421,
    "start_time": "2022-12-08T00:19:20.562Z"
   },
   {
    "duration": 32,
    "start_time": "2022-12-08T00:19:20.985Z"
   },
   {
    "duration": 301,
    "start_time": "2022-12-08T00:19:21.018Z"
   },
   {
    "duration": 1093,
    "start_time": "2022-12-08T00:19:21.320Z"
   },
   {
    "duration": 10,
    "start_time": "2022-12-08T00:19:22.414Z"
   },
   {
    "duration": 16,
    "start_time": "2022-12-08T00:19:22.425Z"
   },
   {
    "duration": 5,
    "start_time": "2022-12-08T00:19:22.443Z"
   },
   {
    "duration": 54,
    "start_time": "2022-12-08T00:19:22.449Z"
   },
   {
    "duration": 194,
    "start_time": "2022-12-08T00:19:22.505Z"
   },
   {
    "duration": 8,
    "start_time": "2022-12-08T00:19:22.701Z"
   },
   {
    "duration": 9,
    "start_time": "2022-12-08T00:19:22.711Z"
   },
   {
    "duration": 5,
    "start_time": "2022-12-08T00:19:22.722Z"
   },
   {
    "duration": 3,
    "start_time": "2022-12-08T00:19:22.729Z"
   },
   {
    "duration": 6,
    "start_time": "2022-12-08T00:19:22.733Z"
   },
   {
    "duration": 21,
    "start_time": "2022-12-08T00:19:22.741Z"
   },
   {
    "duration": 5,
    "start_time": "2022-12-08T00:19:22.764Z"
   },
   {
    "duration": 8,
    "start_time": "2022-12-08T00:19:22.797Z"
   },
   {
    "duration": 16,
    "start_time": "2022-12-08T00:19:22.807Z"
   },
   {
    "duration": 10,
    "start_time": "2022-12-08T00:19:22.825Z"
   },
   {
    "duration": 36,
    "start_time": "2022-12-08T00:19:22.836Z"
   },
   {
    "duration": 48,
    "start_time": "2022-12-08T00:19:22.874Z"
   },
   {
    "duration": 5,
    "start_time": "2022-12-08T00:19:22.923Z"
   },
   {
    "duration": 7,
    "start_time": "2022-12-08T00:19:22.930Z"
   },
   {
    "duration": 465,
    "start_time": "2022-12-08T00:19:22.938Z"
   },
   {
    "duration": 795,
    "start_time": "2022-12-08T00:19:23.407Z"
   },
   {
    "duration": 99,
    "start_time": "2022-12-08T00:19:24.204Z"
   },
   {
    "duration": 106715,
    "start_time": "2022-12-08T00:19:24.304Z"
   },
   {
    "duration": 145933,
    "start_time": "2022-12-08T00:21:11.021Z"
   },
   {
    "duration": 7,
    "start_time": "2022-12-08T00:23:36.955Z"
   },
   {
    "duration": 7,
    "start_time": "2022-12-08T00:23:36.964Z"
   },
   {
    "duration": 11,
    "start_time": "2022-12-08T00:23:36.972Z"
   },
   {
    "duration": 3,
    "start_time": "2022-12-08T00:23:36.996Z"
   },
   {
    "duration": 9,
    "start_time": "2022-12-08T00:23:37.000Z"
   },
   {
    "duration": 11,
    "start_time": "2022-12-08T00:23:37.011Z"
   },
   {
    "duration": 75,
    "start_time": "2022-12-08T00:23:37.024Z"
   },
   {
    "duration": 5,
    "start_time": "2022-12-08T00:23:37.101Z"
   },
   {
    "duration": 7,
    "start_time": "2022-12-08T00:25:07.794Z"
   },
   {
    "duration": 139625,
    "start_time": "2022-12-08T00:25:12.386Z"
   },
   {
    "duration": 192236,
    "start_time": "2022-12-08T00:27:45.387Z"
   },
   {
    "duration": 7,
    "start_time": "2022-12-08T00:30:57.625Z"
   },
   {
    "duration": 3,
    "start_time": "2022-12-08T00:31:22.241Z"
   },
   {
    "duration": 4,
    "start_time": "2022-12-08T00:31:22.248Z"
   },
   {
    "duration": 735,
    "start_time": "2022-12-08T00:31:22.263Z"
   },
   {
    "duration": 18,
    "start_time": "2022-12-08T00:31:23.000Z"
   },
   {
    "duration": 17,
    "start_time": "2022-12-08T00:31:23.019Z"
   },
   {
    "duration": 13,
    "start_time": "2022-12-08T00:31:23.038Z"
   },
   {
    "duration": 88,
    "start_time": "2022-12-08T00:31:23.052Z"
   },
   {
    "duration": 232,
    "start_time": "2022-12-08T00:31:23.141Z"
   },
   {
    "duration": 27,
    "start_time": "2022-12-08T00:31:23.375Z"
   },
   {
    "duration": 14,
    "start_time": "2022-12-08T00:31:23.404Z"
   },
   {
    "duration": 17,
    "start_time": "2022-12-08T00:31:23.419Z"
   },
   {
    "duration": 3,
    "start_time": "2022-12-08T00:31:23.440Z"
   },
   {
    "duration": 245,
    "start_time": "2022-12-08T00:31:23.444Z"
   },
   {
    "duration": 15,
    "start_time": "2022-12-08T00:31:23.691Z"
   },
   {
    "duration": 5,
    "start_time": "2022-12-08T00:31:23.707Z"
   },
   {
    "duration": 15,
    "start_time": "2022-12-08T00:31:23.713Z"
   },
   {
    "duration": 9,
    "start_time": "2022-12-08T00:31:23.730Z"
   },
   {
    "duration": 9,
    "start_time": "2022-12-08T00:31:23.741Z"
   },
   {
    "duration": 98,
    "start_time": "2022-12-08T00:31:23.752Z"
   },
   {
    "duration": 9,
    "start_time": "2022-12-08T00:31:23.852Z"
   },
   {
    "duration": 75,
    "start_time": "2022-12-08T00:31:23.862Z"
   },
   {
    "duration": 8,
    "start_time": "2022-12-08T00:31:23.939Z"
   },
   {
    "duration": 16,
    "start_time": "2022-12-08T00:31:23.949Z"
   },
   {
    "duration": 6,
    "start_time": "2022-12-08T00:31:23.967Z"
   },
   {
    "duration": 4,
    "start_time": "2022-12-08T00:31:23.997Z"
   },
   {
    "duration": 10,
    "start_time": "2022-12-08T00:31:24.003Z"
   },
   {
    "duration": 7,
    "start_time": "2022-12-08T00:31:24.015Z"
   },
   {
    "duration": 7,
    "start_time": "2022-12-08T00:31:24.023Z"
   },
   {
    "duration": 90,
    "start_time": "2022-12-08T00:31:24.032Z"
   },
   {
    "duration": 7,
    "start_time": "2022-12-08T00:31:24.127Z"
   },
   {
    "duration": 13,
    "start_time": "2022-12-08T00:31:24.136Z"
   },
   {
    "duration": 17,
    "start_time": "2022-12-08T00:31:24.151Z"
   },
   {
    "duration": 15,
    "start_time": "2022-12-08T00:31:24.170Z"
   },
   {
    "duration": 688,
    "start_time": "2022-12-08T00:31:24.186Z"
   },
   {
    "duration": 24,
    "start_time": "2022-12-08T00:31:24.875Z"
   },
   {
    "duration": 3589,
    "start_time": "2022-12-08T00:31:24.900Z"
   },
   {
    "duration": 20,
    "start_time": "2022-12-08T00:31:28.491Z"
   },
   {
    "duration": 8,
    "start_time": "2022-12-08T00:31:28.512Z"
   },
   {
    "duration": 15,
    "start_time": "2022-12-08T00:31:28.521Z"
   },
   {
    "duration": 16,
    "start_time": "2022-12-08T00:31:28.538Z"
   },
   {
    "duration": 433,
    "start_time": "2022-12-08T00:31:28.555Z"
   },
   {
    "duration": 24,
    "start_time": "2022-12-08T00:31:28.990Z"
   },
   {
    "duration": 191,
    "start_time": "2022-12-08T00:31:29.015Z"
   },
   {
    "duration": 1232,
    "start_time": "2022-12-08T00:31:29.207Z"
   },
   {
    "duration": 9,
    "start_time": "2022-12-08T00:31:30.441Z"
   },
   {
    "duration": 35,
    "start_time": "2022-12-08T00:31:30.451Z"
   },
   {
    "duration": 20,
    "start_time": "2022-12-08T00:31:30.487Z"
   },
   {
    "duration": 51,
    "start_time": "2022-12-08T00:31:30.509Z"
   },
   {
    "duration": 192,
    "start_time": "2022-12-08T00:31:30.562Z"
   },
   {
    "duration": 8,
    "start_time": "2022-12-08T00:31:30.756Z"
   },
   {
    "duration": 31,
    "start_time": "2022-12-08T00:31:30.765Z"
   },
   {
    "duration": 5,
    "start_time": "2022-12-08T00:31:30.798Z"
   },
   {
    "duration": 5,
    "start_time": "2022-12-08T00:31:30.805Z"
   },
   {
    "duration": 6,
    "start_time": "2022-12-08T00:31:30.811Z"
   },
   {
    "duration": 21,
    "start_time": "2022-12-08T00:31:30.818Z"
   },
   {
    "duration": 8,
    "start_time": "2022-12-08T00:31:30.841Z"
   },
   {
    "duration": 11,
    "start_time": "2022-12-08T00:31:30.851Z"
   },
   {
    "duration": 11,
    "start_time": "2022-12-08T00:31:30.864Z"
   },
   {
    "duration": 28,
    "start_time": "2022-12-08T00:31:30.876Z"
   },
   {
    "duration": 31,
    "start_time": "2022-12-08T00:31:30.906Z"
   },
   {
    "duration": 36,
    "start_time": "2022-12-08T00:31:30.939Z"
   },
   {
    "duration": 21,
    "start_time": "2022-12-08T00:31:30.976Z"
   },
   {
    "duration": 14,
    "start_time": "2022-12-08T00:31:30.999Z"
   },
   {
    "duration": 587,
    "start_time": "2022-12-08T00:31:31.015Z"
   },
   {
    "duration": 1098,
    "start_time": "2022-12-08T00:31:31.604Z"
   },
   {
    "duration": 96,
    "start_time": "2022-12-08T00:31:32.704Z"
   },
   {
    "duration": 141371,
    "start_time": "2022-12-08T00:31:32.802Z"
   },
   {
    "duration": 192703,
    "start_time": "2022-12-08T00:33:54.175Z"
   },
   {
    "duration": 7,
    "start_time": "2022-12-08T00:37:06.880Z"
   },
   {
    "duration": 16,
    "start_time": "2022-12-08T00:37:06.888Z"
   },
   {
    "duration": 6,
    "start_time": "2022-12-08T00:37:06.906Z"
   },
   {
    "duration": 6,
    "start_time": "2022-12-08T00:37:06.913Z"
   },
   {
    "duration": 10,
    "start_time": "2022-12-08T00:37:06.920Z"
   },
   {
    "duration": 11,
    "start_time": "2022-12-08T00:37:06.931Z"
   },
   {
    "duration": 62,
    "start_time": "2022-12-08T00:37:06.944Z"
   },
   {
    "duration": 99,
    "start_time": "2022-12-08T00:37:07.098Z"
   },
   {
    "duration": 17,
    "start_time": "2022-12-08T00:40:05.646Z"
   },
   {
    "duration": 7,
    "start_time": "2022-12-08T00:40:36.511Z"
   },
   {
    "duration": 7,
    "start_time": "2022-12-08T00:44:07.111Z"
   },
   {
    "duration": 4,
    "start_time": "2022-12-08T00:44:09.758Z"
   },
   {
    "duration": 3,
    "start_time": "2022-12-08T00:44:41.208Z"
   },
   {
    "duration": 57,
    "start_time": "2022-12-08T00:45:37.024Z"
   },
   {
    "duration": 8,
    "start_time": "2022-12-08T00:46:11.048Z"
   },
   {
    "duration": 5,
    "start_time": "2022-12-08T01:25:18.514Z"
   },
   {
    "duration": 7,
    "start_time": "2022-12-08T01:25:18.524Z"
   },
   {
    "duration": 6,
    "start_time": "2022-12-08T01:25:18.535Z"
   },
   {
    "duration": 7,
    "start_time": "2022-12-08T01:25:18.552Z"
   },
   {
    "duration": 15,
    "start_time": "2022-12-08T01:25:18.567Z"
   },
   {
    "duration": 13,
    "start_time": "2022-12-08T01:25:18.584Z"
   },
   {
    "duration": 102,
    "start_time": "2022-12-08T01:25:18.600Z"
   },
   {
    "duration": 1690,
    "start_time": "2023-01-17T19:45:15.767Z"
   },
   {
    "duration": 3,
    "start_time": "2023-01-17T19:45:17.459Z"
   },
   {
    "duration": 3073,
    "start_time": "2023-01-17T19:45:17.464Z"
   },
   {
    "duration": 154,
    "start_time": "2023-01-17T19:45:20.540Z"
   },
   {
    "duration": 17,
    "start_time": "2023-01-17T19:45:20.696Z"
   },
   {
    "duration": 579,
    "start_time": "2023-01-17T19:45:20.715Z"
   },
   {
    "duration": 6,
    "start_time": "2023-01-17T19:45:21.296Z"
   },
   {
    "duration": 203,
    "start_time": "2023-01-17T19:45:21.303Z"
   },
   {
    "duration": 2631,
    "start_time": "2023-01-17T19:45:21.508Z"
   },
   {
    "duration": 22,
    "start_time": "2023-01-17T19:45:24.142Z"
   },
   {
    "duration": 230,
    "start_time": "2023-01-17T19:45:24.166Z"
   },
   {
    "duration": 462,
    "start_time": "2023-01-17T19:45:24.398Z"
   },
   {
    "duration": 47,
    "start_time": "2023-01-17T19:45:24.862Z"
   },
   {
    "duration": 1016,
    "start_time": "2023-01-17T19:45:24.911Z"
   },
   {
    "duration": 40,
    "start_time": "2023-01-17T19:45:25.929Z"
   },
   {
    "duration": 117,
    "start_time": "2023-01-17T19:45:25.971Z"
   },
   {
    "duration": 4,
    "start_time": "2023-01-17T19:45:26.090Z"
   },
   {
    "duration": 148,
    "start_time": "2023-01-17T19:45:26.096Z"
   },
   {
    "duration": 21,
    "start_time": "2023-01-17T19:45:26.246Z"
   },
   {
    "duration": 196,
    "start_time": "2023-01-17T19:45:26.269Z"
   },
   {
    "duration": 46,
    "start_time": "2023-01-17T19:45:26.467Z"
   },
   {
    "duration": 1814,
    "start_time": "2023-01-17T19:45:26.515Z"
   },
   {
    "duration": 21,
    "start_time": "2023-01-17T19:45:28.331Z"
   },
   {
    "duration": 274,
    "start_time": "2023-01-17T19:45:28.354Z"
   },
   {
    "duration": 176,
    "start_time": "2023-01-17T19:45:28.630Z"
   },
   {
    "duration": 54,
    "start_time": "2023-01-17T19:45:28.808Z"
   },
   {
    "duration": 1747,
    "start_time": "2023-01-17T19:45:28.864Z"
   },
   {
    "duration": 23,
    "start_time": "2023-01-17T19:45:30.615Z"
   },
   {
    "duration": 332,
    "start_time": "2023-01-17T19:45:30.640Z"
   },
   {
    "duration": 264,
    "start_time": "2023-01-17T19:45:30.974Z"
   },
   {
    "duration": 223,
    "start_time": "2023-01-17T19:45:31.240Z"
   },
   {
    "duration": 92,
    "start_time": "2023-01-17T19:45:31.465Z"
   },
   {
    "duration": 63,
    "start_time": "2023-01-17T19:45:31.559Z"
   },
   {
    "duration": 89,
    "start_time": "2023-01-17T19:45:31.637Z"
   },
   {
    "duration": 83,
    "start_time": "2023-01-17T19:45:31.737Z"
   },
   {
    "duration": 504,
    "start_time": "2023-01-17T19:45:31.822Z"
   },
   {
    "duration": 1531,
    "start_time": "2023-01-17T19:45:32.328Z"
   },
   {
    "duration": 12,
    "start_time": "2023-01-17T19:45:33.860Z"
   },
   {
    "duration": 46,
    "start_time": "2023-01-17T19:45:33.873Z"
   },
   {
    "duration": 360,
    "start_time": "2023-01-17T19:45:33.921Z"
   },
   {
    "duration": 354,
    "start_time": "2023-01-17T19:45:34.283Z"
   },
   {
    "duration": 14,
    "start_time": "2023-01-17T19:45:34.638Z"
   },
   {
    "duration": 25,
    "start_time": "2023-01-17T19:45:34.654Z"
   },
   {
    "duration": 15432,
    "start_time": "2023-01-17T19:45:34.681Z"
   },
   {
    "duration": 36,
    "start_time": "2023-01-17T19:45:50.114Z"
   },
   {
    "duration": 169,
    "start_time": "2023-01-17T19:45:50.152Z"
   },
   {
    "duration": 69,
    "start_time": "2023-01-17T19:45:50.323Z"
   },
   {
    "duration": 394,
    "start_time": "2023-01-17T19:45:50.394Z"
   },
   {
    "duration": 13,
    "start_time": "2023-01-17T19:45:50.789Z"
   },
   {
    "duration": 22217,
    "start_time": "2023-01-17T19:45:50.804Z"
   },
   {
    "duration": 28,
    "start_time": "2023-01-17T19:46:13.023Z"
   },
   {
    "duration": 210,
    "start_time": "2023-01-17T19:46:13.053Z"
   },
   {
    "duration": 85,
    "start_time": "2023-01-17T19:46:13.265Z"
   },
   {
    "duration": 73,
    "start_time": "2023-01-17T19:46:13.352Z"
   },
   {
    "duration": 55,
    "start_time": "2023-01-17T19:46:13.427Z"
   },
   {
    "duration": 0,
    "start_time": "2023-01-17T19:46:13.484Z"
   },
   {
    "duration": 0,
    "start_time": "2023-01-17T19:46:13.485Z"
   },
   {
    "duration": 27,
    "start_time": "2023-01-17T19:46:26.791Z"
   },
   {
    "duration": 1128,
    "start_time": "2023-01-17T19:46:35.755Z"
   },
   {
    "duration": 51,
    "start_time": "2023-01-17T19:47:21.410Z"
   },
   {
    "duration": 49,
    "start_time": "2023-01-17T19:47:25.323Z"
   },
   {
    "duration": 4042,
    "start_time": "2023-01-17T19:47:33.005Z"
   },
   {
    "duration": 3869,
    "start_time": "2023-01-17T19:48:18.860Z"
   },
   {
    "duration": 66,
    "start_time": "2023-01-17T19:48:42.096Z"
   },
   {
    "duration": 41,
    "start_time": "2023-01-17T19:48:43.080Z"
   },
   {
    "duration": 1857,
    "start_time": "2023-01-17T19:49:18.133Z"
   },
   {
    "duration": 1606,
    "start_time": "2023-01-17T19:49:41.956Z"
   },
   {
    "duration": 3,
    "start_time": "2023-01-17T19:49:43.564Z"
   },
   {
    "duration": 986,
    "start_time": "2023-01-17T19:49:43.569Z"
   },
   {
    "duration": 156,
    "start_time": "2023-01-17T19:49:44.558Z"
   },
   {
    "duration": 26,
    "start_time": "2023-01-17T19:49:44.716Z"
   },
   {
    "duration": 533,
    "start_time": "2023-01-17T19:49:44.744Z"
   },
   {
    "duration": 6,
    "start_time": "2023-01-17T19:49:45.279Z"
   },
   {
    "duration": 211,
    "start_time": "2023-01-17T19:49:45.286Z"
   },
   {
    "duration": 2575,
    "start_time": "2023-01-17T19:49:45.499Z"
   },
   {
    "duration": 28,
    "start_time": "2023-01-17T19:49:48.078Z"
   },
   {
    "duration": 264,
    "start_time": "2023-01-17T19:49:48.108Z"
   },
   {
    "duration": 479,
    "start_time": "2023-01-17T19:49:48.374Z"
   },
   {
    "duration": 51,
    "start_time": "2023-01-17T19:49:48.854Z"
   },
   {
    "duration": 1124,
    "start_time": "2023-01-17T19:49:48.907Z"
   },
   {
    "duration": 45,
    "start_time": "2023-01-17T19:49:50.033Z"
   },
   {
    "duration": 123,
    "start_time": "2023-01-17T19:49:50.080Z"
   },
   {
    "duration": 4,
    "start_time": "2023-01-17T19:49:50.204Z"
   },
   {
    "duration": 162,
    "start_time": "2023-01-17T19:49:50.209Z"
   },
   {
    "duration": 21,
    "start_time": "2023-01-17T19:49:50.373Z"
   },
   {
    "duration": 213,
    "start_time": "2023-01-17T19:49:50.395Z"
   },
   {
    "duration": 66,
    "start_time": "2023-01-17T19:49:50.610Z"
   },
   {
    "duration": 1951,
    "start_time": "2023-01-17T19:49:50.678Z"
   },
   {
    "duration": 33,
    "start_time": "2023-01-17T19:49:52.631Z"
   },
   {
    "duration": 291,
    "start_time": "2023-01-17T19:49:52.667Z"
   },
   {
    "duration": 195,
    "start_time": "2023-01-17T19:49:52.960Z"
   },
   {
    "duration": 49,
    "start_time": "2023-01-17T19:49:53.157Z"
   },
   {
    "duration": 1840,
    "start_time": "2023-01-17T19:49:53.207Z"
   },
   {
    "duration": 18,
    "start_time": "2023-01-17T19:49:55.053Z"
   },
   {
    "duration": 335,
    "start_time": "2023-01-17T19:49:55.073Z"
   },
   {
    "duration": 275,
    "start_time": "2023-01-17T19:49:55.411Z"
   },
   {
    "duration": 236,
    "start_time": "2023-01-17T19:49:55.688Z"
   },
   {
    "duration": 115,
    "start_time": "2023-01-17T19:49:55.926Z"
   },
   {
    "duration": 64,
    "start_time": "2023-01-17T19:49:56.042Z"
   },
   {
    "duration": 111,
    "start_time": "2023-01-17T19:49:56.107Z"
   },
   {
    "duration": 91,
    "start_time": "2023-01-17T19:49:56.220Z"
   },
   {
    "duration": 502,
    "start_time": "2023-01-17T19:49:56.313Z"
   },
   {
    "duration": 1653,
    "start_time": "2023-01-17T19:49:56.817Z"
   },
   {
    "duration": 11,
    "start_time": "2023-01-17T19:49:58.471Z"
   },
   {
    "duration": 57,
    "start_time": "2023-01-17T19:49:58.484Z"
   },
   {
    "duration": 354,
    "start_time": "2023-01-17T19:49:58.545Z"
   },
   {
    "duration": 343,
    "start_time": "2023-01-17T19:49:58.901Z"
   },
   {
    "duration": 16,
    "start_time": "2023-01-17T19:49:59.246Z"
   },
   {
    "duration": 23,
    "start_time": "2023-01-17T19:49:59.263Z"
   },
   {
    "duration": 14958,
    "start_time": "2023-01-17T19:49:59.288Z"
   },
   {
    "duration": 27,
    "start_time": "2023-01-17T19:50:14.249Z"
   },
   {
    "duration": 201,
    "start_time": "2023-01-17T19:50:14.278Z"
   },
   {
    "duration": 73,
    "start_time": "2023-01-17T19:50:14.481Z"
   },
   {
    "duration": 454,
    "start_time": "2023-01-17T19:50:14.556Z"
   },
   {
    "duration": 14,
    "start_time": "2023-01-17T19:50:15.011Z"
   },
   {
    "duration": 24173,
    "start_time": "2023-01-17T19:50:15.037Z"
   },
   {
    "duration": 35,
    "start_time": "2023-01-17T19:50:39.212Z"
   },
   {
    "duration": 201,
    "start_time": "2023-01-17T19:50:39.249Z"
   },
   {
    "duration": 63,
    "start_time": "2023-01-17T19:50:39.452Z"
   },
   {
    "duration": 86,
    "start_time": "2023-01-17T19:50:39.516Z"
   },
   {
    "duration": 57,
    "start_time": "2023-01-17T19:50:39.604Z"
   },
   {
    "duration": 1929,
    "start_time": "2023-01-17T19:50:39.663Z"
   },
   {
    "duration": 147,
    "start_time": "2023-01-17T19:56:17.277Z"
   },
   {
    "duration": 16,
    "start_time": "2023-01-17T19:56:35.444Z"
   },
   {
    "duration": 4065,
    "start_time": "2023-01-17T19:56:43.294Z"
   },
   {
    "duration": 3911,
    "start_time": "2023-01-17T20:00:41.292Z"
   },
   {
    "duration": 3840,
    "start_time": "2023-01-17T20:02:00.808Z"
   },
   {
    "duration": 1735,
    "start_time": "2023-01-17T20:02:17.316Z"
   },
   {
    "duration": 755,
    "start_time": "2023-01-17T20:04:02.477Z"
   },
   {
    "duration": 1645,
    "start_time": "2023-01-17T20:06:19.374Z"
   },
   {
    "duration": 1553,
    "start_time": "2023-01-17T20:15:47.138Z"
   },
   {
    "duration": 1632,
    "start_time": "2023-01-17T20:24:41.619Z"
   },
   {
    "duration": 1676,
    "start_time": "2023-01-17T20:25:37.586Z"
   },
   {
    "duration": 773,
    "start_time": "2023-01-17T20:27:15.628Z"
   },
   {
    "duration": 3124,
    "start_time": "2023-01-17T20:31:40.699Z"
   },
   {
    "duration": 17,
    "start_time": "2023-01-17T20:32:16.787Z"
   },
   {
    "duration": 1572,
    "start_time": "2023-01-17T20:32:32.611Z"
   },
   {
    "duration": 3,
    "start_time": "2023-01-17T20:32:34.187Z"
   },
   {
    "duration": 966,
    "start_time": "2023-01-17T20:32:34.193Z"
   },
   {
    "duration": 174,
    "start_time": "2023-01-17T20:32:35.164Z"
   },
   {
    "duration": 18,
    "start_time": "2023-01-17T20:32:35.340Z"
   },
   {
    "duration": 572,
    "start_time": "2023-01-17T20:32:35.359Z"
   },
   {
    "duration": 8,
    "start_time": "2023-01-17T20:32:35.933Z"
   },
   {
    "duration": 268,
    "start_time": "2023-01-17T20:32:35.944Z"
   },
   {
    "duration": 3531,
    "start_time": "2023-01-17T20:32:36.216Z"
   },
   {
    "duration": 28,
    "start_time": "2023-01-17T20:32:39.750Z"
   },
   {
    "duration": 251,
    "start_time": "2023-01-17T20:32:39.780Z"
   },
   {
    "duration": 635,
    "start_time": "2023-01-17T20:32:40.038Z"
   },
   {
    "duration": 92,
    "start_time": "2023-01-17T20:32:40.676Z"
   },
   {
    "duration": 1128,
    "start_time": "2023-01-17T20:32:40.771Z"
   },
   {
    "duration": 58,
    "start_time": "2023-01-17T20:32:41.901Z"
   },
   {
    "duration": 201,
    "start_time": "2023-01-17T20:32:41.961Z"
   },
   {
    "duration": 4,
    "start_time": "2023-01-17T20:32:42.165Z"
   },
   {
    "duration": 241,
    "start_time": "2023-01-17T20:32:42.172Z"
   },
   {
    "duration": 40,
    "start_time": "2023-01-17T20:32:42.416Z"
   },
   {
    "duration": 331,
    "start_time": "2023-01-17T20:32:42.458Z"
   },
   {
    "duration": 101,
    "start_time": "2023-01-17T20:32:42.792Z"
   },
   {
    "duration": 2068,
    "start_time": "2023-01-17T20:32:42.895Z"
   },
   {
    "duration": 22,
    "start_time": "2023-01-17T20:32:44.965Z"
   },
   {
    "duration": 324,
    "start_time": "2023-01-17T20:32:44.990Z"
   },
   {
    "duration": 204,
    "start_time": "2023-01-17T20:32:45.316Z"
   },
   {
    "duration": 62,
    "start_time": "2023-01-17T20:32:45.522Z"
   },
   {
    "duration": 1945,
    "start_time": "2023-01-17T20:32:45.586Z"
   },
   {
    "duration": 24,
    "start_time": "2023-01-17T20:32:47.536Z"
   },
   {
    "duration": 353,
    "start_time": "2023-01-17T20:32:47.562Z"
   },
   {
    "duration": 302,
    "start_time": "2023-01-17T20:32:47.917Z"
   },
   {
    "duration": 238,
    "start_time": "2023-01-17T20:32:48.221Z"
   },
   {
    "duration": 178,
    "start_time": "2023-01-17T20:32:48.461Z"
   },
   {
    "duration": 100,
    "start_time": "2023-01-17T20:32:48.642Z"
   },
   {
    "duration": 105,
    "start_time": "2023-01-17T20:32:48.745Z"
   },
   {
    "duration": 87,
    "start_time": "2023-01-17T20:32:48.852Z"
   },
   {
    "duration": 565,
    "start_time": "2023-01-17T20:32:48.940Z"
   },
   {
    "duration": 1514,
    "start_time": "2023-01-17T20:32:49.507Z"
   },
   {
    "duration": 18,
    "start_time": "2023-01-17T20:32:51.023Z"
   },
   {
    "duration": 48,
    "start_time": "2023-01-17T20:32:51.043Z"
   },
   {
    "duration": 392,
    "start_time": "2023-01-17T20:32:51.093Z"
   },
   {
    "duration": 236,
    "start_time": "2023-01-17T20:32:51.487Z"
   },
   {
    "duration": 18,
    "start_time": "2023-01-17T20:32:51.725Z"
   },
   {
    "duration": 32,
    "start_time": "2023-01-17T20:32:51.746Z"
   },
   {
    "duration": 15161,
    "start_time": "2023-01-17T20:32:51.780Z"
   },
   {
    "duration": 24,
    "start_time": "2023-01-17T20:33:06.943Z"
   },
   {
    "duration": 206,
    "start_time": "2023-01-17T20:33:06.968Z"
   },
   {
    "duration": 105,
    "start_time": "2023-01-17T20:33:07.176Z"
   },
   {
    "duration": 456,
    "start_time": "2023-01-17T20:33:07.284Z"
   },
   {
    "duration": 19,
    "start_time": "2023-01-17T20:33:07.742Z"
   },
   {
    "duration": 22414,
    "start_time": "2023-01-17T20:33:07.763Z"
   },
   {
    "duration": 21,
    "start_time": "2023-01-17T20:33:30.179Z"
   },
   {
    "duration": 199,
    "start_time": "2023-01-17T20:33:30.202Z"
   },
   {
    "duration": 73,
    "start_time": "2023-01-17T20:33:30.403Z"
   },
   {
    "duration": 80,
    "start_time": "2023-01-17T20:33:30.478Z"
   },
   {
    "duration": 43,
    "start_time": "2023-01-17T20:33:30.560Z"
   },
   {
    "duration": 1739,
    "start_time": "2023-01-17T20:33:30.605Z"
   },
   {
    "duration": 13,
    "start_time": "2023-01-17T20:33:32.345Z"
   },
   {
    "duration": 7,
    "start_time": "2023-01-17T20:33:32.360Z"
   },
   {
    "duration": 26,
    "start_time": "2023-01-17T20:33:32.369Z"
   },
   {
    "duration": 19,
    "start_time": "2023-01-17T20:33:32.397Z"
   },
   {
    "duration": 133155,
    "start_time": "2023-01-17T20:33:32.419Z"
   },
   {
    "duration": 10,
    "start_time": "2023-01-17T20:35:45.576Z"
   },
   {
    "duration": 50,
    "start_time": "2023-01-17T20:35:45.588Z"
   },
   {
    "duration": 4,
    "start_time": "2023-01-17T20:35:45.640Z"
   },
   {
    "duration": 864810,
    "start_time": "2023-01-17T20:35:45.646Z"
   },
   {
    "duration": 13,
    "start_time": "2023-01-17T20:50:10.458Z"
   },
   {
    "duration": 5,
    "start_time": "2023-01-17T20:50:10.473Z"
   },
   {
    "duration": 1855,
    "start_time": "2023-04-01T19:36:39.135Z"
   }
  ],
  "kernelspec": {
   "display_name": "Python 3 (ipykernel)",
   "language": "python",
   "name": "python3"
  },
  "language_info": {
   "codemirror_mode": {
    "name": "ipython",
    "version": 3
   },
   "file_extension": ".py",
   "mimetype": "text/x-python",
   "name": "python",
   "nbconvert_exporter": "python",
   "pygments_lexer": "ipython3",
   "version": "3.10.9"
  },
  "toc": {
   "base_numbering": 1,
   "nav_menu": {
    "height": "111px",
    "width": "190px"
   },
   "number_sections": true,
   "sideBar": true,
   "skip_h1_title": false,
   "title_cell": "Содержание",
   "title_sidebar": "Contents",
   "toc_cell": true,
   "toc_position": {
    "height": "541.6px",
    "left": "55px",
    "top": "111.125px",
    "width": "313px"
   },
   "toc_section_display": true,
   "toc_window_display": true
  }
 },
 "nbformat": 4,
 "nbformat_minor": 5
}
